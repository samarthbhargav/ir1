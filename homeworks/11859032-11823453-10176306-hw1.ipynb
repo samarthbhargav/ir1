{
 "cells": [
  {
   "cell_type": "code",
   "execution_count": 2,
   "metadata": {
    "collapsed": true
   },
   "outputs": [],
   "source": [
    "import numpy as np\n",
    "import random\n",
    "import matplotlib.pyplot as plt\n",
    "import enum\n",
    "import itertools\n",
    "import operator\n",
    "import collections\n",
    "import math\n",
    "import codecs\n",
    "from scipy import stats\n",
    "\n",
    "%matplotlib inline\n",
    "plt.rcParams[\"figure.figsize\"] = (20, 10)\n",
    "plt.style.use('ggplot')"
   ]
  },
  {
   "cell_type": "markdown",
   "metadata": {},
   "source": [
    "# Theoretical Part\n",
    "\n",
    "## 1.a\n",
    "\n",
    "Type I error occurs when a hypothesis test rejects $H_0$ indicating significance, where in reality this should not be the case. The probability of Type I error is as follows:\n",
    "P($H_0$ is rejected | $H_0$ is true) = $\\alpha$\n",
    "\n",
    "Hence, in order to obtain the probability asked in this question, we multiply the probability of not making a Type I error in the first m-1 cases and making this error at the $m^{th}$ case.\n",
    "\n",
    "P($m^{th}$ experiment gives significant result | m experiments lacking power to reject $H_0$) = $(1-\\alpha)^{m-1}\\alpha$\n",
    "\n",
    "## 1.b\n",
    "We calculate the probability of at least one significant result in the presence of experiments that cannot reject the null hypothesis as indicated below, subtracting the probability of not making a Type I error at all from 1.\n",
    "\n",
    "P(at least one significant result | m experiments lacking power to reject $H_0$) = 1 - $(1-\\alpha)^m$\n",
    "\n",
    "\n",
    "\n",
    "## 2\n",
    "Both balanced interleaving and team-draft interleaving do not take the similarity of the lists into consideration. In cases where the ranks of the documents retrieved by two different search algorithms are similar, the comparison based on clicks given interleaved lists might be biased [Hofmann et al. 2011, 2013]. If the documents are swapped or their ranks are shifted by one level, team-draft interleaving might fail to capture the difference between the two algorithms. \n",
    "\n",
    "Similar to the examples given in Hofmann et al. [2011, 2013], we can consider 2 lists $l_1$ and $l_2$, both retrieving $d_1$, $d_2$ and $d_3$ in similar rankings such as: $l_1 = [d_1,d_2,d_3]$ and $l_2 = [d_2,d_3,d_1]$. If we take $d_3$ as the relevant document and assume that the one and only click occur on $d_3$, we expect that the score of $l_2$ output by the interleaving function should be higher than $l_1$'s score. The reason for this is that $l_2$ places the relevant document in the higher levels. \n",
    "\n",
    "When we construct possible interleaved lists, we observe that $d_3$ is placed at the 3rd rank in all of these lists.\n",
    "\n",
    "<img src=\"interleaving.png\">\n",
    "\n",
    "When the clicks are on $d_3$, both lists will acquire the same score of 2. This will result in a tie and the actual difference between the qualities of the algorithms will be overlooked ($l_2$ being better than $l_1$).\n",
    "\n",
    "In addition, ambiguous queries can lead to biased outcomes in team-draft interleaving where the rankings are shifted by one as indicated in [Chapelle et al. 2012].\n",
    "\n",
    "Chapelle, O., Joachims, T., Radlinski, F., and Yue,Y. Large scale validation and analysis of interleaved search evaluation. ACM Transactions on Information Science, 30(1), 2012.\n",
    "\n",
    "Hofmann, K., Whiteson, S., and de Rijke, M. A probabilistic method for inferring preferences from clicks. In\n",
    "CIKM ’11, pp. 249–258, USA, 2011. ACM.\n",
    "\n",
    "Hofmann, Katja, Whiteson, Shimon, and de Rijke, Maarten. Fidelity, soundness, and efficiency of interleaved\n",
    "comparison methods. ACM Transactions on Information Systems, 31(4), 2013.\n",
    "\n"
   ]
  },
  {
   "cell_type": "markdown",
   "metadata": {},
   "source": [
    "# Experimental Part\n",
    "\n",
    "### Assumptions:\n",
    "- Grades:\n",
    "    - Grade for Highly Relevant (HR) = 2\n",
    "    - Grade for Relevant (R) = 1\n",
    "    - Grade for Not relevant (N) = 0\n",
    "- Number of documents\n",
    "    - Total number of documents is 30. The number of unique documents that are:\n",
    "        - HR: 10\n",
    "        - R: 10\n",
    "        - N: 10\n",
    "      \n",
    "TODO explain this in detail. It's one of the central assumptions we make. \n",
    "Single Query Assumption.\n",
    "We can assume that the entire experiment is for a single query, so there are only 10 R + 10 HR documents i.e a total of 20 relevant documents.\n",
    "\n",
    "Comment by Ece: Isn't this already given in the description along with the idea that the returned documents will be unique? Our assumption was more in the line of supposing that there are 10 irrelevant documents in the collection, given query q.\n"
   ]
  },
  {
   "cell_type": "code",
   "execution_count": 3,
   "metadata": {
    "collapsed": true
   },
   "outputs": [],
   "source": [
    "@enum.unique\n",
    "class Grade(enum.IntEnum):\n",
    "    \"\"\"\n",
    "    Represents relevance on a graded scale. \n",
    "    Any positive number represents relevance, with higher numbers representing higher relevance (total ordering)\n",
    "    Zero represents irrelevant\n",
    "    \"\"\"\n",
    "    N = (0)   # Not relevant\n",
    "    R = (1)   # Relevant\n",
    "    HR = (2)  # Highly relevant\n",
    "\n",
    "    \n",
    "    @property\n",
    "    def is_relevant(self):\n",
    "        \"\"\"\n",
    "        'Binarizes' the relevance. Useful for computing binary metrics like precision / recall\n",
    "        \"\"\"\n",
    "        return False if self.value == 0 else True\n",
    "    \n",
    "    @classmethod\n",
    "    def from_int_list(cls, int_list):\n",
    "        \"\"\"\n",
    "        Converts a list of integers to a list of Grade\n",
    "        \"\"\"\n",
    "        members = dict((member.value, member) for member in cls.__members__.values())\n",
    "        return [members[value] for value in int_list]\n",
    "\n",
    "    @classmethod\n",
    "    def max_grade(cls):\n",
    "        return max(member.value for member in cls.__members__.values())\n",
    "\n",
    "    \n",
    "    def __str__(self):\n",
    "        return self.name\n",
    "    \n",
    "    def __repr__(self):\n",
    "        return self.name"
   ]
  },
  {
   "cell_type": "markdown",
   "metadata": {},
   "source": [
    "## Step 1: Simulate Rankings of Relevance for E and P (5 points)\n",
    "\n",
    "In the first step you will generate pairs of rankings of relevance, for the production P and experimental E, respectively, for a hypothetical query q. Assume a 3-graded relevance, i.e. {N, R, HR}. Construct all possible P and E ranking pairs of length 5. This step should give you about.\n",
    "\n",
    "Example:\n",
    "\n",
    "P: {N N N N N}\n",
    "E: {N N N N R}\n",
    "\n",
    "…\n",
    "P: {HR HR HR HR R}\n",
    "E: {HR HR HR HR HR}"
   ]
  },
  {
   "cell_type": "code",
   "execution_count": 4,
   "metadata": {
    "collapsed": true
   },
   "outputs": [],
   "source": [
    "def get_all_permutations(grade, sequence_length):\n",
    "    \"\"\"\n",
    "    For a given grade and a sequence length n, returns all possible permutations of length n that can be formed. \n",
    "    Note that a generator is returned and not a list\n",
    "    \"\"\"\n",
    "    for i, perm in enumerate(itertools.product(range(len(grade.__members__)), repeat=sequence_length)):\n",
    "        yield grade.from_int_list(perm)\n",
    "\n",
    "def get_all_permutation_pairs(grade, sequence_length):\n",
    "    \"\"\"\n",
    "    Generates all possible pairs of permutations given a grade and a sequence length.\n",
    "    Note that a generator is returned and not a list\n",
    "    \"\"\"\n",
    "    sequence_1 = get_all_permutations(grade, sequence_length)\n",
    "    sequence_2 = get_all_permutations(grade, sequence_length)    \n",
    "    for pair in itertools.product(sequence_1, sequence_2):\n",
    "        yield pair\n",
    "        \n",
    "def count_sequence(seq):\n",
    "    \"\"\"\n",
    "    `len` for generators\n",
    "    \"\"\"\n",
    "    count = 0\n",
    "    for _ in seq:\n",
    "        count += 1\n",
    "    return count\n",
    "\n",
    "# A sanity check to ensure the correct number of sequences are being generated\n",
    "assert count_sequence(get_all_permutation_pairs(Grade, 5)) == (3**5) * (3**5)"
   ]
  },
  {
   "cell_type": "code",
   "execution_count": 5,
   "metadata": {
    "collapsed": true
   },
   "outputs": [],
   "source": [
    "permutations = np.array(list(get_all_permutation_pairs(Grade, 5)), dtype=np.object)"
   ]
  },
  {
   "cell_type": "code",
   "execution_count": 6,
   "metadata": {},
   "outputs": [
    {
     "data": {
      "text/plain": [
       "array([[[N, N, N, N, N],\n",
       "        [N, N, N, N, N]],\n",
       "\n",
       "       [[N, N, N, N, N],\n",
       "        [N, N, N, N, R]],\n",
       "\n",
       "       [[N, N, N, N, N],\n",
       "        [N, N, N, N, HR]],\n",
       "\n",
       "       ..., \n",
       "       [[HR, HR, HR, HR, HR],\n",
       "        [HR, HR, HR, HR, N]],\n",
       "\n",
       "       [[HR, HR, HR, HR, HR],\n",
       "        [HR, HR, HR, HR, R]],\n",
       "\n",
       "       [[HR, HR, HR, HR, HR],\n",
       "        [HR, HR, HR, HR, HR]]], dtype=object)"
      ]
     },
     "execution_count": 6,
     "metadata": {},
     "output_type": "execute_result"
    }
   ],
   "source": [
    "permutations"
   ]
  },
  {
   "cell_type": "code",
   "execution_count": 7,
   "metadata": {},
   "outputs": [
    {
     "data": {
      "text/plain": [
       "array([[N, N, N, N, N],\n",
       "       [N, N, N, N, N]], dtype=object)"
      ]
     },
     "execution_count": 7,
     "metadata": {},
     "output_type": "execute_result"
    }
   ],
   "source": [
    "permutations[0]"
   ]
  },
  {
   "cell_type": "code",
   "execution_count": 8,
   "metadata": {},
   "outputs": [
    {
     "data": {
      "text/plain": [
       "array([[HR, HR, HR, HR, HR],\n",
       "       [HR, HR, HR, HR, HR]], dtype=object)"
      ]
     },
     "execution_count": 8,
     "metadata": {},
     "output_type": "execute_result"
    }
   ],
   "source": [
    "permutations[-1]"
   ]
  },
  {
   "cell_type": "code",
   "execution_count": 9,
   "metadata": {
    "collapsed": true
   },
   "outputs": [],
   "source": [
    "production = np.array(list(map(operator.itemgetter(0), permutations)))\n",
    "experiment = np.array(list(map(operator.itemgetter(1), permutations)))"
   ]
  },
  {
   "cell_type": "code",
   "execution_count": 10,
   "metadata": {},
   "outputs": [
    {
     "data": {
      "text/plain": [
       "(20, 20)"
      ]
     },
     "execution_count": 10,
     "metadata": {},
     "output_type": "execute_result"
    }
   ],
   "source": [
    "# TODO double check this\n",
    "relevant_count_production = 20\n",
    "relevant_count_experiment = 20\n",
    "(relevant_count_experiment, relevant_count_production)"
   ]
  },
  {
   "cell_type": "markdown",
   "metadata": {},
   "source": [
    "## Step 2: Implement Evaluation Measures (10 points)\n",
    "Implement 1 binary and 2 multi-graded evaluation measures out of the 7 measures mentioned above. \n",
    "\n",
    "Note:\n",
    "We've implemented all metrics. For grading, please consider AveragePrecision (1 binary), NDCG@k and ERR (2 multi-graded)"
   ]
  },
  {
   "cell_type": "code",
   "execution_count": 11,
   "metadata": {},
   "outputs": [
    {
     "name": "stdout",
     "output_type": "stream",
     "text": [
      "[ 0.    0.    0.   ...,  0.25  0.25  0.25]\n"
     ]
    }
   ],
   "source": [
    "class Metric:\n",
    "    \"\"\"\n",
    "        Common parent for all metrics\n",
    "    \"\"\"\n",
    "    \n",
    "    def name(self):\n",
    "        raise NotImplementedError()\n",
    "    \n",
    "    def compute(self, results, **kwargs):\n",
    "        \"\"\" Template for a computation \"\"\"\n",
    "        raise NotImplementedError()\n",
    "\n",
    "class Precision(Metric):\n",
    "    \"\"\"\n",
    "        Computes precision at rank-k, or if rank is not specified, it is computed for the entire list\n",
    "    \"\"\"\n",
    "    \n",
    "    @property\n",
    "    def name(self):\n",
    "        return \"precision\"\n",
    "    \n",
    "    def compute(self, results, **kwargs):\n",
    "        # if k is not specified, the entire list is used\n",
    "        k = kwargs.get(\"k\", len(results))\n",
    "        \n",
    "        # only up to k\n",
    "        results = results[:k]\n",
    "        # binarize, compute how many are relevant and divide by k\n",
    "        return sum(r.is_relevant for r in results) / k\n",
    "    \n",
    "class Recall(Metric):\n",
    "    \"\"\"\n",
    "        Computes recall at rank-k, or if rank is not specified, it is computed for the entire list\n",
    "        Note: Requires total number of relevant documents\n",
    "    \"\"\"\n",
    "    \n",
    "    @property\n",
    "    def name(self):\n",
    "        return \"recall\"\n",
    "    \n",
    "    def compute(self, results, **kwargs):\n",
    "        assert \"relevant_count\" in kwargs\n",
    "        # if k is not specified, the entire list is used\n",
    "        k = kwargs.get(\"k\", len(production))\n",
    "        \n",
    "        # only up to k\n",
    "        results = results[:k]\n",
    "        \n",
    "        return sum(r.is_relevant for r in results) / kwargs[\"relevant_count\"] \n",
    "        \n",
    "    \n",
    "class AveragePrecision(Metric):\n",
    "    \"\"\"\n",
    "        Compute average precision at rank-k. \n",
    "        Note: Requires total number of relevant documents\n",
    "    \"\"\"\n",
    "    \n",
    "    @property\n",
    "    def name(self):\n",
    "        return \"average-precision\"\n",
    "    \n",
    "    def compute(self, results, **kwargs):\n",
    "        assert \"relevant_count\" in kwargs\n",
    "        P = Precision()\n",
    "        precisions = np.zeros(len(results))\n",
    "        for k in range(1, len(results) + 1):\n",
    "            if(str(results[k-1]) != 'N'):\n",
    "                precisions[k - 1] = P.compute(results, k = k)\n",
    "        # TODO verify\n",
    "        return precisions.sum() / kwargs[\"relevant_count\"] \n",
    "\n",
    "AP = AveragePrecision()\n",
    "ap = np.array([AP.compute(r, relevant_count = relevant_count_production) for r in production])\n",
    "print(ap)"
   ]
  },
  {
   "cell_type": "code",
   "execution_count": 12,
   "metadata": {},
   "outputs": [
    {
     "data": {
      "image/png": "[encoded data removed]",
      "text/plain": [
       "<matplotlib.figure.Figure at 0x7f1f42e392b0>"
      ]
     },
     "metadata": {},
     "output_type": "display_data"
    }
   ],
   "source": [
    "plt.boxplot(ap)\n",
    "plt.title(\"Average precision for Production\")\n",
    "plt.show()"
   ]
  },
  {
   "cell_type": "code",
   "execution_count": 13,
   "metadata": {},
   "outputs": [
    {
     "data": {
      "text/plain": [
       "0.13648148148148148"
      ]
     },
     "execution_count": 13,
     "metadata": {},
     "output_type": "execute_result"
    }
   ],
   "source": [
    "ap.mean()"
   ]
  },
  {
   "cell_type": "code",
   "execution_count": 14,
   "metadata": {},
   "outputs": [
    {
     "data": {
      "text/plain": [
       "(0.25, array([R, R, R, R, R], dtype=object))"
      ]
     },
     "execution_count": 14,
     "metadata": {},
     "output_type": "execute_result"
    }
   ],
   "source": [
    "ap.max(), production[ap.argmax()]"
   ]
  },
  {
   "cell_type": "code",
   "execution_count": 15,
   "metadata": {},
   "outputs": [
    {
     "data": {
      "text/plain": [
       "(0.0, array([N, N, N, N, N], dtype=object))"
      ]
     },
     "execution_count": 15,
     "metadata": {},
     "output_type": "execute_result"
    }
   ],
   "source": [
    "ap.min(), production[ap.argmin()]"
   ]
  },
  {
   "cell_type": "markdown",
   "metadata": {},
   "source": [
    "If we assume the retrieved documents are all relevant, that is all 5 documents retrieved by the algorithm are labeled either highly relevant or relevant, we get 100% precision at each rank. Since the total number of relevant documents in the collection is 20, the maximum Average Precision we get is (1+1+1+1+1)/20 = 25%"
   ]
  },
  {
   "cell_type": "code",
   "execution_count": 16,
   "metadata": {},
   "outputs": [
    {
     "name": "stdout",
     "output_type": "stream",
     "text": [
      "[HR, HR, HR, HR, HR, HR, HR, HR, HR, HR, R, R, R, R, R, R, R, R, R, R, N, N, N, N, N, N, N, N, N, N]\n"
     ]
    }
   ],
   "source": [
    "class DCG(Metric):\n",
    "    \n",
    "    \"\"\" \n",
    "        Compute the discounted cumulative gain at rank-k\n",
    "    \"\"\"\n",
    "    \n",
    "    @property\n",
    "    def name(self):\n",
    "        return \"DCG@k\"\n",
    "    \n",
    "    def compute(self, results, **kwargs):\n",
    "        \n",
    "        # if k is not specified, the entire list is used\n",
    "        k = kwargs.get(\"k\", len(production))\n",
    "        \n",
    "        # only up to k\n",
    "        results = results[:k]\n",
    "        \n",
    "        dcg = 0.0 \n",
    "        for rank, result in enumerate(results):\n",
    "            rank += 1 # TODO verify\n",
    "            gain = 2**result.value - 1\n",
    "            discount = math.log2(1 + rank)\n",
    "            dcg += gain / discount\n",
    "        return dcg\n",
    "\n",
    "\n",
    "class NDCG(Metric):\n",
    "    \"\"\" \n",
    "        Compute the Normalized-DCG at rank-k.\n",
    "        Note: This requires the ideal-ranking for all the documents in the collection (or upto rank-k)\n",
    "    \"\"\"\n",
    "\n",
    "    @property\n",
    "    def name(self):\n",
    "        return \"NCDG@k\"\n",
    "    \n",
    "    \n",
    "    def compute(self, results, **kwargs):\n",
    "        assert \"ideal_ranking\" in kwargs\n",
    "        \n",
    "        # Normalization is done according to the slides mentioned here \n",
    "        # https://web.stanford.edu/class/cs276/handouts/EvaluationNew-handout-6-per.pdf\n",
    "        \n",
    "        dcg = DCG()\n",
    "        \n",
    "        ideal_ranking = kwargs[\"ideal_ranking\"]\n",
    "        \n",
    "        # if k is not specified, the entire list is used\n",
    "        k = kwargs.get(\"k\", len(results))\n",
    "        \n",
    "        # only up to k\n",
    "        results = results[:k]\n",
    "        ideal_ranking = ideal_ranking[:k]\n",
    "        \n",
    "        max_dcg = dcg.compute(ideal_ranking)\n",
    "        \n",
    "        return dcg.compute(results) / max_dcg\n",
    "\n",
    "ideal_ranking = [Grade.HR] * 10 + [Grade.R] * 10 + [Grade.N] * 10\n",
    "print(ideal_ranking)"
   ]
  },
  {
   "cell_type": "code",
   "execution_count": 17,
   "metadata": {},
   "outputs": [
    {
     "name": "stdout",
     "output_type": "stream",
     "text": [
      "0.8623046875\n",
      "0.1875\n"
     ]
    }
   ],
   "source": [
    "class ERR(Metric):\n",
    "    @property\n",
    "    def name(self):\n",
    "        return \"ERR\"\n",
    "    def compute(self, results, **kwargs):\n",
    "        # Implementation follows this paper:\n",
    "        # http://delivery.acm.org/10.1145/1650000/1646033/p621-chapelle.pdf?ip=145.109.35.88&id=1646033&acc=ACTIVE%20SERVICE&key=0C390721DC3021FF%2E86041C471C98F6DA%2E4D4702B0C3E38B35%2E4D4702B0C3E38B35&CFID=1026312371&CFTOKEN=18042814&__acm__=1515748872_543fbe0fe6a5c9d1fadb8f8341c9da3c\n",
    "        assert \"grade\" in kwargs\n",
    "        grade = kwargs[\"grade\"]\n",
    "        \n",
    "        def r_func(result):\n",
    "            return ((2 ** result.value) - 1) / (2 ** grade.max_grade())  \n",
    "        \n",
    "        err = 0.0\n",
    "        for rank, result in enumerate(results):\n",
    "            previous_results = results[:rank]\n",
    "            satisfaction = 1\n",
    "            for previous_result in previous_results:\n",
    "                satisfaction = satisfaction * ((1 - r_func(previous_result)))\n",
    "            # rank is 0-indexed here, so add 1\n",
    "            err += (1/(rank + 1)) * satisfaction * r_func(result)\n",
    "        \n",
    "        return err\n",
    "\n",
    "err = ERR()\n",
    "print(err.compute([Grade.HR, Grade.HR, Grade.HR, Grade.HR], grade=Grade))\n",
    "print(err.compute([Grade.N, Grade.N, Grade.N, Grade.HR], grade=Grade))"
   ]
  },
  {
   "cell_type": "markdown",
   "metadata": {},
   "source": [
    "## Step 3: Calculate the 𝛥measure (0 points)\n",
    "\n",
    "For the three measures and all P and E ranking pairs constructed above calculate the difference: 𝛥measure = measureE-measureP. Consider only those pairs for which E outperforms P."
   ]
  },
  {
   "cell_type": "code",
   "execution_count": 18,
   "metadata": {
    "collapsed": true
   },
   "outputs": [],
   "source": [
    "# make a class that holds all the data for further experiments\n",
    "ExperimentData = collections.namedtuple(\"ExperimentData\", [\"metric\", \"mask\", \"delta_measure\", \"permutations\"])"
   ]
  },
  {
   "cell_type": "code",
   "execution_count": 19,
   "metadata": {
    "collapsed": true
   },
   "outputs": [],
   "source": [
    "experiment_data = []\n",
    "\n",
    "# data using Average Precision\n",
    "average_precision = AveragePrecision()\n",
    "ap_P = np.array([average_precision.compute(results, relevant_count = relevant_count_production) \\\n",
    "                                for results in production])\n",
    "ap_E = np.array([average_precision.compute(results, relevant_count = relevant_count_experiment) \\\n",
    "                                for results in experiment])\n",
    "ap_delta_measure = ap_E - ap_P\n",
    "ap_mask = ap_delta_measure > 0\n",
    "average_precision_data = ExperimentData(average_precision.name, ap_mask, ap_delta_measure, permutations[ap_mask])\n",
    "\n",
    "experiment_data.append(average_precision_data)\n",
    "##############################\n",
    "\n",
    "# data using NCDG@k\n",
    "ndcg = NDCG()\n",
    "ncdg_P = np.array([ndcg.compute(results, ideal_ranking=ideal_ranking) for results in production])\n",
    "ncdg_E = np.array([ndcg.compute(results, ideal_ranking=ideal_ranking) for results in experiment])\n",
    "ndcg_delta_measure = ncdg_E - ncdg_P\n",
    "ndcg_mask = ndcg_delta_measure > 0\n",
    "ndcg_data = ExperimentData(ndcg.name, ndcg_mask, ndcg_delta_measure, permutations[ndcg_mask])\n",
    "experiment_data.append(ndcg_data)\n",
    "###################\n",
    "\n",
    "\n",
    "# data using ERR\n",
    "err = ERR()\n",
    "err_P = np.array([err.compute(results, grade=Grade) for results in production])\n",
    "err_E = np.array([err.compute(results, grade=Grade) for results in experiment])\n",
    "err_delta_measure = err_E - err_P\n",
    "err_mask = err_delta_measure > 0\n",
    "err_data = ExperimentData(err.name, err_mask, err_delta_measure, permutations[err_mask])\n",
    "experiment_data.append(err_data)\n",
    "################\n",
    "\n",
    "# include all the data\n",
    "#experiment_data.append(ExperimentData(\"No metric\", np.array([True] * len(permutations)), \n",
    "#                                      np.zeros(len(permutations)), permutations))"
   ]
  },
  {
   "cell_type": "code",
   "execution_count": 20,
   "metadata": {},
   "outputs": [
    {
     "data": {
      "image/png": "[encoded data removed]",
      "text/plain": [
       "<matplotlib.figure.Figure at 0x7f1f42855c88>"
      ]
     },
     "metadata": {},
     "output_type": "display_data"
    },
    {
     "data": {
      "image/png": "[encoded data removed]",
      "text/plain": [
       "<matplotlib.figure.Figure at 0x7f1f4294d6a0>"
      ]
     },
     "metadata": {},
     "output_type": "display_data"
    },
    {
     "data": {
      "image/png": "[encoded data removed]",
      "text/plain": [
       "<matplotlib.figure.Figure at 0x7f1f430eccf8>"
      ]
     },
     "metadata": {},
     "output_type": "display_data"
    }
   ],
   "source": [
    "for data in experiment_data:\n",
    "    plt.hist(data.delta_measure, bins=25)\n",
    "    plt.title(data.metric)\n",
    "    plt.show()"
   ]
  },
  {
   "cell_type": "markdown",
   "metadata": {},
   "source": [
    "## Step 4: Implement Interleaving (15 points)\n",
    "Implement 2 interleaving algorithms: \n",
    "(1) Team-Draft Interleaving OR Balanced Interleaving, ~~AND (2), Probabilistic Interleaving.~~ \n",
    "\n",
    "The interleaving algorithms should (a) given two rankings of relevance interleave them into a single ranking, and (b) given the users clicks on the interleaved ranking assign credit to the algorithms that produced the rankings."
   ]
  },
  {
   "cell_type": "code",
   "execution_count": 21,
   "metadata": {
    "collapsed": true
   },
   "outputs": [],
   "source": [
    "def toss_coin(heads = 0.5):\n",
    "    # head = True, Tails is False\n",
    "    return True if random.random() < heads else False"
   ]
  },
  {
   "cell_type": "markdown",
   "metadata": {},
   "source": [
    "Reference materials for interleaving algorithms: \n",
    "- https://www.cs.cornell.edu/people/tj/publications/radlinski_etal_08b.pdf\n",
    "- https://www.cs.cornell.edu/people/tj/publications/chapelle_etal_12a.pdf"
   ]
  },
  {
   "cell_type": "code",
   "execution_count": 22,
   "metadata": {},
   "outputs": [
    {
     "data": {
      "text/plain": [
       "[Interleaved(source='A', source_index=0, result=R),\n",
       " Interleaved(source='B', source_index=0, result=R),\n",
       " Interleaved(source='A', source_index=1, result=HR),\n",
       " Interleaved(source='B', source_index=1, result=N),\n",
       " Interleaved(source='A', source_index=2, result=N),\n",
       " Interleaved(source='B', source_index=2, result=HR)]"
      ]
     },
     "execution_count": 22,
     "metadata": {},
     "output_type": "execute_result"
    }
   ],
   "source": [
    "Interleaved = collections.namedtuple(\"Interleaved\", [\"source\", \"source_index\", \"result\"])\n",
    "        \n",
    "class BalancedInterleaving:\n",
    "    \n",
    "    @staticmethod\n",
    "    def interleave(A, B, A_name, B_name):\n",
    "\n",
    "        selected = toss_coin()\n",
    "        interleaved = []\n",
    "        \n",
    "        ka = 0\n",
    "        kb = 0\n",
    "        \n",
    "        while(ka <= len(A) and kb <= len(B) and (ka < len(A) or kb < len(B))):\n",
    "\n",
    "            if (ka < kb) or (ka==kb and selected):\n",
    "                    tup = Interleaved(A_name, ka, A[ka])\n",
    "                    # assumption: all docs are unique, most recently picked document is not in the interleaved list\n",
    "                    interleaved.append(tup)\n",
    "                    ka += 1\n",
    "\n",
    "            else:  \n",
    "                    tup = Interleaved(B_name, kb, B[kb])\n",
    "                    # assumption: all docs are unique, most recently picked document is not in the interleaved list\n",
    "                    interleaved.append(tup)\n",
    "                    kb += 1\n",
    "        \n",
    "        return interleaved\n",
    "    \n",
    "    @staticmethod\n",
    "    def score_clicks(interleaved, clicks):\n",
    "        scores = collections.defaultdict(int)\n",
    "        \n",
    "        #assumption: all docs are unique, just count the clicks belonging to each algorithm\n",
    "\n",
    "        for c in clicks:\n",
    "            il = interleaved[c]\n",
    "            scores[il.source] += 1\n",
    "            \n",
    "        return scores\n",
    "    \n",
    "A = [Grade.R, Grade.HR, Grade.N]\n",
    "B = [Grade.R, Grade.N, Grade.HR]\n",
    "\n",
    "interleaved = BalancedInterleaving.interleave(A, B, \"A\", \"B\")\n",
    "interleaved"
   ]
  },
  {
   "cell_type": "code",
   "execution_count": 23,
   "metadata": {},
   "outputs": [
    {
     "data": {
      "text/plain": [
       "defaultdict(int, {'A': 3})"
      ]
     },
     "execution_count": 23,
     "metadata": {},
     "output_type": "execute_result"
    }
   ],
   "source": [
    "clicks = [0, 2, 4]\n",
    "BalancedInterleaving.score_clicks(interleaved, clicks)"
   ]
  },
  {
   "cell_type": "code",
   "execution_count": 24,
   "metadata": {},
   "outputs": [
    {
     "data": {
      "text/plain": [
       "[Interleaved(source='A', source_index=0, result=R),\n",
       " Interleaved(source='B', source_index=0, result=R),\n",
       " Interleaved(source='B', source_index=1, result=N),\n",
       " Interleaved(source='A', source_index=1, result=HR),\n",
       " Interleaved(source='A', source_index=2, result=N),\n",
       " Interleaved(source='B', source_index=2, result=HR)]"
      ]
     },
     "execution_count": 24,
     "metadata": {},
     "output_type": "execute_result"
    }
   ],
   "source": [
    "class TeamDraftInterleaving:\n",
    "    \n",
    "    @staticmethod\n",
    "    def interleave(A, B, A_name, B_name):\n",
    "\n",
    "        interleaved = []\n",
    "        TeamA = set()\n",
    "        TeamB = set()\n",
    "\n",
    "        ka = 0\n",
    "        kb = 0\n",
    "\n",
    "        while(ka <= len(A) and kb <= len(B)):\n",
    "            selected = toss_coin()\n",
    "            if ka == len(A) and kb == len(B):\n",
    "                break\n",
    "            elif(len(TeamA) < len(TeamB)) or (len(TeamA) == len(TeamB) and selected == 0):\n",
    "                tup = Interleaved(A_name, ka, A[ka])\n",
    "                interleaved.append(tup)\n",
    "                TeamA.add(tup)\n",
    "                ka += 1\n",
    "            else:\n",
    "                tup = Interleaved(B_name, kb, B[kb])\n",
    "                interleaved.append(tup)\n",
    "                TeamB.add(tup)\n",
    "                kb +=1\n",
    "               \n",
    "        return interleaved\n",
    "\n",
    "    @staticmethod\n",
    "    def score_clicks(interleaved, clicks):\n",
    "        scores = collections.defaultdict(int)\n",
    "        \n",
    "        for c in clicks:\n",
    "            il = interleaved[c]\n",
    "            scores[il.source] += 1\n",
    "            \n",
    "        return scores\n",
    "                \n",
    "A = [Grade.R, Grade.HR, Grade.N]\n",
    "B = [Grade.R, Grade.N, Grade.HR]\n",
    "\n",
    "interleaved = TeamDraftInterleaving.interleave(A, B, \"A\", \"B\")\n",
    "interleaved"
   ]
  },
  {
   "cell_type": "code",
   "execution_count": 25,
   "metadata": {},
   "outputs": [
    {
     "name": "stdout",
     "output_type": "stream",
     "text": [
      "Total number of sessions:  11717\n",
      "Total number of interactions:  100000\n"
     ]
    }
   ],
   "source": [
    "ClickAction = collections.namedtuple(\"ClickAction\", [\"clicked_id\"])\n",
    "QueryAction = collections.namedtuple(\"QueryAction\", [\"query_id\", \"results\"])\n",
    "\n",
    "class Session:\n",
    "    def __init__(self, session_id):\n",
    "        self.session_id = session_id\n",
    "        self.data = []\n",
    "    \n",
    "    @property\n",
    "    def clicks(self):\n",
    "        return list(filter(lambda _: isinstance(_, ClickAction), self.data))\n",
    "    \n",
    "    @property\n",
    "    def queries(self):\n",
    "        return list(filter(lambda _: isinstance(_, QueryAction), self.data))\n",
    "    \n",
    "    def get_complete_interactions(self):\n",
    "        # return complete interactions\n",
    "        last_query = 0\n",
    "        for index, action in enumerate(self.data):\n",
    "            if index != 0 and isinstance(action, QueryAction):\n",
    "                yield self.data[last_query: index]\n",
    "                last_query = index\n",
    "        if isinstance(self.data[-1], ClickAction):\n",
    "            yield self.data[last_query:]\n",
    "        \n",
    "class YandexData:\n",
    "    def __init__(self, file_path):\n",
    "        self.file_path = file_path\n",
    "        self.sessions = []\n",
    "        self.u = 0\n",
    "        self.q = 0\n",
    "        self._read()\n",
    "        \n",
    "    def _read(self):\n",
    "        with codecs.open(self.file_path, \"r\", \"utf-8\") as reader:\n",
    "            current_session = Session(0)\n",
    "            for line in reader:\n",
    "                line = line.split(\"\\t\")\n",
    "                session_id = int(line[0])\n",
    "                interaction_type = line[2]\n",
    "                if current_session.session_id != session_id:\n",
    "                    self.sessions.append(current_session)\n",
    "                    current_session = Session(session_id)\n",
    "                \n",
    "                if interaction_type == \"C\":\n",
    "                    current_session.data.append(ClickAction(int(line[3])))\n",
    "                else:\n",
    "                    results = [int(q_id) for q_id in line[5:]]\n",
    "                    self.u = max(self.u, max(results))\n",
    "                    query_id = int(line[3])\n",
    "                    self.q = max(self.q, query_id)\n",
    "                    current_session.data.append(QueryAction(query_id, results))\n",
    "        \n",
    "        self.sessions.append(current_session)\n",
    "\n",
    "\n",
    "yandex_data = YandexData(\"./YandexRelPredChallenge.txt\")\n",
    "print(\"Total number of sessions: \", len(yandex_data.sessions))\n",
    "print(\"Total number of interactions: \", sum(len(session.data) for session in yandex_data.sessions))"
   ]
  },
  {
   "cell_type": "code",
   "execution_count": 26,
   "metadata": {},
   "outputs": [
    {
     "data": {
      "text/plain": [
       "0.13445559411047547"
      ]
     },
     "execution_count": 26,
     "metadata": {},
     "output_type": "execute_result"
    }
   ],
   "source": [
    "class RandomClickModel:\n",
    "    def __init__(self):\n",
    "        self.rho = 0\n",
    "    \n",
    "    def estimate(self, yandex_data):\n",
    "        clicks = 0\n",
    "        results = 0\n",
    "        for session in yandex_data.sessions:\n",
    "            clicks += len(session.clicks)\n",
    "            results += sum(len(query.results) for query in session.queries)\n",
    "        self.rho = clicks / results\n",
    "    \n",
    "    def predict(self, clicks):\n",
    "        #(b) there is a method that predicts the click probability given a ranked list of relevance labels,\n",
    "        pass\n",
    "    \n",
    "    @staticmethod\n",
    "    def simulate(results, grade_to_probability, params):\n",
    "        rho = params.get(\"rho\")\n",
    "        assert 0 <= rho <= 1.0\n",
    "        \n",
    "        # TODO something is wrong with this and I can't figure it out. pls fix \n",
    "        clicks = []\n",
    "        for rank, result in enumerate(results):\n",
    "            click = toss_coin(rho)\n",
    "            if click:\n",
    "                clicks.append(rank)\n",
    "        return clicks\n",
    "\n",
    "rcm = RandomClickModel()\n",
    "rcm.estimate(yandex_data)\n",
    "rcm.rho"
   ]
  },
  {
   "cell_type": "code",
   "execution_count": 27,
   "metadata": {},
   "outputs": [
    {
     "data": {
      "text/plain": [
       "(527494, 66579)"
      ]
     },
     "execution_count": 27,
     "metadata": {},
     "output_type": "execute_result"
    }
   ],
   "source": [
    "yandex_data.u, yandex_data.q"
   ]
  },
  {
   "cell_type": "code",
   "execution_count": 28,
   "metadata": {
    "collapsed": true
   },
   "outputs": [],
   "source": [
    "class SimpleDynamicBayesianNetwork:\n",
    "        \n",
    "    def _estimate_sigma(self, yandex_data):\n",
    "        satisfied_clicks = collections.defaultdict(lambda : collections.defaultdict(float))\n",
    "        total_clicks = collections.defaultdict(lambda : collections.defaultdict(float))\n",
    "        \n",
    "        \n",
    "        for session in yandex_data.sessions:\n",
    "            for interaction in session.get_complete_interactions():\n",
    "                #print(interaction) TODO explain why we continue\n",
    "                if not isinstance(interaction[-1], ClickAction):\n",
    "                    continue\n",
    "                query_action = interaction[0]\n",
    "                # sanity check TODO remove\n",
    "                assert isinstance(query_action, QueryAction)\n",
    "                for click in interaction[1:]:\n",
    "                    # sanity check TODO remove\n",
    "                    assert isinstance(click, ClickAction)\n",
    "                    total_clicks[click.clicked_id][query_action.query_id] += 1\n",
    "                \n",
    "                last_click = interaction[-1]\n",
    "                #print(last_click)\n",
    "                satisfied_clicks[last_click.clicked_id][query_action.query_id] += 1\n",
    "        \n",
    "        self.sigma = collections.defaultdict(lambda : collections.defaultdict(float))\n",
    "        \n",
    "        all_clicks = 0\n",
    "        all_satisfied = 0\n",
    "        for click_id, queries in total_clicks.items():\n",
    "            for query_id, count in queries.items():\n",
    "                self.sigma[click_id][query_id] = satisfied_clicks[click_id][query_id] / count\n",
    "                all_clicks += count\n",
    "                all_satisfied += satisfied_clicks[click_id][query_id]\n",
    "        \n",
    "        self.sigma_global = all_satisfied / all_clicks\n",
    "                \n",
    "    def _estimate_alpha(self, yandex_data):\n",
    "        seen = collections.defaultdict(lambda : collections.defaultdict(float))\n",
    "        clicks = collections.defaultdict(lambda : collections.defaultdict(float))\n",
    "        \n",
    "        for session in yandex_data.sessions:\n",
    "            for interaction in session.get_complete_interactions():\n",
    "                query_action = interaction[0]\n",
    "                assert isinstance(query_action, QueryAction)\n",
    "                \n",
    "                for result in query_action.results:\n",
    "                    seen[result][query_action.query_id] += 1\n",
    "                \n",
    "                for click in interaction[1:]:\n",
    "                    # sanity check TODO remove\n",
    "                    assert isinstance(click, ClickAction)\n",
    "                    clicks[click.clicked_id][query_action.query_id] += 1\n",
    "                \n",
    "\n",
    "        \n",
    "        self.alpha = collections.defaultdict(lambda : collections.defaultdict(float))\n",
    "        for click_id, queries in seen.items():\n",
    "            for query_id, count in queries.items():\n",
    "                self.alpha[click_id][query_id] = clicks[click_id][query_id] / count\n",
    "    \n",
    "    \n",
    "    def estimate(self, yandex_data):\n",
    "        self._estimate_sigma(yandex_data)\n",
    "        self._estimate_alpha(yandex_data)\n",
    "        \n",
    "    @staticmethod\n",
    "    def simulate(results, grade_to_probability, params):\n",
    "        clicks = []\n",
    "        sigma = params[\"sigma\"]\n",
    "        for index, result in enumerate(results):\n",
    "            examine = toss_coin(grade_to_probability[result])\n",
    "            if not examine:\n",
    "                continue\n",
    "            clicks.append(index)\n",
    "            \n",
    "            satisfied = toss_coin(sigma)\n",
    "            if satisfied:\n",
    "                break\n",
    "                \n",
    "        return clicks\n"
   ]
  },
  {
   "cell_type": "code",
   "execution_count": 29,
   "metadata": {},
   "outputs": [
    {
     "data": {
      "text/plain": [
       "0.5121189928157913"
      ]
     },
     "execution_count": 29,
     "metadata": {},
     "output_type": "execute_result"
    }
   ],
   "source": [
    "# TODO replace with how you compute alpha\n",
    "grade_to_probability = {\n",
    "    Grade.N: 0.1,\n",
    "    Grade.R: 0.5,\n",
    "    Grade.HR: 0.9\n",
    "}\n",
    "    \n",
    "sdbn = SimpleDynamicBayesianNetwork()\n",
    "sdbn.estimate(yandex_data)\n",
    "sdbn.sigma_global"
   ]
  },
  {
   "cell_type": "code",
   "execution_count": 30,
   "metadata": {
    "collapsed": true
   },
   "outputs": [],
   "source": [
    "def simulate(data, interleaving, click_model, params):\n",
    "#      print(\"Data: Metric: {}, Number of samples for which E>P: {}\".format(data.metric, data.mask.sum()))\n",
    "    winner_E = 0\n",
    "    ties = 0\n",
    "    for production, experimental in permutations[data.mask]:\n",
    "        interleaved = interleaving.interleave(production, experimental, \"P\", \"E\")\n",
    "        clicks = click_model.simulate([i.result for i in interleaved], grade_to_probability, params)\n",
    "        scores = interleaving.score_clicks(interleaved, clicks)\n",
    "        \n",
    "        if scores[\"E\"] > scores[\"P\"]:\n",
    "            winner_E += 1\n",
    "        elif scores[\"E\"] == scores[\"P\"]:\n",
    "            ties += 1\n",
    "    proportion = (winner_E / (len(permutations[data.mask]) - ties))\n",
    "#     print(\"\\tInterleaving used: {}, ClickModel: {}, Ties: {}, E-Wins: {}\\n\".format(interleaving.__name__,\n",
    "#                                                                                  click_model.__name__, ties, winner_E))\n",
    "    return proportion "
   ]
  },
  {
   "cell_type": "code",
   "execution_count": 31,
   "metadata": {},
   "outputs": [
    {
     "data": {
      "text/plain": [
       "0.5000887731549979"
      ]
     },
     "execution_count": 31,
     "metadata": {},
     "output_type": "execute_result"
    }
   ],
   "source": [
    "simulate(experiment_data[0], TeamDraftInterleaving, RandomClickModel, {\"rho\": rcm.rho})"
   ]
  },
  {
   "cell_type": "markdown",
   "metadata": {},
   "source": [
    "#### TODO here we check whether SDBM > RCM\n",
    "    EXPLAIN THIS STHI"
   ]
  },
  {
   "cell_type": "code",
   "execution_count": 32,
   "metadata": {},
   "outputs": [
    {
     "name": "stdout",
     "output_type": "stream",
     "text": [
      "average-precision\n",
      "\t TeamDraftInterleaving RandomClickModel\n",
      "\t TeamDraftInterleaving SimpleDynamicBayesianNetwork\n",
      "\t BalancedInterleaving RandomClickModel\n",
      "\t BalancedInterleaving SimpleDynamicBayesianNetwork\n",
      "NCDG@k\n",
      "\t TeamDraftInterleaving RandomClickModel\n",
      "\t TeamDraftInterleaving SimpleDynamicBayesianNetwork\n",
      "\t BalancedInterleaving RandomClickModel\n",
      "\t BalancedInterleaving SimpleDynamicBayesianNetwork\n",
      "ERR\n",
      "\t TeamDraftInterleaving RandomClickModel\n",
      "\t TeamDraftInterleaving SimpleDynamicBayesianNetwork\n",
      "\t BalancedInterleaving RandomClickModel\n",
      "\t BalancedInterleaving SimpleDynamicBayesianNetwork\n"
     ]
    }
   ],
   "source": [
    "#t-test, used central limit theorem. Create 30 samples by simulating 30 times for each condition \n",
    "# and compare. Since the data is parametric we can use t-tests\n",
    "def CLT_experiment(data, n_samples = 30):\n",
    "    \n",
    "    simulation = collections.defaultdict(lambda: collections.defaultdict(list))\n",
    "    \n",
    "    interleaving_models = [TeamDraftInterleaving, BalancedInterleaving]\n",
    "    click_models = [(RandomClickModel, {\"rho\": rcm.rho}), \n",
    "                    (SimpleDynamicBayesianNetwork, {\"sigma\": sdbn.sigma_global})]\n",
    "    \n",
    "    \n",
    "    for interleaving in interleaving_models:\n",
    "        for click_model, params in click_models:\n",
    "            print(\"\\t\", interleaving.__name__, click_model.__name__)\n",
    "            for i in range(n_samples):\n",
    "                sim_result = simulate(data, interleaving, click_model, params)\n",
    "                simulation[interleaving.__name__][click_model.__name__].append(sim_result)\n",
    "\n",
    "    return simulation\n",
    "\n",
    "simulation_results = {}\n",
    "for data in experiment_data:\n",
    "    print(data.metric)\n",
    "    simulation_results[data.metric] = CLT_experiment(data, n_samples = 30)"
   ]
  },
  {
   "cell_type": "code",
   "execution_count": 33,
   "metadata": {},
   "outputs": [
    {
     "data": {
      "text/plain": [
       "{'ERR': defaultdict(<function __main__.CLT_experiment.<locals>.<lambda>>,\n",
       "             {'BalancedInterleaving': defaultdict(list,\n",
       "                          {'RandomClickModel': [0.49158512720156555,\n",
       "                            0.5005064715813168,\n",
       "                            0.5119234214061801,\n",
       "                            0.5106537665678653,\n",
       "                            0.5041373141004137,\n",
       "                            0.5005584096493187,\n",
       "                            0.49920984309741506,\n",
       "                            0.49862552594670406,\n",
       "                            0.4966593678064118,\n",
       "                            0.5020927507115353,\n",
       "                            0.5008397715821297,\n",
       "                            0.5031636709782182,\n",
       "                            0.49702581369248033,\n",
       "                            0.49874210320344387,\n",
       "                            0.5034108700514426,\n",
       "                            0.4999719274605581,\n",
       "                            0.4991099243435692,\n",
       "                            0.49647390691114246,\n",
       "                            0.5026972353337829,\n",
       "                            0.5061783868793529,\n",
       "                            0.49957610354377435,\n",
       "                            0.5023468868404682,\n",
       "                            0.4946808510638298,\n",
       "                            0.5013689445158407,\n",
       "                            0.495983822951188,\n",
       "                            0.4955856717089355,\n",
       "                            0.5016622527751169,\n",
       "                            0.507351707944317,\n",
       "                            0.4994961934617107,\n",
       "                            0.4956044571364578],\n",
       "                           'SimpleDynamicBayesianNetwork': [0.7177408924337142,\n",
       "                            0.7178051511758119,\n",
       "                            0.7156097142366773,\n",
       "                            0.7179729439553361,\n",
       "                            0.7192347466390899,\n",
       "                            0.719984607491021,\n",
       "                            0.7149944401676503,\n",
       "                            0.7151915002998886,\n",
       "                            0.7143840626479068,\n",
       "                            0.7144888812273746,\n",
       "                            0.7176891263139755,\n",
       "                            0.7158701610140459,\n",
       "                            0.7201793335345088,\n",
       "                            0.7174435573869001,\n",
       "                            0.7156572800137156,\n",
       "                            0.7144760022343488,\n",
       "                            0.7216801934035573,\n",
       "                            0.7186280814576634,\n",
       "                            0.71592269539935,\n",
       "                            0.713450545643513,\n",
       "                            0.7135695616778782,\n",
       "                            0.7141503746447334,\n",
       "                            0.7146722790138305,\n",
       "                            0.7150613483818563,\n",
       "                            0.7206519854343679,\n",
       "                            0.7182051282051282,\n",
       "                            0.7157768137107513,\n",
       "                            0.7176853278548194,\n",
       "                            0.7170328493725642,\n",
       "                            0.7137501615891757]}),\n",
       "              'TeamDraftInterleaving': defaultdict(list,\n",
       "                          {'RandomClickModel': [0.502373903815003,\n",
       "                            0.4975598810792618,\n",
       "                            0.4957565605806812,\n",
       "                            0.5016666666666667,\n",
       "                            0.506457046603032,\n",
       "                            0.49810161920714685,\n",
       "                            0.499412915851272,\n",
       "                            0.5022966614384943,\n",
       "                            0.49314063117484336,\n",
       "                            0.506070826306914,\n",
       "                            0.49789857102829926,\n",
       "                            0.5016069918240766,\n",
       "                            0.5012199179327936,\n",
       "                            0.4927601555017184,\n",
       "                            0.5035724331926864,\n",
       "                            0.4995523223279239,\n",
       "                            0.5084831460674157,\n",
       "                            0.49593404744546016,\n",
       "                            0.5023570517442183,\n",
       "                            0.5006162464985995,\n",
       "                            0.5000280819994384,\n",
       "                            0.5000842081625779,\n",
       "                            0.5034532694664142,\n",
       "                            0.5021080442970375,\n",
       "                            0.5014027606329255,\n",
       "                            0.5024569330697543,\n",
       "                            0.49731573649479927,\n",
       "                            0.5057767807066741,\n",
       "                            0.5006998488326522,\n",
       "                            0.5032290390825075],\n",
       "                           'SimpleDynamicBayesianNetwork': [0.7184788708076143,\n",
       "                            0.7178704937051519,\n",
       "                            0.7193382036957456,\n",
       "                            0.7189652203856749,\n",
       "                            0.7110520449284061,\n",
       "                            0.7167087848545852,\n",
       "                            0.7150087933770858,\n",
       "                            0.7154639175257732,\n",
       "                            0.7149978513107005,\n",
       "                            0.7140416809019474,\n",
       "                            0.7173585717358572,\n",
       "                            0.7163517410579778,\n",
       "                            0.714894532931554,\n",
       "                            0.7193391139295112,\n",
       "                            0.7153829557713053,\n",
       "                            0.7154134851818299,\n",
       "                            0.7126565391401644,\n",
       "                            0.7193813811226468,\n",
       "                            0.7159022717531076,\n",
       "                            0.7198157078883913,\n",
       "                            0.7138743230465057,\n",
       "                            0.71688444786062,\n",
       "                            0.7146057733735459,\n",
       "                            0.7189268587721951,\n",
       "                            0.7185713671723901,\n",
       "                            0.7192786603692571,\n",
       "                            0.7212217818369808,\n",
       "                            0.7188244982878939,\n",
       "                            0.7223747426218257,\n",
       "                            0.7200636805645196]})}),\n",
       " 'NCDG@k': defaultdict(<function __main__.CLT_experiment.<locals>.<lambda>>,\n",
       "             {'BalancedInterleaving': defaultdict(list,\n",
       "                          {'RandomClickModel': [0.4973366975049061,\n",
       "                            0.4938768662976011,\n",
       "                            0.5021878155503198,\n",
       "                            0.5019824649578377,\n",
       "                            0.5020190689848569,\n",
       "                            0.4939303257862345,\n",
       "                            0.496222508254519,\n",
       "                            0.5001960235228228,\n",
       "                            0.4982531274653443,\n",
       "                            0.5016633775021144,\n",
       "                            0.49991632732749486,\n",
       "                            0.5039847345381075,\n",
       "                            0.5014856758423502,\n",
       "                            0.4930073842022824,\n",
       "                            0.49500084731401456,\n",
       "                            0.4952530756699062,\n",
       "                            0.5061893609902978,\n",
       "                            0.5006453060995455,\n",
       "                            0.5032193046301999,\n",
       "                            0.4960996688927549,\n",
       "                            0.5020302278366795,\n",
       "                            0.5048217089033415,\n",
       "                            0.4977410898544258,\n",
       "                            0.4952808988764045,\n",
       "                            0.5005042581801883,\n",
       "                            0.4990294492817925,\n",
       "                            0.4933735950343902,\n",
       "                            0.5006180469715699,\n",
       "                            0.4918824785124431,\n",
       "                            0.5016371231794061],\n",
       "                           'SimpleDynamicBayesianNetwork': [0.6976854038734057,\n",
       "                            0.7002149613069647,\n",
       "                            0.6962488170007743,\n",
       "                            0.7030927835051546,\n",
       "                            0.6992565215522799,\n",
       "                            0.6977406002069679,\n",
       "                            0.7013619515559003,\n",
       "                            0.6980789200415368,\n",
       "                            0.699138302455838,\n",
       "                            0.6971164145850294,\n",
       "                            0.7005469658469357,\n",
       "                            0.7023569312669042,\n",
       "                            0.6997066942719117,\n",
       "                            0.6998841748530736,\n",
       "                            0.7003971680193404,\n",
       "                            0.698415432311402,\n",
       "                            0.7006910761042194,\n",
       "                            0.6925131386232446,\n",
       "                            0.6990183049684915,\n",
       "                            0.7013512350460452,\n",
       "                            0.6996929464169874,\n",
       "                            0.7020371325425477,\n",
       "                            0.7008057219182213,\n",
       "                            0.7011494252873564,\n",
       "                            0.7041938810587831,\n",
       "                            0.7049864475325904,\n",
       "                            0.7010876574523881,\n",
       "                            0.7006858473881724,\n",
       "                            0.7007170767315042,\n",
       "                            0.7010579735076553]}),\n",
       "              'TeamDraftInterleaving': defaultdict(list,\n",
       "                          {'RandomClickModel': [0.49664801374037343,\n",
       "                            0.4999441090990387,\n",
       "                            0.49988780433075286,\n",
       "                            0.4971726107160853,\n",
       "                            0.501749319709002,\n",
       "                            0.4954959995523975,\n",
       "                            0.49819032240102457,\n",
       "                            0.4990183429629214,\n",
       "                            0.5052979761170601,\n",
       "                            0.4935361640476987,\n",
       "                            0.5027766870477366,\n",
       "                            0.4987122060470325,\n",
       "                            0.5011242270938729,\n",
       "                            0.4991615427613192,\n",
       "                            0.49181889499047404,\n",
       "                            0.4983709695539827,\n",
       "                            0.4948765328405846,\n",
       "                            0.4984989993328886,\n",
       "                            0.49611573969826617,\n",
       "                            0.4994632465111023,\n",
       "                            0.4916638879626542,\n",
       "                            0.5061824663027737,\n",
       "                            0.4974582425562818,\n",
       "                            0.4973734212585224,\n",
       "                            0.5008101011229678,\n",
       "                            0.5010690974566734,\n",
       "                            0.5022933214006041,\n",
       "                            0.4925331394373287,\n",
       "                            0.49782547303021746,\n",
       "                            0.5032614149523331],\n",
       "                           'SimpleDynamicBayesianNetwork': [0.6967297762478485,\n",
       "                            0.6997125820428124,\n",
       "                            0.7058924731182795,\n",
       "                            0.7028637571808283,\n",
       "                            0.6992050602615608,\n",
       "                            0.6949451494945149,\n",
       "                            0.7019915872607091,\n",
       "                            0.7015618949270686,\n",
       "                            0.6985565770255177,\n",
       "                            0.69884918753502,\n",
       "                            0.7026886833232472,\n",
       "                            0.6968277166437414,\n",
       "                            0.6999871679712563,\n",
       "                            0.698229175621078,\n",
       "                            0.6977647363424527,\n",
       "                            0.6980791543122341,\n",
       "                            0.6993025058124516,\n",
       "                            0.7039281416537734,\n",
       "                            0.7048722901910282,\n",
       "                            0.6991358658453114,\n",
       "                            0.6943777853959547,\n",
       "                            0.695357418690466,\n",
       "                            0.70098821904803,\n",
       "                            0.6938012801237167,\n",
       "                            0.6986248554170416,\n",
       "                            0.6999871349543291,\n",
       "                            0.6946187569844409,\n",
       "                            0.7016184573002755,\n",
       "                            0.6984432469420923,\n",
       "                            0.7]})}),\n",
       " 'average-precision': defaultdict(<function __main__.CLT_experiment.<locals>.<lambda>>,\n",
       "             {'BalancedInterleaving': defaultdict(list,\n",
       "                          {'RandomClickModel': [0.49803299864952144,\n",
       "                            0.50143906020558,\n",
       "                            0.5066595945308816,\n",
       "                            0.5066366437544442,\n",
       "                            0.49409890239584564,\n",
       "                            0.49655294325614285,\n",
       "                            0.5056488907100626,\n",
       "                            0.49844108476969234,\n",
       "                            0.49422117923144615,\n",
       "                            0.5023293733985558,\n",
       "                            0.4987225952112174,\n",
       "                            0.4928554696650269,\n",
       "                            0.49950242931569394,\n",
       "                            0.4946881120541278,\n",
       "                            0.5025466893039049,\n",
       "                            0.4915758766446389,\n",
       "                            0.5038001531844695,\n",
       "                            0.49575471698113205,\n",
       "                            0.5026737967914439,\n",
       "                            0.49375736160188455,\n",
       "                            0.49982235907153005,\n",
       "                            0.5033695909198392,\n",
       "                            0.4968453328616074,\n",
       "                            0.49717381064531324,\n",
       "                            0.496574128765505,\n",
       "                            0.49701377801431024,\n",
       "                            0.493739664540515,\n",
       "                            0.5035146789532754,\n",
       "                            0.4941155702012475,\n",
       "                            0.4977578475336323],\n",
       "                           'SimpleDynamicBayesianNetwork': [0.6704045931640801,\n",
       "                            0.6686422413793104,\n",
       "                            0.6740657361548852,\n",
       "                            0.675300063171194,\n",
       "                            0.668611173435046,\n",
       "                            0.6695738176586945,\n",
       "                            0.677296955461198,\n",
       "                            0.6691110311319057,\n",
       "                            0.6716591406983502,\n",
       "                            0.669371562528176,\n",
       "                            0.67675631915085,\n",
       "                            0.6744301512074024,\n",
       "                            0.6755964461281739,\n",
       "                            0.6739994579456139,\n",
       "                            0.6726778432260988,\n",
       "                            0.6682506948803013,\n",
       "                            0.6707090818589077,\n",
       "                            0.673107237760663,\n",
       "                            0.6711551452375591,\n",
       "                            0.6667413615381168,\n",
       "                            0.676467939481268,\n",
       "                            0.67447528774543,\n",
       "                            0.6767181241279986,\n",
       "                            0.6719686387599694,\n",
       "                            0.6733186179557638,\n",
       "                            0.6721864734734284,\n",
       "                            0.6739130434782609,\n",
       "                            0.6712799638172773,\n",
       "                            0.6720745753596558,\n",
       "                            0.6723718583911359]}),\n",
       "              'TeamDraftInterleaving': defaultdict(list,\n",
       "                          {'RandomClickModel': [0.5025039769044953,\n",
       "                            0.5045333333333333,\n",
       "                            0.4905094905094905,\n",
       "                            0.5014438092993105,\n",
       "                            0.5002354326074161,\n",
       "                            0.49570284906993173,\n",
       "                            0.49742283310622665,\n",
       "                            0.5001474839242522,\n",
       "                            0.5005006773870531,\n",
       "                            0.49970684803001875,\n",
       "                            0.49941079424935186,\n",
       "                            0.5016362786348761,\n",
       "                            0.5020297699594046,\n",
       "                            0.5003233202045735,\n",
       "                            0.5009101051024603,\n",
       "                            0.5001173571177092,\n",
       "                            0.5003835939805252,\n",
       "                            0.5038059833598867,\n",
       "                            0.5109691916504051,\n",
       "                            0.5000295316283739,\n",
       "                            0.497430748331463,\n",
       "                            0.5029512454255696,\n",
       "                            0.5017117223468304,\n",
       "                            0.5063141744364452,\n",
       "                            0.49642371578885147,\n",
       "                            0.5008552049542908,\n",
       "                            0.5029007814349988,\n",
       "                            0.5042240207951793,\n",
       "                            0.5052545059590208,\n",
       "                            0.5023296962547921],\n",
       "                           'SimpleDynamicBayesianNetwork': [0.6771101767711017,\n",
       "                            0.6699256589321919,\n",
       "                            0.6758159902487473,\n",
       "                            0.6713292983635956,\n",
       "                            0.6740824648844586,\n",
       "                            0.6737263100486297,\n",
       "                            0.6709330197639184,\n",
       "                            0.670431863545636,\n",
       "                            0.6769816390506046,\n",
       "                            0.6724961687550708,\n",
       "                            0.6719748088169141,\n",
       "                            0.6751022609790084,\n",
       "                            0.6713623475403934,\n",
       "                            0.6662469646550949,\n",
       "                            0.6749165990442701,\n",
       "                            0.6762433934137417,\n",
       "                            0.6714138101442113,\n",
       "                            0.6675353853066727,\n",
       "                            0.6758499413833529,\n",
       "                            0.6754314994606256,\n",
       "                            0.6753981179876946,\n",
       "                            0.6745503148928458,\n",
       "                            0.6716852623560514,\n",
       "                            0.6728900485873673,\n",
       "                            0.6773857982813206,\n",
       "                            0.6706492335437331,\n",
       "                            0.6731459867121565,\n",
       "                            0.6734409424036689,\n",
       "                            0.6732793522267206,\n",
       "                            0.6732017306652245]})})}"
      ]
     },
     "execution_count": 33,
     "metadata": {},
     "output_type": "execute_result"
    }
   ],
   "source": [
    "simulation_results"
   ]
  },
  {
   "cell_type": "code",
   "execution_count": 34,
   "metadata": {},
   "outputs": [
    {
     "name": "stdout",
     "output_type": "stream",
     "text": [
      "Two sample t-tests. Each group is generated by taking 30 proportions of wins (central limit theorem)\n",
      "\n",
      "Metric: average-precision\n",
      "\tChecks for normality\n",
      "\t\tTeamDraft RCM \tp-value: 0.062\n",
      "\t\tTeamDraft SDBM \tp-value: 0.353\n",
      "\t\tBalanced RCM \tp-value: 0.220\n",
      "\t\tBalanced SDBM \tp-value: 0.534\n",
      "\n",
      "\t\t\tTwo sample t-test, n = 30\n",
      "\tComparing TeamDraft RCM with TeamDraft SDBM : P-value = 0.000\n",
      "\tComparing Balanced RCM with Balanced SDBM : P-value = 0.000\n",
      "####################################################################################################\n",
      "\n",
      "Metric: NCDG@k\n",
      "\tChecks for normality\n",
      "\t\tTeamDraft RCM \tp-value: 0.984\n",
      "\t\tTeamDraft SDBM \tp-value: 0.917\n",
      "\t\tBalanced RCM \tp-value: 0.239\n",
      "\t\tBalanced SDBM \tp-value: 0.020\n",
      "\n",
      "\t\t\tTwo sample t-test, n = 30\n",
      "\tComparing TeamDraft RCM with TeamDraft SDBM : P-value = 0.000\n",
      "\tComparing Balanced RCM with Balanced SDBM : P-value = 0.000\n",
      "####################################################################################################\n",
      "\n",
      "Metric: ERR\n",
      "\tChecks for normality\n",
      "\t\tTeamDraft RCM \tp-value: 0.745\n",
      "\t\tTeamDraft SDBM \tp-value: 0.834\n",
      "\t\tBalanced RCM \tp-value: 0.175\n",
      "\t\tBalanced SDBM \tp-value: 0.330\n",
      "\n",
      "\t\t\tTwo sample t-test, n = 30\n",
      "\tComparing TeamDraft RCM with TeamDraft SDBM : P-value = 0.000\n",
      "\tComparing Balanced RCM with Balanced SDBM : P-value = 0.000\n",
      "####################################################################################################\n",
      "\n"
     ]
    }
   ],
   "source": [
    "print(\"Two sample t-tests. Each group is generated by taking 30 proportions of wins (central limit theorem)\\n\")\n",
    "for data in experiment_data:\n",
    "    sim = simulation_results[data.metric]\n",
    "    sim_teamdraft_RCM = sim[\"TeamDraftInterleaving\"][\"RandomClickModel\"]\n",
    "    sim_teamdraft_SDBM = sim[\"TeamDraftInterleaving\"][\"SimpleDynamicBayesianNetwork\"]\n",
    "    sim_interleaved_RCM = sim[\"BalancedInterleaving\"][\"RandomClickModel\"]\n",
    "    sim_interleaved_SDBM = sim[\"BalancedInterleaving\"][\"SimpleDynamicBayesianNetwork\"]\n",
    "    \n",
    "    print(\"Metric: {}\".format(data.metric))\n",
    "    \n",
    "    print(\"\\tChecks for normality\")\n",
    "    print(\"\\t\\tTeamDraft RCM \\tp-value: {0:.3f}\".format(stats.normaltest(sim_teamdraft_RCM)[1]))\n",
    "    print(\"\\t\\tTeamDraft SDBM \\tp-value: {0:.3f}\".format(stats.normaltest(sim_teamdraft_SDBM)[1]))\n",
    "    print(\"\\t\\tBalanced RCM \\tp-value: {0:.3f}\".format(stats.normaltest(sim_interleaved_RCM)[1]))\n",
    "    print(\"\\t\\tBalanced SDBM \\tp-value: {0:.3f}\".format(stats.normaltest(sim_interleaved_SDBM)[1]))\n",
    "    print()\n",
    "    \n",
    "    # compares using t-test 2 sample (comparing with RCM, which is equal to chance)\n",
    "    print(\"\\t\\t\\tTwo sample t-test, n = 30\")\n",
    "    z, p = stats.ttest_ind(sim_teamdraft_RCM,sim_teamdraft_SDBM)\n",
    "    print(\"\\tComparing TeamDraft RCM with TeamDraft SDBM : P-value = {0:.3f}\".format(p))\n",
    "\n",
    "    z, p = stats.ttest_ind(sim_interleaved_RCM,sim_interleaved_SDBM)\n",
    "    print(\"\\tComparing Balanced RCM with Balanced SDBM : P-value = {0:.3f}\".format(p))\n",
    "    \n",
    "    print(\"#\" * 100 + \"\\n\")\n",
    "    "
   ]
  },
  {
   "cell_type": "code",
   "execution_count": 35,
   "metadata": {
    "collapsed": true
   },
   "outputs": [],
   "source": [
    "# creating the sign test (uses data of 1 trial only since non-parametric). We also wanted to do a t-test\n",
    "# however the data was not parametric (normally distributed) therefore we used the wilcoxon test.\n",
    "def sign_test(data, interleaving, click_model, params):\n",
    "    \"\"\"\n",
    "        TODO Marco\n",
    "    \"\"\"\n",
    "    sign_array = []\n",
    "#     score_p = []\n",
    "#     score_e = []\n",
    "    \n",
    "    for production, experimental in permutations[data.mask]:\n",
    "        interleaved = interleaving.interleave(production, experimental, \"P\", \"E\")\n",
    "        clicks = click_model.simulate([i.result for i in interleaved], grade_to_probability, params)\n",
    "        scores = interleaving.score_clicks(interleaved, clicks)\n",
    "#         score_p.append(scores[\"E\"])\n",
    "#         score_e.append(scores[\"P\"])\n",
    "        sign_array.append(scores[\"E\"] - scores[\"P\"])\n",
    "    \n",
    "#     z, p = stats.normaltest(score_p)\n",
    "#     print(\"P value for ScoresP (normal): \", p)\n",
    "#     z, p = stats.normaltest(score_e)\n",
    "#     print(\"P value for ScoresE (normal): \", p)\n",
    "    z, p = stats.wilcoxon(sign_array)\n",
    "#     z, p = stats.ttest_ind(score_p, score_e)\n",
    "    \n",
    "    return z, p"
   ]
  },
  {
   "cell_type": "code",
   "execution_count": 36,
   "metadata": {},
   "outputs": [
    {
     "name": "stdout",
     "output_type": "stream",
     "text": [
      "\t\t\tWilcoxon tests, n = 59049\n",
      "average-precision\n",
      "\tComparing (E-P) TeamDraft, RCM \tP-value = 0.346\n",
      "\tComparing (E-P) TeamDraft, SDBN P-value = 0.000\n",
      "\tComparing (E-P) Balanced, RCM \tP-value = 0.062\n",
      "\tComparing (E-P) Balanced, SDBN \tP-value = 0.000\n",
      "NCDG@k\n",
      "\tComparing (E-P) TeamDraft, RCM \tP-value = 0.843\n",
      "\tComparing (E-P) TeamDraft, SDBN P-value = 0.000\n",
      "\tComparing (E-P) Balanced, RCM \tP-value = 0.909\n",
      "\tComparing (E-P) Balanced, SDBN \tP-value = 0.000\n",
      "ERR\n",
      "\tComparing (E-P) TeamDraft, RCM \tP-value = 0.387\n",
      "\tComparing (E-P) TeamDraft, SDBN P-value = 0.000\n",
      "\tComparing (E-P) Balanced, RCM \tP-value = 0.737\n",
      "\tComparing (E-P) Balanced, SDBN \tP-value = 0.000\n"
     ]
    }
   ],
   "source": [
    "print(\"\\t\\t\\tWilcoxon tests, n = 59049\")\n",
    "for data in experiment_data:\n",
    "    print(data.metric)\n",
    "    # using the non-parametric sign tests to compare.\n",
    "    z, p = sign_test(data, TeamDraftInterleaving, RandomClickModel, {\"rho\": rcm.rho})\n",
    "    print(\"\\tComparing (E-P) TeamDraft, RCM \\tP-value = {0:.3f}\".format(p))\n",
    "\n",
    "    z, p = sign_test(data, TeamDraftInterleaving, SimpleDynamicBayesianNetwork, {\"sigma\": sdbn.sigma_global})\n",
    "    print(\"\\tComparing (E-P) TeamDraft, SDBN P-value = {0:.3f}\".format(p))\n",
    "\n",
    "    z, p = sign_test(data, BalancedInterleaving, RandomClickModel, {\"rho\": rcm.rho})\n",
    "    print(\"\\tComparing (E-P) Balanced, RCM \\tP-value = {0:.3f}\".format(p))\n",
    "\n",
    "    z, p = sign_test(data, BalancedInterleaving, SimpleDynamicBayesianNetwork, {\"sigma\": sdbn.sigma_global})\n",
    "    print(\"\\tComparing (E-P) Balanced, SDBN \\tP-value = {0:.3f}\".format(p))"
   ]
  },
  {
   "cell_type": "code",
   "execution_count": 55,
   "metadata": {},
   "outputs": [
    {
     "name": "stdout",
     "output_type": "stream",
     "text": [
      "Two sample t-tests. Each group is generated by taking 30 proportions of wins (central limit theorem)\n",
      "\n"
     ]
    },
    {
     "data": {
      "image/png": "[encoded data removed]",
      "text/plain": [
       "<matplotlib.figure.Figure at 0x7f1f384d62e8>"
      ]
     },
     "metadata": {},
     "output_type": "display_data"
    },
    {
     "data": {
      "image/png": "[encoded data removed]",
      "text/plain": [
       "<matplotlib.figure.Figure at 0x7f1f37fd5c50>"
      ]
     },
     "metadata": {},
     "output_type": "display_data"
    },
    {
     "data": {
      "image/png": "[encoded data removed]",
      "text/plain": [
       "<matplotlib.figure.Figure at 0x7f1f377cffd0>"
      ]
     },
     "metadata": {},
     "output_type": "display_data"
    },
    {
     "data": {
      "image/png": "[encoded data removed]",
      "text/plain": [
       "<matplotlib.figure.Figure at 0x7f1f38b70cc0>"
      ]
     },
     "metadata": {},
     "output_type": "display_data"
    },
    {
     "data": {
      "image/png": "[encoded data removed]",
      "text/plain": [
       "<matplotlib.figure.Figure at 0x7f1f380b9ac8>"
      ]
     },
     "metadata": {},
     "output_type": "display_data"
    },
    {
     "data": {
      "image/png": "[encoded data removed]",
      "text/plain": [
       "<matplotlib.figure.Figure at 0x7f1f37b1a400>"
      ]
     },
     "metadata": {},
     "output_type": "display_data"
    },
    {
     "data": {
      "image/png": "[encoded data removed]",
      "text/plain": [
       "<matplotlib.figure.Figure at 0x7f1f372aa630>"
      ]
     },
     "metadata": {},
     "output_type": "display_data"
    },
    {
     "data": {
      "image/png": "[encoded data removed]",
      "text/plain": [
       "<matplotlib.figure.Figure at 0x7f1f37f6bc88>"
      ]
     },
     "metadata": {},
     "output_type": "display_data"
    },
    {
     "data": {
      "image/png": "[encoded data removed]",
      "text/plain": [
       "<matplotlib.figure.Figure at 0x7f1f372aa240>"
      ]
     },
     "metadata": {},
     "output_type": "display_data"
    }
   ],
   "source": [
    "print(\"Two sample t-tests. Each group is generated by taking 30 proportions of wins (central limit theorem)\\n\")\n",
    "for data in experiment_data:\n",
    "    sim = simulation_results[data.metric]\n",
    "    sim_teamdraft_RCM = sim[\"TeamDraftInterleaving\"][\"RandomClickModel\"]\n",
    "    sim_teamdraft_SDBM = sim[\"TeamDraftInterleaving\"][\"SimpleDynamicBayesianNetwork\"]\n",
    "    sim_interleaved_RCM = sim[\"BalancedInterleaving\"][\"RandomClickModel\"]\n",
    "    sim_interleaved_SDBM = sim[\"BalancedInterleaving\"][\"SimpleDynamicBayesianNetwork\"]\n",
    "        \n",
    "    bins = np.linspace(0.45, 0.9, 200)\n",
    "    #plt.hist(sim_interleaved_SDBM, bins, alpha=0.25, label='IL_SDBM')\n",
    "    plt.hist(sim_teamdraft_SDBM, bins, alpha=0.25, label='TD_SDBM')\n",
    "    #plt.hist(sim_interleaved_RCM, bins, alpha=0.25, label='IL_RCM')\n",
    "    plt.hist(sim_teamdraft_RCM, bins, alpha=0.25, label='TD_RCM')\n",
    "    \n",
    "    title_text = data.metric + \"  (n = 30)\"\n",
    "    plt.title(title_text)\n",
    "    plt.legend(loc='upper right')\n",
    "    plt.show()\n",
    "\n",
    "    plt.hist(sim_interleaved_SDBM, bins, alpha=0.25, label='IL_SDBM')\n",
    "    plt.hist(sim_interleaved_RCM, bins, alpha=0.25, label='IL_RCM')\n",
    "\n",
    "    plt.title(title_text)\n",
    "    plt.legend(loc='upper right')\n",
    "    plt.show()\n",
    "    \n",
    "    plt.figure()\n",
    "    plt.title(title_text)\n",
    "    plt.boxplot([sim_teamdraft_RCM, sim_interleaved_RCM, sim_teamdraft_SDBM, sim_interleaved_SDBM])\n",
    "    plt.xticks([1, 2, 3, 4], ['TD_RCM', 'IL_RCM', 'TD_SDBM', 'IL_SDBM',])\n",
    "    plt.show()\n",
    "   "
   ]
  },
  {
   "cell_type": "code",
   "execution_count": null,
   "metadata": {
    "collapsed": true
   },
   "outputs": [],
   "source": []
  },
  {
   "cell_type": "code",
   "execution_count": null,
   "metadata": {
    "collapsed": true
   },
   "outputs": [],
   "source": []
  }
 ],
 "metadata": {
  "kernelspec": {
   "display_name": "Python 3",
   "language": "python",
   "name": "python3"
  },
  "language_info": {
   "codemirror_mode": {
    "name": "ipython",
    "version": 3
   },
   "file_extension": ".py",
   "mimetype": "text/x-python",
   "name": "python",
   "nbconvert_exporter": "python",
   "pygments_lexer": "ipython3",
   "version": "3.5.4"
  }
 },
 "nbformat": 4,
 "nbformat_minor": 2
}
