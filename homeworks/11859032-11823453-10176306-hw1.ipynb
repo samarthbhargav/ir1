{
 "cells": [
  {
   "cell_type": "code",
   "execution_count": 38,
   "metadata": {},
   "outputs": [],
   "source": [
    "import numpy as np\n",
    "import random\n",
    "import matplotlib.pyplot as plt\n",
    "import enum\n",
    "import itertools\n",
    "import operator\n",
    "import collections\n",
    "import math\n",
    "import codecs\n",
    "from scipy import stats\n",
    "\n",
    "%matplotlib inline\n",
    "plt.rcParams[\"figure.figsize\"] = (20, 10)\n",
    "plt.style.use('ggplot')"
   ]
  },
  {
   "cell_type": "markdown",
   "metadata": {},
   "source": [
    "# Theoretical Part\n",
    "\n",
    "## 1.a\n",
    "\n",
    "Type I error occurs when a hypothesis test rejects $H_0$ indicating significance, where in reality this should not be the case. The probability of Type I error is as follows:\n",
    "P($H_0$ is rejected | $H_0$ is true) = $\\alpha$\n",
    "\n",
    "Hence, in order to obtain the probability asked in this question, we multiply the probability of not making a Type I error in the first m-1 cases and making this error at the $m^{th}$ case.\n",
    "\n",
    "P($m^{th}$ experiment gives significant result | m experiments lacking power to reject $H_0$) = $(1-\\alpha)^{m-1}\\alpha$\n",
    "\n",
    "## 1.b\n",
    "We calculate the probability of at least one significant result in the presence of experiments that cannot reject the null hypothesis as indicated below, subtracting the probability of not making a Type I error at all from 1.\n",
    "\n",
    "P(at least one significant result | m experiments lacking power to reject $H_0$) = 1 - $(1-\\alpha)^m$\n",
    "\n",
    "\n",
    "\n",
    "## 2\n",
    "Both balanced interleaving and team-draft interleaving do not take the similarity of the lists into consideration. In cases where the ranks of the documents retrieved by two different search algorithms are similar, the comparison based on clicks given interleaved lists might be biased [Hofmann et al. 2011, 2013]. If the documents are swapped or their ranks are shifted by one level, team-draft interleaving might fail to capture the difference between the two algorithms. \n",
    "\n",
    "Similar to the examples given in Hofmann et al. [2011, 2013], we can consider 2 lists $l_1$ and $l_2$, both retrieving $d_1$, $d_2$ and $d_3$ in similar rankings such as: $l_1 = [d_1,d_2,d_3]$ and $l_2 = [d_2,d_3,d_1]$. If we take $d_3$ as the relevant document and assume that the one and only click occur on $d_3$, we expect that the score of $l_2$ output by the interleaving function should be higher than $l_1$'s score. The reason for this is that $l_2$ places the relevant document in the higher levels. \n",
    "\n",
    "When we construct possible interleaved lists, we observe that $d_3$ is placed at the 3rd rank in all of these lists.\n",
    "\n",
    "<img src=\"interleaving.png\">\n",
    "\n",
    "When the clicks are on $d_3$, both lists will acquire the same score of 2. This will result in a tie and the actual difference between the qualities of the algorithms will be overlooked ($l_2$ being better than $l_1$).\n",
    "\n",
    "In addition, ambiguous queries can lead to biased outcomes in team-draft interleaving where the rankings are shifted by one as indicated in [Chapelle et al. 2012].\n",
    "\n",
    "Chapelle, O., Joachims, T., Radlinski, F., and Yue,Y. Large scale validation and analysis of interleaved search evaluation. ACM Transactions on Information Science, 30(1), 2012.\n",
    "\n",
    "Hofmann, K., Whiteson, S., and de Rijke, M. A probabilistic method for inferring preferences from clicks. In\n",
    "CIKM ’11, pp. 249–258, USA, 2011. ACM.\n",
    "\n",
    "Hofmann, Katja, Whiteson, Shimon, and de Rijke, Maarten. Fidelity, soundness, and efficiency of interleaved\n",
    "comparison methods. ACM Transactions on Information Systems, 31(4), 2013.\n",
    "\n"
   ]
  },
  {
   "cell_type": "markdown",
   "metadata": {},
   "source": [
    "# Experimental Part\n",
    "\n",
    "### Assumptions:\n",
    "- Grades:\n",
    "    - Grade for Highly Relevant (HR) = 2\n",
    "    - Grade for Relevant (R) = 1\n",
    "    - Grade for Not relevant (N) = 0\n",
    "- Number of documents\n",
    "    - Total number of documents is 30. The number of unique documents that are:\n",
    "        - HR: 10\n",
    "        - R: 10\n",
    "        - N: 10\n",
    "      \n",
    "TODO explain this in detail. It's one of the central assumptions we make. \n",
    "Single Query Assumption.\n",
    "We can assume that the entire experiment is for a single query, so there are only 10 R + 10 HR documents i.e a total of 20 relevant documents.\n",
    "\n",
    "Comment by Ece: Isn't this already given in the description along with the idea that the returned documents will be unique? Our assumption was more in the line of supposing that there are 10 irrelevant documents in the collection, given query q.\n"
   ]
  },
  {
   "cell_type": "code",
   "execution_count": 2,
   "metadata": {},
   "outputs": [],
   "source": [
    "@enum.unique\n",
    "class Grade(enum.IntEnum):\n",
    "    \"\"\"\n",
    "    Represents relevance on a graded scale. \n",
    "    Any positive number represents relevance, with higher numbers representing higher relevance (total ordering)\n",
    "    Zero represents irrelevant\n",
    "    \"\"\"\n",
    "    N = (0)   # Not relevant\n",
    "    R = (1)   # Relevant\n",
    "    HR = (2)  # Highly relevant\n",
    "\n",
    "    \n",
    "    @property\n",
    "    def is_relevant(self):\n",
    "        \"\"\"\n",
    "        'Binarizes' the relevance. Useful for computing binary metrics like precision / recall\n",
    "        \"\"\"\n",
    "        return False if self.value == 0 else True\n",
    "    \n",
    "    @classmethod\n",
    "    def from_int_list(cls, int_list):\n",
    "        \"\"\"\n",
    "        Converts a list of integers to a list of Grade\n",
    "        \"\"\"\n",
    "        members = dict((member.value, member) for member in cls.__members__.values())\n",
    "        return [members[value] for value in int_list]\n",
    "\n",
    "    @classmethod\n",
    "    def max_grade(cls):\n",
    "        return max(member.value for member in cls.__members__.values())\n",
    "\n",
    "    \n",
    "    def __str__(self):\n",
    "        return self.name\n",
    "    \n",
    "    def __repr__(self):\n",
    "        return self.name"
   ]
  },
  {
   "cell_type": "markdown",
   "metadata": {},
   "source": [
    "## Step 1: Simulate Rankings of Relevance for E and P (5 points)\n",
    "\n",
    "In the first step you will generate pairs of rankings of relevance, for the production P and experimental E, respectively, for a hypothetical query q. Assume a 3-graded relevance, i.e. {N, R, HR}. Construct all possible P and E ranking pairs of length 5. This step should give you about.\n",
    "\n",
    "Example:\n",
    "\n",
    "P: {N N N N N}\n",
    "E: {N N N N R}\n",
    "\n",
    "…\n",
    "P: {HR HR HR HR R}\n",
    "E: {HR HR HR HR HR}"
   ]
  },
  {
   "cell_type": "code",
   "execution_count": 3,
   "metadata": {},
   "outputs": [],
   "source": [
    "def get_all_permutations(grade, sequence_length):\n",
    "    \"\"\"\n",
    "    For a given grade and a sequence length n, returns all possible permutations of length n that can be formed. \n",
    "    Note that a generator is returned and not a list\n",
    "    \"\"\"\n",
    "    for i, perm in enumerate(itertools.product(range(len(grade.__members__)), repeat=sequence_length)):\n",
    "        yield grade.from_int_list(perm)\n",
    "\n",
    "def get_all_permutation_pairs(grade, sequence_length):\n",
    "    \"\"\"\n",
    "    Generates all possible pairs of permutations given a grade and a sequence length.\n",
    "    Note that a generator is returned and not a list\n",
    "    \"\"\"\n",
    "    sequence_1 = get_all_permutations(grade, sequence_length)\n",
    "    sequence_2 = get_all_permutations(grade, sequence_length)    \n",
    "    for pair in itertools.product(sequence_1, sequence_2):\n",
    "        yield pair\n",
    "        \n",
    "def count_sequence(seq):\n",
    "    \"\"\"\n",
    "    `len` for generators\n",
    "    \"\"\"\n",
    "    count = 0\n",
    "    for _ in seq:\n",
    "        count += 1\n",
    "    return count\n",
    "\n",
    "# A sanity check to ensure the correct number of sequences are being generated\n",
    "assert count_sequence(get_all_permutation_pairs(Grade, 5)) == (3**5) * (3**5)"
   ]
  },
  {
   "cell_type": "code",
   "execution_count": 4,
   "metadata": {},
   "outputs": [],
   "source": [
    "permutations = np.array(list(get_all_permutation_pairs(Grade, 5)), dtype=np.object)"
   ]
  },
  {
   "cell_type": "code",
   "execution_count": 5,
   "metadata": {},
   "outputs": [
    {
     "data": {
      "text/plain": [
       "array([[[N, N, N, N, N],\n",
       "        [N, N, N, N, N]],\n",
       "\n",
       "       [[N, N, N, N, N],\n",
       "        [N, N, N, N, R]],\n",
       "\n",
       "       [[N, N, N, N, N],\n",
       "        [N, N, N, N, HR]],\n",
       "\n",
       "       ...,\n",
       "\n",
       "       [[HR, HR, HR, HR, HR],\n",
       "        [HR, HR, HR, HR, N]],\n",
       "\n",
       "       [[HR, HR, HR, HR, HR],\n",
       "        [HR, HR, HR, HR, R]],\n",
       "\n",
       "       [[HR, HR, HR, HR, HR],\n",
       "        [HR, HR, HR, HR, HR]]], dtype=object)"
      ]
     },
     "execution_count": 5,
     "metadata": {},
     "output_type": "execute_result"
    }
   ],
   "source": [
    "permutations"
   ]
  },
  {
   "cell_type": "code",
   "execution_count": 6,
   "metadata": {},
   "outputs": [
    {
     "data": {
      "text/plain": [
       "array([[N, N, N, N, N],\n",
       "       [N, N, N, N, N]], dtype=object)"
      ]
     },
     "execution_count": 6,
     "metadata": {},
     "output_type": "execute_result"
    }
   ],
   "source": [
    "permutations[0]"
   ]
  },
  {
   "cell_type": "code",
   "execution_count": 7,
   "metadata": {},
   "outputs": [
    {
     "data": {
      "text/plain": [
       "array([[HR, HR, HR, HR, HR],\n",
       "       [HR, HR, HR, HR, HR]], dtype=object)"
      ]
     },
     "execution_count": 7,
     "metadata": {},
     "output_type": "execute_result"
    }
   ],
   "source": [
    "permutations[-1]"
   ]
  },
  {
   "cell_type": "code",
   "execution_count": 8,
   "metadata": {},
   "outputs": [],
   "source": [
    "production = np.array(list(map(operator.itemgetter(0), permutations)))\n",
    "experiment = np.array(list(map(operator.itemgetter(1), permutations)))"
   ]
  },
  {
   "cell_type": "code",
   "execution_count": 9,
   "metadata": {},
   "outputs": [
    {
     "data": {
      "text/plain": [
       "(20, 20)"
      ]
     },
     "execution_count": 9,
     "metadata": {},
     "output_type": "execute_result"
    }
   ],
   "source": [
    "# TODO double check this\n",
    "relevant_count_production = 20\n",
    "relevant_count_experiment = 20\n",
    "(relevant_count_experiment, relevant_count_production)"
   ]
  },
  {
   "cell_type": "markdown",
   "metadata": {},
   "source": [
    "## Step 2: Implement Evaluation Measures (10 points)\n",
    "Implement 1 binary and 2 multi-graded evaluation measures out of the 7 measures mentioned above. \n",
    "\n",
    "Note:\n",
    "We've implemented all metrics. For grading, please consider AveragePrecision (1 binary), NDCG@k and ERR (2 multi-graded)"
   ]
  },
  {
   "cell_type": "code",
   "execution_count": 10,
   "metadata": {},
   "outputs": [
    {
     "name": "stdout",
     "output_type": "stream",
     "text": [
      "[0.   0.   0.   ... 0.25 0.25 0.25]\n"
     ]
    }
   ],
   "source": [
    "class Metric:\n",
    "    \"\"\"\n",
    "        Common parent for all metrics\n",
    "    \"\"\"\n",
    "    \n",
    "    def name(self):\n",
    "        raise NotImplementedError()\n",
    "    \n",
    "    def compute(self, results, **kwargs):\n",
    "        \"\"\" Template for a computation \"\"\"\n",
    "        raise NotImplementedError()\n",
    "\n",
    "class Precision(Metric):\n",
    "    \"\"\"\n",
    "        Computes precision at rank-k, or if rank is not specified, it is computed for the entire list\n",
    "    \"\"\"\n",
    "    \n",
    "    @property\n",
    "    def name(self):\n",
    "        return \"precision\"\n",
    "    \n",
    "    def compute(self, results, **kwargs):\n",
    "        # if k is not specified, the entire list is used\n",
    "        k = kwargs.get(\"k\", len(results))\n",
    "        \n",
    "        # only up to k\n",
    "        results = results[:k]\n",
    "        # binarize, compute how many are relevant and divide by k\n",
    "        return sum(r.is_relevant for r in results) / k\n",
    "    \n",
    "class Recall(Metric):\n",
    "    \"\"\"\n",
    "        Computes recall at rank-k, or if rank is not specified, it is computed for the entire list\n",
    "        Note: Requires total number of relevant documents\n",
    "    \"\"\"\n",
    "    \n",
    "    @property\n",
    "    def name(self):\n",
    "        return \"recall\"\n",
    "    \n",
    "    def compute(self, results, **kwargs):\n",
    "        assert \"relevant_count\" in kwargs\n",
    "        # if k is not specified, the entire list is used\n",
    "        k = kwargs.get(\"k\", len(production))\n",
    "        \n",
    "        # only up to k\n",
    "        results = results[:k]\n",
    "        \n",
    "        return sum(r.is_relevant for r in results) / kwargs[\"relevant_count\"] \n",
    "        \n",
    "    \n",
    "class AveragePrecision(Metric):\n",
    "    \"\"\"\n",
    "        Compute average precision at rank-k. \n",
    "        Note: Requires total number of relevant documents\n",
    "    \"\"\"\n",
    "    \n",
    "    @property\n",
    "    def name(self):\n",
    "        return \"average-precision\"\n",
    "    \n",
    "    def compute(self, results, **kwargs):\n",
    "        assert \"relevant_count\" in kwargs\n",
    "        P = Precision()\n",
    "        precisions = np.zeros(len(results))\n",
    "        for k in range(1, len(results) + 1):\n",
    "            if(str(results[k-1]) != 'N'):\n",
    "                precisions[k - 1] = P.compute(results, k = k)\n",
    "        # TODO verify\n",
    "        return precisions.sum() / kwargs[\"relevant_count\"] \n",
    "\n",
    "AP = AveragePrecision()\n",
    "ap = np.array([AP.compute(r, relevant_count = relevant_count_production) for r in production])\n",
    "print(ap)"
   ]
  },
  {
   "cell_type": "code",
   "execution_count": 39,
   "metadata": {},
   "outputs": [
    {
     "data": {
      "image/png": "[encoded data removed]",
      "text/plain": [
       "<matplotlib.figure.Figure at 0x7f03f0f2cdd8>"
      ]
     },
     "metadata": {},
     "output_type": "display_data"
    }
   ],
   "source": [
    "plt.boxplot(ap)\n",
    "plt.title(\"Average precision for Production\")\n",
    "plt.show()"
   ]
  },
  {
   "cell_type": "code",
   "execution_count": 12,
   "metadata": {},
   "outputs": [
    {
     "data": {
      "text/plain": [
       "0.13648148148148148"
      ]
     },
     "execution_count": 12,
     "metadata": {},
     "output_type": "execute_result"
    }
   ],
   "source": [
    "ap.mean()"
   ]
  },
  {
   "cell_type": "code",
   "execution_count": 13,
   "metadata": {},
   "outputs": [
    {
     "data": {
      "text/plain": [
       "(0.25, array([R, R, R, R, R], dtype=object))"
      ]
     },
     "execution_count": 13,
     "metadata": {},
     "output_type": "execute_result"
    }
   ],
   "source": [
    "ap.max(), production[ap.argmax()]"
   ]
  },
  {
   "cell_type": "code",
   "execution_count": 14,
   "metadata": {},
   "outputs": [
    {
     "data": {
      "text/plain": [
       "(0.0, array([N, N, N, N, N], dtype=object))"
      ]
     },
     "execution_count": 14,
     "metadata": {},
     "output_type": "execute_result"
    }
   ],
   "source": [
    "ap.min(), production[ap.argmin()]"
   ]
  },
  {
   "cell_type": "markdown",
   "metadata": {},
   "source": [
    "If we assume the retrieved documents are all relevant, that is all 5 documents retrieved by the algorithm are labeled either highly relevant or relevant, we get 100% precision at each rank. Since the total number of relevant documents in the collection is 20, the maximum Average Precision we get is (1+1+1+1+1)/20 = 25%"
   ]
  },
  {
   "cell_type": "code",
   "execution_count": 15,
   "metadata": {},
   "outputs": [
    {
     "name": "stdout",
     "output_type": "stream",
     "text": [
      "[HR, HR, HR, HR, HR, HR, HR, HR, HR, HR, R, R, R, R, R, R, R, R, R, R, N, N, N, N, N, N, N, N, N, N]\n"
     ]
    }
   ],
   "source": [
    "class DCG(Metric):\n",
    "    \n",
    "    \"\"\" \n",
    "        Compute the discounted cumulative gain at rank-k\n",
    "    \"\"\"\n",
    "    \n",
    "    @property\n",
    "    def name(self):\n",
    "        return \"DCG@k\"\n",
    "    \n",
    "    def compute(self, results, **kwargs):\n",
    "        \n",
    "        # if k is not specified, the entire list is used\n",
    "        k = kwargs.get(\"k\", len(production))\n",
    "        \n",
    "        # only up to k\n",
    "        results = results[:k]\n",
    "        \n",
    "        dcg = 0.0 \n",
    "        for rank, result in enumerate(results):\n",
    "            rank += 1 # TODO verify\n",
    "            gain = 2**result.value - 1\n",
    "            discount = math.log2(1 + rank)\n",
    "            dcg += gain / discount\n",
    "        return dcg\n",
    "\n",
    "\n",
    "class NDCG(Metric):\n",
    "    \"\"\" \n",
    "        Compute the Normalized-DCG at rank-k.\n",
    "        Note: This requires the ideal-ranking for all the documents in the collection (or upto rank-k)\n",
    "    \"\"\"\n",
    "\n",
    "    @property\n",
    "    def name(self):\n",
    "        return \"NCDG@k\"\n",
    "    \n",
    "    \n",
    "    def compute(self, results, **kwargs):\n",
    "        assert \"ideal_ranking\" in kwargs\n",
    "        \n",
    "        # Normalization is done according to the slides mentioned here \n",
    "        # https://web.stanford.edu/class/cs276/handouts/EvaluationNew-handout-6-per.pdf\n",
    "        \n",
    "        dcg = DCG()\n",
    "        \n",
    "        ideal_ranking = kwargs[\"ideal_ranking\"]\n",
    "        \n",
    "        # if k is not specified, the entire list is used\n",
    "        k = kwargs.get(\"k\", len(results))\n",
    "        \n",
    "        # only up to k\n",
    "        results = results[:k]\n",
    "        ideal_ranking = ideal_ranking[:k]\n",
    "        \n",
    "        max_dcg = dcg.compute(ideal_ranking)\n",
    "        \n",
    "        return dcg.compute(results) / max_dcg\n",
    "\n",
    "ideal_ranking = [Grade.HR] * 10 + [Grade.R] * 10 + [Grade.N] * 10\n",
    "print(ideal_ranking)"
   ]
  },
  {
   "cell_type": "code",
   "execution_count": 16,
   "metadata": {},
   "outputs": [
    {
     "name": "stdout",
     "output_type": "stream",
     "text": [
      "0.8623046875\n",
      "0.1875\n"
     ]
    }
   ],
   "source": [
    "class ERR(Metric):\n",
    "    @property\n",
    "    def name(self):\n",
    "        return \"ERR\"\n",
    "    def compute(self, results, **kwargs):\n",
    "        # Implementation follows this paper:\n",
    "        # http://delivery.acm.org/10.1145/1650000/1646033/p621-chapelle.pdf?ip=145.109.35.88&id=1646033&acc=ACTIVE%20SERVICE&key=0C390721DC3021FF%2E86041C471C98F6DA%2E4D4702B0C3E38B35%2E4D4702B0C3E38B35&CFID=1026312371&CFTOKEN=18042814&__acm__=1515748872_543fbe0fe6a5c9d1fadb8f8341c9da3c\n",
    "        assert \"grade\" in kwargs\n",
    "        grade = kwargs[\"grade\"]\n",
    "        \n",
    "        def r_func(result):\n",
    "            return ((2 ** result.value) - 1) / (2 ** grade.max_grade())  \n",
    "        \n",
    "        err = 0.0\n",
    "        for rank, result in enumerate(results):\n",
    "            previous_results = results[:rank]\n",
    "            satisfaction = 1\n",
    "            for previous_result in previous_results:\n",
    "                satisfaction = satisfaction * ((1 - r_func(previous_result)))\n",
    "            # rank is 0-indexed here, so add 1\n",
    "            err += (1/(rank + 1)) * satisfaction * r_func(result)\n",
    "        \n",
    "        return err\n",
    "\n",
    "err = ERR()\n",
    "print(err.compute([Grade.HR, Grade.HR, Grade.HR, Grade.HR], grade=Grade))\n",
    "print(err.compute([Grade.N, Grade.N, Grade.N, Grade.HR], grade=Grade))"
   ]
  },
  {
   "cell_type": "markdown",
   "metadata": {},
   "source": [
    "## Step 3: Calculate the 𝛥measure (0 points)\n",
    "\n",
    "For the three measures and all P and E ranking pairs constructed above calculate the difference: 𝛥measure = measureE-measureP. Consider only those pairs for which E outperforms P."
   ]
  },
  {
   "cell_type": "code",
   "execution_count": 17,
   "metadata": {},
   "outputs": [],
   "source": [
    "# make a class that holds all the data for further experiments\n",
    "ExperimentData = collections.namedtuple(\"ExperimentData\", [\"metric\", \"mask\", \"delta_measure\", \"permutations\"])"
   ]
  },
  {
   "cell_type": "code",
   "execution_count": 18,
   "metadata": {},
   "outputs": [],
   "source": [
    "experiment_data = []\n",
    "\n",
    "# data using Average Precision\n",
    "average_precision = AveragePrecision()\n",
    "ap_P = np.array([average_precision.compute(results, relevant_count = relevant_count_production) \\\n",
    "                                for results in production])\n",
    "ap_E = np.array([average_precision.compute(results, relevant_count = relevant_count_experiment) \\\n",
    "                                for results in experiment])\n",
    "ap_delta_measure = ap_E - ap_P\n",
    "ap_mask = ap_delta_measure > 0\n",
    "average_precision_data = ExperimentData(average_precision.name, ap_mask, ap_delta_measure, permutations[ap_mask])\n",
    "\n",
    "experiment_data.append(average_precision_data)\n",
    "##############################\n",
    "\n",
    "# data using NCDG@k\n",
    "ndcg = NDCG()\n",
    "ncdg_P = np.array([ndcg.compute(results, ideal_ranking=ideal_ranking) for results in production])\n",
    "ncdg_E = np.array([ndcg.compute(results, ideal_ranking=ideal_ranking) for results in experiment])\n",
    "ndcg_delta_measure = ncdg_E - ncdg_P\n",
    "ndcg_mask = ndcg_delta_measure > 0\n",
    "ndcg_data = ExperimentData(ndcg.name, ndcg_mask, ndcg_delta_measure, permutations[ndcg_mask])\n",
    "experiment_data.append(ndcg_data)\n",
    "###################\n",
    "\n",
    "\n",
    "# data using ERR\n",
    "err = ERR()\n",
    "err_P = np.array([err.compute(results, grade=Grade) for results in production])\n",
    "err_E = np.array([err.compute(results, grade=Grade) for results in experiment])\n",
    "err_delta_measure = err_E - err_P\n",
    "err_mask = err_delta_measure > 0\n",
    "err_data = ExperimentData(err.name, err_mask, err_delta_measure, permutations[err_mask])\n",
    "experiment_data.append(err_data)\n",
    "################\n",
    "\n",
    "# include all the data\n",
    "#experiment_data.append(ExperimentData(\"No metric\", np.array([True] * len(permutations)), \n",
    "#                                      np.zeros(len(permutations)), permutations))"
   ]
  },
  {
   "cell_type": "code",
   "execution_count": 40,
   "metadata": {},
   "outputs": [
    {
     "data": {
      "image/png": "[encoded data removed]",
      "text/plain": [
       "<matplotlib.figure.Figure at 0x7f03f0b50048>"
      ]
     },
     "metadata": {},
     "output_type": "display_data"
    },
    {
     "data": {
      "image/png": "[encoded data removed]",
      "text/plain": [
       "<matplotlib.figure.Figure at 0x7f03ef219c18>"
      ]
     },
     "metadata": {},
     "output_type": "display_data"
    },
    {
     "data": {
      "image/png": "[encoded data removed]",
      "text/plain": [
       "<matplotlib.figure.Figure at 0x7f03effe6940>"
      ]
     },
     "metadata": {},
     "output_type": "display_data"
    }
   ],
   "source": [
    "for data in experiment_data:\n",
    "    plt.hist(data.delta_measure, bins=25)\n",
    "    plt.title(data.metric)\n",
    "    plt.show()"
   ]
  },
  {
   "cell_type": "markdown",
   "metadata": {},
   "source": [
    "## Step 4: Implement Interleaving (15 points)\n",
    "Implement 2 interleaving algorithms: \n",
    "(1) Team-Draft Interleaving OR Balanced Interleaving, ~~AND (2), Probabilistic Interleaving.~~ \n",
    "\n",
    "The interleaving algorithms should (a) given two rankings of relevance interleave them into a single ranking, and (b) given the users clicks on the interleaved ranking assign credit to the algorithms that produced the rankings."
   ]
  },
  {
   "cell_type": "code",
   "execution_count": 20,
   "metadata": {},
   "outputs": [],
   "source": [
    "def toss_coin(heads = 0.5):\n",
    "    # head = True, Tails is False\n",
    "    return True if random.random() < heads else False"
   ]
  },
  {
   "cell_type": "markdown",
   "metadata": {},
   "source": [
    "Reference materials for interleaving algorithms: \n",
    "- https://www.cs.cornell.edu/people/tj/publications/radlinski_etal_08b.pdf\n",
    "- https://www.cs.cornell.edu/people/tj/publications/chapelle_etal_12a.pdf"
   ]
  },
  {
   "cell_type": "code",
   "execution_count": 21,
   "metadata": {},
   "outputs": [
    {
     "data": {
      "text/plain": [
       "[Interleaved(source='B', source_index=0, result=R),\n",
       " Interleaved(source='A', source_index=0, result=R),\n",
       " Interleaved(source='B', source_index=1, result=N),\n",
       " Interleaved(source='A', source_index=1, result=HR),\n",
       " Interleaved(source='B', source_index=2, result=HR),\n",
       " Interleaved(source='A', source_index=2, result=N)]"
      ]
     },
     "execution_count": 21,
     "metadata": {},
     "output_type": "execute_result"
    }
   ],
   "source": [
    "Interleaved = collections.namedtuple(\"Interleaved\", [\"source\", \"source_index\", \"result\"])\n",
    "        \n",
    "class BalancedInterleaving:\n",
    "    \n",
    "    @staticmethod\n",
    "    def interleave(A, B, A_name, B_name):\n",
    "\n",
    "        selected = toss_coin()\n",
    "        interleaved = []\n",
    "        \n",
    "        ka = 0\n",
    "        kb = 0\n",
    "        \n",
    "        while(ka <= len(A) and kb <= len(B) and (ka < len(A) or kb < len(B))):\n",
    "\n",
    "            if (ka < kb) or (ka==kb and selected):\n",
    "                    tup = Interleaved(A_name, ka, A[ka])\n",
    "                    # assumption: all docs are unique, most recently picked document is not in the interleaved list\n",
    "                    interleaved.append(tup)\n",
    "                    ka += 1\n",
    "\n",
    "            else:  \n",
    "                    tup = Interleaved(B_name, kb, B[kb])\n",
    "                    # assumption: all docs are unique, most recently picked document is not in the interleaved list\n",
    "                    interleaved.append(tup)\n",
    "                    kb += 1\n",
    "        \n",
    "        return interleaved\n",
    "    \n",
    "    @staticmethod\n",
    "    def score_clicks(interleaved, clicks):\n",
    "        scores = collections.defaultdict(int)\n",
    "        \n",
    "        #assumption: all docs are unique, just count the clicks belonging to each algorithm\n",
    "\n",
    "        for c in clicks:\n",
    "            il = interleaved[c]\n",
    "            scores[il.source] += 1\n",
    "            \n",
    "        return scores\n",
    "    \n",
    "A = [Grade.R, Grade.HR, Grade.N]\n",
    "B = [Grade.R, Grade.N, Grade.HR]\n",
    "\n",
    "interleaved = BalancedInterleaving.interleave(A, B, \"A\", \"B\")\n",
    "interleaved"
   ]
  },
  {
   "cell_type": "code",
   "execution_count": 22,
   "metadata": {},
   "outputs": [
    {
     "data": {
      "text/plain": [
       "defaultdict(int, {'B': 3})"
      ]
     },
     "execution_count": 22,
     "metadata": {},
     "output_type": "execute_result"
    }
   ],
   "source": [
    "clicks = [0, 2, 4]\n",
    "BalancedInterleaving.score_clicks(interleaved, clicks)"
   ]
  },
  {
   "cell_type": "code",
   "execution_count": 23,
   "metadata": {},
   "outputs": [
    {
     "data": {
      "text/plain": [
       "[Interleaved(source='B', source_index=0, result=R),\n",
       " Interleaved(source='A', source_index=0, result=R),\n",
       " Interleaved(source='A', source_index=1, result=HR),\n",
       " Interleaved(source='B', source_index=1, result=N),\n",
       " Interleaved(source='A', source_index=2, result=N),\n",
       " Interleaved(source='B', source_index=2, result=HR)]"
      ]
     },
     "execution_count": 23,
     "metadata": {},
     "output_type": "execute_result"
    }
   ],
   "source": [
    "class TeamDraftInterleaving:\n",
    "    \n",
    "    @staticmethod\n",
    "    def interleave(A, B, A_name, B_name):\n",
    "\n",
    "        interleaved = []\n",
    "        TeamA = set()\n",
    "        TeamB = set()\n",
    "\n",
    "        ka = 0\n",
    "        kb = 0\n",
    "\n",
    "        while(ka <= len(A) and kb <= len(B)):\n",
    "            selected = toss_coin()\n",
    "            if ka == len(A) and kb == len(B):\n",
    "                break\n",
    "            elif(len(TeamA) < len(TeamB)) or (len(TeamA) == len(TeamB) and selected == 0):\n",
    "                tup = Interleaved(A_name, ka, A[ka])\n",
    "                interleaved.append(tup)\n",
    "                TeamA.add(tup)\n",
    "                ka += 1\n",
    "            else:\n",
    "                tup = Interleaved(B_name, kb, B[kb])\n",
    "                interleaved.append(tup)\n",
    "                TeamB.add(tup)\n",
    "                kb +=1\n",
    "               \n",
    "        return interleaved\n",
    "\n",
    "    @staticmethod\n",
    "    def score_clicks(interleaved, clicks):\n",
    "        scores = collections.defaultdict(int)\n",
    "        \n",
    "        for c in clicks:\n",
    "            il = interleaved[c]\n",
    "            scores[il.source] += 1\n",
    "            \n",
    "        return scores\n",
    "                \n",
    "A = [Grade.R, Grade.HR, Grade.N]\n",
    "B = [Grade.R, Grade.N, Grade.HR]\n",
    "\n",
    "interleaved = TeamDraftInterleaving.interleave(A, B, \"A\", \"B\")\n",
    "interleaved"
   ]
  },
  {
   "cell_type": "code",
   "execution_count": 24,
   "metadata": {},
   "outputs": [
    {
     "name": "stdout",
     "output_type": "stream",
     "text": [
      "Total number of sessions:  11717\n",
      "Total number of interactions:  100000\n"
     ]
    }
   ],
   "source": [
    "ClickAction = collections.namedtuple(\"ClickAction\", [\"clicked_id\"])\n",
    "QueryAction = collections.namedtuple(\"QueryAction\", [\"query_id\", \"results\"])\n",
    "\n",
    "class Session:\n",
    "    def __init__(self, session_id):\n",
    "        self.session_id = session_id\n",
    "        self.data = []\n",
    "    \n",
    "    @property\n",
    "    def clicks(self):\n",
    "        return list(filter(lambda _: isinstance(_, ClickAction), self.data))\n",
    "    \n",
    "    @property\n",
    "    def queries(self):\n",
    "        return list(filter(lambda _: isinstance(_, QueryAction), self.data))\n",
    "    \n",
    "    def get_complete_interactions(self):\n",
    "        # return complete interactions\n",
    "        last_query = 0\n",
    "        for index, action in enumerate(self.data):\n",
    "            if index != 0 and isinstance(action, QueryAction):\n",
    "                yield self.data[last_query: index]\n",
    "                last_query = index\n",
    "        if isinstance(self.data[-1], ClickAction):\n",
    "            yield self.data[last_query:]\n",
    "        \n",
    "class YandexData:\n",
    "    def __init__(self, file_path):\n",
    "        self.file_path = file_path\n",
    "        self.sessions = []\n",
    "        self.u = 0\n",
    "        self.q = 0\n",
    "        self._read()\n",
    "        \n",
    "    def _read(self):\n",
    "        with codecs.open(self.file_path, \"r\", \"utf-8\") as reader:\n",
    "            current_session = Session(0)\n",
    "            for line in reader:\n",
    "                line = line.split(\"\\t\")\n",
    "                session_id = int(line[0])\n",
    "                interaction_type = line[2]\n",
    "                if current_session.session_id != session_id:\n",
    "                    self.sessions.append(current_session)\n",
    "                    current_session = Session(session_id)\n",
    "                \n",
    "                if interaction_type == \"C\":\n",
    "                    current_session.data.append(ClickAction(int(line[3])))\n",
    "                else:\n",
    "                    results = [int(q_id) for q_id in line[5:]]\n",
    "                    self.u = max(self.u, max(results))\n",
    "                    query_id = int(line[3])\n",
    "                    self.q = max(self.q, query_id)\n",
    "                    current_session.data.append(QueryAction(query_id, results))\n",
    "        \n",
    "        self.sessions.append(current_session)\n",
    "\n",
    "\n",
    "yandex_data = YandexData(\"./YandexRelPredChallenge.txt\")\n",
    "print(\"Total number of sessions: \", len(yandex_data.sessions))\n",
    "print(\"Total number of interactions: \", sum(len(session.data) for session in yandex_data.sessions))"
   ]
  },
  {
   "cell_type": "code",
   "execution_count": 25,
   "metadata": {},
   "outputs": [
    {
     "data": {
      "text/plain": [
       "0.13445559411047547"
      ]
     },
     "execution_count": 25,
     "metadata": {},
     "output_type": "execute_result"
    }
   ],
   "source": [
    "class RandomClickModel:\n",
    "    def __init__(self):\n",
    "        self.rho = 0\n",
    "    \n",
    "    def estimate(self, yandex_data):\n",
    "        clicks = 0\n",
    "        results = 0\n",
    "        for session in yandex_data.sessions:\n",
    "            clicks += len(session.clicks)\n",
    "            results += sum(len(query.results) for query in session.queries)\n",
    "        self.rho = clicks / results\n",
    "    \n",
    "    def predict(self, clicks):\n",
    "        #(b) there is a method that predicts the click probability given a ranked list of relevance labels,\n",
    "        pass\n",
    "    \n",
    "    @staticmethod\n",
    "    def simulate(results, grade_to_probability, params):\n",
    "        rho = params.get(\"rho\")\n",
    "        assert 0 <= rho <= 1.0\n",
    "        \n",
    "        # TODO something is wrong with this and I can't figure it out. pls fix \n",
    "        clicks = []\n",
    "        for rank, result in enumerate(results):\n",
    "            click = toss_coin(rho)\n",
    "            if click:\n",
    "                clicks.append(rank)\n",
    "        return clicks\n",
    "\n",
    "rcm = RandomClickModel()\n",
    "rcm.estimate(yandex_data)\n",
    "rcm.rho"
   ]
  },
  {
   "cell_type": "code",
   "execution_count": 26,
   "metadata": {},
   "outputs": [
    {
     "data": {
      "text/plain": [
       "(527494, 66579)"
      ]
     },
     "execution_count": 26,
     "metadata": {},
     "output_type": "execute_result"
    }
   ],
   "source": [
    "yandex_data.u, yandex_data.q"
   ]
  },
  {
   "cell_type": "code",
   "execution_count": 27,
   "metadata": {},
   "outputs": [],
   "source": [
    "class SimpleDynamicBayesianNetwork:\n",
    "        \n",
    "    def _estimate_sigma(self, yandex_data):\n",
    "        satisfied_clicks = collections.defaultdict(lambda : collections.defaultdict(float))\n",
    "        total_clicks = collections.defaultdict(lambda : collections.defaultdict(float))\n",
    "        \n",
    "        \n",
    "        for session in yandex_data.sessions:\n",
    "            for interaction in session.get_complete_interactions():\n",
    "                #print(interaction) TODO explain why we continue\n",
    "                if not isinstance(interaction[-1], ClickAction):\n",
    "                    continue\n",
    "                query_action = interaction[0]\n",
    "                # sanity check TODO remove\n",
    "                assert isinstance(query_action, QueryAction)\n",
    "                for click in interaction[1:]:\n",
    "                    # sanity check TODO remove\n",
    "                    assert isinstance(click, ClickAction)\n",
    "                    total_clicks[click.clicked_id][query_action.query_id] += 1\n",
    "                \n",
    "                last_click = interaction[-1]\n",
    "                #print(last_click)\n",
    "                satisfied_clicks[last_click.clicked_id][query_action.query_id] += 1\n",
    "        \n",
    "        self.sigma = collections.defaultdict(lambda : collections.defaultdict(float))\n",
    "        \n",
    "        all_clicks = 0\n",
    "        all_satisfied = 0\n",
    "        for click_id, queries in total_clicks.items():\n",
    "            for query_id, count in queries.items():\n",
    "                self.sigma[click_id][query_id] = satisfied_clicks[click_id][query_id] / count\n",
    "                all_clicks += count\n",
    "                all_satisfied += satisfied_clicks[click_id][query_id]\n",
    "        \n",
    "        self.sigma_global = all_satisfied / all_clicks\n",
    "                \n",
    "    def _estimate_alpha(self, yandex_data):\n",
    "        seen = collections.defaultdict(lambda : collections.defaultdict(float))\n",
    "        clicks = collections.defaultdict(lambda : collections.defaultdict(float))\n",
    "        \n",
    "        for session in yandex_data.sessions:\n",
    "            for interaction in session.get_complete_interactions():\n",
    "                query_action = interaction[0]\n",
    "                assert isinstance(query_action, QueryAction)\n",
    "                \n",
    "                for result in query_action.results:\n",
    "                    seen[result][query_action.query_id] += 1\n",
    "                \n",
    "                for click in interaction[1:]:\n",
    "                    # sanity check TODO remove\n",
    "                    assert isinstance(click, ClickAction)\n",
    "                    clicks[click.clicked_id][query_action.query_id] += 1\n",
    "                \n",
    "\n",
    "        \n",
    "        self.alpha = collections.defaultdict(lambda : collections.defaultdict(float))\n",
    "        for click_id, queries in seen.items():\n",
    "            for query_id, count in queries.items():\n",
    "                self.alpha[click_id][query_id] = clicks[click_id][query_id] / count\n",
    "    \n",
    "    \n",
    "    def estimate(self, yandex_data):\n",
    "        self._estimate_sigma(yandex_data)\n",
    "        self._estimate_alpha(yandex_data)\n",
    "        \n",
    "    @staticmethod\n",
    "    def simulate(results, grade_to_probability, params):\n",
    "        clicks = []\n",
    "        sigma = params[\"sigma\"]\n",
    "        for index, result in enumerate(results):\n",
    "            examine = toss_coin(grade_to_probability[result])\n",
    "            if not examine:\n",
    "                continue\n",
    "            clicks.append(index)\n",
    "            \n",
    "            satisfied = toss_coin(sigma)\n",
    "            if satisfied:\n",
    "                break\n",
    "                \n",
    "        return clicks\n"
   ]
  },
  {
   "cell_type": "code",
   "execution_count": 28,
   "metadata": {},
   "outputs": [
    {
     "data": {
      "text/plain": [
       "0.5121189928157913"
      ]
     },
     "execution_count": 28,
     "metadata": {},
     "output_type": "execute_result"
    }
   ],
   "source": [
    "# TODO replace with how you compute alpha\n",
    "grade_to_probability = {\n",
    "    Grade.N: 0.1,\n",
    "    Grade.R: 0.5,\n",
    "    Grade.HR: 0.9\n",
    "}\n",
    "    \n",
    "sdbn = SimpleDynamicBayesianNetwork()\n",
    "sdbn.estimate(yandex_data)\n",
    "sdbn.sigma_global"
   ]
  },
  {
   "cell_type": "code",
   "execution_count": 29,
   "metadata": {},
   "outputs": [],
   "source": [
    "def simulate(data, interleaving, click_model, params):\n",
    "#      print(\"Data: Metric: {}, Number of samples for which E>P: {}\".format(data.metric, data.mask.sum()))\n",
    "    winner_E = 0\n",
    "    ties = 0\n",
    "    for production, experimental in permutations[data.mask]:\n",
    "        interleaved = interleaving.interleave(production, experimental, \"P\", \"E\")\n",
    "        clicks = click_model.simulate([i.result for i in interleaved], grade_to_probability, params)\n",
    "        scores = interleaving.score_clicks(interleaved, clicks)\n",
    "        \n",
    "        if scores[\"E\"] > scores[\"P\"]:\n",
    "            winner_E += 1\n",
    "        elif scores[\"E\"] == scores[\"P\"]:\n",
    "            ties += 1\n",
    "    proportion = (winner_E / (len(permutations[data.mask]) - ties))\n",
    "#     print(\"\\tInterleaving used: {}, ClickModel: {}, Ties: {}, E-Wins: {}\\n\".format(interleaving.__name__,\n",
    "#                                                                                  click_model.__name__, ties, winner_E))\n",
    "    return proportion "
   ]
  },
  {
   "cell_type": "code",
   "execution_count": 30,
   "metadata": {},
   "outputs": [
    {
     "data": {
      "text/plain": [
       "0.5028833706013888"
      ]
     },
     "execution_count": 30,
     "metadata": {},
     "output_type": "execute_result"
    }
   ],
   "source": [
    "simulate(experiment_data[0], TeamDraftInterleaving, RandomClickModel, {\"rho\": rcm.rho})"
   ]
  },
  {
   "cell_type": "markdown",
   "metadata": {},
   "source": [
    "#### TODO here we check whether SDBM > RCM\n",
    "    EXPLAIN THIS STHI"
   ]
  },
  {
   "cell_type": "code",
   "execution_count": 31,
   "metadata": {},
   "outputs": [
    {
     "name": "stdout",
     "output_type": "stream",
     "text": [
      "average-precision\n",
      "\t TeamDraftInterleaving RandomClickModel\n",
      "\t TeamDraftInterleaving SimpleDynamicBayesianNetwork\n",
      "\t BalancedInterleaving RandomClickModel\n",
      "\t BalancedInterleaving SimpleDynamicBayesianNetwork\n",
      "NCDG@k\n",
      "\t TeamDraftInterleaving RandomClickModel\n",
      "\t TeamDraftInterleaving SimpleDynamicBayesianNetwork\n",
      "\t BalancedInterleaving RandomClickModel\n",
      "\t BalancedInterleaving SimpleDynamicBayesianNetwork\n",
      "ERR\n",
      "\t TeamDraftInterleaving RandomClickModel\n",
      "\t TeamDraftInterleaving SimpleDynamicBayesianNetwork\n",
      "\t BalancedInterleaving RandomClickModel\n",
      "\t BalancedInterleaving SimpleDynamicBayesianNetwork\n"
     ]
    }
   ],
   "source": [
    "#t-test, used central limit theorem. Create 30 samples by simulating 30 times for each condition \n",
    "# and compare. Since the data is parametric we can use t-tests\n",
    "def CLT_experiment(data, n_samples = 30):\n",
    "    \n",
    "    simulation = collections.defaultdict(lambda: collections.defaultdict(list))\n",
    "    \n",
    "    interleaving_models = [TeamDraftInterleaving, BalancedInterleaving]\n",
    "    click_models = [(RandomClickModel, {\"rho\": rcm.rho}), \n",
    "                    (SimpleDynamicBayesianNetwork, {\"sigma\": sdbn.sigma_global})]\n",
    "    \n",
    "    \n",
    "    for interleaving in interleaving_models:\n",
    "        for click_model, params in click_models:\n",
    "            print(\"\\t\", interleaving.__name__, click_model.__name__)\n",
    "            for i in range(n_samples):\n",
    "                sim_result = simulate(data, interleaving, click_model, params)\n",
    "                simulation[interleaving.__name__][click_model.__name__].append(sim_result)\n",
    "\n",
    "    return simulation\n",
    "\n",
    "simulation_results = {}\n",
    "for data in experiment_data:\n",
    "    print(data.metric)\n",
    "    simulation_results[data.metric] = CLT_experiment(data, n_samples = 30)"
   ]
  },
  {
   "cell_type": "code",
   "execution_count": 32,
   "metadata": {},
   "outputs": [
    {
     "data": {
      "text/plain": [
       "{'ERR': defaultdict(<function __main__.CLT_experiment.<locals>.<lambda>>,\n",
       "             {'BalancedInterleaving': defaultdict(list,\n",
       "                          {'RandomClickModel': [0.49290003928832016,\n",
       "                            0.4993529511056096,\n",
       "                            0.4980133191560804,\n",
       "                            0.5043953567001014,\n",
       "                            0.4986795527336068,\n",
       "                            0.5072788353863382,\n",
       "                            0.4980106472401233,\n",
       "                            0.500482214784138,\n",
       "                            0.4937023439706298,\n",
       "                            0.5006462489463332,\n",
       "                            0.4997763613999776,\n",
       "                            0.5057199211045365,\n",
       "                            0.49642163661581135,\n",
       "                            0.503287440292217,\n",
       "                            0.4962460779919319,\n",
       "                            0.5056489236130628,\n",
       "                            0.49723540910360237,\n",
       "                            0.5045332437877771,\n",
       "                            0.5036496350364964,\n",
       "                            0.5031347962382445,\n",
       "                            0.5028714803456927,\n",
       "                            0.5027441756272402,\n",
       "                            0.5002803947958726,\n",
       "                            0.5009611035730439,\n",
       "                            0.49329176640872907,\n",
       "                            0.5056211513473815,\n",
       "                            0.50462262565137,\n",
       "                            0.5028862859384633,\n",
       "                            0.49574219402237435,\n",
       "                            0.5000560726701806],\n",
       "                           'SimpleDynamicBayesianNetwork': [0.720467385721623,\n",
       "                            0.7178190235329418,\n",
       "                            0.7201171202204616,\n",
       "                            0.7137535325854243,\n",
       "                            0.7154488965073923,\n",
       "                            0.7162786716877781,\n",
       "                            0.7111953805050418,\n",
       "                            0.715275983811246,\n",
       "                            0.7169543321998881,\n",
       "                            0.7143165250399,\n",
       "                            0.7164526415582178,\n",
       "                            0.7123016726146967,\n",
       "                            0.714691087321037,\n",
       "                            0.722279481233359,\n",
       "                            0.718465062011149,\n",
       "                            0.7147230006466911,\n",
       "                            0.7243738703847147,\n",
       "                            0.7154107673107544,\n",
       "                            0.716399186745685,\n",
       "                            0.7120769627211819,\n",
       "                            0.7165371237170953,\n",
       "                            0.7136022756658909,\n",
       "                            0.7172202041169348,\n",
       "                            0.7164711443427442,\n",
       "                            0.7138802889576883,\n",
       "                            0.7196523086191317,\n",
       "                            0.7161281973860156,\n",
       "                            0.7191354045808087,\n",
       "                            0.7146915759114976,\n",
       "                            0.7127174100223868]}),\n",
       "              'TeamDraftInterleaving': defaultdict(list,\n",
       "                          {'RandomClickModel': [0.5019796380090498,\n",
       "                            0.49983213965980305,\n",
       "                            0.4991637863752927,\n",
       "                            0.5071697688803913,\n",
       "                            0.5004752585965894,\n",
       "                            0.5036156735243007,\n",
       "                            0.503169349862568,\n",
       "                            0.49952442231298605,\n",
       "                            0.5000280033604032,\n",
       "                            0.5010127152019804,\n",
       "                            0.4991548343475321,\n",
       "                            0.5000841042893187,\n",
       "                            0.5002510740389444,\n",
       "                            0.5034436418612465,\n",
       "                            0.5013158631502324,\n",
       "                            0.5059337214509628,\n",
       "                            0.4940876033975462,\n",
       "                            0.49775809886783995,\n",
       "                            0.5023662379600244,\n",
       "                            0.49947377167229823,\n",
       "                            0.4983426035170515,\n",
       "                            0.503207810320781,\n",
       "                            0.49777357230323943,\n",
       "                            0.49616325622775803,\n",
       "                            0.4973491257755217,\n",
       "                            0.4934876989869754,\n",
       "                            0.5022541325763901,\n",
       "                            0.5013484661197888,\n",
       "                            0.501470255598281,\n",
       "                            0.5062976560293703],\n",
       "                           'SimpleDynamicBayesianNetwork': [0.7206317867719645,\n",
       "                            0.714353407426553,\n",
       "                            0.7132454326094451,\n",
       "                            0.7133017649591046,\n",
       "                            0.715948127791137,\n",
       "                            0.7190711674908622,\n",
       "                            0.720226271698765,\n",
       "                            0.7180764276513525,\n",
       "                            0.7148762109795479,\n",
       "                            0.7118160601607745,\n",
       "                            0.715270345477118,\n",
       "                            0.7164577680148168,\n",
       "                            0.7163117510130184,\n",
       "                            0.7216140802747371,\n",
       "                            0.7113880532874947,\n",
       "                            0.717415585531403,\n",
       "                            0.7139477871919487,\n",
       "                            0.7173661917597227,\n",
       "                            0.7189259419662192,\n",
       "                            0.7142059366811289,\n",
       "                            0.7239774147666049,\n",
       "                            0.7145547945205479,\n",
       "                            0.7107107537515587,\n",
       "                            0.7162922554873072,\n",
       "                            0.7225931509799699,\n",
       "                            0.7139300279029834,\n",
       "                            0.7158958414302371,\n",
       "                            0.7159857369935988,\n",
       "                            0.7148380445055417,\n",
       "                            0.7146115773617387]})}),\n",
       " 'NCDG@k': defaultdict(<function __main__.CLT_experiment.<locals>.<lambda>>,\n",
       "             {'BalancedInterleaving': defaultdict(list,\n",
       "                          {'RandomClickModel': [0.5019866808439196,\n",
       "                            0.49867269133013276,\n",
       "                            0.49932833314675923,\n",
       "                            0.49888492417484387,\n",
       "                            0.5034208165096455,\n",
       "                            0.4984521866381494,\n",
       "                            0.5039860768021559,\n",
       "                            0.49741163373225716,\n",
       "                            0.496328437917223,\n",
       "                            0.5011785834549333,\n",
       "                            0.4974995785806597,\n",
       "                            0.49597602264527946,\n",
       "                            0.49849296718017416,\n",
       "                            0.5020730614074406,\n",
       "                            0.5019599059245157,\n",
       "                            0.503973584060891,\n",
       "                            0.4937048850092328,\n",
       "                            0.5034459573037485,\n",
       "                            0.5062275583482945,\n",
       "                            0.500532123452641,\n",
       "                            0.5020297699594046,\n",
       "                            0.5106765565295572,\n",
       "                            0.509020618556701,\n",
       "                            0.5048937826715605,\n",
       "                            0.4988204897775781,\n",
       "                            0.5001678415575697,\n",
       "                            0.5020580709756369,\n",
       "                            0.49607482879572407,\n",
       "                            0.49910061832490166,\n",
       "                            0.5023632680621202],\n",
       "                           'SimpleDynamicBayesianNetwork': [0.7034503527792119,\n",
       "                            0.7015913978494623,\n",
       "                            0.7025546664384441,\n",
       "                            0.7025891632373114,\n",
       "                            0.698598835956025,\n",
       "                            0.6948082419691992,\n",
       "                            0.7003775851712005,\n",
       "                            0.7008410610308389,\n",
       "                            0.699731555247662,\n",
       "                            0.6929662292966229,\n",
       "                            0.6997411561691113,\n",
       "                            0.702442793972438,\n",
       "                            0.6982862555976576,\n",
       "                            0.7030038136864207,\n",
       "                            0.6929008357025933,\n",
       "                            0.7022416527367022,\n",
       "                            0.6977772056299347,\n",
       "                            0.6968069104817568,\n",
       "                            0.7001291989664082,\n",
       "                            0.7028108992294778,\n",
       "                            0.6955422203171882,\n",
       "                            0.7015552032903475,\n",
       "                            0.7009539431087323,\n",
       "                            0.6975745868212063,\n",
       "                            0.695368782161235,\n",
       "                            0.6954451878538342,\n",
       "                            0.6987786586672381,\n",
       "                            0.6965769644779333,\n",
       "                            0.7026062274212971,\n",
       "                            0.6977350427350427]}),\n",
       "              'TeamDraftInterleaving': defaultdict(list,\n",
       "                          {'RandomClickModel': [0.4991944891950447,\n",
       "                            0.4970146755203393,\n",
       "                            0.5046979865771812,\n",
       "                            0.4976549697688874,\n",
       "                            0.5050240035726248,\n",
       "                            0.5011381933263006,\n",
       "                            0.5008964589870013,\n",
       "                            0.49652699977593545,\n",
       "                            0.49583356635534925,\n",
       "                            0.49845670351871596,\n",
       "                            0.5045426676327964,\n",
       "                            0.5031042004586386,\n",
       "                            0.49612359550561796,\n",
       "                            0.5059108308939428,\n",
       "                            0.49932614555256066,\n",
       "                            0.4996639408535902,\n",
       "                            0.507636159460977,\n",
       "                            0.4981163902164746,\n",
       "                            0.49997189274270615,\n",
       "                            0.49638878002351494,\n",
       "                            0.5015127745405648,\n",
       "                            0.5,\n",
       "                            0.5014734500973033,\n",
       "                            0.4946188340807175,\n",
       "                            0.5021118432167596,\n",
       "                            0.502134112097046,\n",
       "                            0.502646976873781,\n",
       "                            0.5014037057832679,\n",
       "                            0.5024229933715814,\n",
       "                            0.5034648485525874],\n",
       "                           'SimpleDynamicBayesianNetwork': [0.7007468452227659,\n",
       "                            0.6975117975117975,\n",
       "                            0.6966992612835732,\n",
       "                            0.7011049486220388,\n",
       "                            0.6956987404678262,\n",
       "                            0.699561025994147,\n",
       "                            0.696708665466701,\n",
       "                            0.7026864129498881,\n",
       "                            0.7040134500150882,\n",
       "                            0.6996644295302014,\n",
       "                            0.6997982919188017,\n",
       "                            0.6963496761463561,\n",
       "                            0.6989817930796445,\n",
       "                            0.6967283684890229,\n",
       "                            0.6970060907609162,\n",
       "                            0.7039818072599331,\n",
       "                            0.6992811329688778,\n",
       "                            0.7000257820556892,\n",
       "                            0.7016691043620408,\n",
       "                            0.6996893337935796,\n",
       "                            0.7042786497527413,\n",
       "                            0.69721132709797,\n",
       "                            0.6961273666092943,\n",
       "                            0.7011287069224497,\n",
       "                            0.6981326908183461,\n",
       "                            0.6988468298538175,\n",
       "                            0.6912561258705184,\n",
       "                            0.6971127032476726,\n",
       "                            0.7010703692558999,\n",
       "                            0.695586781831464]})}),\n",
       " 'average-precision': defaultdict(<function __main__.CLT_experiment.<locals>.<lambda>>,\n",
       "             {'BalancedInterleaving': defaultdict(list,\n",
       "                          {'RandomClickModel': [0.5019526627218935,\n",
       "                            0.49502723182571634,\n",
       "                            0.5073382646471762,\n",
       "                            0.50121337673868,\n",
       "                            0.5001461560947091,\n",
       "                            0.49878991795053423,\n",
       "                            0.5036997572959214,\n",
       "                            0.4988848456391595,\n",
       "                            0.4972277928512445,\n",
       "                            0.5003830965992809,\n",
       "                            0.5004977455056508,\n",
       "                            0.5017466231951561,\n",
       "                            0.5075892327759991,\n",
       "                            0.501330652315335,\n",
       "                            0.5027815190021666,\n",
       "                            0.49853989019974304,\n",
       "                            0.49950463313712923,\n",
       "                            0.5064919735599622,\n",
       "                            0.49699964701729615,\n",
       "                            0.5016785440838684,\n",
       "                            0.5013981125480601,\n",
       "                            0.49906015037593987,\n",
       "                            0.49784724270126807,\n",
       "                            0.5036792841584741,\n",
       "                            0.49742252770042067,\n",
       "                            0.49291218163637435,\n",
       "                            0.4981628540950575,\n",
       "                            0.49634652481440344,\n",
       "                            0.49790992051810423,\n",
       "                            0.4978040639456579],\n",
       "                           'SimpleDynamicBayesianNetwork': [0.6743582863786781,\n",
       "                            0.6733420731431671,\n",
       "                            0.6700189411021917,\n",
       "                            0.6736628300609343,\n",
       "                            0.6753914887855951,\n",
       "                            0.6738816738816739,\n",
       "                            0.6750879725706036,\n",
       "                            0.6697218993114549,\n",
       "                            0.6694147857818624,\n",
       "                            0.6702027239627815,\n",
       "                            0.675361010830325,\n",
       "                            0.676277437927312,\n",
       "                            0.6780831189928253,\n",
       "                            0.674734090499369,\n",
       "                            0.6734537246049661,\n",
       "                            0.6734647938051503,\n",
       "                            0.6706073459074091,\n",
       "                            0.67008547008547,\n",
       "                            0.6702945806161457,\n",
       "                            0.6744375169422607,\n",
       "                            0.6723584948276641,\n",
       "                            0.6759763953331231,\n",
       "                            0.6737890448166591,\n",
       "                            0.6734363038681497,\n",
       "                            0.6685234266205471,\n",
       "                            0.6713593974175036,\n",
       "                            0.6729064482743105,\n",
       "                            0.6720917580923021,\n",
       "                            0.6775179856115108,\n",
       "                            0.6732361411087113]}),\n",
       "              'TeamDraftInterleaving': defaultdict(list,\n",
       "                          {'RandomClickModel': [0.4976694790253112,\n",
       "                            0.4978771751479998,\n",
       "                            0.5020556795489252,\n",
       "                            0.493960285192387,\n",
       "                            0.5005874750323112,\n",
       "                            0.5048492016558249,\n",
       "                            0.4982248520710059,\n",
       "                            0.5049633656346018,\n",
       "                            0.5012925969447709,\n",
       "                            0.5007058823529412,\n",
       "                            0.49503017394391197,\n",
       "                            0.5005284170972287,\n",
       "                            0.5002369949046096,\n",
       "                            0.5007966011683483,\n",
       "                            0.5028645679522769,\n",
       "                            0.49336244026196235,\n",
       "                            0.49521139920579305,\n",
       "                            0.5032834408093237,\n",
       "                            0.5026211933792778,\n",
       "                            0.50355026113491,\n",
       "                            0.4973513831665686,\n",
       "                            0.5002958930050894,\n",
       "                            0.502534817318338,\n",
       "                            0.503941605839416,\n",
       "                            0.5017046790500823,\n",
       "                            0.5017339681420091,\n",
       "                            0.49244623496652645,\n",
       "                            0.5020477416335127,\n",
       "                            0.5021201413427562,\n",
       "                            0.4965279838566087],\n",
       "                           'SimpleDynamicBayesianNetwork': [0.6744647284201036,\n",
       "                            0.6744930148715638,\n",
       "                            0.6768306455255907,\n",
       "                            0.674388327721661,\n",
       "                            0.6758667573079538,\n",
       "                            0.6729035166816952,\n",
       "                            0.67020507724275,\n",
       "                            0.6707643456566115,\n",
       "                            0.676367081754196,\n",
       "                            0.6766328930703818,\n",
       "                            0.671272825160393,\n",
       "                            0.666847506668475,\n",
       "                            0.6693329718004338,\n",
       "                            0.6718151934074841,\n",
       "                            0.6756671189507011,\n",
       "                            0.6711642599277978,\n",
       "                            0.6737451737451737,\n",
       "                            0.6800215594681998,\n",
       "                            0.6779238440616501,\n",
       "                            0.6718497213733597,\n",
       "                            0.6755386565272496,\n",
       "                            0.671327728069781,\n",
       "                            0.6742703188145487,\n",
       "                            0.670805490337728,\n",
       "                            0.6780680491965168,\n",
       "                            0.6713581029098973,\n",
       "                            0.6743024302430243,\n",
       "                            0.6740536384604948,\n",
       "                            0.6731283119706508,\n",
       "                            0.6753276198249671]})})}"
      ]
     },
     "execution_count": 32,
     "metadata": {},
     "output_type": "execute_result"
    }
   ],
   "source": [
    "simulation_results"
   ]
  },
  {
   "cell_type": "code",
   "execution_count": 33,
   "metadata": {},
   "outputs": [
    {
     "name": "stdout",
     "output_type": "stream",
     "text": [
      "Metric: average-precision\n",
      "\tChecks for normality\n",
      "\t\tTeamDraft RCM: NormaltestResult(statistic=2.9899539327141174, pvalue=0.22425377005231467)\n",
      "\t\tTeamDraft SDBM: NormaltestResult(statistic=0.055294725592863504, pvalue=0.9727313275825094)\n",
      "\t\tInterleaved RCM: NormaltestResult(statistic=1.503590462474882, pvalue=0.4715193062792147)\n",
      "\t\tInterleaved SDBM: NormaltestResult(statistic=0.6503613178821316, pvalue=0.7223968344055607)\n",
      "\n",
      "\tComparing TeamDraft RCM with TeamDraft SDBM : P-value = 2.751371230727838e-85\n",
      "\tComparing Balanced RCM with Balanced SDBM : P-value = 5.3619099363167465e-87\n",
      "####################################################################################################\n",
      "\n",
      "Metric: NCDG@k\n",
      "\tChecks for normality\n",
      "\t\tTeamDraft RCM: NormaltestResult(statistic=0.5403172173788171, pvalue=0.763258425317288)\n",
      "\t\tTeamDraft SDBM: NormaltestResult(statistic=0.75561063358375, pvalue=0.6853639165245373)\n",
      "\t\tInterleaved RCM: NormaltestResult(statistic=2.605702686348513, pvalue=0.2717558181772159)\n",
      "\t\tInterleaved SDBM: NormaltestResult(statistic=2.7984420647999255, pvalue=0.24678912982256507)\n",
      "\n",
      "\tComparing TeamDraft RCM with TeamDraft SDBM : P-value = 1.6562390129837957e-89\n",
      "\tComparing Balanced RCM with Balanced SDBM : P-value = 1.590093104728386e-86\n",
      "####################################################################################################\n",
      "\n",
      "Metric: ERR\n",
      "\tChecks for normality\n",
      "\t\tTeamDraft RCM: NormaltestResult(statistic=0.43033152675586006, pvalue=0.8064077562240205)\n",
      "\t\tTeamDraft SDBM: NormaltestResult(statistic=2.3007419734032473, pvalue=0.31651932313521286)\n",
      "\t\tInterleaved RCM: NormaltestResult(statistic=1.8758198846806513, pvalue=0.39144512385041424)\n",
      "\t\tInterleaved SDBM: NormaltestResult(statistic=3.7812027227584357, pvalue=0.15098098739603844)\n",
      "\n",
      "\tComparing TeamDraft RCM with TeamDraft SDBM : P-value = 1.4355462219530377e-90\n",
      "\tComparing Balanced RCM with Balanced SDBM : P-value = 2.9526686583247097e-88\n",
      "####################################################################################################\n",
      "\n"
     ]
    }
   ],
   "source": [
    "for data in experiment_data:\n",
    "    sim = simulation_results[data.metric]\n",
    "    sim_teamdraft_RCM = sim[\"TeamDraftInterleaving\"][\"RandomClickModel\"]\n",
    "    sim_teamdraft_SDBM = sim[\"TeamDraftInterleaving\"][\"SimpleDynamicBayesianNetwork\"]\n",
    "    sim_interleaved_RCM = sim[\"BalancedInterleaving\"][\"RandomClickModel\"]\n",
    "    sim_interleaved_SDBM = sim[\"BalancedInterleaving\"][\"SimpleDynamicBayesianNetwork\"]\n",
    "    \n",
    "    print(\"Metric: {}\".format(data.metric))\n",
    "    \n",
    "    print(\"\\tChecks for normality\")\n",
    "    print(\"\\t\\tTeamDraft RCM:\", stats.normaltest(sim_teamdraft_RCM))\n",
    "    print(\"\\t\\tTeamDraft SDBM:\", stats.normaltest(sim_teamdraft_SDBM))\n",
    "    print(\"\\t\\tInterleaved RCM:\", stats.normaltest(sim_interleaved_RCM))\n",
    "    print(\"\\t\\tInterleaved SDBM:\", stats.normaltest(sim_interleaved_SDBM))\n",
    "    print()\n",
    "    \n",
    "    # compares using t-test 2 sample (comparing with RCM, which is equal to chance)\n",
    "    z, p = stats.ttest_ind(sim_teamdraft_RCM,sim_teamdraft_SDBM)\n",
    "    print(\"\\tComparing TeamDraft RCM with TeamDraft SDBM : P-value = {}\".format(p))\n",
    "\n",
    "    z, p = stats.ttest_ind(sim_interleaved_RCM,sim_interleaved_SDBM)\n",
    "    print(\"\\tComparing Balanced RCM with Balanced SDBM : P-value = {}\".format(p))\n",
    "    \n",
    "    print(\"#\" * 100 + \"\\n\")\n",
    "    "
   ]
  },
  {
   "cell_type": "code",
   "execution_count": 34,
   "metadata": {},
   "outputs": [],
   "source": [
    "# creating the sign test (uses data of 1 trial only since non-parametric)\n",
    "def sign_test(data, interleaving, click_model, params):\n",
    "    \"\"\"\n",
    "        TODO Marco\n",
    "    \"\"\"\n",
    "    sign_array = []\n",
    "    score_p = []\n",
    "    score_e = []\n",
    "    \n",
    "    for production, experimental in permutations[data.mask]:\n",
    "        interleaved = interleaving.interleave(production, experimental, \"P\", \"E\")\n",
    "        clicks = click_model.simulate([i.result for i in interleaved], grade_to_probability, params)\n",
    "        scores = interleaving.score_clicks(interleaved, clicks)\n",
    "        score_p.append(scores[\"E\"])\n",
    "        score_e.append(scores[\"P\"])\n",
    "        sign_array.append(scores[\"E\"] - scores[\"P\"])\n",
    "    \n",
    "    z, p = stats.normaltest(score_p)\n",
    "    print(\"P value for ScoresP (normal): \", p)\n",
    "    z, p = stats.normaltest(score_e)\n",
    "    print(\"P value for ScoresE (normal): \", p)\n",
    "    z, p = stats.wilcoxon(sign_array)\n",
    "    z, p = stats.ttest_ind(score_p, score_e)\n",
    "    \n",
    "    \n",
    "    return z, p"
   ]
  },
  {
   "cell_type": "code",
   "execution_count": 35,
   "metadata": {},
   "outputs": [
    {
     "name": "stdout",
     "output_type": "stream",
     "text": [
      "average-precision\n",
      "P value for ScoresP (normal):  0.0\n",
      "P value for ScoresE (normal):  0.0\n",
      "\tComparing TeamDraft, RCM P-value = 0.833723812538442\n",
      "P value for ScoresP (normal):  0.0\n",
      "P value for ScoresE (normal):  0.0\n",
      "\tP-value = 0.0\n",
      "P value for ScoresP (normal):  0.0\n",
      "P value for ScoresE (normal):  0.0\n",
      "\tP-value = 0.7436561231469361\n",
      "P value for ScoresP (normal):  0.0\n",
      "P value for ScoresE (normal):  0.0\n",
      "\tP-value = 0.0\n",
      "NCDG@k\n",
      "P value for ScoresP (normal):  0.0\n",
      "P value for ScoresE (normal):  0.0\n",
      "\tComparing TeamDraft, RCM P-value = 0.4220583688306845\n",
      "P value for ScoresP (normal):  0.0\n",
      "P value for ScoresE (normal):  0.0\n",
      "\tP-value = 0.0\n",
      "P value for ScoresP (normal):  0.0\n",
      "P value for ScoresE (normal):  0.0\n",
      "\tP-value = 0.7245146615163468\n",
      "P value for ScoresP (normal):  0.0\n",
      "P value for ScoresE (normal):  0.0\n",
      "\tP-value = 0.0\n",
      "ERR\n",
      "P value for ScoresP (normal):  0.0\n",
      "P value for ScoresE (normal):  0.0\n",
      "\tComparing TeamDraft, RCM P-value = 0.5951830998487339\n",
      "P value for ScoresP (normal):  0.0\n",
      "P value for ScoresE (normal):  0.0\n",
      "\tP-value = 0.0\n",
      "P value for ScoresP (normal):  0.0\n",
      "P value for ScoresE (normal):  0.0\n",
      "\tP-value = 0.39630079481033487\n",
      "P value for ScoresP (normal):  0.0\n",
      "P value for ScoresE (normal):  0.0\n",
      "\tP-value = 0.0\n"
     ]
    }
   ],
   "source": [
    "for data in experiment_data:\n",
    "    print(data.metric)\n",
    "    # using the non-parametric sign tests to compare.\n",
    "    z, p = sign_test(data, TeamDraftInterleaving, RandomClickModel, {\"rho\": rcm.rho})\n",
    "    print(\"\\tComparing TeamDraft, RCM P-value = {}\".format(p))\n",
    "\n",
    "    z, p = sign_test(data, TeamDraftInterleaving, SimpleDynamicBayesianNetwork, {\"sigma\": sdbn.sigma_global})\n",
    "    print(\"\\tP-value = {}\".format(p))\n",
    "\n",
    "    z, p = sign_test(data, BalancedInterleaving, RandomClickModel, {\"rho\": rcm.rho})\n",
    "    print(\"\\tP-value = {}\".format(p))\n",
    "\n",
    "    z, p = sign_test(data, BalancedInterleaving, SimpleDynamicBayesianNetwork, {\"sigma\": sdbn.sigma_global})\n",
    "    print(\"\\tP-value = {}\".format(p))"
   ]
  },
  {
   "cell_type": "code",
   "execution_count": 41,
   "metadata": {},
   "outputs": [
    {
     "data": {
      "image/png": "[encoded data removed]",
      "text/plain": [
       "<matplotlib.figure.Figure at 0x7f03f05c2278>"
      ]
     },
     "metadata": {},
     "output_type": "display_data"
    }
   ],
   "source": [
    "bins = np.linspace(0.45, 0.9, 200)\n",
    "#plt.hist(sim_interleaved_SDBM, bins, alpha=0.25, label='IL_SDBM')\n",
    "plt.hist(sim_teamdraft_SDBM, bins, alpha=0.25, label='TD_SDBM')\n",
    "#plt.hist(sim_interleaved_RCM, bins, alpha=0.25, label='IL_RCM')\n",
    "plt.hist(sim_teamdraft_RCM, bins, alpha=0.25, label='TD_RCM')\n",
    "\n",
    "plt.legend(loc='upper right')\n",
    "plt.show()"
   ]
  },
  {
   "cell_type": "code",
   "execution_count": null,
   "metadata": {},
   "outputs": [],
   "source": []
  }
 ],
 "metadata": {
  "kernelspec": {
   "display_name": "Python 3",
   "language": "python",
   "name": "python3"
  },
  "language_info": {
   "codemirror_mode": {
    "name": "ipython",
    "version": 3
   },
   "file_extension": ".py",
   "mimetype": "text/x-python",
   "name": "python",
   "nbconvert_exporter": "python",
   "pygments_lexer": "ipython3",
   "version": "3.5.2"
  }
 },
 "nbformat": 4,
 "nbformat_minor": 2
}
