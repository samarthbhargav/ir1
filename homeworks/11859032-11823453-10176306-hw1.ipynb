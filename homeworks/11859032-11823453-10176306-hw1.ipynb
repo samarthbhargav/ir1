{
 "cells": [
  {
   "cell_type": "code",
   "execution_count": 1,
   "metadata": {
    "collapsed": true
   },
   "outputs": [],
   "source": [
    "import numpy as np\n",
    "import random\n",
    "import matplotlib.pyplot as plt\n",
    "import enum\n",
    "import itertools\n",
    "import operator\n",
    "import collections\n",
    "import math\n",
    "import codecs\n",
    "from scipy import stats\n",
    "\n",
    "%matplotlib inline\n",
    "plt.rcParams[\"figure.figsize\"] = (20, 10)\n",
    "plt.style.use('ggplot')"
   ]
  },
  {
   "cell_type": "markdown",
   "metadata": {},
   "source": [
    "# Theoretical Part\n",
    "\n",
    "## 1.a\n",
    "\n",
    "Type I error occurs when a hypothesis test rejects $H_0$ indicating significance, where in reality this should not be the case. The probability of Type I error is as follows:\n",
    "P($H_0$ is rejected | $H_0$ is true) = $\\alpha$\n",
    "\n",
    "Hence, in order to obtain the probability asked in this question, we multiply the probability of not making a Type I error in the first m-1 cases and making this error at the $m^{th}$ case.\n",
    "\n",
    "P($m^{th}$ experiment gives significant result | m experiments lacking power to reject $H_0$) = $(1-\\alpha)^{m-1}\\alpha$\n",
    "\n",
    "## 1.b\n",
    "We calculate the probability of at least one significant result in the presence of experiments that cannot reject the null hypothesis as indicated below, subtracting the probability of not making a Type I error at all from 1.\n",
    "\n",
    "P(at least one significant result | m experiments lacking power to reject $H_0$) = 1 - $(1-\\alpha)^m$\n",
    "\n",
    "\n",
    "\n",
    "## 2\n",
    "Both balanced interleaving and team-draft interleaving do not take the similarity of the lists into consideration. In cases where the ranks of the documents retrieved by two different search algorithms are similar, the comparison based on clicks given interleaved lists might be biased [Hofmann et al. 2011, 2013]. If the documents are swapped or their ranks are shifted by one level, team-draft interleaving might fail to capture the difference between the two algorithms. \n",
    "\n",
    "Similar to the examples given in Hofmann et al. [2011, 2013], we can consider 2 lists $l_1$ and $l_2$, both retrieving $d_1$, $d_2$ and $d_3$ in similar rankings such as: $l_1 = [d_1,d_2,d_3]$ and $l_2 = [d_2,d_3,d_1]$. If we take $d_3$ as the relevant document and assume that the one and only click occur on $d_3$, we expect that the score of $l_2$ output by the interleaving function should be higher than $l_1$'s score. The reason for this is that $l_2$ places the relevant document in the higher levels. \n",
    "\n",
    "When we construct possible interleaved lists, we observe that $d_3$ is placed at the 3rd rank in all of these lists.\n",
    "\n",
    "<img src=\"interleaving.png\">\n",
    "\n",
    "When the clicks are on $d_3$, both lists will acquire the same score of 2. This will result in a tie and the actual difference between the qualities of the algorithms will be overlooked ($l_2$ being better than $l_1$).\n",
    "\n",
    "In addition, ambiguous queries can lead to biased outcomes in team-draft interleaving where the rankings are shifted by one as indicated in [Chapelle et al. 2012].\n",
    "\n",
    "Chapelle, O., Joachims, T., Radlinski, F., and Yue,Y. Large scale validation and analysis of interleaved search evaluation. ACM Transactions on Information Science, 30(1), 2012.\n",
    "\n",
    "Hofmann, K., Whiteson, S., and de Rijke, M. A probabilistic method for inferring preferences from clicks. In\n",
    "CIKM ’11, pp. 249–258, USA, 2011. ACM.\n",
    "\n",
    "Hofmann, Katja, Whiteson, Shimon, and de Rijke, Maarten. Fidelity, soundness, and efficiency of interleaved\n",
    "comparison methods. ACM Transactions on Information Systems, 31(4), 2013.\n",
    "\n"
   ]
  },
  {
   "cell_type": "markdown",
   "metadata": {},
   "source": [
    "# Experimental Part\n",
    "\n",
    "### Assumptions:\n",
    "- Grades:\n",
    "    - Grade for Highly Relevant (HR) = 2\n",
    "    - Grade for Relevant (R) = 1\n",
    "    - Grade for Not relevant (N) = 0\n",
    "- Number of documents\n",
    "    - Total number of documents is 30. The number of unique documents that are:\n",
    "        - HR: 10\n",
    "        - R: 10\n",
    "        - N: 10\n",
    "      \n",
    "TODO explain this in detail. It's one of the central assumptions we make. \n",
    "Single Query Assumption.\n",
    "We can assume that the entire experiment is for a single query, so there are only 10 R + 10 HR documents i.e a total of 20 relevant documents.\n",
    "\n",
    "Comment by Ece: Isn't this already given in the description along with the idea that the returned documents will be unique? Our assumption was more in the line of supposing that there are 10 irrelevant documents in the collection, given query q.\n"
   ]
  },
  {
   "cell_type": "code",
   "execution_count": 2,
   "metadata": {
    "collapsed": true
   },
   "outputs": [],
   "source": [
    "@enum.unique\n",
    "class Grade(enum.IntEnum):\n",
    "    \"\"\"\n",
    "    Represents relevance on a graded scale. \n",
    "    Any positive number represents relevance, with higher numbers representing higher relevance (total ordering)\n",
    "    Zero represents irrelevant\n",
    "    \"\"\"\n",
    "    N = (0)   # Not relevant\n",
    "    R = (1)   # Relevant\n",
    "    HR = (2)  # Highly relevant\n",
    "\n",
    "    \n",
    "    @property\n",
    "    def is_relevant(self):\n",
    "        \"\"\"\n",
    "        'Binarizes' the relevance. Useful for computing binary metrics like precision / recall\n",
    "        \"\"\"\n",
    "        return False if self.value == 0 else True\n",
    "    \n",
    "    @classmethod\n",
    "    def from_int_list(cls, int_list):\n",
    "        \"\"\"\n",
    "        Converts a list of integers to a list of Grade\n",
    "        \"\"\"\n",
    "        members = dict((member.value, member) for member in cls.__members__.values())\n",
    "        return [members[value] for value in int_list]\n",
    "\n",
    "    @classmethod\n",
    "    def max_grade(cls):\n",
    "        return max(member.value for member in cls.__members__.values())\n",
    "\n",
    "    \n",
    "    def __str__(self):\n",
    "        return self.name\n",
    "    \n",
    "    def __repr__(self):\n",
    "        return self.name"
   ]
  },
  {
   "cell_type": "markdown",
   "metadata": {},
   "source": [
    "## Step 1: Simulate Rankings of Relevance for E and P (5 points)\n",
    "\n",
    "In the first step you will generate pairs of rankings of relevance, for the production P and experimental E, respectively, for a hypothetical query q. Assume a 3-graded relevance, i.e. {N, R, HR}. Construct all possible P and E ranking pairs of length 5. This step should give you about.\n",
    "\n",
    "Example:\n",
    "\n",
    "P: {N N N N N}\n",
    "E: {N N N N R}\n",
    "\n",
    "…\n",
    "P: {HR HR HR HR R}\n",
    "E: {HR HR HR HR HR}"
   ]
  },
  {
   "cell_type": "code",
   "execution_count": 3,
   "metadata": {
    "collapsed": true
   },
   "outputs": [],
   "source": [
    "def get_all_permutations(grade, sequence_length):\n",
    "    \"\"\"\n",
    "    For a given grade and a sequence length n, returns all possible permutations of length n that can be formed. \n",
    "    Note that a generator is returned and not a list\n",
    "    \"\"\"\n",
    "    for i, perm in enumerate(itertools.product(range(len(grade.__members__)), repeat=sequence_length)):\n",
    "        yield grade.from_int_list(perm)\n",
    "\n",
    "def get_all_permutation_pairs(grade, sequence_length):\n",
    "    \"\"\"\n",
    "    Generates all possible pairs of permutations given a grade and a sequence length.\n",
    "    Note that a generator is returned and not a list\n",
    "    \"\"\"\n",
    "    sequence_1 = get_all_permutations(grade, sequence_length)\n",
    "    sequence_2 = get_all_permutations(grade, sequence_length)    \n",
    "    for pair in itertools.product(sequence_1, sequence_2):\n",
    "        yield pair\n",
    "        \n",
    "def count_sequence(seq):\n",
    "    \"\"\"\n",
    "    `len` for generators\n",
    "    \"\"\"\n",
    "    count = 0\n",
    "    for _ in seq:\n",
    "        count += 1\n",
    "    return count\n",
    "\n",
    "# A sanity check to ensure the correct number of sequences are being generated\n",
    "assert count_sequence(get_all_permutation_pairs(Grade, 5)) == (3**5) * (3**5)"
   ]
  },
  {
   "cell_type": "code",
   "execution_count": 4,
   "metadata": {
    "collapsed": true
   },
   "outputs": [],
   "source": [
    "permutations = np.array(list(get_all_permutation_pairs(Grade, 5)), dtype=np.object)"
   ]
  },
  {
   "cell_type": "code",
   "execution_count": 5,
   "metadata": {},
   "outputs": [
    {
     "data": {
      "text/plain": [
       "array([[[N, N, N, N, N],\n",
       "        [N, N, N, N, N]],\n",
       "\n",
       "       [[N, N, N, N, N],\n",
       "        [N, N, N, N, R]],\n",
       "\n",
       "       [[N, N, N, N, N],\n",
       "        [N, N, N, N, HR]],\n",
       "\n",
       "       ..., \n",
       "       [[HR, HR, HR, HR, HR],\n",
       "        [HR, HR, HR, HR, N]],\n",
       "\n",
       "       [[HR, HR, HR, HR, HR],\n",
       "        [HR, HR, HR, HR, R]],\n",
       "\n",
       "       [[HR, HR, HR, HR, HR],\n",
       "        [HR, HR, HR, HR, HR]]], dtype=object)"
      ]
     },
     "execution_count": 5,
     "metadata": {},
     "output_type": "execute_result"
    }
   ],
   "source": [
    "permutations"
   ]
  },
  {
   "cell_type": "code",
   "execution_count": 6,
   "metadata": {},
   "outputs": [
    {
     "data": {
      "text/plain": [
       "array([[N, N, N, N, N],\n",
       "       [N, N, N, N, N]], dtype=object)"
      ]
     },
     "execution_count": 6,
     "metadata": {},
     "output_type": "execute_result"
    }
   ],
   "source": [
    "permutations[0]"
   ]
  },
  {
   "cell_type": "code",
   "execution_count": 7,
   "metadata": {},
   "outputs": [
    {
     "data": {
      "text/plain": [
       "array([[HR, HR, HR, HR, HR],\n",
       "       [HR, HR, HR, HR, HR]], dtype=object)"
      ]
     },
     "execution_count": 7,
     "metadata": {},
     "output_type": "execute_result"
    }
   ],
   "source": [
    "permutations[-1]"
   ]
  },
  {
   "cell_type": "code",
   "execution_count": 8,
   "metadata": {
    "collapsed": true
   },
   "outputs": [],
   "source": [
    "production = np.array(list(map(operator.itemgetter(0), permutations)))\n",
    "experiment = np.array(list(map(operator.itemgetter(1), permutations)))"
   ]
  },
  {
   "cell_type": "code",
   "execution_count": 9,
   "metadata": {},
   "outputs": [
    {
     "data": {
      "text/plain": [
       "(20, 20)"
      ]
     },
     "execution_count": 9,
     "metadata": {},
     "output_type": "execute_result"
    }
   ],
   "source": [
    "# TODO double check this\n",
    "relevant_count_production = 20\n",
    "relevant_count_experiment = 20\n",
    "(relevant_count_experiment, relevant_count_production)"
   ]
  },
  {
   "cell_type": "markdown",
   "metadata": {},
   "source": [
    "## Step 2: Implement Evaluation Measures (10 points)\n",
    "Implement 1 binary and 2 multi-graded evaluation measures out of the 7 measures mentioned above. \n",
    "\n",
    "Note:\n",
    "We've implemented all metrics. For grading, please consider AveragePrecision (1 binary), NDCG@k and ERR (2 multi-graded)"
   ]
  },
  {
   "cell_type": "code",
   "execution_count": 10,
   "metadata": {},
   "outputs": [
    {
     "name": "stdout",
     "output_type": "stream",
     "text": [
      "[ 0.    0.    0.   ...,  0.25  0.25  0.25]\n"
     ]
    }
   ],
   "source": [
    "class Metric:\n",
    "    \"\"\"\n",
    "        Common parent for all metrics\n",
    "    \"\"\"\n",
    "    \n",
    "    def name(self):\n",
    "        raise NotImplementedError()\n",
    "    \n",
    "    def compute(self, results, **kwargs):\n",
    "        \"\"\" Template for a computation \"\"\"\n",
    "        raise NotImplementedError()\n",
    "\n",
    "class Precision(Metric):\n",
    "    \"\"\"\n",
    "        Computes precision at rank-k, or if rank is not specified, it is computed for the entire list\n",
    "    \"\"\"\n",
    "    \n",
    "    @property\n",
    "    def name(self):\n",
    "        return \"precision\"\n",
    "    \n",
    "    def compute(self, results, **kwargs):\n",
    "        # if k is not specified, the entire list is used\n",
    "        k = kwargs.get(\"k\", len(results))\n",
    "        \n",
    "        # only up to k\n",
    "        results = results[:k]\n",
    "        # binarize, compute how many are relevant and divide by k\n",
    "        return sum(r.is_relevant for r in results) / k\n",
    "    \n",
    "class Recall(Metric):\n",
    "    \"\"\"\n",
    "        Computes recall at rank-k, or if rank is not specified, it is computed for the entire list\n",
    "        Note: Requires total number of relevant documents\n",
    "    \"\"\"\n",
    "    \n",
    "    @property\n",
    "    def name(self):\n",
    "        return \"recall\"\n",
    "    \n",
    "    def compute(self, results, **kwargs):\n",
    "        assert \"relevant_count\" in kwargs\n",
    "        # if k is not specified, the entire list is used\n",
    "        k = kwargs.get(\"k\", len(production))\n",
    "        \n",
    "        # only up to k\n",
    "        results = results[:k]\n",
    "        \n",
    "        return sum(r.is_relevant for r in results) / kwargs[\"relevant_count\"] \n",
    "        \n",
    "    \n",
    "class AveragePrecision(Metric):\n",
    "    \"\"\"\n",
    "        Compute average precision at rank-k. \n",
    "        Note: Requires total number of relevant documents\n",
    "    \"\"\"\n",
    "    \n",
    "    @property\n",
    "    def name(self):\n",
    "        return \"average-precision\"\n",
    "    \n",
    "    def compute(self, results, **kwargs):\n",
    "        assert \"relevant_count\" in kwargs\n",
    "        P = Precision()\n",
    "        precisions = np.zeros(len(results))\n",
    "        for k in range(1, len(results) + 1):\n",
    "            if(str(results[k-1]) != 'N'):\n",
    "                precisions[k - 1] = P.compute(results, k = k)\n",
    "        # TODO verify\n",
    "        return precisions.sum() / kwargs[\"relevant_count\"] \n",
    "\n",
    "AP = AveragePrecision()\n",
    "ap = np.array([AP.compute(r, relevant_count = relevant_count_production) for r in production])\n",
    "print(ap)"
   ]
  },
  {
   "cell_type": "code",
   "execution_count": 11,
   "metadata": {},
   "outputs": [
    {
     "data": {
      "image/png": "[encoded data removed]",
      "text/plain": [
       "<matplotlib.figure.Figure at 0x7fd001591320>"
      ]
     },
     "metadata": {},
     "output_type": "display_data"
    }
   ],
   "source": [
    "plt.boxplot(ap)\n",
    "plt.title(\"Average precision for Production\")\n",
    "plt.show()"
   ]
  },
  {
   "cell_type": "code",
   "execution_count": 12,
   "metadata": {},
   "outputs": [
    {
     "data": {
      "text/plain": [
       "0.13648148148148148"
      ]
     },
     "execution_count": 12,
     "metadata": {},
     "output_type": "execute_result"
    }
   ],
   "source": [
    "ap.mean()"
   ]
  },
  {
   "cell_type": "code",
   "execution_count": 13,
   "metadata": {},
   "outputs": [
    {
     "data": {
      "text/plain": [
       "(0.25, array([R, R, R, R, R], dtype=object))"
      ]
     },
     "execution_count": 13,
     "metadata": {},
     "output_type": "execute_result"
    }
   ],
   "source": [
    "ap.max(), production[ap.argmax()]"
   ]
  },
  {
   "cell_type": "code",
   "execution_count": 14,
   "metadata": {},
   "outputs": [
    {
     "data": {
      "text/plain": [
       "(0.0, array([N, N, N, N, N], dtype=object))"
      ]
     },
     "execution_count": 14,
     "metadata": {},
     "output_type": "execute_result"
    }
   ],
   "source": [
    "ap.min(), production[ap.argmin()]"
   ]
  },
  {
   "cell_type": "markdown",
   "metadata": {},
   "source": [
    "If we assume the retrieved documents are all relevant, that is all 5 documents retrieved by the algorithm are labeled either highly relevant or relevant, we get 100% precision at each rank. Since the total number of relevant documents in the collection is 20, the maximum Average Precision we get is (1+1+1+1+1)/20 = 25%"
   ]
  },
  {
   "cell_type": "code",
   "execution_count": 15,
   "metadata": {},
   "outputs": [
    {
     "name": "stdout",
     "output_type": "stream",
     "text": [
      "[HR, HR, HR, HR, HR, HR, HR, HR, HR, HR, R, R, R, R, R, R, R, R, R, R, N, N, N, N, N, N, N, N, N, N]\n"
     ]
    }
   ],
   "source": [
    "class DCG(Metric):\n",
    "    \n",
    "    \"\"\" \n",
    "        Compute the discounted cumulative gain at rank-k\n",
    "    \"\"\"\n",
    "    \n",
    "    @property\n",
    "    def name(self):\n",
    "        return \"DCG@k\"\n",
    "    \n",
    "    def compute(self, results, **kwargs):\n",
    "        \n",
    "        # if k is not specified, the entire list is used\n",
    "        k = kwargs.get(\"k\", len(production))\n",
    "        \n",
    "        # only up to k\n",
    "        results = results[:k]\n",
    "        \n",
    "        dcg = 0.0 \n",
    "        for rank, result in enumerate(results):\n",
    "            rank += 1 # TODO verify\n",
    "            gain = 2**result.value - 1\n",
    "            discount = math.log2(1 + rank)\n",
    "            dcg += gain / discount\n",
    "        return dcg\n",
    "\n",
    "\n",
    "class NDCG(Metric):\n",
    "    \"\"\" \n",
    "        Compute the Normalized-DCG at rank-k.\n",
    "        Note: This requires the ideal-ranking for all the documents in the collection (or upto rank-k)\n",
    "    \"\"\"\n",
    "\n",
    "    @property\n",
    "    def name(self):\n",
    "        return \"NCDG@k\"\n",
    "    \n",
    "    \n",
    "    def compute(self, results, **kwargs):\n",
    "        assert \"ideal_ranking\" in kwargs\n",
    "        \n",
    "        # Normalization is done according to the slides mentioned here \n",
    "        # https://web.stanford.edu/class/cs276/handouts/EvaluationNew-handout-6-per.pdf\n",
    "        \n",
    "        dcg = DCG()\n",
    "        \n",
    "        ideal_ranking = kwargs[\"ideal_ranking\"]\n",
    "        \n",
    "        # if k is not specified, the entire list is used\n",
    "        k = kwargs.get(\"k\", len(results))\n",
    "        \n",
    "        # only up to k\n",
    "        results = results[:k]\n",
    "        ideal_ranking = ideal_ranking[:k]\n",
    "        \n",
    "        max_dcg = dcg.compute(ideal_ranking)\n",
    "        \n",
    "        return dcg.compute(results) / max_dcg\n",
    "\n",
    "ideal_ranking = [Grade.HR] * 10 + [Grade.R] * 10 + [Grade.N] * 10\n",
    "print(ideal_ranking)"
   ]
  },
  {
   "cell_type": "code",
   "execution_count": 16,
   "metadata": {},
   "outputs": [
    {
     "name": "stdout",
     "output_type": "stream",
     "text": [
      "0.8623046875\n",
      "0.1875\n"
     ]
    }
   ],
   "source": [
    "class ERR(Metric):\n",
    "    @property\n",
    "    def name(self):\n",
    "        return \"ERR\"\n",
    "    def compute(self, results, **kwargs):\n",
    "        # Implementation follows this paper:\n",
    "        # http://delivery.acm.org/10.1145/1650000/1646033/p621-chapelle.pdf?ip=145.109.35.88&id=1646033&acc=ACTIVE%20SERVICE&key=0C390721DC3021FF%2E86041C471C98F6DA%2E4D4702B0C3E38B35%2E4D4702B0C3E38B35&CFID=1026312371&CFTOKEN=18042814&__acm__=1515748872_543fbe0fe6a5c9d1fadb8f8341c9da3c\n",
    "        assert \"grade\" in kwargs\n",
    "        grade = kwargs[\"grade\"]\n",
    "        \n",
    "        def r_func(result):\n",
    "            return ((2 ** result.value) - 1) / (2 ** grade.max_grade())  \n",
    "        \n",
    "        err = 0.0\n",
    "        for rank, result in enumerate(results):\n",
    "            previous_results = results[:rank]\n",
    "            satisfaction = 1\n",
    "            for previous_result in previous_results:\n",
    "                satisfaction = satisfaction * ((1 - r_func(previous_result)))\n",
    "            # rank is 0-indexed here, so add 1\n",
    "            err += (1/(rank + 1)) * satisfaction * r_func(result)\n",
    "        \n",
    "        return err\n",
    "\n",
    "err = ERR()\n",
    "print(err.compute([Grade.HR, Grade.HR, Grade.HR, Grade.HR], grade=Grade))\n",
    "print(err.compute([Grade.N, Grade.N, Grade.N, Grade.HR], grade=Grade))"
   ]
  },
  {
   "cell_type": "markdown",
   "metadata": {},
   "source": [
    "## Step 3: Calculate the 𝛥measure (0 points)\n",
    "\n",
    "For the three measures and all P and E ranking pairs constructed above calculate the difference: 𝛥measure = measureE-measureP. Consider only those pairs for which E outperforms P."
   ]
  },
  {
   "cell_type": "code",
   "execution_count": 17,
   "metadata": {
    "collapsed": true
   },
   "outputs": [],
   "source": [
    "# make a class that holds all the data for further experiments\n",
    "ExperimentData = collections.namedtuple(\"ExperimentData\", [\"metric\", \"mask\", \"delta_measure\", \"permutations\"])"
   ]
  },
  {
   "cell_type": "code",
   "execution_count": 18,
   "metadata": {
    "collapsed": true
   },
   "outputs": [],
   "source": [
    "experiment_data = []\n",
    "\n",
    "# data using Average Precision\n",
    "average_precision = AveragePrecision()\n",
    "ap_P = np.array([average_precision.compute(results, relevant_count = relevant_count_production) \\\n",
    "                                for results in production])\n",
    "ap_E = np.array([average_precision.compute(results, relevant_count = relevant_count_experiment) \\\n",
    "                                for results in experiment])\n",
    "ap_delta_measure = ap_E - ap_P\n",
    "ap_mask = ap_delta_measure > 0\n",
    "average_precision_data = ExperimentData(average_precision.name, ap_mask, ap_delta_measure, permutations[ap_mask])\n",
    "\n",
    "experiment_data.append(average_precision_data)\n",
    "##############################\n",
    "\n",
    "# data using NCDG@k\n",
    "ndcg = NDCG()\n",
    "ncdg_P = np.array([ndcg.compute(results, ideal_ranking=ideal_ranking) for results in production])\n",
    "ncdg_E = np.array([ndcg.compute(results, ideal_ranking=ideal_ranking) for results in experiment])\n",
    "ndcg_delta_measure = ncdg_E - ncdg_P\n",
    "ndcg_mask = ndcg_delta_measure > 0\n",
    "ndcg_data = ExperimentData(ndcg.name, ndcg_mask, ndcg_delta_measure, permutations[ndcg_mask])\n",
    "experiment_data.append(ndcg_data)\n",
    "###################\n",
    "\n",
    "\n",
    "# data using ERR\n",
    "err = ERR()\n",
    "err_P = np.array([err.compute(results, grade=Grade) for results in production])\n",
    "err_E = np.array([err.compute(results, grade=Grade) for results in experiment])\n",
    "err_delta_measure = err_E - err_P\n",
    "err_mask = err_delta_measure > 0\n",
    "err_data = ExperimentData(err.name, err_mask, err_delta_measure, permutations[err_mask])\n",
    "experiment_data.append(err_data)\n",
    "################\n",
    "\n",
    "# include all the data\n",
    "#experiment_data.append(ExperimentData(\"No metric\", np.array([True] * len(permutations)), \n",
    "#                                      np.zeros(len(permutations)), permutations))"
   ]
  },
  {
   "cell_type": "code",
   "execution_count": 19,
   "metadata": {},
   "outputs": [
    {
     "data": {
      "image/png": "[encoded data removed]",
      "text/plain": [
       "<matplotlib.figure.Figure at 0x7fd0011f43c8>"
      ]
     },
     "metadata": {},
     "output_type": "display_data"
    },
    {
     "data": {
      "image/png": "[encoded data removed]",
      "text/plain": [
       "<matplotlib.figure.Figure at 0x7fd000c594a8>"
      ]
     },
     "metadata": {},
     "output_type": "display_data"
    },
    {
     "data": {
      "image/png": "[encoded data removed]",
      "text/plain": [
       "<matplotlib.figure.Figure at 0x7fd0014fbe48>"
      ]
     },
     "metadata": {},
     "output_type": "display_data"
    }
   ],
   "source": [
    "for data in experiment_data:\n",
    "    plt.hist(data.delta_measure, bins=25)\n",
    "    plt.title(data.metric)\n",
    "    plt.show()"
   ]
  },
  {
   "cell_type": "markdown",
   "metadata": {},
   "source": [
    "## Step 4: Implement Interleaving (15 points)\n",
    "Implement 2 interleaving algorithms: \n",
    "(1) Team-Draft Interleaving OR Balanced Interleaving, ~~AND (2), Probabilistic Interleaving.~~ \n",
    "\n",
    "The interleaving algorithms should (a) given two rankings of relevance interleave them into a single ranking, and (b) given the users clicks on the interleaved ranking assign credit to the algorithms that produced the rankings."
   ]
  },
  {
   "cell_type": "code",
   "execution_count": 20,
   "metadata": {
    "collapsed": true
   },
   "outputs": [],
   "source": [
    "def toss_coin(heads = 0.5):\n",
    "    # head = True, Tails is False\n",
    "    return True if random.random() < heads else False"
   ]
  },
  {
   "cell_type": "markdown",
   "metadata": {},
   "source": [
    "Reference materials for interleaving algorithms: \n",
    "- https://www.cs.cornell.edu/people/tj/publications/radlinski_etal_08b.pdf\n",
    "- https://www.cs.cornell.edu/people/tj/publications/chapelle_etal_12a.pdf"
   ]
  },
  {
   "cell_type": "code",
   "execution_count": 21,
   "metadata": {},
   "outputs": [
    {
     "data": {
      "text/plain": [
       "[Interleaved(source='A', source_index=0, result=R),\n",
       " Interleaved(source='B', source_index=0, result=R),\n",
       " Interleaved(source='A', source_index=1, result=HR),\n",
       " Interleaved(source='B', source_index=1, result=N),\n",
       " Interleaved(source='A', source_index=2, result=N),\n",
       " Interleaved(source='B', source_index=2, result=HR)]"
      ]
     },
     "execution_count": 21,
     "metadata": {},
     "output_type": "execute_result"
    }
   ],
   "source": [
    "Interleaved = collections.namedtuple(\"Interleaved\", [\"source\", \"source_index\", \"result\"])\n",
    "        \n",
    "class BalancedInterleaving:\n",
    "    \n",
    "    @staticmethod\n",
    "    def interleave(A, B, A_name, B_name):\n",
    "\n",
    "        selected = toss_coin()\n",
    "        interleaved = []\n",
    "        \n",
    "        ka = 0\n",
    "        kb = 0\n",
    "        \n",
    "        while(ka <= len(A) and kb <= len(B) and (ka < len(A) or kb < len(B))):\n",
    "\n",
    "            if (ka < kb) or (ka==kb and selected):\n",
    "                    tup = Interleaved(A_name, ka, A[ka])\n",
    "                    # assumption: all docs are unique, most recently picked document is not in the interleaved list\n",
    "                    interleaved.append(tup)\n",
    "                    ka += 1\n",
    "\n",
    "            else:  \n",
    "                    tup = Interleaved(B_name, kb, B[kb])\n",
    "                    # assumption: all docs are unique, most recently picked document is not in the interleaved list\n",
    "                    interleaved.append(tup)\n",
    "                    kb += 1\n",
    "        \n",
    "        return interleaved\n",
    "    \n",
    "    @staticmethod\n",
    "    def score_clicks(interleaved, clicks):\n",
    "        scores = collections.defaultdict(int)\n",
    "        \n",
    "        #assumption: all docs are unique, just count the clicks belonging to each algorithm\n",
    "\n",
    "        for c in clicks:\n",
    "            il = interleaved[c]\n",
    "            scores[il.source] += 1\n",
    "            \n",
    "        return scores\n",
    "    \n",
    "A = [Grade.R, Grade.HR, Grade.N]\n",
    "B = [Grade.R, Grade.N, Grade.HR]\n",
    "\n",
    "interleaved = BalancedInterleaving.interleave(A, B, \"A\", \"B\")\n",
    "interleaved"
   ]
  },
  {
   "cell_type": "code",
   "execution_count": 22,
   "metadata": {},
   "outputs": [
    {
     "data": {
      "text/plain": [
       "defaultdict(int, {'A': 3})"
      ]
     },
     "execution_count": 22,
     "metadata": {},
     "output_type": "execute_result"
    }
   ],
   "source": [
    "clicks = [0, 2, 4]\n",
    "BalancedInterleaving.score_clicks(interleaved, clicks)"
   ]
  },
  {
   "cell_type": "code",
   "execution_count": 23,
   "metadata": {},
   "outputs": [
    {
     "data": {
      "text/plain": [
       "[Interleaved(source='B', source_index=0, result=R),\n",
       " Interleaved(source='A', source_index=0, result=R),\n",
       " Interleaved(source='A', source_index=1, result=HR),\n",
       " Interleaved(source='B', source_index=1, result=N),\n",
       " Interleaved(source='B', source_index=2, result=HR),\n",
       " Interleaved(source='A', source_index=2, result=N)]"
      ]
     },
     "execution_count": 23,
     "metadata": {},
     "output_type": "execute_result"
    }
   ],
   "source": [
    "class TeamDraftInterleaving:\n",
    "    \n",
    "    @staticmethod\n",
    "    def interleave(A, B, A_name, B_name):\n",
    "\n",
    "        interleaved = []\n",
    "        TeamA = set()\n",
    "        TeamB = set()\n",
    "\n",
    "        ka = 0\n",
    "        kb = 0\n",
    "\n",
    "        while(ka <= len(A) and kb <= len(B)):\n",
    "            selected = toss_coin()\n",
    "            if ka == len(A) and kb == len(B):\n",
    "                break\n",
    "            elif(len(TeamA) < len(TeamB)) or (len(TeamA) == len(TeamB) and selected == 0):\n",
    "                tup = Interleaved(A_name, ka, A[ka])\n",
    "                interleaved.append(tup)\n",
    "                TeamA.add(tup)\n",
    "                ka += 1\n",
    "            else:\n",
    "                tup = Interleaved(B_name, kb, B[kb])\n",
    "                interleaved.append(tup)\n",
    "                TeamB.add(tup)\n",
    "                kb +=1\n",
    "               \n",
    "        return interleaved\n",
    "\n",
    "    @staticmethod\n",
    "    def score_clicks(interleaved, clicks):\n",
    "        scores = collections.defaultdict(int)\n",
    "        \n",
    "        for c in clicks:\n",
    "            il = interleaved[c]\n",
    "            scores[il.source] += 1\n",
    "            \n",
    "        return scores\n",
    "                \n",
    "A = [Grade.R, Grade.HR, Grade.N]\n",
    "B = [Grade.R, Grade.N, Grade.HR]\n",
    "\n",
    "interleaved = TeamDraftInterleaving.interleave(A, B, \"A\", \"B\")\n",
    "interleaved"
   ]
  },
  {
   "cell_type": "code",
   "execution_count": 24,
   "metadata": {},
   "outputs": [
    {
     "name": "stdout",
     "output_type": "stream",
     "text": [
      "Total number of sessions:  11717\n",
      "Total number of interactions:  100000\n"
     ]
    }
   ],
   "source": [
    "ClickAction = collections.namedtuple(\"ClickAction\", [\"clicked_id\"])\n",
    "QueryAction = collections.namedtuple(\"QueryAction\", [\"query_id\", \"results\"])\n",
    "\n",
    "class Session:\n",
    "    def __init__(self, session_id):\n",
    "        self.session_id = session_id\n",
    "        self.data = []\n",
    "    \n",
    "    @property\n",
    "    def clicks(self):\n",
    "        return list(filter(lambda _: isinstance(_, ClickAction), self.data))\n",
    "    \n",
    "    @property\n",
    "    def queries(self):\n",
    "        return list(filter(lambda _: isinstance(_, QueryAction), self.data))\n",
    "    \n",
    "    def get_complete_interactions(self):\n",
    "        # return complete interactions\n",
    "        last_query = 0\n",
    "        for index, action in enumerate(self.data):\n",
    "            if index != 0 and isinstance(action, QueryAction):\n",
    "                yield self.data[last_query: index]\n",
    "                last_query = index\n",
    "        if isinstance(self.data[-1], ClickAction):\n",
    "            yield self.data[last_query:]\n",
    "        \n",
    "class YandexData:\n",
    "    def __init__(self, file_path):\n",
    "        self.file_path = file_path\n",
    "        self.sessions = []\n",
    "        self.u = 0\n",
    "        self.q = 0\n",
    "        self._read()\n",
    "        \n",
    "    def _read(self):\n",
    "        with codecs.open(self.file_path, \"r\", \"utf-8\") as reader:\n",
    "            current_session = Session(0)\n",
    "            for line in reader:\n",
    "                line = line.split(\"\\t\")\n",
    "                session_id = int(line[0])\n",
    "                interaction_type = line[2]\n",
    "                if current_session.session_id != session_id:\n",
    "                    self.sessions.append(current_session)\n",
    "                    current_session = Session(session_id)\n",
    "                \n",
    "                if interaction_type == \"C\":\n",
    "                    current_session.data.append(ClickAction(int(line[3])))\n",
    "                else:\n",
    "                    results = [int(q_id) for q_id in line[5:]]\n",
    "                    self.u = max(self.u, max(results))\n",
    "                    query_id = int(line[3])\n",
    "                    self.q = max(self.q, query_id)\n",
    "                    current_session.data.append(QueryAction(query_id, results))\n",
    "        \n",
    "        self.sessions.append(current_session)\n",
    "\n",
    "\n",
    "yandex_data = YandexData(\"./YandexRelPredChallenge.txt\")\n",
    "print(\"Total number of sessions: \", len(yandex_data.sessions))\n",
    "print(\"Total number of interactions: \", sum(len(session.data) for session in yandex_data.sessions))"
   ]
  },
  {
   "cell_type": "code",
   "execution_count": 25,
   "metadata": {},
   "outputs": [
    {
     "data": {
      "text/plain": [
       "0.13445559411047547"
      ]
     },
     "execution_count": 25,
     "metadata": {},
     "output_type": "execute_result"
    }
   ],
   "source": [
    "class RandomClickModel:\n",
    "    def __init__(self):\n",
    "        self.rho = 0\n",
    "    \n",
    "    def estimate(self, yandex_data):\n",
    "        clicks = 0\n",
    "        results = 0\n",
    "        for session in yandex_data.sessions:\n",
    "            clicks += len(session.clicks)\n",
    "            results += sum(len(query.results) for query in session.queries)\n",
    "        self.rho = clicks / results\n",
    "    \n",
    "    def predict(self, clicks):\n",
    "        #(b) there is a method that predicts the click probability given a ranked list of relevance labels,\n",
    "        pass\n",
    "    \n",
    "    @staticmethod\n",
    "    def simulate(results, grade_to_probability, params):\n",
    "        rho = params.get(\"rho\")\n",
    "        assert 0 <= rho <= 1.0\n",
    "        \n",
    "        # TODO something is wrong with this and I can't figure it out. pls fix \n",
    "        clicks = []\n",
    "        for rank, result in enumerate(results):\n",
    "            click = toss_coin(rho)\n",
    "            if click:\n",
    "                clicks.append(rank)\n",
    "        return clicks\n",
    "\n",
    "rcm = RandomClickModel()\n",
    "rcm.estimate(yandex_data)\n",
    "rcm.rho"
   ]
  },
  {
   "cell_type": "code",
   "execution_count": 26,
   "metadata": {},
   "outputs": [
    {
     "data": {
      "text/plain": [
       "(527494, 66579)"
      ]
     },
     "execution_count": 26,
     "metadata": {},
     "output_type": "execute_result"
    }
   ],
   "source": [
    "yandex_data.u, yandex_data.q"
   ]
  },
  {
   "cell_type": "code",
   "execution_count": 27,
   "metadata": {
    "collapsed": true
   },
   "outputs": [],
   "source": [
    "class SimpleDynamicBayesianNetwork:\n",
    "        \n",
    "    def _estimate_sigma(self, yandex_data):\n",
    "        satisfied_clicks = collections.defaultdict(lambda : collections.defaultdict(float))\n",
    "        total_clicks = collections.defaultdict(lambda : collections.defaultdict(float))\n",
    "        \n",
    "        \n",
    "        for session in yandex_data.sessions:\n",
    "            for interaction in session.get_complete_interactions():\n",
    "                #print(interaction) TODO explain why we continue\n",
    "                if not isinstance(interaction[-1], ClickAction):\n",
    "                    continue\n",
    "                query_action = interaction[0]\n",
    "                # sanity check TODO remove\n",
    "                assert isinstance(query_action, QueryAction)\n",
    "                for click in interaction[1:]:\n",
    "                    # sanity check TODO remove\n",
    "                    assert isinstance(click, ClickAction)\n",
    "                    total_clicks[click.clicked_id][query_action.query_id] += 1\n",
    "                \n",
    "                last_click = interaction[-1]\n",
    "                #print(last_click)\n",
    "                satisfied_clicks[last_click.clicked_id][query_action.query_id] += 1\n",
    "        \n",
    "        self.sigma = collections.defaultdict(lambda : collections.defaultdict(float))\n",
    "        \n",
    "        all_clicks = 0\n",
    "        all_satisfied = 0\n",
    "        for click_id, queries in total_clicks.items():\n",
    "            for query_id, count in queries.items():\n",
    "                self.sigma[click_id][query_id] = satisfied_clicks[click_id][query_id] / count\n",
    "                all_clicks += count\n",
    "                all_satisfied += satisfied_clicks[click_id][query_id]\n",
    "        \n",
    "        self.sigma_global = all_satisfied / all_clicks\n",
    "                \n",
    "    def _estimate_alpha(self, yandex_data):\n",
    "        seen = collections.defaultdict(lambda : collections.defaultdict(float))\n",
    "        clicks = collections.defaultdict(lambda : collections.defaultdict(float))\n",
    "        \n",
    "        for session in yandex_data.sessions:\n",
    "            for interaction in session.get_complete_interactions():\n",
    "                query_action = interaction[0]\n",
    "                assert isinstance(query_action, QueryAction)\n",
    "                \n",
    "                for result in query_action.results:\n",
    "                    seen[result][query_action.query_id] += 1\n",
    "                \n",
    "                for click in interaction[1:]:\n",
    "                    # sanity check TODO remove\n",
    "                    assert isinstance(click, ClickAction)\n",
    "                    clicks[click.clicked_id][query_action.query_id] += 1\n",
    "                \n",
    "\n",
    "        \n",
    "        self.alpha = collections.defaultdict(lambda : collections.defaultdict(float))\n",
    "        for click_id, queries in seen.items():\n",
    "            for query_id, count in queries.items():\n",
    "                self.alpha[click_id][query_id] = clicks[click_id][query_id] / count\n",
    "    \n",
    "    \n",
    "    def estimate(self, yandex_data):\n",
    "        self._estimate_sigma(yandex_data)\n",
    "        self._estimate_alpha(yandex_data)\n",
    "        \n",
    "    @staticmethod\n",
    "    def simulate(results, grade_to_probability, params):\n",
    "        clicks = []\n",
    "        sigma = params[\"sigma\"]\n",
    "        for index, result in enumerate(results):\n",
    "            examine = toss_coin(grade_to_probability[result])\n",
    "            if not examine:\n",
    "                continue\n",
    "            clicks.append(index)\n",
    "            \n",
    "            satisfied = toss_coin(sigma)\n",
    "            if satisfied:\n",
    "                break\n",
    "                \n",
    "        return clicks\n"
   ]
  },
  {
   "cell_type": "code",
   "execution_count": 28,
   "metadata": {},
   "outputs": [
    {
     "data": {
      "text/plain": [
       "0.5121189928157913"
      ]
     },
     "execution_count": 28,
     "metadata": {},
     "output_type": "execute_result"
    }
   ],
   "source": [
    "# TODO replace with how you compute alpha\n",
    "grade_to_probability = {\n",
    "    Grade.N: 0.1,\n",
    "    Grade.R: 0.5,\n",
    "    Grade.HR: 0.9\n",
    "}\n",
    "    \n",
    "sdbn = SimpleDynamicBayesianNetwork()\n",
    "sdbn.estimate(yandex_data)\n",
    "sdbn.sigma_global"
   ]
  },
  {
   "cell_type": "code",
   "execution_count": 29,
   "metadata": {
    "collapsed": true
   },
   "outputs": [],
   "source": [
    "def simulate(data, interleaving, click_model, params):\n",
    "#      print(\"Data: Metric: {}, Number of samples for which E>P: {}\".format(data.metric, data.mask.sum()))\n",
    "    winner_E = 0\n",
    "    ties = 0\n",
    "    for production, experimental in permutations[data.mask]:\n",
    "        interleaved = interleaving.interleave(production, experimental, \"P\", \"E\")\n",
    "        clicks = click_model.simulate([i.result for i in interleaved], grade_to_probability, params)\n",
    "        scores = interleaving.score_clicks(interleaved, clicks)\n",
    "        \n",
    "        if scores[\"E\"] > scores[\"P\"]:\n",
    "            winner_E += 1\n",
    "        elif scores[\"E\"] == scores[\"P\"]:\n",
    "            ties += 1\n",
    "    proportion = (winner_E / (len(permutations[data.mask]) - ties))\n",
    "#     print(\"\\tInterleaving used: {}, ClickModel: {}, Ties: {}, E-Wins: {}\\n\".format(interleaving.__name__,\n",
    "#                                                                                  click_model.__name__, ties, winner_E))\n",
    "    return proportion "
   ]
  },
  {
   "cell_type": "code",
   "execution_count": 30,
   "metadata": {},
   "outputs": [
    {
     "data": {
      "text/plain": [
       "0.49747118325099976"
      ]
     },
     "execution_count": 30,
     "metadata": {},
     "output_type": "execute_result"
    }
   ],
   "source": [
    "simulate(experiment_data[0], TeamDraftInterleaving, RandomClickModel, {\"rho\": rcm.rho})"
   ]
  },
  {
   "cell_type": "markdown",
   "metadata": {},
   "source": [
    "#### TODO here we check whether SDBM > RCM\n",
    "    EXPLAIN THIS STHI"
   ]
  },
  {
   "cell_type": "code",
   "execution_count": 31,
   "metadata": {},
   "outputs": [
    {
     "name": "stdout",
     "output_type": "stream",
     "text": [
      "average-precision\n",
      "\t TeamDraftInterleaving RandomClickModel\n",
      "\t TeamDraftInterleaving SimpleDynamicBayesianNetwork\n",
      "\t BalancedInterleaving RandomClickModel\n",
      "\t BalancedInterleaving SimpleDynamicBayesianNetwork\n",
      "NCDG@k\n",
      "\t TeamDraftInterleaving RandomClickModel\n",
      "\t TeamDraftInterleaving SimpleDynamicBayesianNetwork\n",
      "\t BalancedInterleaving RandomClickModel\n",
      "\t BalancedInterleaving SimpleDynamicBayesianNetwork\n",
      "ERR\n",
      "\t TeamDraftInterleaving RandomClickModel\n",
      "\t TeamDraftInterleaving SimpleDynamicBayesianNetwork\n",
      "\t BalancedInterleaving RandomClickModel\n",
      "\t BalancedInterleaving SimpleDynamicBayesianNetwork\n"
     ]
    }
   ],
   "source": [
    "#t-test, used central limit theorem. Create 30 samples by simulating 30 times for each condition \n",
    "# and compare. Since the data is parametric we can use t-tests\n",
    "def CLT_experiment(data, n_samples = 30):\n",
    "    \n",
    "    simulation = collections.defaultdict(lambda: collections.defaultdict(list))\n",
    "    \n",
    "    interleaving_models = [TeamDraftInterleaving, BalancedInterleaving]\n",
    "    click_models = [(RandomClickModel, {\"rho\": rcm.rho}), \n",
    "                    (SimpleDynamicBayesianNetwork, {\"sigma\": sdbn.sigma_global})]\n",
    "    \n",
    "    \n",
    "    for interleaving in interleaving_models:\n",
    "        for click_model, params in click_models:\n",
    "            print(\"\\t\", interleaving.__name__, click_model.__name__)\n",
    "            for i in range(n_samples):\n",
    "                sim_result = simulate(data, interleaving, click_model, params)\n",
    "                simulation[interleaving.__name__][click_model.__name__].append(sim_result)\n",
    "\n",
    "    return simulation\n",
    "\n",
    "simulation_results = {}\n",
    "for data in experiment_data:\n",
    "    print(data.metric)\n",
    "    simulation_results[data.metric] = CLT_experiment(data, n_samples = 30)"
   ]
  },
  {
   "cell_type": "code",
   "execution_count": 32,
   "metadata": {},
   "outputs": [
    {
     "data": {
      "text/plain": [
       "{'ERR': defaultdict(<function __main__.CLT_experiment.<locals>.<lambda>>,\n",
       "             {'BalancedInterleaving': defaultdict(list,\n",
       "                          {'RandomClickModel': [0.49921445404556164,\n",
       "                            0.500784665396256,\n",
       "                            0.5005326604990188,\n",
       "                            0.4996641665733796,\n",
       "                            0.4987173767566362,\n",
       "                            0.49759846301633043,\n",
       "                            0.4999162806273372,\n",
       "                            0.5031294051310967,\n",
       "                            0.49904580152671757,\n",
       "                            0.4936389620579499,\n",
       "                            0.5046555979358313,\n",
       "                            0.4972806279786936,\n",
       "                            0.509838898489325,\n",
       "                            0.498105953525188,\n",
       "                            0.49554168524297815,\n",
       "                            0.5013410818059901,\n",
       "                            0.493684269100217,\n",
       "                            0.5011431439246082,\n",
       "                            0.4992962107989415,\n",
       "                            0.5000563570784491,\n",
       "                            0.4969461410327596,\n",
       "                            0.5017103123422868,\n",
       "                            0.4994104766717197,\n",
       "                            0.5077439194856025,\n",
       "                            0.49737777025883945,\n",
       "                            0.4974090345837558,\n",
       "                            0.5014595262153363,\n",
       "                            0.5002537069402943,\n",
       "                            0.4961849067112225,\n",
       "                            0.5015474649710202],\n",
       "                           'SimpleDynamicBayesianNetwork': [0.7120567375886525,\n",
       "                            0.7166408402203857,\n",
       "                            0.7143040740264748,\n",
       "                            0.7177578091570389,\n",
       "                            0.711467535809246,\n",
       "                            0.7205844545376638,\n",
       "                            0.7156402189372064,\n",
       "                            0.7178615973506516,\n",
       "                            0.7158167675021607,\n",
       "                            0.714199965700566,\n",
       "                            0.7205920095816579,\n",
       "                            0.7163230240549828,\n",
       "                            0.7139228517306698,\n",
       "                            0.7175959760973303,\n",
       "                            0.7174242096613761,\n",
       "                            0.71615381295585,\n",
       "                            0.7130830684649085,\n",
       "                            0.7148875800696445,\n",
       "                            0.7120708270351975,\n",
       "                            0.7184864957411291,\n",
       "                            0.7112237446845067,\n",
       "                            0.7202634637737311,\n",
       "                            0.718961818961819,\n",
       "                            0.7165680728874304,\n",
       "                            0.7151789564467443,\n",
       "                            0.7174511659925996,\n",
       "                            0.7160097573501091,\n",
       "                            0.7093298858004741,\n",
       "                            0.7235965746907707,\n",
       "                            0.7150279089738085]}),\n",
       "              'TeamDraftInterleaving': defaultdict(list,\n",
       "                          {'RandomClickModel': [0.503964014619061,\n",
       "                            0.5055910987482615,\n",
       "                            0.501233322121314,\n",
       "                            0.4958728388176241,\n",
       "                            0.5053084488153777,\n",
       "                            0.5013415315818893,\n",
       "                            0.4989358127030357,\n",
       "                            0.4958682331778065,\n",
       "                            0.5019105416947629,\n",
       "                            0.4989529684758617,\n",
       "                            0.506193505189153,\n",
       "                            0.4947875798677278,\n",
       "                            0.4975937325125909,\n",
       "                            0.49916191753268524,\n",
       "                            0.49907609608600706,\n",
       "                            0.4970477422257212,\n",
       "                            0.49167510406119924,\n",
       "                            0.5100566729636626,\n",
       "                            0.504261443811029,\n",
       "                            0.49860987544483987,\n",
       "                            0.49617852161785214,\n",
       "                            0.5031686388873311,\n",
       "                            0.500309806793218,\n",
       "                            0.49688849021696474,\n",
       "                            0.5001121201928467,\n",
       "                            0.4995501574448943,\n",
       "                            0.5003904942541559,\n",
       "                            0.5011319900384876,\n",
       "                            0.49916303983930366,\n",
       "                            0.49718050360113897],\n",
       "                           'SimpleDynamicBayesianNetwork': [0.7193246909858305,\n",
       "                            0.7197570222298811,\n",
       "                            0.7222294064399327,\n",
       "                            0.7094844651002669,\n",
       "                            0.7145255725848114,\n",
       "                            0.7170735900962861,\n",
       "                            0.7085871150381745,\n",
       "                            0.7184616711218419,\n",
       "                            0.7141630164047067,\n",
       "                            0.715620425385344,\n",
       "                            0.7166451612903226,\n",
       "                            0.7189110271384404,\n",
       "                            0.7186132326439544,\n",
       "                            0.7182185191547844,\n",
       "                            0.7111662955985614,\n",
       "                            0.7156900789031173,\n",
       "                            0.7215021459227468,\n",
       "                            0.7139536885598692,\n",
       "                            0.7149224307876918,\n",
       "                            0.7157397466179944,\n",
       "                            0.7164031620553359,\n",
       "                            0.720108695652174,\n",
       "                            0.7159773468337052,\n",
       "                            0.7189041807322774,\n",
       "                            0.7197877439233139,\n",
       "                            0.7147107010433733,\n",
       "                            0.7209142168467266,\n",
       "                            0.7126476420381067,\n",
       "                            0.7180312392722279,\n",
       "                            0.7161902320215358]})}),\n",
       " 'NCDG@k': defaultdict(<function __main__.CLT_experiment.<locals>.<lambda>>,\n",
       "             {'BalancedInterleaving': defaultdict(list,\n",
       "                          {'RandomClickModel': [0.5008069452946742,\n",
       "                            0.49747832492774974,\n",
       "                            0.496956837344352,\n",
       "                            0.49685149066592366,\n",
       "                            0.4975121596690334,\n",
       "                            0.5042394295019372,\n",
       "                            0.49654634581105167,\n",
       "                            0.5010668163952835,\n",
       "                            0.507775788767062,\n",
       "                            0.5054590017825312,\n",
       "                            0.5014888476880723,\n",
       "                            0.49866146123814836,\n",
       "                            0.5032011681455689,\n",
       "                            0.4957284047127143,\n",
       "                            0.5060710705135346,\n",
       "                            0.5003956590549401,\n",
       "                            0.5053263825929284,\n",
       "                            0.5004726160689463,\n",
       "                            0.4948905109489051,\n",
       "                            0.5019111860595841,\n",
       "                            0.5016757904144789,\n",
       "                            0.5036467684021544,\n",
       "                            0.5061088902651878,\n",
       "                            0.5103957075788061,\n",
       "                            0.5031248240526998,\n",
       "                            0.5050044984255511,\n",
       "                            0.5022997531972179,\n",
       "                            0.49988791750728534,\n",
       "                            0.49658301590858167,\n",
       "                            0.49839441922267746],\n",
       "                           'SimpleDynamicBayesianNetwork': [0.697140399913997,\n",
       "                            0.6937384024511285,\n",
       "                            0.6958549222797927,\n",
       "                            0.700576641707548,\n",
       "                            0.7007596892570497,\n",
       "                            0.6970931229634711,\n",
       "                            0.698720700609599,\n",
       "                            0.6973961695717668,\n",
       "                            0.6976363714642442,\n",
       "                            0.700447735491648,\n",
       "                            0.700765393876849,\n",
       "                            0.6976754178661969,\n",
       "                            0.6971023824855119,\n",
       "                            0.7024619092708961,\n",
       "                            0.7000949339777337,\n",
       "                            0.6952094522019334,\n",
       "                            0.6983777720251964,\n",
       "                            0.7041750870705594,\n",
       "                            0.7007099478231118,\n",
       "                            0.7013125828380863,\n",
       "                            0.6988724393182992,\n",
       "                            0.6949014915167315,\n",
       "                            0.6971465629053177,\n",
       "                            0.7005773871078939,\n",
       "                            0.6994878856995309,\n",
       "                            0.6941737151689494,\n",
       "                            0.7021258283845425,\n",
       "                            0.6996480082417582,\n",
       "                            0.7029290499914104,\n",
       "                            0.7013182189016274]}),\n",
       "              'TeamDraftInterleaving': defaultdict(list,\n",
       "                          {'RandomClickModel': [0.5012379023182534,\n",
       "                            0.49346496886744823,\n",
       "                            0.5019654088050315,\n",
       "                            0.5061908230152949,\n",
       "                            0.5022606754116662,\n",
       "                            0.50993006993007,\n",
       "                            0.5031839954916878,\n",
       "                            0.5027233421303835,\n",
       "                            0.49616783216783217,\n",
       "                            0.49909828674481516,\n",
       "                            0.501806458784948,\n",
       "                            0.5076982935912401,\n",
       "                            0.4967503361721201,\n",
       "                            0.5011978383196836,\n",
       "                            0.5024688587139491,\n",
       "                            0.49621827553364334,\n",
       "                            0.503852860115867,\n",
       "                            0.49627805451390833,\n",
       "                            0.49507499440340275,\n",
       "                            0.4973214285714286,\n",
       "                            0.49130801687763714,\n",
       "                            0.5027522935779817,\n",
       "                            0.5082737030411449,\n",
       "                            0.49623724845309103,\n",
       "                            0.5025956438325245,\n",
       "                            0.5014880116794879,\n",
       "                            0.49977520512532314,\n",
       "                            0.5014024458655896,\n",
       "                            0.49575246132208156,\n",
       "                            0.49582375693704805],\n",
       "                           'SimpleDynamicBayesianNetwork': [0.7082348898148546,\n",
       "                            0.6968474914357573,\n",
       "                            0.6999181634147392,\n",
       "                            0.6949976343068519,\n",
       "                            0.6916251893529539,\n",
       "                            0.6982873331330214,\n",
       "                            0.6958745165449076,\n",
       "                            0.6974981699177539,\n",
       "                            0.6963980150581793,\n",
       "                            0.7045697888560538,\n",
       "                            0.6999828781782381,\n",
       "                            0.701570006863418,\n",
       "                            0.7011297500855871,\n",
       "                            0.6986289594704946,\n",
       "                            0.6986762105989393,\n",
       "                            0.7025947246327005,\n",
       "                            0.7002197612789245,\n",
       "                            0.6967135747382873,\n",
       "                            0.6971770376108098,\n",
       "                            0.6974818755094162,\n",
       "                            0.6956951366214126,\n",
       "                            0.703913491246138,\n",
       "                            0.700864627693896,\n",
       "                            0.6965077724669508,\n",
       "                            0.6954428202923474,\n",
       "                            0.7001198322348712,\n",
       "                            0.6981042857756953,\n",
       "                            0.7030893187987418,\n",
       "                            0.7002572898799314,\n",
       "                            0.7041833959331693]})}),\n",
       " 'average-precision': defaultdict(<function __main__.CLT_experiment.<locals>.<lambda>>,\n",
       "             {'BalancedInterleaving': defaultdict(list,\n",
       "                          {'RandomClickModel': [0.4997347480106101,\n",
       "                            0.5066760365425158,\n",
       "                            0.49979359556525327,\n",
       "                            0.49240691879214304,\n",
       "                            0.5036984436948931,\n",
       "                            0.49365219958665485,\n",
       "                            0.4980290639524622,\n",
       "                            0.49590284737369567,\n",
       "                            0.5022282162542512,\n",
       "                            0.5009121402930619,\n",
       "                            0.5010086626320162,\n",
       "                            0.5001469810100535,\n",
       "                            0.49304081151214907,\n",
       "                            0.5103717274392766,\n",
       "                            0.5047793249940996,\n",
       "                            0.5063521938595459,\n",
       "                            0.4980286000117696,\n",
       "                            0.4956221335398177,\n",
       "                            0.49659424544920727,\n",
       "                            0.4964401294498382,\n",
       "                            0.5015434795270546,\n",
       "                            0.5064843197359113,\n",
       "                            0.49932037113645766,\n",
       "                            0.4994667614646285,\n",
       "                            0.48948878608654917,\n",
       "                            0.4991174393975053,\n",
       "                            0.50002943080817,\n",
       "                            0.49768532083211253,\n",
       "                            0.5025146198830409,\n",
       "                            0.5084457478005865],\n",
       "                           'SimpleDynamicBayesianNetwork': [0.6745329843876906,\n",
       "                            0.6716921692169217,\n",
       "                            0.6789089927086146,\n",
       "                            0.6766610806648852,\n",
       "                            0.671284805270996,\n",
       "                            0.6752175285153961,\n",
       "                            0.6763582438322923,\n",
       "                            0.6770267824828086,\n",
       "                            0.6724586925287356,\n",
       "                            0.6743598990263253,\n",
       "                            0.6726418928071523,\n",
       "                            0.6697672328570144,\n",
       "                            0.6704908444684393,\n",
       "                            0.6776774077569547,\n",
       "                            0.6746672682156553,\n",
       "                            0.6706040871322704,\n",
       "                            0.6737858794721806,\n",
       "                            0.6741162129215766,\n",
       "                            0.6742808418974106,\n",
       "                            0.6722696669829651,\n",
       "                            0.6720115304927484,\n",
       "                            0.677281326006666,\n",
       "                            0.6756098660774676,\n",
       "                            0.6754262969831291,\n",
       "                            0.6739797760924522,\n",
       "                            0.6746114459196157,\n",
       "                            0.6705340616676448,\n",
       "                            0.674526600541028,\n",
       "                            0.6772186147186147,\n",
       "                            0.6720079218616375]}),\n",
       "              'TeamDraftInterleaving': defaultdict(list,\n",
       "                          {'RandomClickModel': [0.5025580711555425,\n",
       "                            0.49856917596215616,\n",
       "                            0.4894643908181283,\n",
       "                            0.49943796959119685,\n",
       "                            0.501726458711301,\n",
       "                            0.5033817561606775,\n",
       "                            0.5007675956542277,\n",
       "                            0.4964749096510457,\n",
       "                            0.4901810461756207,\n",
       "                            0.4953907580294757,\n",
       "                            0.5004971050938651,\n",
       "                            0.4988853690015253,\n",
       "                            0.5021377672209026,\n",
       "                            0.5023571007660578,\n",
       "                            0.4971978054392071,\n",
       "                            0.5014580729631614,\n",
       "                            0.4997354963851173,\n",
       "                            0.49390029325513196,\n",
       "                            0.5004164187983343,\n",
       "                            0.4992963527618154,\n",
       "                            0.4987269820593286,\n",
       "                            0.5009475304986379,\n",
       "                            0.5028654970760233,\n",
       "                            0.5003522780648192,\n",
       "                            0.5016866899449607,\n",
       "                            0.5008831841733397,\n",
       "                            0.4910271546635183,\n",
       "                            0.501562039493074,\n",
       "                            0.5051212620673416,\n",
       "                            0.5037784862439485],\n",
       "                           'SimpleDynamicBayesianNetwork': [0.6728422955264347,\n",
       "                            0.6739804864889168,\n",
       "                            0.6677052289352479,\n",
       "                            0.6721622476173269,\n",
       "                            0.6742349011465198,\n",
       "                            0.6751595218837063,\n",
       "                            0.672746151415286,\n",
       "                            0.6730908106156346,\n",
       "                            0.6769265536723164,\n",
       "                            0.6699358221097351,\n",
       "                            0.6712514704551624,\n",
       "                            0.6712502261624751,\n",
       "                            0.6686085896220024,\n",
       "                            0.6736728158405124,\n",
       "                            0.672043979812545,\n",
       "                            0.6760296242774566,\n",
       "                            0.6764665973133113,\n",
       "                            0.670857452966715,\n",
       "                            0.674893962638751,\n",
       "                            0.6735410662824207,\n",
       "                            0.6791710032128151,\n",
       "                            0.669988726042841,\n",
       "                            0.6726037871632259,\n",
       "                            0.6678810776773265,\n",
       "                            0.6728358749264672,\n",
       "                            0.6706825510569688,\n",
       "                            0.674159834219299,\n",
       "                            0.6731054310228651,\n",
       "                            0.6750135110790848,\n",
       "                            0.677959992791494]})})}"
      ]
     },
     "execution_count": 32,
     "metadata": {},
     "output_type": "execute_result"
    }
   ],
   "source": [
    "simulation_results"
   ]
  },
  {
   "cell_type": "code",
   "execution_count": 85,
   "metadata": {},
   "outputs": [
    {
     "name": "stdout",
     "output_type": "stream",
     "text": [
      "Two sample t-tests. Each group is generated by taking 30 proportions of wins (central limit theorem)\n",
      "\n",
      "Metric: average-precision\n",
      "\tChecks for normality\n",
      "\t\tTeamDraft RCM \tp-value: 0.012\n",
      "\t\tTeamDraft SDBM \tp-value: 0.979\n",
      "\t\tBalanced RCM \tp-value: 0.964\n",
      "\t\tBalanced SDBM \tp-value: 0.489\n",
      "\n",
      "\t\t\tTwo sample t-test, n = 30\n",
      "\tComparing TeamDraft RCM with TeamDraft SDBM : P-value = 0.000\n",
      "\tComparing Balanced RCM with Balanced SDBM : P-value = 0.000\n",
      "####################################################################################################\n",
      "\n",
      "Metric: NCDG@k\n",
      "\tChecks for normality\n",
      "\t\tTeamDraft RCM \tp-value: 0.900\n",
      "\t\tTeamDraft SDBM \tp-value: 0.425\n",
      "\t\tBalanced RCM \tp-value: 0.639\n",
      "\t\tBalanced SDBM \tp-value: 0.690\n",
      "\n",
      "\t\t\tTwo sample t-test, n = 30\n",
      "\tComparing TeamDraft RCM with TeamDraft SDBM : P-value = 0.000\n",
      "\tComparing Balanced RCM with Balanced SDBM : P-value = 0.000\n",
      "####################################################################################################\n",
      "\n",
      "Metric: ERR\n",
      "\tChecks for normality\n",
      "\t\tTeamDraft RCM \tp-value: 0.399\n",
      "\t\tTeamDraft SDBM \tp-value: 0.316\n",
      "\t\tBalanced RCM \tp-value: 0.023\n",
      "\t\tBalanced SDBM \tp-value: 0.862\n",
      "\n",
      "\t\t\tTwo sample t-test, n = 30\n",
      "\tComparing TeamDraft RCM with TeamDraft SDBM : P-value = 0.000\n",
      "\tComparing Balanced RCM with Balanced SDBM : P-value = 0.000\n",
      "####################################################################################################\n",
      "\n"
     ]
    }
   ],
   "source": [
    "print(\"Two sample t-tests. Each group is generated by taking 30 proportions of wins (central limit theorem)\\n\")\n",
    "for data in experiment_data:\n",
    "    sim = simulation_results[data.metric]\n",
    "    sim_teamdraft_RCM = sim[\"TeamDraftInterleaving\"][\"RandomClickModel\"]\n",
    "    sim_teamdraft_SDBM = sim[\"TeamDraftInterleaving\"][\"SimpleDynamicBayesianNetwork\"]\n",
    "    sim_interleaved_RCM = sim[\"BalancedInterleaving\"][\"RandomClickModel\"]\n",
    "    sim_interleaved_SDBM = sim[\"BalancedInterleaving\"][\"SimpleDynamicBayesianNetwork\"]\n",
    "    \n",
    "    print(\"Metric: {}\".format(data.metric))\n",
    "    \n",
    "    print(\"\\tChecks for normality\")\n",
    "    print(\"\\t\\tTeamDraft RCM \\tp-value: {0:.3f}\".format(stats.normaltest(sim_teamdraft_RCM)[1]))\n",
    "    print(\"\\t\\tTeamDraft SDBM \\tp-value: {0:.3f}\".format(stats.normaltest(sim_teamdraft_SDBM)[1]))\n",
    "    print(\"\\t\\tBalanced RCM \\tp-value: {0:.3f}\".format(stats.normaltest(sim_interleaved_RCM)[1]))\n",
    "    print(\"\\t\\tBalanced SDBM \\tp-value: {0:.3f}\".format(stats.normaltest(sim_interleaved_SDBM)[1]))\n",
    "    print()\n",
    "    \n",
    "    # compares using t-test 2 sample (comparing with RCM, which is equal to chance)\n",
    "    print(\"\\t\\t\\tTwo sample t-test, n = 30\")\n",
    "    z, p = stats.ttest_ind(sim_teamdraft_RCM,sim_teamdraft_SDBM)\n",
    "    print(\"\\tComparing TeamDraft RCM with TeamDraft SDBM : P-value = {0:.3f}\".format(p))\n",
    "\n",
    "    z, p = stats.ttest_ind(sim_interleaved_RCM,sim_interleaved_SDBM)\n",
    "    print(\"\\tComparing Balanced RCM with Balanced SDBM : P-value = {0:.3f}\".format(p))\n",
    "    \n",
    "    print(\"#\" * 100 + \"\\n\")\n",
    "    "
   ]
  },
  {
   "cell_type": "code",
   "execution_count": 60,
   "metadata": {
    "collapsed": true
   },
   "outputs": [],
   "source": [
    "# creating the sign test (uses data of 1 trial only since non-parametric). We also wanted to do a t-test\n",
    "# however the data was not parametric (normally distributed) therefore we used the wilcoxon test.\n",
    "def sign_test(data, interleaving, click_model, params):\n",
    "    \"\"\"\n",
    "        TODO Marco\n",
    "    \"\"\"\n",
    "    sign_array = []\n",
    "#     score_p = []\n",
    "#     score_e = []\n",
    "    \n",
    "    for production, experimental in permutations[data.mask]:\n",
    "        interleaved = interleaving.interleave(production, experimental, \"P\", \"E\")\n",
    "        clicks = click_model.simulate([i.result for i in interleaved], grade_to_probability, params)\n",
    "        scores = interleaving.score_clicks(interleaved, clicks)\n",
    "#         score_p.append(scores[\"E\"])\n",
    "#         score_e.append(scores[\"P\"])\n",
    "        sign_array.append(scores[\"E\"] - scores[\"P\"])\n",
    "    \n",
    "#     z, p = stats.normaltest(score_p)\n",
    "#     print(\"P value for ScoresP (normal): \", p)\n",
    "#     z, p = stats.normaltest(score_e)\n",
    "#     print(\"P value for ScoresE (normal): \", p)\n",
    "    z, p = stats.wilcoxon(sign_array)\n",
    "#     z, p = stats.ttest_ind(score_p, score_e)\n",
    "    \n",
    "    return z, p"
   ]
  },
  {
   "cell_type": "code",
   "execution_count": 62,
   "metadata": {},
   "outputs": [
    {
     "name": "stdout",
     "output_type": "stream",
     "text": [
      "\t\t\tWilcoxon tests, n = 59049\n",
      "average-precision\n",
      "\tComparing (E-P) TeamDraft, RCM \tP-value = 0.867\n",
      "\tComparing (E-P) TeamDraft, SDBN P-value = 0.000\n",
      "\tComparing (E-P) Balanced, RCM \tP-value = 0.636\n",
      "\tComparing (E-P) Balanced, SDBN \tP-value = 0.000\n",
      "NCDG@k\n",
      "\tComparing (E-P) TeamDraft, RCM \tP-value = 0.772\n",
      "\tComparing (E-P) TeamDraft, SDBN P-value = 0.000\n",
      "\tComparing (E-P) Balanced, RCM \tP-value = 0.156\n",
      "\tComparing (E-P) Balanced, SDBN \tP-value = 0.000\n",
      "ERR\n",
      "\tComparing (E-P) TeamDraft, RCM \tP-value = 0.546\n",
      "\tComparing (E-P) TeamDraft, SDBN P-value = 0.000\n",
      "\tComparing (E-P) Balanced, RCM \tP-value = 0.929\n",
      "\tComparing (E-P) Balanced, SDBN \tP-value = 0.000\n"
     ]
    }
   ],
   "source": [
    "print(\"\\t\\t\\tWilcoxon tests, n = 59049\")\n",
    "for data in experiment_data:\n",
    "    print(data.metric)\n",
    "    # using the non-parametric sign tests to compare.\n",
    "    z, p = sign_test(data, TeamDraftInterleaving, RandomClickModel, {\"rho\": rcm.rho})\n",
    "    print(\"\\tComparing (E-P) TeamDraft, RCM \\tP-value = {0:.3f}\".format(p))\n",
    "\n",
    "    z, p = sign_test(data, TeamDraftInterleaving, SimpleDynamicBayesianNetwork, {\"sigma\": sdbn.sigma_global})\n",
    "    print(\"\\tComparing (E-P) TeamDraft, SDBN P-value = {0:.3f}\".format(p))\n",
    "\n",
    "    z, p = sign_test(data, BalancedInterleaving, RandomClickModel, {\"rho\": rcm.rho})\n",
    "    print(\"\\tComparing (E-P) Balanced, RCM \\tP-value = {0:.3f}\".format(p))\n",
    "\n",
    "    z, p = sign_test(data, BalancedInterleaving, SimpleDynamicBayesianNetwork, {\"sigma\": sdbn.sigma_global})\n",
    "    print(\"\\tComparing (E-P) Balanced, SDBN \\tP-value = {0:.3f}\".format(p))"
   ]
  },
  {
   "cell_type": "code",
   "execution_count": 95,
   "metadata": {},
   "outputs": [
    {
     "name": "stdout",
     "output_type": "stream",
     "text": [
      "Two sample t-tests. Each group is generated by taking 30 proportions of wins (central limit theorem)\n",
      "\n"
     ]
    },
    {
     "data": {
      "image/png": "[encoded data removed]",
      "text/plain": [
       "<matplotlib.figure.Figure at 0x7fcff66158d0>"
      ]
     },
     "metadata": {},
     "output_type": "display_data"
    },
    {
     "data": {
      "image/png": "[encoded data removed]",
      "text/plain": [
       "<matplotlib.figure.Figure at 0x7fcff690d9b0>"
      ]
     },
     "metadata": {},
     "output_type": "display_data"
    },
    {
     "data": {
      "image/png": "[encoded data removed]",
      "text/plain": [
       "<matplotlib.figure.Figure at 0x7fcff3c99f98>"
      ]
     },
     "metadata": {},
     "output_type": "display_data"
    },
    {
     "name": "stdout",
     "output_type": "stream",
     "text": [
      "Two sample t-tests. Each group is generated by taking 30 proportions of wins (central limit theorem)\n",
      "\n"
     ]
    },
    {
     "data": {
      "image/png": "[encoded data removed]",
      "text/plain": [
       "<matplotlib.figure.Figure at 0x7fcff68e0208>"
      ]
     },
     "metadata": {},
     "output_type": "display_data"
    },
    {
     "data": {
      "image/png": "[encoded data removed]",
      "text/plain": [
       "<matplotlib.figure.Figure at 0x7fcff6af9f98>"
      ]
     },
     "metadata": {},
     "output_type": "display_data"
    },
    {
     "data": {
      "image/png": "[encoded data removed]",
      "text/plain": [
       "<matplotlib.figure.Figure at 0x7fcff689c7b8>"
      ]
     },
     "metadata": {},
     "output_type": "display_data"
    }
   ],
   "source": [
    "print(\"Two sample t-tests. Each group is generated by taking 30 proportions of wins (central limit theorem)\\n\")\n",
    "for data in experiment_data:\n",
    "    sim = simulation_results[data.metric]\n",
    "    sim_teamdraft_RCM = sim[\"TeamDraftInterleaving\"][\"RandomClickModel\"]\n",
    "    sim_teamdraft_SDBM = sim[\"TeamDraftInterleaving\"][\"SimpleDynamicBayesianNetwork\"]\n",
    "    sim_interleaved_RCM = sim[\"BalancedInterleaving\"][\"RandomClickModel\"]\n",
    "    sim_interleaved_SDBM = sim[\"BalancedInterleaving\"][\"SimpleDynamicBayesianNetwork\"]\n",
    "    \n",
    "    bins = np.linspace(0.45, 0.9, 200)\n",
    "    #plt.hist(sim_interleaved_SDBM, bins, alpha=0.25, label='IL_SDBM')\n",
    "    plt.hist(sim_teamdraft_SDBM, bins, alpha=0.25, label='TD_SDBM')\n",
    "    #plt.hist(sim_interleaved_RCM, bins, alpha=0.25, label='IL_RCM')\n",
    "    plt.hist(sim_teamdraft_RCM, bins, alpha=0.25, label='TD_RCM')\n",
    "    \n",
    "    title_text = data.metric + \"  (n = 30)\"\n",
    "    plt.title(title_text)\n",
    "    plt.legend(loc='upper right')\n",
    "    plt.show()\n",
    "\n",
    "print(\"Two sample t-tests. Each group is generated by taking 30 proportions of wins (central limit theorem)\\n\")\n",
    "for data in experiment_data:\n",
    "    sim = simulation_results[data.metric]\n",
    "    sim_teamdraft_RCM = sim[\"TeamDraftInterleaving\"][\"RandomClickModel\"]\n",
    "    sim_teamdraft_SDBM = sim[\"TeamDraftInterleaving\"][\"SimpleDynamicBayesianNetwork\"]\n",
    "    sim_interleaved_RCM = sim[\"BalancedInterleaving\"][\"RandomClickModel\"]\n",
    "    sim_interleaved_SDBM = sim[\"BalancedInterleaving\"][\"SimpleDynamicBayesianNetwork\"]\n",
    "    \n",
    "    bins = np.linspace(0.45, 0.9, 200)\n",
    "    plt.hist(sim_interleaved_SDBM, bins, alpha=0.25, label='IL_SDBM')\n",
    "#     plt.hist(sim_teamdraft_SDBM, bins, alpha=0.25, label='TD_SDBM')\n",
    "    plt.hist(sim_interleaved_RCM, bins, alpha=0.25, label='IL_RCM')\n",
    "#     plt.hist(sim_teamdraft_RCM, bins, alpha=0.25, label='TD_RCM')\n",
    "\n",
    "    title_text = data.metric + \"  (n = 30)\"\n",
    "    plt.title(title_text)\n",
    "    plt.legend(loc='upper right')\n",
    "    plt.show()"
   ]
  },
  {
   "cell_type": "code",
   "execution_count": null,
   "metadata": {
    "collapsed": true
   },
   "outputs": [],
   "source": []
  }
 ],
 "metadata": {
  "kernelspec": {
   "display_name": "Python 3",
   "language": "python",
   "name": "python3"
  },
  "language_info": {
   "codemirror_mode": {
    "name": "ipython",
    "version": 3
   },
   "file_extension": ".py",
   "mimetype": "text/x-python",
   "name": "python",
   "nbconvert_exporter": "python",
   "pygments_lexer": "ipython3",
   "version": "3.6.3"
  }
 },
 "nbformat": 4,
 "nbformat_minor": 2
}
