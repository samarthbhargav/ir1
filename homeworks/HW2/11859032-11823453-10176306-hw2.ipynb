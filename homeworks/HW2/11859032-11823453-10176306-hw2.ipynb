{
 "cells": [
  {
   "cell_type": "markdown",
   "metadata": {},
   "source": [
    "# Information Retrieval 1#\n",
    "## Assignment 2: Retrieval models [100 points] ##"
   ]
  },
  {
   "cell_type": "markdown",
   "metadata": {},
   "source": [
    "In this assignment you will get familiar with basic and advanced information retrieval concepts. You will implement different information retrieval ranking models and evaluate their performance.\n",
    "\n",
    "We provide you with a Indri index. To query the index, you'll use a Python package ([pyndri](https://github.com/cvangysel/pyndri)) that allows easy access to the underlying document statistics.\n",
    "\n",
    "For evaluation you'll use the [TREC Eval](https://github.com/usnistgov/trec_eval) utility, provided by the National Institute of Standards and Technology of the United States. TREC Eval is the de facto standard way to compute Information Retrieval measures and is frequently referenced in scientific papers.\n",
    "\n",
    "This is a **groups-of-three assignment**, the deadline is **Wednesday, January 31st**. Code quality, informative comments and convincing analysis of the results will be considered when grading. Submission should be done through blackboard, questions can be asked on the course [Piazza](piazza.com/university_of_amsterdam/spring2018/52041inr6y/home).\n",
    "\n",
    "### Technicalities (must-read!) ###\n",
    "\n",
    "The assignment directory is organized as follows:\n",
    "   * `./assignment.ipynb` (this file): the description of the assignment.\n",
    "   * `./index/`: the index we prepared for you.\n",
    "   * `./ap_88_90/`: directory with ground-truth and evaluation sets:\n",
    "      * `qrel_test`: test query relevance collection (**test set**).\n",
    "      * `qrel_validation`: validation query relevance collection (**validation set**).\n",
    "      * `topics_title`: semicolon-separated file with query identifiers and terms.\n",
    "\n",
    "You will need the following software packages (tested with Python 3.5 inside [Anaconda](https://conda.io/docs/user-guide/install/index.html)):\n",
    "   * Python 3.5 and Jupyter\n",
    "   * Indri + Pyndri (Follow the installation instructions [here](https://github.com/nickvosk/pyndri/blob/master/README.md))\n",
    "   * gensim [link](https://radimrehurek.com/gensim/install.html)\n",
    "   * TREC Eval [link](https://github.com/usnistgov/trec_eval)"
   ]
  },
  {
   "cell_type": "markdown",
   "metadata": {},
   "source": [
    "### TREC Eval primer ###\n",
    "The TREC Eval utility can be downloaded and compiled as follows:\n",
    "\n",
    "    git clone https://github.com/usnistgov/trec_eval.git\n",
    "    cd trec_eval\n",
    "    make\n",
    "\n",
    "TREC Eval computes evaluation scores given two files: ground-truth information regarding relevant documents, named *query relevance* or *qrel*, and a ranking of documents for a set of queries, referred to as a *run*. The *qrel* will be supplied by us and should not be changed. For every retrieval model (or combinations thereof) you will generate a run of the top-1000 documents for every query. The format of the *run* file is as follows:\n",
    "\n",
    "    $query_identifier Q0 $document_identifier $rank_of_document_for_query $query_document_similarity $run_identifier\n",
    "    \n",
    "where\n",
    "   * `$query_identifier` is the unique identifier corresponding to a query (usually this follows a sequential numbering).\n",
    "   * `Q0` is a legacy field that you can ignore.\n",
    "   * `$document_identifier` corresponds to the unique identifier of a document (e.g., APXXXXXXX where AP denotes the collection and the Xs correspond to a unique numerical identifier).\n",
    "   * `$rank_of_document_for_query` denotes the rank of the document for the particular query. This field is ignored by TREC Eval and is only maintained for legacy support. The ranks are computed by TREC Eval itself using the `$query_document_similarity` field (see next). However, it remains good practice to correctly compute this field.\n",
    "   * `$query_document_similarity` is a score indicating the similarity between query and document where a higher score denotes greater similarity.\n",
    "   * `$run_identifier` is an identifier of the run. This field is for your own convenience and has no purpose beyond bookkeeping.\n",
    "   \n",
    "For example, say we have two queries: `Q1` and `Q2` and we rank three documents (`DOC1`, `DOC2`, `DOC3`). For query `Q1`, we find the following similarity scores `score(Q1, DOC1) = 1.0`, `score(Q1, DOC2) = 0.5`, `score(Q1, DOC3) = 0.75`; and for `Q2`: `score(Q2, DOC1) = -0.1`, `score(Q2, DOC2) = 1.25`, `score(Q1, DOC3) = 0.0`. We can generate run using the following snippet:"
   ]
  },
  {
   "cell_type": "code",
   "execution_count": 1,
   "metadata": {
    "scrolled": false
   },
   "outputs": [
    {
     "name": "stdout",
     "output_type": "stream",
     "text": [
      "Q1 Q0 DOC1 1 1.0 example\n",
      "Q1 Q0 DOC3 2 0.75 example\n",
      "Q1 Q0 DOC2 3 0.5 example\n",
      "Q2 Q0 DOC2 1 1.25 example\n",
      "Q2 Q0 DOC3 2 0.0 example\n",
      "Q2 Q0 DOC1 3 -0.1 example\n"
     ]
    }
   ],
   "source": [
    "import logging\n",
    "import sys\n",
    "import os\n",
    "import gensim\n",
    "import time\n",
    "import math\n",
    "import numpy as np\n",
    "import subprocess\n",
    "import functools\n",
    "import random\n",
    "from scipy import stats\n",
    "import matplotlib.pyplot as plt\n",
    "from scipy.spatial.distance import cosine as cosine_distance\n",
    "import pickle\n",
    "from sklearn.preprocessing import MinMaxScaler\n",
    "\n",
    "%matplotlib inline\n",
    "\n",
    "def write_run(model_name, data, out_f,\n",
    "              max_objects_per_query=sys.maxsize,\n",
    "              skip_sorting=False):\n",
    "    \"\"\"\n",
    "    Write a run to an output file.\n",
    "    Parameters:\n",
    "        - model_name: identifier of run.\n",
    "        - data: dictionary mapping topic_id to object_assesments;\n",
    "            object_assesments is an iterable (list or tuple) of\n",
    "            (relevance, object_id) pairs.\n",
    "            The object_assesments iterable is sorted by decreasing order.\n",
    "        - out_f: output file stream.\n",
    "        - max_objects_per_query: cut-off for number of objects per query.\n",
    "    \"\"\"\n",
    "    for subject_id, object_assesments in data.items():\n",
    "        if not object_assesments:\n",
    "            logging.warning('Received empty ranking for %s; ignoring.',\n",
    "                            subject_id)\n",
    "\n",
    "            continue\n",
    "\n",
    "        # Probe types, to make sure everything goes alright.\n",
    "        # assert isinstance(object_assesments[0][0], float) or \\\n",
    "        #     isinstance(object_assesments[0][0], np.float32)\n",
    "        assert isinstance(object_assesments[0][1], str) or \\\n",
    "            isinstance(object_assesments[0][1], bytes)\n",
    "\n",
    "        if not skip_sorting:\n",
    "            object_assesments = sorted(object_assesments, reverse=True)\n",
    "\n",
    "        if max_objects_per_query < sys.maxsize:\n",
    "            object_assesments = object_assesments[:max_objects_per_query]\n",
    "\n",
    "        if isinstance(subject_id, bytes):\n",
    "            subject_id = subject_id.decode('utf8')\n",
    "\n",
    "        for rank, (relevance, object_id) in enumerate(object_assesments):\n",
    "            if isinstance(object_id, bytes):\n",
    "                object_id = object_id.decode('utf8')\n",
    "\n",
    "            out_f.write(\n",
    "                '{subject} Q0 {object} {rank} {relevance} '\n",
    "                '{model_name}\\n'.format(\n",
    "                    subject=subject_id,\n",
    "                    object=object_id,\n",
    "                    rank=rank + 1,\n",
    "                    relevance=relevance,\n",
    "                    model_name=model_name))\n",
    "            \n",
    "# The following writes the run to standard output.\n",
    "# In your code, you should write the runs to local\n",
    "# storage in order to pass them to trec_eval.\n",
    "write_run(\n",
    "    model_name='example',\n",
    "    data={\n",
    "        'Q1': ((1.0, 'DOC1'), (0.5, 'DOC2'), (0.75, 'DOC3')),\n",
    "        'Q2': ((-0.1, 'DOC1'), (1.25, 'DOC2'), (0.0, 'DOC3')),\n",
    "    },\n",
    "    out_f=sys.stdout,\n",
    "    max_objects_per_query=1000)"
   ]
  },
  {
   "cell_type": "markdown",
   "metadata": {},
   "source": [
    "Now, imagine that we know that `DOC1` is relevant and `DOC3` is non-relevant for `Q1`. In addition, for `Q2` we only know of the relevance of `DOC3`. The query relevance file looks like:\n",
    "\n",
    "    Q1 0 DOC1 1\n",
    "    Q1 0 DOC3 0\n",
    "    Q2 0 DOC3 1\n",
    "    \n",
    "We store the run and qrel in files `example.run` and `example.qrel` respectively on disk. We can now use TREC Eval to compute evaluation measures. In this example, we're only interested in Mean Average Precision and we'll only show this below for brevity. However, TREC Eval outputs much more information such as NDCG, recall, precision, etc.\n",
    "\n",
    "    $ trec_eval -m all_trec -q example.qrel example.run | grep -E \"^map\\s\"\n",
    "    > map                   \tQ1\t1.0000\n",
    "    > map                   \tQ2\t0.5000\n",
    "    > map                   \tall\t0.7500\n",
    "    \n",
    "Now that we've discussed the output format of rankings and how you can compute evaluation measures from these rankings, we'll now proceed with an overview of the indexing framework you'll use."
   ]
  },
  {
   "cell_type": "markdown",
   "metadata": {},
   "source": [
    "### API for Trec\n",
    "\n",
    "The following code allows us to use Trec from python:"
   ]
  },
  {
   "cell_type": "code",
   "execution_count": 2,
   "metadata": {
    "collapsed": true
   },
   "outputs": [],
   "source": [
    "class TrecAPI:\n",
    "    \"\"\"\n",
    "    API for TRECEval\n",
    "    \"\"\"\n",
    "    \n",
    "    def __init__(self, trec_path = \"./trec_eval/trec_eval\"):\n",
    "        \"\"\"\n",
    "        Create an instance for the TREC api\n",
    "        \n",
    "        :param trec_path: The path to the trec binary\n",
    "        \"\"\"\n",
    "        assert os.path.exists(trec_path), \"TREC binary doesn't exist at specified path\"\n",
    "        \n",
    "        self.trec_path = os.path.abspath(trec_path)\n",
    "    \n",
    "    def evaluate(self, test_file_name, prediction_file_name, metrics_to_capture=None, granular = True):\n",
    "        \"\"\"\n",
    "        Evaluate the given file against the test file\n",
    "        \n",
    "        :param test_file_name: The test file to evaluate against\n",
    "        :param prediction_file_name: The file to evaluate\n",
    "        :param metrics_to_capture: Which metrics to compute. If `None`, `ndcg_cut_10`, `map_cut_1000`, `P_5` and `recall_1000` are computed\n",
    "        :param granular: If True, metrics are computed (returned) for all queries, otherwise overall performance is computed\n",
    "        \"\"\"\n",
    "        # defaults\n",
    "        \n",
    "        if metrics_to_capture is None:\n",
    "            metrics_to_capture = {\"ndcg_cut_10\", \"map_cut_1000\", \"P_5\", \"recall_1000\"}\n",
    "        # put this into a try catch block since trec can fail\n",
    "        try:\n",
    "            command = [self.trec_path, \"-m\", \"all_trec\", \"-q\", test_file_name, prediction_file_name]\n",
    "            output = subprocess.check_output(command, universal_newlines=True)\n",
    "            data = collections.defaultdict(dict)\n",
    "            for line in output.split(\"\\n\"):\n",
    "                # ignore empty lines\n",
    "                if line.strip() == \"\":\n",
    "                    continue\n",
    "                    \n",
    "                metric, query, value = line.split(\"\\t\")\n",
    "                \n",
    "                if not granular and query != \"all\":\n",
    "                    continue\n",
    "                    \n",
    "                \n",
    "                metric = metric.strip()\n",
    "                    \n",
    "                # ignore metrics we don't care about\n",
    "                if metric not in metrics_to_capture:\n",
    "                    continue\n",
    "                \n",
    "                # relstring is a binary string, don't convert to float\n",
    "                if metric not in {\"relstring\"}:\n",
    "                    value = float(value)\n",
    "                \n",
    "                data[query][metric] = value \n",
    "            \n",
    "            if not granular:\n",
    "                return data[\"all\"]\n",
    "            \n",
    "            return data\n",
    "        except subprocess.CalledProcessError as e:\n",
    "            # just print out the error if something doesn't work\n",
    "            print(e.output)\n",
    "            return None\n",
    "        \n",
    "# a single instance can be used everywhere\n",
    "trec = TrecAPI()"
   ]
  },
  {
   "cell_type": "markdown",
   "metadata": {},
   "source": [
    "### Pyndri primer ###\n",
    "For this assignment you will use [Pyndri](https://github.com/cvangysel/pyndri) [[1](https://arxiv.org/abs/1701.00749)], a python interface for [Indri](https://www.lemurproject.org/indri.php). We have indexed the document collection and you can query the index using Pyndri. We will start by giving you some examples of what Pyndri can do:\n",
    "\n",
    "First we read the document collection index with Pyndri:"
   ]
  },
  {
   "cell_type": "code",
   "execution_count": 3,
   "metadata": {
    "collapsed": true,
    "scrolled": true
   },
   "outputs": [],
   "source": [
    "import pyndri\n",
    "\n",
    "index = pyndri.Index('index/')"
   ]
  },
  {
   "cell_type": "markdown",
   "metadata": {},
   "source": [
    "The loaded index can be used to access a collection of documents in an easy manner. We'll give you some examples to get some idea of what it can do, it is up to you to figure out how to use it for the remainder of the assignment.\n",
    "\n",
    "First let's look at the number of documents, since Pyndri indexes the documents using incremental identifiers we can simply take the lowest index and the maximum document and consider the difference:"
   ]
  },
  {
   "cell_type": "code",
   "execution_count": 4,
   "metadata": {},
   "outputs": [
    {
     "name": "stdout",
     "output_type": "stream",
     "text": [
      "There are 164597 documents in this collection.\n"
     ]
    }
   ],
   "source": [
    "print(\"There are %d documents in this collection.\" % (index.maximum_document() - index.document_base()))"
   ]
  },
  {
   "cell_type": "markdown",
   "metadata": {},
   "source": [
    "Let's take the first document out of the collection and take a look at it:"
   ]
  },
  {
   "cell_type": "code",
   "execution_count": 5,
   "metadata": {
    "scrolled": true
   },
   "outputs": [
    {
     "name": "stdout",
     "output_type": "stream",
     "text": [
      "('AP890425-0001', (1360, 192, 363, 0, 880, 0, 200, 0, 894, 412, 92160, 3, 192, 0, 363, 34, 1441, 0, 174134, 0, 200, 0, 894, 412, 2652, 0, 810, 107, 49, 4903, 420, 0, 1, 48, 35, 489, 0, 35, 687, 192, 243, 0, 249311, 1877, 0, 1651, 1174, 0, 2701, 117, 412, 0, 810, 391, 245233, 1225, 5838, 16, 0, 233156, 3496, 0, 393, 17, 0, 2435, 4819, 930, 0, 0, 200, 0, 894, 0, 22, 398, 145, 0, 3, 271, 115, 0, 1176, 2777, 292, 0, 725, 192, 0, 0, 50046, 0, 1901, 1130, 0, 192, 0, 408, 0, 243779, 0, 0, 553, 192, 0, 363, 0, 3747, 0, 0, 0, 0, 1176, 0, 1239, 0, 0, 1115, 17, 0, 0, 585, 192, 1963, 0, 0, 412, 54356, 0, 773, 0, 0, 0, 192, 0, 0, 1130, 0, 363, 0, 545, 192, 0, 1174, 1901, 1130, 0, 4, 398, 145, 39, 0, 577, 0, 355, 0, 491, 0, 6025, 0, 0, 193156, 88, 34, 437, 0, 0, 1852, 0, 828, 0, 1588, 0, 0, 0, 2615, 0, 0, 107, 49, 420, 0, 0, 190, 7, 714, 2701, 0, 237, 192, 157, 0, 412, 34, 437, 0, 0, 200, 6025, 26, 0, 0, 0, 0, 363, 0, 22, 398, 145, 0, 200, 638, 126222, 6018, 0, 880, 0, 0, 161, 0, 0, 319, 894, 2701, 0, 0, 0, 301, 1200, 0, 363, 251, 430, 0, 207, 0, 76143, 1773, 0, 243779, 0, 0, 72030, 0, 55, 4903, 420, 0, 2701, 1496, 420, 0, 25480, 0, 420, 0, 0, 200, 0, 392, 2949, 0, 1738, 0, 61, 0, 71, 79, 0, 200, 903, 0, 188, 53, 6, 0, 476, 2, 0, 2028, 97, 334, 0, 0, 200, 178, 0, 0, 107, 49, 0, 214, 0, 0, 0, 114, 3866, 1505, 195, 79893, 574, 0, 198, 2160, 0, 192, 0, 420, 0, 384, 0, 2701, 0, 114, 6025, 1549, 74627, 0, 238, 0, 0, 0, 3729, 0, 192, 0, 79893, 0, 0, 729, 3141, 129, 0, 192, 196764, 39, 0, 0, 714, 63, 0, 55, 420, 3356, 0, 0, 117, 412, 0, 0, 79758, 0, 1901, 1130, 4067, 2133, 0, 0, 875, 72, 0, 0, 336, 2789, 0, 0, 25, 920, 121, 104, 0, 3162, 0, 0, 420, 0, 2178, 0, 0, 386, 192545, 159306, 0, 0, 0, 1914, 0, 200, 0, 1794, 0, 2654, 0, 0, 25480, 420, 0, 2795, 0, 0, 229690, 0, 32559, 0, 0, 392, 253919, 0, 0, 0, 0, 379, 0, 0, 114, 0, 553, 10, 0, 1128, 0, 23610, 248, 151, 0, 418, 0, 651, 0, 36, 0, 0, 645, 0, 0, 513, 0, 0, 25480, 420, 34, 0, 0, 0, 15, 0, 3348, 0, 3496, 0, 35, 687, 0, 1, 48, 0, 0, 2803, 0, 0, 714, 1274, 0, 114, 62, 1006, 70268, 1200, 2357, 0, 497, 0, 497, 125, 0, 913, 4647, 3985, 0, 0, 3370, 245233, 0, 0, 687, 0, 4, 1288, 0, 0, 0, 0, 715, 0, 0, 687, 583, 0, 0, 1627, 0, 0, 11, 357, 1359, 0, 849, 0, 0, 1518, 462, 245233, 0, 0, 0, 0, 0, 0, 171, 70268, 0))\n"
     ]
    }
   ],
   "source": [
    "example_document = index.document(index.document_base())\n",
    "print(example_document)"
   ]
  },
  {
   "cell_type": "markdown",
   "metadata": {},
   "source": [
    "Here we see a document consists of two things, a string representing the external document identifier and an integer list representing the identifiers of words that make up the document. Pyndri uses integer representations for words or terms, thus a token_id is an integer that represents a word whereas the token is the actual text of the word/term. Every id has a unique token and vice versa with the exception of stop words: words so common that there are uninformative, all of these receive the zero id.\n",
    "\n",
    "To see what some ids and their matching tokens we take a look at the dictionary of the index:"
   ]
  },
  {
   "cell_type": "code",
   "execution_count": 6,
   "metadata": {},
   "outputs": [
    {
     "name": "stdout",
     "output_type": "stream",
     "text": [
      "[(1, 'new'), (2, 'percent'), (3, 'two'), (4, '1'), (5, 'people'), (6, 'million'), (7, '000'), (8, 'government'), (9, 'president'), (10, 'years'), (11, 'state'), (12, '2'), (13, 'states'), (14, 'three'), (15, 'time')]\n"
     ]
    }
   ],
   "source": [
    "token2id, id2token, _ = index.get_dictionary()\n",
    "print(list(id2token.items())[:15])"
   ]
  },
  {
   "cell_type": "markdown",
   "metadata": {},
   "source": [
    "Using this dictionary we can see the tokens for the (non-stop) words in our example document:"
   ]
  },
  {
   "cell_type": "code",
   "execution_count": 7,
   "metadata": {},
   "outputs": [
    {
     "name": "stdout",
     "output_type": "stream",
     "text": [
      "['52', 'students', 'arrested', 'takeover', 'university', 'massachusetts', 'building', 'fifty', 'two', 'students', 'arrested', 'tuesday', 'evening', 'occupying', 'university', 'massachusetts', 'building', 'overnight', 'protest', 'defense', 'department', 'funded', 'research', 'new', 'york', 'city', 'thousands', 'city', 'college', 'students', 'got', 'unscheduled', 'holiday', 'demonstrators', 'occupied', 'campus', 'administration', 'building', 'protest', 'possible', 'tuition', 'increases', 'prompting', 'officials', 'suspend', 'classes', '60', 'police', 'riot', 'gear', 'arrived', 'university', 'massachusetts', '5', 'p', 'm', 'two', 'hours', 'later', 'bus', 'drove', 'away', '29', 'students', 'camped', 'memorial', 'hall', 'students', 'charged', 'trespassing', '23', 'students', 'arrested', 'lying', 'bus', 'prevent', 'leaving', 'police', '300', 'students', 'stood', 'building', 'chanting', 'looking', 'students', 'hall', 'arrested', '35', 'students', 'occupied', 'memorial', 'hall', '1', 'p', 'm', 'monday', 'declined', 'offer', 'meet', 'administrators', 'provosts', 'office', 'tuesday', 'morning', 'presented', 'list', 'demands', 'halt', 'defense', 'department', 'research', '25', '000', 'student', 'campus', '40', 'students', 'left', 'building', 'tuesday', 'morning', 'university', 'administrators', 'told', 'arrested', '5', 'p', 'm', 'university', 'spokeswoman', 'jeanne', 'hopkins', 'takeover', 'second', 'western', 'massachusetts', 'campus', 'seven', 'protesters', 'arrested', 'april', '19', 'charges', 'disorderly', 'conduct', 'trespassing', 'demonstrating', 'military', 'funded', 'research', 'campus', 'particularly', 'research', 'anthrax', 'research', 'university', 'non', 'classified', 'researchers', 'make', 'work', 'public', 'university', 'rules', '11', '6', 'million', '22', 'percent', 'grant', 'money', 'received', 'university', 'came', 'defense', 'department', '1988', 'school', 'chancellor', 'joseph', 'd', 'duffey', 'issued', 'statement', 'telling', 'students', 'research', 'continue', 'campus', 'school', 'administrators', 'decide', 'differently', 'policy', 'negotiated', 'students', 'duffey', 'latest', 'occupation', 'began', 'students', 'rallying', 'monday', 'student', 'union', 'military', 'research', 'marched', 'administration', 'building', 'ducked', 'memorial', 'hall', 'en', 'route', 'followed', 'members', 'local', 'chapter', 'american', 'friends', 'service', 'committee', 'contended', 'research', 'dangerous', 'town', 'promotes', 'militarism', 'banned', 'university', 'argued', 'purpose', 'anthrax', 'research', 'peaceful', 'strain', 'bacteria', 'non', 'virulent', 'study', 'school', '23', 'years', 'incident', 'amherst', 'health', 'board', 'scheduled', 'hearing', 'wednesday', 'question', 'safety', 'anthrax', 'research', 'tuesday', 'time', '1969', 'classes', 'city', 'college', 'new', 'york', 'canceled', 'student', 'protests', 'school', 'spokesman', 'charles', 'deciccio', 'protesters', 'demanding', 'face', 'face', 'meeting', 'gov', 'mario', 'cuomo', 'feared', 'tuition', 'college', '1', '250', 'increased', 'college', 'staff', 'reduced', 'state', 'budget', 'cuts', 'governor', 'immediate', 'comment', 'tuition', 'set', 'deciccio']\n"
     ]
    }
   ],
   "source": [
    "print([id2token[word_id] for word_id in example_document[1] if word_id > 0])"
   ]
  },
  {
   "cell_type": "markdown",
   "metadata": {},
   "source": [
    "The reverse can also be done, say we want to look for news about the \"University of Massachusetts\", the tokens of that query can be converted to ids using the reverse dictionary:"
   ]
  },
  {
   "cell_type": "code",
   "execution_count": 8,
   "metadata": {},
   "outputs": [
    {
     "name": "stdout",
     "output_type": "stream",
     "text": [
      "Query by tokens: ['university', '', 'massachusetts']\n",
      "Query by ids with stopwords: [200, 0, 894]\n",
      "Query by ids without stopwords: [200, 894]\n"
     ]
    }
   ],
   "source": [
    "query_tokens = index.tokenize(\"University of Massachusetts\")\n",
    "print(\"Query by tokens:\", query_tokens)\n",
    "query_id_tokens = [token2id.get(query_token,0) for query_token in query_tokens]\n",
    "print(\"Query by ids with stopwords:\", query_id_tokens)\n",
    "query_id_tokens = [word_id for word_id in query_id_tokens if word_id > 0]\n",
    "print(\"Query by ids without stopwords:\", query_id_tokens)"
   ]
  },
  {
   "cell_type": "markdown",
   "metadata": {},
   "source": [
    "Naturally we can now match the document and query in the id space, let's see how often a word from the query occurs in our example document:"
   ]
  },
  {
   "cell_type": "code",
   "execution_count": 9,
   "metadata": {},
   "outputs": [
    {
     "name": "stdout",
     "output_type": "stream",
     "text": [
      "Document AP890425-0001 has 13 word matches with query: \"university  massachusetts\".\n",
      "Document AP890425-0001 and query \"university  massachusetts\" have a 2.5% overlap.\n"
     ]
    }
   ],
   "source": [
    "matching_words = sum([True for word_id in example_document[1] if word_id in query_id_tokens])\n",
    "print(\"Document %s has %d word matches with query: \\\"%s\\\".\" % (example_document[0], matching_words, ' '.join(query_tokens)))\n",
    "print(\"Document %s and query \\\"%s\\\" have a %.01f%% overlap.\" % (example_document[0], ' '.join(query_tokens),matching_words/float(len(example_document[1]))*100))"
   ]
  },
  {
   "cell_type": "markdown",
   "metadata": {},
   "source": [
    "While this is certainly not everything Pyndri can do, it should give you an idea of how to use it. Please take a look at the [examples](https://github.com/cvangysel/pyndri) as it will help you a lot with this assignment.\n",
    "\n",
    "**CAUTION**: Avoid printing out the whole index in this Notebook as it will generate a lot of output and is likely to corrupt the Notebook."
   ]
  },
  {
   "cell_type": "markdown",
   "metadata": {},
   "source": [
    "### Parsing the query file\n",
    "You can parse the query file (`ap_88_89/topics_title`) using the following snippet:"
   ]
  },
  {
   "cell_type": "code",
   "execution_count": 10,
   "metadata": {},
   "outputs": [
    {
     "name": "stdout",
     "output_type": "stream",
     "text": [
      "OrderedDict([('51', 'Airbus Subsidies'), ('52', 'South African Sanctions'), ('53', 'Leveraged Buyouts'), ('54', 'Satellite Launch Contracts'), ('55', 'Insider Trading'), ('56', 'Prime (Lending) Rate Moves, Predictions'), ('57', 'MCI'), ('58', 'Rail Strikes'), ('59', 'Weather Related Fatalities'), ('60', 'Merit-Pay vs. Seniority'), ('61', 'Israeli Role in Iran-Contra Affair'), ('62', \"Military Coups D'etat\"), ('63', 'Machine Translation'), ('64', 'Hostage-Taking'), ('65', 'Information Retrieval Systems'), ('66', 'Natural Language Processing'), ('67', 'Politically Motivated Civil Disturbances'), ('68', 'Health Hazards from Fine-Diameter Fibers'), ('69', 'Attempts to Revive the SALT II Treaty'), ('70', 'Surrogate Motherhood'), ('71', 'Border Incursions'), ('72', 'Demographic Shifts in the U.S.'), ('73', 'Demographic Shifts across National Boundaries'), ('74', 'Conflicting Policy'), ('75', 'Automation'), ('76', 'U.S. Constitution - Original Intent'), ('77', 'Poaching'), ('78', 'Greenpeace'), ('79', 'FRG Political Party Positions'), ('80', '1988 Presidential Candidates Platforms'), ('81', 'Financial crunch for televangelists in the wake of the PTL scandal'), ('82', 'Genetic Engineering'), ('83', 'Measures to Protect the Atmosphere'), ('84', 'Alternative/renewable Energy Plant & Equipment Installation'), ('85', 'Official Corruption'), ('86', 'Bank Failures'), ('87', 'Criminal Actions Against Officers of Failed Financial Institutions'), ('88', 'Crude Oil Price Trends'), ('89', '\"Downstream\" Investments by OPEC Member States'), ('90', 'Data on Proven Reserves of Oil & Natural Gas Producers'), ('91', 'U.S. Army Acquisition of Advanced Weapons Systems'), ('92', 'International Military Equipment Sales'), ('93', 'What Backing Does the National Rifle Association Have?'), ('94', 'Computer-aided Crime'), ('95', 'Computer-aided Crime Detection'), ('96', 'Computer-Aided Medical Diagnosis'), ('97', 'Fiber Optics Applications'), ('98', 'Fiber Optics Equipment Manufacturers'), ('99', 'Iran-Contra Affair'), ('100', 'Controlling the Transfer of High Technology'), ('101', 'Design of the \"Star Wars\" Anti-missile Defense System'), ('102', \"Laser Research Applicable to the U.S.'s Strategic Defense Initiative\"), ('103', 'Welfare Reform'), ('104', 'Catastrophic Health Insurance'), ('105', '\"Black Monday\"'), ('106', 'U.S. Control of Insider Trading'), ('107', 'Japanese Regulation of Insider Trading'), ('108', 'Japanese Protectionist Measures'), ('109', 'Find Innovative Companies'), ('110', 'Black Resistance Against the South African Government'), ('111', 'Nuclear Proliferation'), ('112', 'Funding Biotechnology'), ('113', 'New Space Satellite Applications'), ('114', 'Non-commercial Satellite Launches'), ('115', 'Impact of the 1986 Immigration Law'), ('116', 'Generic Drug Substitutions'), ('117', 'Capacity of the U.S. Cellular Telephone Network'), ('118', 'International Terrorists'), ('119', 'Actions Against International Terrorists'), ('120', 'Economic Impact of International Terrorism'), ('121', 'Death from Cancer'), ('122', 'RDT&E of New Cancer Fighting Drugs'), ('123', 'Research into & Control of Carcinogens'), ('124', 'Alternatives to Traditional Cancer Therapies'), ('125', 'Anti-smoking Actions by Government'), ('126', 'Medical Ethics and Modern Technology'), ('127', 'U.S.-U.S.S.R. Arms Control Agreements'), ('128', 'Privatization of State Assets'), ('129', 'Soviet Spying on the U.S.'), ('130', 'Jewish Emigration and U.S.-USSR Relations'), ('131', 'McDonnell Douglas Contracts for Military Aircraft'), ('132', '\"Stealth\" Aircraft'), ('133', 'Hubble Space Telescope'), ('134', 'The Human Genome Project'), ('135', 'Possible Contributions of Gene Mapping to Medicine'), ('136', 'Diversification by Pacific Telesis'), ('137', 'Expansion in the U.S. Theme Park Industry'), ('138', 'Iranian Support for Lebanese Hostage-takers'), ('139', \"Iran's Islamic Revolution - Domestic and Foreign Social Consequences\"), ('140', 'Political Impact of Islamic Fundamentalism'), ('141', \"Japan's Handling of its Trade Surplus with the U.S.\"), ('142', 'Impact of Government Regulated Grain Farming on International Relations'), ('143', 'Why Protect U.S. Farmers?'), ('144', 'Management Problems at the United Nations'), ('145', 'Influence of the \"Pro-Israel Lobby\"'), ('146', 'Negotiating an End to the Nicaraguan Civil War'), ('147', 'Productivity Trends in the U.S. Economy'), ('148', 'Conflict in the Horn of Africa'), ('149', 'Industrial Espionage'), ('150', 'U.S. Political Campaign Financing'), ('151', 'Coping with overcrowded prisons'), ('152', 'Accusations of Cheating by Contractors on U.S. Defense Projects'), ('153', 'Insurance Coverage which pays for Long Term Care'), ('154', 'Oil Spills'), ('155', 'Right Wing Christian Fundamentalism in U.S.'), ('156', 'Efforts to enact Gun Control Legislation'), ('157', 'Causes and treatments of multiple sclerosis (MS)'), ('158', 'Term limitations for members of the U.S. Congress'), ('159', 'Electric Car Development'), ('160', 'Vitamins - The Cure for or Cause of Human Ailments'), ('161', 'Acid Rain'), ('162', 'Automobile Recalls'), ('163', 'Vietnam Veterans and Agent Orange'), ('164', 'Generic Drugs - Illegal Activities by Manufacturers'), ('165', 'Tobacco company advertising and the young'), ('166', 'Standardized testing and cultural bias'), ('167', 'Regulation of the showing of violence and explicit sex in motion picture theaters, on television, and on video cassettes.'), ('168', 'Financing AMTRAK'), ('169', 'Cost of Garbage/Trash Removal'), ('170', 'The Consequences of Implantation of Silicone Gel Breast Devices'), ('171', \"Use of Mutual Funds in an Individual's Retirement Strategy\"), ('172', 'The Effectiveness of Medical Products and Related Programs Utilized in the Cessation of Smoking.'), ('173', 'Smoking Bans'), ('174', 'Hazardous Waste Cleanup'), ('175', 'NRA Prevention of Gun Control Legislation'), ('176', 'Real-life private investigators'), ('177', 'English as the Official Language in U.S.'), ('178', 'Dog Maulings'), ('179', 'U. S. Restaurants in Foreign Lands'), ('180', 'Ineffectiveness of U.S. Embargoes/Sanctions'), ('181', 'Abuse of the Elderly by Family Members, and Medical and Nonmedical Personnel, and Initiatives Being Taken to Minimize This Mistreatment'), ('182', 'Commercial Overfishing Creates Food Fish Deficit'), ('183', 'Asbestos Related Lawsuits'), ('184', 'Corporate Pension Plans/Funds'), ('185', 'Reform of the U.S. Welfare System'), ('186', 'Difference of Learning Levels Among Inner City and More Suburban School Students'), ('187', 'Signs of the Demise of Independent Publishing'), ('188', 'Beachfront Erosion'), ('189', 'Real Motives for Murder'), ('190', 'Instances of Fraud Involving the Use of a Computer'), ('191', 'Efforts to Improve U.S. Schooling'), ('192', 'Oil Spill Cleanup'), ('193', 'Toys R Dangerous'), ('194', 'The Amount of Money Earned by Writers'), ('195', 'Stock Market Perturbations Attributable to Computer Initiated Trading'), ('196', 'School Choice Voucher System and its effects upon the entire U.S. educational program'), ('197', 'Reform of the jurisprudence system to stop juries from granting unreasonable monetary awards'), ('198', 'Gene Therapy and Its Benefits to Humankind'), ('199', 'Legality of Medically Assisted Suicides'), ('200', 'Impact of foreign textile imports on U.S. textile industry')])\n"
     ]
    }
   ],
   "source": [
    "import collections\n",
    "import io\n",
    "import logging\n",
    "import sys\n",
    "\n",
    "def parse_topics(file_or_files,\n",
    "                 max_topics=sys.maxsize, delimiter=';'):\n",
    "    assert max_topics >= 0 or max_topics is None\n",
    "\n",
    "    topics = collections.OrderedDict()\n",
    "\n",
    "    if not isinstance(file_or_files, list) and \\\n",
    "            not isinstance(file_or_files, tuple):\n",
    "        if hasattr(file_or_files, '__iter__'):\n",
    "            file_or_files = list(file_or_files)\n",
    "        else:\n",
    "            file_or_files = [file_or_files]\n",
    "\n",
    "    for f in file_or_files:\n",
    "        assert isinstance(f, io.IOBase)\n",
    "\n",
    "        for line in f:\n",
    "            assert(isinstance(line, str))\n",
    "\n",
    "            line = line.strip()\n",
    "\n",
    "            if not line:\n",
    "                continue\n",
    "\n",
    "            topic_id, terms = line.split(delimiter, 1)\n",
    "\n",
    "            if topic_id in topics and (topics[topic_id] != terms):\n",
    "                    logging.error('Duplicate topic \"%s\" (%s vs. %s).',\n",
    "                                  topic_id,\n",
    "                                  topics[topic_id],\n",
    "                                  terms)\n",
    "\n",
    "            topics[topic_id] = terms\n",
    "\n",
    "            if max_topics > 0 and len(topics) >= max_topics:\n",
    "                break\n",
    "\n",
    "    return topics\n",
    "\n",
    "with open('./ap_88_89/topics_title', 'r') as f_topics:\n",
    "    print(parse_topics([f_topics]))"
   ]
  },
  {
   "cell_type": "markdown",
   "metadata": {},
   "source": [
    "### Task 1: Implement and compare lexical IR methods [35 points] ### \n",
    "\n",
    "In this task you will implement a number of lexical methods for IR using the **Pyndri** framework. Then you will evaluate these methods on the dataset we have provided using **TREC Eval**.\n",
    "\n",
    "Use the **Pyndri** framework to get statistics of the documents (term frequency, document frequency, collection frequency; **you are not allowed to use the query functionality of Pyndri**) and implement the following scoring methods in **Python**:\n",
    "\n",
    "- [TF-IDF](http://nlp.stanford.edu/IR-book/html/htmledition/tf-idf-weighting-1.html) and \n",
    "- [BM25](http://nlp.stanford.edu/IR-book/html/htmledition/okapi-bm25-a-non-binary-model-1.html) with k1=1.2 and b=0.75. **[5 points]**\n",
    "- Language models ([survey](https://drive.google.com/file/d/0B-zklbckv9CHc0c3b245UW90NE0/view))\n",
    "    - Jelinek-Mercer (explore different values of 𝛌 in the range [0.1, 0.5, 0.9]). **[5 points]**\n",
    "    - Dirichlet Prior (explore different values of 𝛍 [500, 1000, 1500]). **[5 points]**\n",
    "    - Absolute discounting (explore different values of 𝛅 in the range [0.1, 0.5, 0.9]). **[5 points]**\n",
    "    - [Positional Language Models](http://sifaka.cs.uiuc.edu/~ylv2/pub/sigir09-plm.pdf) define a language model for each position of a document, and score a document based on the scores of its PLMs. The PLM is estimated based on propagated counts of words within a document through a proximity-based density function, which both captures proximity heuristics and achieves an effect of “soft” passage retrieval. Implement the PLM, all five kernels, but only the Best position strategy to score documents. Use 𝛔 equal to 50, and Dirichlet smoothing with 𝛍 optimized on the validation set (decide how to optimize this value yourself and motivate your decision in the report). **[10 points]**\n",
    "    \n",
    "Implement the above methods and report evaluation measures (on the test set) using the hyper parameter values you optimized on the validation set (also report the values of the hyper parameters). Use TREC Eval to obtain the results and report on `NDCG@10`, Mean Average Precision (`MAP@1000`), `Precision@5` and `Recall@1000`.\n",
    "\n",
    "For the language models, create plots showing `NDCG@10` with varying values of the parameters. You can do this by chaining small scripts using shell scripting (preferred) or execute trec_eval using Python's `subprocess`.\n",
    "\n",
    "Compute significance of the results using a [two-tailed paired Student t-test](https://docs.scipy.org/doc/scipy/reference/generated/scipy.stats.ttest_rel.html) **[5 points]**. Be wary of false rejection of the null hypothesis caused by the [multiple comparisons problem](https://en.wikipedia.org/wiki/Multiple_comparisons_problem). There are multiple ways to mitigate this problem and it is up to you to choose one.\n",
    "\n",
    "Analyse the results by identifying specific queries where different methods succeed or fail and discuss possible reasons that cause these differences. This is *very important* in order to understand who the different retrieval functions behave.\n",
    "\n",
    "**NOTE**: Don’t forget to use log computations in your calculations to avoid underflows. "
   ]
  },
  {
   "cell_type": "markdown",
   "metadata": {},
   "source": [
    "**IMPORTANT**: You should structure your code around the helper functions we provide below."
   ]
  },
  {
   "cell_type": "code",
   "execution_count": 11,
   "metadata": {},
   "outputs": [
    {
     "name": "stdout",
     "output_type": "stream",
     "text": [
      "Gathering statistics about 456 terms.\n",
      "Inverted index creation took 28.063684225082397 seconds.\n"
     ]
    }
   ],
   "source": [
    "with open('./ap_88_89/topics_title', 'r') as f_topics:\n",
    "    queries = parse_topics([f_topics])\n",
    "\n",
    "index = pyndri.Index('index/')\n",
    "# the total number of documents\n",
    "num_documents = index.maximum_document() - index.document_base()\n",
    "\n",
    "# the pyindri dictionary\n",
    "dictionary = pyndri.extract_dictionary(index)\n",
    "\n",
    "# tokenize the queries\n",
    "# query_id --> [token_id1, token_id2, ...] \n",
    "tokenized_queries = {\n",
    "    query_id: [dictionary.translate_token(token)\n",
    "               for token in index.tokenize(query_string)\n",
    "               if dictionary.has_token(token)]\n",
    "    for query_id, query_string in queries.items()}\n",
    "\n",
    "# gather all of the query token_ids into a set TODO why? \n",
    "query_term_ids = set(\n",
    "    query_term_id\n",
    "    for query_term_ids in tokenized_queries.values()\n",
    "    for query_term_id in query_term_ids)\n",
    "\n",
    "print('Gathering statistics about', len(query_term_ids), 'terms.')\n",
    "\n",
    "#### Inverted index creation. \n",
    "# per document dictionaries\n",
    "document_lengths = {} # doc_id -> length of document\n",
    "unique_terms_per_document = {} # doc_id -> number of unique tokens in document\n",
    "\n",
    "# (query_term, (doc_id)) -> document TF\n",
    "inverted_index = collections.defaultdict(dict)\n",
    "# (query_term_id) -> frequency of occurence of query_term_id in all of the documents \n",
    "collection_frequencies = collections.defaultdict(int)\n",
    "# total number of words in the document\n",
    "total_terms = 0\n",
    "\n",
    "start_time = time.time()\n",
    "\n",
    "# a dictionary that maps internal IDs to external IDs\n",
    "doc_id_to_ext_id = {}\n",
    "ext_id_to_doc_id = {}\n",
    "\n",
    "for int_doc_id in range(index.document_base(), index.maximum_document()):\n",
    "    ext_doc_id, doc_token_ids = index.document(int_doc_id)\n",
    "    doc_id_to_ext_id[int_doc_id] = ext_doc_id\n",
    "    ext_id_to_doc_id[ext_doc_id] = int_doc_id\n",
    "    \n",
    "    document_bow = collections.Counter(\n",
    "        token_id for token_id in doc_token_ids\n",
    "        if token_id > 0)\n",
    "    \n",
    "    \n",
    "    document_length = sum(document_bow.values())\n",
    "\n",
    "    document_lengths[int_doc_id] = document_length\n",
    "    total_terms += document_length\n",
    "\n",
    "    unique_terms_per_document[int_doc_id] = len(document_bow)\n",
    "    \n",
    "    # accumulate TF and CF\n",
    "    for query_term_id in query_term_ids:\n",
    "        assert query_term_id is not None\n",
    "\n",
    "        document_term_frequency = document_bow.get(query_term_id, 0)\n",
    "\n",
    "        if document_term_frequency == 0:\n",
    "            continue\n",
    "\n",
    "        collection_frequencies[query_term_id] += document_term_frequency\n",
    "        inverted_index[query_term_id][int_doc_id] = document_term_frequency\n",
    "    \n",
    "avg_doc_length = total_terms / num_documents\n",
    "\n",
    "print('Inverted index creation took', time.time() - start_time, 'seconds.')"
   ]
  },
  {
   "cell_type": "code",
   "execution_count": 12,
   "metadata": {
    "collapsed": true
   },
   "outputs": [],
   "source": [
    "def run_retrieval(model_name, score_fn):\n",
    "    \"\"\"\n",
    "    Runs a retrieval method for all the queries and writes the TREC-friendly results in a file.\n",
    "    \n",
    "    :param model_name: the name of the model (a string)\n",
    "    :param score_fn: the scoring function (a function - see below for an example) \n",
    "    \"\"\"\n",
    "    run_out_path = '{}.run'.format(model_name)\n",
    "\n",
    "    #if os.path.exists(run_out_path):\n",
    "    #    return\n",
    "\n",
    "    retrieval_start_time = time.time()\n",
    "\n",
    "    print('Retrieving using', model_name)\n",
    "    \n",
    "    \n",
    "    score_sums = collections.defaultdict(lambda: collections.defaultdict(float))\n",
    "    \n",
    "    for query_id, query_terms in queries.items():\n",
    "        for query_term_id in tokenized_queries[query_id]:\n",
    "            # TODO what happens when the query term doesn't occur in any document\n",
    "            for doc_id, document_term_freq in inverted_index[query_term_id].items():\n",
    "                score = score_fn(doc_id, query_term_id, document_term_freq)\n",
    "                score_sums[query_id][doc_id] += score\n",
    "                \n",
    "    data = {}\n",
    "    for query_id, document_scores in score_sums.items():\n",
    "        doc_scores = []\n",
    "        for doc_id in document_scores.keys():\n",
    "            doc_scores.append((document_scores[doc_id], doc_id_to_ext_id[doc_id]))\n",
    "        doc_scores.sort(key = lambda _: -_[0])\n",
    "        data[query_id] = doc_scores\n",
    "    \n",
    "    with open(run_out_path, 'w') as f_out:\n",
    "        write_run(\n",
    "            model_name=model_name,\n",
    "            data=data,\n",
    "            out_f=f_out,\n",
    "            max_objects_per_query=1000)\n",
    "    \n",
    "    return data"
   ]
  },
  {
   "cell_type": "code",
   "execution_count": 13,
   "metadata": {
    "collapsed": true
   },
   "outputs": [],
   "source": [
    "def tfidf(int_document_id, query_term_id, document_term_freq):\n",
    "    \"\"\"\n",
    "    Scoring function for a document and a query term. TODO justify the form of TF-IDF we're using\n",
    "    \n",
    "    :param int_document_id: the document id\n",
    "    :param query_token_id: the query term id (assuming you have split the query to tokens)\n",
    "    :param document_term_freq: the document term frequency of the query term \n",
    "    \"\"\"\n",
    "    idf = math.log(num_documents / len(inverted_index[query_term_id]))\n",
    "    tf = math.log(1 + document_term_freq)\n",
    "    return tf * idf"
   ]
  },
  {
   "cell_type": "code",
   "execution_count": 14,
   "metadata": {
    "collapsed": true
   },
   "outputs": [],
   "source": [
    "def bm25(int_document_id, query_term_id, document_term_freq, k_1 = 1.2, b = 0.75):\n",
    "    \"\"\"\n",
    "    BM25 scoring function\n",
    "    \n",
    "    :param int_document_id: the document id\n",
    "    :param query_token_id: the query term id \n",
    "    :param document_term_freq: the document term frequency of the query term \n",
    "    :param k_1: TODO\n",
    "    :param b: TODO\n",
    "    \"\"\"\n",
    "    \n",
    "    idf = math.log(num_documents / len(inverted_index[query_term_id]))\n",
    "    tf_numerator = (k_1 + 1) * document_term_freq \n",
    "    tf_denom = k_1 * ((1 - b) + b * (document_lengths[int_document_id] / avg_doc_length)) + document_term_freq\n",
    "    return idf * (tf_numerator / tf_denom)"
   ]
  },
  {
   "cell_type": "code",
   "execution_count": 15,
   "metadata": {
    "collapsed": true
   },
   "outputs": [],
   "source": [
    "def jelinek_mercer(int_document_id, query_term_id, document_term_freq, lmbd = 0.8111):\n",
    "    \"\"\"\n",
    "    JM smoothed scoring function. Note that the default value of lambda is set after \n",
    "    performing a grid search (done later)\n",
    "    \n",
    "    :param int_document_id: the document id\n",
    "    :param query_token_id: the query term id \n",
    "    :param document_term_freq: the document term frequency of the query term \n",
    "    :param lmbd: Lambda, TODO\n",
    "    \"\"\"\n",
    "    \n",
    "    document_contrib = lmbd * (document_term_freq / document_lengths[int_document_id]) \n",
    "    corpus_contrib = (1 - lmbd) * (collection_frequencies[query_term_id] / total_terms)\n",
    "    return np.log(document_contrib + corpus_contrib)"
   ]
  },
  {
   "cell_type": "code",
   "execution_count": 16,
   "metadata": {
    "collapsed": true
   },
   "outputs": [],
   "source": [
    "def dirichlet_prior(int_document_id, query_term_id, document_term_freq, mu = 500):\n",
    "    \"\"\"\n",
    "    Dirichlet Prior smoothed scoring function. Note that the default value of mu is set after \n",
    "    performing a grid search (done later)\n",
    "    \n",
    "    :param int_document_id: the document id\n",
    "    :param query_token_id: the query term id \n",
    "    :param document_term_freq: the document term frequency of the query term \n",
    "    :param mu: TODO\n",
    "    \"\"\"\n",
    "    \n",
    "    numerator = document_term_freq + mu * (collection_frequencies[query_term_id] / total_terms)\n",
    "    denom = document_lengths[int_document_id] + mu\n",
    "    return np.log(numerator / denom)"
   ]
  },
  {
   "cell_type": "code",
   "execution_count": 17,
   "metadata": {
    "collapsed": true
   },
   "outputs": [],
   "source": [
    "def absolute_discounting(int_document_id, query_term_id, document_term_freq, delta = 0.9):\n",
    "    \"\"\"\n",
    "    Smoothed scoring function using Absolute discounting. Note that the default value of delta is set after \n",
    "    performing a grid search (done later)\n",
    "    \n",
    "    :param int_document_id: the document id\n",
    "    :param query_token_id: the query term id \n",
    "    :param document_term_freq: the document term frequency of the query term \n",
    "    :param delta: TODO\n",
    "    \n",
    "    sigma: discount constant [0,1]\n",
    "    delta: sigma*|du|/|d|\n",
    "    \"\"\"\n",
    "    \n",
    "    sigma = (delta * unique_terms_per_document[int_document_id]) / document_lengths[int_document_id]\n",
    "    numerator = max(document_term_freq - delta, 0) \n",
    "    denominator = document_lengths[int_document_id]\n",
    "    discounted_prob = numerator / denominator\n",
    "    unigram_prob = collection_frequencies[query_term_id] / total_terms\n",
    "    return np.log(discounted_prob + (sigma * unigram_prob))"
   ]
  },
  {
   "cell_type": "code",
   "execution_count": 18,
   "metadata": {},
   "outputs": [
    {
     "name": "stdout",
     "output_type": "stream",
     "text": [
      "Retrieving using tfidf\n",
      "Retrieving using bm25\n",
      "Retrieving using jelinek_mercer\n",
      "Retrieving using dirichlet_prior\n",
      "Retrieving using absolute_discounting\n",
      "All done!\n"
     ]
    }
   ],
   "source": [
    "tfidf_run = run_retrieval('tfidf', tfidf)\n",
    "bm25_run = run_retrieval('bm25', bm25)\n",
    "jm_run = run_retrieval('jelinek_mercer', jelinek_mercer)\n",
    "dprior_run = run_retrieval('dirichlet_prior', dirichlet_prior)\n",
    "ab_run = run_retrieval('absolute_discounting', absolute_discounting)\n",
    "\n",
    "print(\"All done!\")"
   ]
  },
  {
   "cell_type": "code",
   "execution_count": 19,
   "metadata": {
    "collapsed": true
   },
   "outputs": [],
   "source": [
    "ext_to_int_doc_id = {v:k for k,v in doc_id_to_ext_id.items()}\n",
    "top_no = 1000\n",
    "top_1000_tfidf = collections.defaultdict(lambda: collections.defaultdict(float)) \n",
    "\n",
    "for q in tfidf_run:\n",
    "    #select the top N documents given query q\n",
    "    #0: score, 1:external_doc_id\n",
    "    selected_docs_scores = tfidf_run[q][:top_no]\n",
    "    \n",
    "    score_int_id = collections.defaultdict(float) \n",
    "    \n",
    "    for docs in selected_docs_scores:\n",
    "        #map internal doc_id to score, \n",
    "        score_int_id[ext_to_int_doc_id[docs[1]]] = docs[0]\n",
    "    \n",
    "    #given query q, store the top N documents along with their scores\n",
    "    top_1000_tfidf[q] = score_int_id\n",
    "    "
   ]
  },
  {
   "cell_type": "code",
   "execution_count": 20,
   "metadata": {},
   "outputs": [
    {
     "name": "stdout",
     "output_type": "stream",
     "text": [
      "2939 461.63406987976697 164597\n"
     ]
    }
   ],
   "source": [
    "#find document lengths (including stop words)\n",
    "doc_lengths = []\n",
    "for int_doc_id in range(index.document_base(), index.maximum_document()):\n",
    "    doc_lengths.append(len(index.document(int_doc_id)[1]))\n",
    "    \n",
    "#maximum doc length including stop words\n",
    "max_length = max(doc_lengths)\n",
    "\n",
    "#average doc length including stop words\n",
    "avg_length = sum(doc_lengths)/len(doc_lengths)\n",
    "\n",
    "print(max_length, avg_length, len(doc_lengths))"
   ]
  },
  {
   "cell_type": "code",
   "execution_count": 21,
   "metadata": {
    "collapsed": true
   },
   "outputs": [],
   "source": [
    "#please check, by ece\n",
    "# TODO, ece can you please document all of these functions - like I've done for the scoring functions above\n",
    "def gaussian_kernel(i, j, sigma):\n",
    "    return np.exp(-np.power((i-j),2)/(2*np.power(sigma,2)))\n",
    "\n",
    "def gaussian_kernel_estimation(i, j, sigma, N):\n",
    "    #TODO the one with the cumulative density function CDF\n",
    "    pass\n",
    "    \n",
    "def triangle_kernel(i, j, sigma): \n",
    "    absolute = np.absolute(i-j)\n",
    "    return 1 - (absolute/sigma) if(absolute <= sigma) else 0\n",
    "\n",
    "def cosine_kernel(i, j, sigma):\n",
    "    absolute = np.absolute(i-j) \n",
    "    k = 0.0\n",
    "    \n",
    "    if absolute <= sigma:\n",
    "        k = (1 + np.cos((absolute*math.pi)/sigma))/2\n",
    "    \n",
    "    return k\n",
    "\n",
    "def circle_kernel(i, j, sigma):\n",
    "    absolute = np.absolute(i-j) \n",
    "    k = 0.0\n",
    "    \n",
    "    if absolute <= sigma:\n",
    "        k = np.sqrt(1 - np.power(absolute/sigma, 2))\n",
    "    \n",
    "    return k\n",
    "\n",
    "def passage_kernel(i, j, sigma):\n",
    "    absolute = np.absolute(i-j)\n",
    "    return 1 if(absolute <= sigma) else 0\n"
   ]
  },
  {
   "cell_type": "code",
   "execution_count": 22,
   "metadata": {
    "collapsed": true
   },
   "outputs": [],
   "source": [
    "#MLE probs for query_lm[query_id][query_term_id]\n",
    "query_lm = collections.defaultdict(lambda: collections.defaultdict(float)) \n",
    "\n",
    "#for each query, calculate the number of occurrences of each tokenized query term in the given query\n",
    "for query_id, query_terms in queries.items():\n",
    "    query_word_counts = collections.defaultdict(float)\n",
    "    tokenized_qs = tokenized_queries[query_id]\n",
    "    for query_term_id in tokenized_qs:\n",
    "        query_word_counts[query_term_id] += 1 #P(w_i|q)\n",
    "\n",
    "    #divide the counts of terms in a query by the length of the query \n",
    "    #to obtain the query language model, MLE, non-smoothed\n",
    "    query_word_counts.update((k,v/len(tokenized_qs)) for k,v in query_word_counts.items())\n",
    "\n",
    "    #for each query, keep LM = P(w|q) for each unique word in the query\n",
    "    query_lm[query_id] = query_word_counts \n",
    "\n",
    "# extract tokens without stop words\n",
    "doc_tokens_with_stop = {}\n",
    "for int_doc_id in range(index.document_base(), index.maximum_document()):\n",
    "    doc_tokens_with_stop[int_doc_id] = [ind for ind in index.document(int_doc_id)[1]]"
   ]
  },
  {
   "cell_type": "code",
   "execution_count": 23,
   "metadata": {
    "collapsed": true
   },
   "outputs": [],
   "source": [
    "def run_retrieval_plm(model_name, score_fn, pickled_k, pickled_z):\n",
    "    \"\"\"\n",
    "    Runs a PLM-based retrieval method for all the queries and writes the TREC-friendly results in a file.\n",
    "    \n",
    "    :param model_name: the name of the model (a string)\n",
    "    :param score_fn: the PLM-based scoring function\n",
    "    \"\"\"\n",
    "    \n",
    "    run_out_path = '{}.run'.format(model_name)\n",
    "\n",
    "    retrieval_start_time = time.time()\n",
    "\n",
    "    print('Retrieving using', model_name)\n",
    "    \n",
    "    score_sums = collections.defaultdict(lambda: collections.defaultdict(float))\n",
    "    plm_models_wdi = collections.defaultdict(lambda: collections.defaultdict(lambda: collections.defaultdict(float)))\n",
    "    scores_qdi = collections.defaultdict(lambda: collections.defaultdict(lambda: collections.defaultdict(float)))\n",
    "                \n",
    "   \n",
    "    \n",
    "    #for each query, find the query terms\n",
    "    #find the documents that contain at least one query term, from the inverted index\n",
    "    #find the ids of documents that are both in the inverted index and top 1000\n",
    "    for query_id, query_terms in queries.items():\n",
    "        print(query_id)\n",
    "        for query_term_id in tokenized_queries[query_id]:\n",
    "            \n",
    "            intersection = collections.defaultdict(float)\n",
    "            keys = set(inverted_index[query_term_id].keys()).intersection(top_1000_tfidf[query_id].keys())\n",
    "            \n",
    "            for k in keys:\n",
    "                intersection[k] = inverted_index[query_term_id][k]\n",
    "                \n",
    "            for doc_id, document_term_freq in intersection.items():\n",
    "                #print(doc_id)\n",
    "                #only the documents in the inverted index AND top 1000 in terms of tfidf scores\n",
    "                \n",
    "                #positional LM for a given query term, document and position i\n",
    "                \n",
    "                plm_models_wdi[query_term_id][doc_id] = score_fn(doc_id, query_term_id, document_term_freq,\n",
    "                                                                 doc_tokens_with_stop[doc_id],\n",
    "                                                                 pickled_k, pickled_z)\n",
    "               \n",
    "                #ML of a query term given a query \n",
    "                q_lm = query_lm[query_id][query_term_id]\n",
    "\n",
    "                full_doc_length = len(doc_tokens_with_stop[doc_id])\n",
    "\n",
    "                for i in range(full_doc_length):\n",
    "                    #for one word\n",
    "\n",
    "                    #final scores given query, doc and index\n",
    "                    scores_qdi[query_id][doc_id][i] -= q_lm * np.log(q_lm / plm_models_wdi[query_term_id][doc_id][i]) \n",
    "                    #print(i,scores_qdi[query_id][doc_id][i])\n",
    "\n",
    "                #maximum score given query,doc and index is set as the whole score for a document given a query\n",
    "                score_sums[query_id][doc_id] = max(list(scores_qdi[query_id][doc_id].values()))\n",
    "                    \n",
    "    data = {}\n",
    "    for query_id, document_scores in score_sums.items():\n",
    "        doc_scores = []\n",
    "        for doc_id in document_scores.keys():\n",
    "            doc_scores.append((document_scores[doc_id], doc_id_to_ext_id[doc_id]))\n",
    "        doc_scores.sort(key = lambda _: -_[0])\n",
    "        data[query_id] = doc_scores\n",
    "    \n",
    "    with open(run_out_path, 'w') as f_out:\n",
    "        write_run(\n",
    "            model_name=model_name,\n",
    "            data=data,\n",
    "            out_f=f_out,\n",
    "            max_objects_per_query=1000)\n",
    "        \n",
    "    return data"
   ]
  },
  {
   "cell_type": "code",
   "execution_count": 24,
   "metadata": {
    "collapsed": true
   },
   "outputs": [],
   "source": [
    "def PLM(int_document_id, query_term_id, document_term_freq, indices, pickled_k, pickled_z, sigma = 50, mu = 500):\n",
    "\n",
    "    #please check, by ece\n",
    "    \n",
    "    #change kernel?\n",
    "    #change mu according to optimized dirichlet hyperparameter!\n",
    "    #sigma is given in the assignment\n",
    "    \n",
    "    #query_term_id = w\n",
    "    #c_prime is for w,i\n",
    "    \n",
    "    full_doc_length = len(indices)\n",
    "    \n",
    "    c_prime = np.zeros(full_doc_length)\n",
    "    \n",
    "    #get the positional word ids in the document, eliminate stop words where ind==0\n",
    "    #TODO i and j after removing 0 or are we keeping the indices from the actual sequence?\n",
    "    #WE ARE KEEPING EVERYTHING IN THE DOCUMENT\n",
    "     \n",
    "    \n",
    "    for j in range(full_doc_length):\n",
    "          if indices[j] == query_term_id:\n",
    "                for i in range(full_doc_length):\n",
    "                    \n",
    "                    #kernel outcomes for the given i over all j, they will be summed up for z[i], using the pickled values\n",
    "                    #sum over kernel(j,i) j=1 to N, not the final simplified version\n",
    "                    #NOT USING the sum of c_prime over all w, but using zi as the sum over kernels\n",
    "                    # pickled_k[(i,j)] #TODO ij or ji\n",
    "                    c_prime[i] += pickled_k[(i,j)]\n",
    "    \n",
    "    unigram_prob = collection_frequencies[query_term_id] / total_terms\n",
    "       \n",
    "    #denominator, virtual document lengths, from pickled z values\n",
    "    pm_wdi = (c_prime + mu * unigram_prob)/(pickled_z[:full_doc_length] + mu)\n",
    "    \n",
    "    #language model per word given document and a position\n",
    "    return pm_wdi"
   ]
  },
  {
   "cell_type": "code",
   "execution_count": 25,
   "metadata": {},
   "outputs": [
    {
     "name": "stdout",
     "output_type": "stream",
     "text": [
      "Executing kernel: gaussian\n",
      "Executing kernel: triangle\n",
      "Executing kernel: cosine\n",
      "Executing kernel: circle\n",
      "Executing kernel: passage\n"
     ]
    }
   ],
   "source": [
    "import pickle\n",
    "import collections\n",
    "import numpy as np\n",
    "import math\n",
    "\n",
    "max_doc_length = 2939\n",
    "sigma = 50\n",
    "\n",
    "#load back the pickled kernel values and z values\n",
    "kernel_types = ['gaussian', 'triangle', 'cosine', 'circle', 'passage']\n",
    "\n",
    "kernel_func = {\n",
    "    \"gaussian\": gaussian_kernel,\n",
    "    \"triangle\" : triangle_kernel,\n",
    "    \"cosine\": cosine_kernel,\n",
    "    \"circle\": circle_kernel,\n",
    "    \"passage\": passage_kernel\n",
    "}\n",
    "\n",
    "def get_k_z(kernel):\n",
    "    if os.path.exists(kernel + \".p\"):\n",
    "        print(\"Loading pickled kernel\", kernel)\n",
    "        k = pickle.load(open(kernel + \".p\", \"rb\"))\n",
    "        z = pickle.load(open(kernel + \"_z.p\", \"rb\"))\n",
    "        return k, z\n",
    "    \n",
    "    print(\"Creating and saving kernel\", kernel)\n",
    "    \n",
    "    func = kernel_func[kernel]\n",
    "    k = collections.defaultdict(float)\n",
    "    for i in range(max_doc_length):\n",
    "        if i%100 == 0:\n",
    "                print(\"Estimating k\", i)\n",
    "\n",
    "        for j in range(max_doc_length):\n",
    "            k[(i,j)] = func(i, j ,sigma)\n",
    "    \n",
    "    z = np.zeros(max_doc_length)\n",
    "\n",
    "    for i in range(max_doc_length):\n",
    "        for j in range(max_doc_length):\n",
    "            z[i] += k[(i,j)]\n",
    "    \n",
    "    pickle.dump(k, open(kernel + \".p\", \"wb\"))\n",
    "    pickle.dump(z, open(kernel + \"_z.p\", \"wb\"))\n",
    "    \n",
    "    return k, z\n",
    "\n",
    "for kt in kernel_types:\n",
    "    print(\"Executing kernel:\", kt)\n",
    "    \n",
    "    run_name = 'PLM_' + kt\n",
    "    run_file = run_name + \".run\"\n",
    "    if not os.path.exists(run_file):\n",
    "        k, z = get_k_z(kt)\n",
    "        \n",
    "        print(\"Running PLM for\", kt)\n",
    "        t = time.time()\n",
    "        run_plm = run_retrieval_plm('PLM_' + kt, PLM, k, z)\n",
    "        print(\"Took\", time.time()-t)"
   ]
  },
  {
   "cell_type": "markdown",
   "metadata": {},
   "source": [
    "### Hyper-parameter tuning\n",
    "\n",
    "In the sections below, we compute performances for the methods above for different hyperparameters and check their performances. \n",
    "\n",
    "> Note that after this step, we set the default parameters to the 'optimal' values that we derived from this section\n",
    "\n",
    "The following function evaluates all possible combinations of parameters - Grid Search. It returns a list of <paramter combination, performance>, which we inspect to see which set of parameters are optimal.\n",
    "\n",
    "We're using the validation data here, not the test set (which we touch only for statistical significance tests)."
   ]
  },
  {
   "cell_type": "code",
   "execution_count": 26,
   "metadata": {
    "collapsed": true
   },
   "outputs": [],
   "source": [
    "def grid_eval(grid, score_fn, test_file, verbose = False, output_folder = \"grid_results/\"):\n",
    "    \"\"\"\n",
    "    Evaluate a scoring method on a grid of possible values.\n",
    "\n",
    "    :param grid: a dictionary of `param -> list of possible values`\n",
    "    :param score_fn: the scoring method to evaluate\n",
    "    :param test_file: the test file to evaluate against\n",
    "    :param verbose: If set to True, adds prints statements occasionally\n",
    "    :param output_folder: The folder to save intermediate outputs from run_retrieval\n",
    "    \"\"\"\n",
    "    \n",
    "    # convert to an list because indexing is required\n",
    "    grid = list(grid.items())\n",
    "    param_lengths = tuple([len(grid_item[1]) for grid_item in grid])\n",
    "    print(\"Running grid eval on {} possible combinations\".format(np.prod(param_lengths)))\n",
    "    \n",
    "    all_indices = np.ndindex(param_lengths)\n",
    "    grid_results = []\n",
    "    for index, values in enumerate(all_indices):\n",
    "        # generate parameters for this particular run\n",
    "        param_grid = {}\n",
    "        for param_index, param_val_index in enumerate(values):\n",
    "            param_name, param_values = grid[param_index]\n",
    "            param_grid[param_name] = param_values[param_val_index]\n",
    "        if verbose:\n",
    "            print(\"Running evaluation {} of {}, with params: {}\".format(index + 1, np.prod(param_lengths), param_grid))\n",
    "        output_path = os.path.join(output_folder, \"{}_{}\".format(score_fn.__name__, index))\n",
    "        # construct the scoring function, with the parameters set to the current set\n",
    "        part_score_fn = functools.partial(score_fn, **param_grid) \n",
    "        # run and evaluate the scoring function\n",
    "        run_retrieval(output_path, part_score_fn)\n",
    "        metrics = trec.evaluate(test_file, output_path + \".run\", granular=False)\n",
    "        grid_results.append((param_grid, metrics))\n",
    "    return grid_results\n",
    "\n",
    "def print_grid(grid_results):\n",
    "    \"\"\"\n",
    "    Print out the grid results in a more readable format\n",
    "    :param grid: The grid results\n",
    "    \"\"\"\n",
    "    \n",
    "    for params, results in grid_results:\n",
    "        print(\"Params: \", params)\n",
    "        print(\"\\tResults: \", results)"
   ]
  },
  {
   "cell_type": "markdown",
   "metadata": {},
   "source": [
    "##### Parameter tuning for JM\n",
    "Jelinek-Mercer (explore different values of 𝛌 in the range [0.1, 0.5, 0.9])."
   ]
  },
  {
   "cell_type": "code",
   "execution_count": 27,
   "metadata": {},
   "outputs": [
    {
     "name": "stdout",
     "output_type": "stream",
     "text": [
      "Running grid eval on 10 possible combinations\n",
      "Running evaluation 1 of 10, with params: {'lmbd': 0.10000000000000001}\n",
      "Retrieving using grid_results/jelinek_mercer_0\n",
      "Running evaluation 2 of 10, with params: {'lmbd': 0.18888888888888888}\n",
      "Retrieving using grid_results/jelinek_mercer_1\n",
      "Running evaluation 3 of 10, with params: {'lmbd': 0.27777777777777779}\n",
      "Retrieving using grid_results/jelinek_mercer_2\n",
      "Running evaluation 4 of 10, with params: {'lmbd': 0.3666666666666667}\n",
      "Retrieving using grid_results/jelinek_mercer_3\n",
      "Running evaluation 5 of 10, with params: {'lmbd': 0.4555555555555556}\n",
      "Retrieving using grid_results/jelinek_mercer_4\n",
      "Running evaluation 6 of 10, with params: {'lmbd': 0.54444444444444451}\n",
      "Retrieving using grid_results/jelinek_mercer_5\n",
      "Running evaluation 7 of 10, with params: {'lmbd': 0.6333333333333333}\n",
      "Retrieving using grid_results/jelinek_mercer_6\n",
      "Running evaluation 8 of 10, with params: {'lmbd': 0.72222222222222221}\n",
      "Retrieving using grid_results/jelinek_mercer_7\n",
      "Running evaluation 9 of 10, with params: {'lmbd': 0.81111111111111112}\n",
      "Retrieving using grid_results/jelinek_mercer_8\n",
      "Running evaluation 10 of 10, with params: {'lmbd': 0.90000000000000002}\n",
      "Retrieving using grid_results/jelinek_mercer_9\n"
     ]
    }
   ],
   "source": [
    "grid_jm = {\n",
    "    \"lmbd\" : np.linspace(0.1, 0.9, 10)\n",
    "}\n",
    "jelinek_mercer_grid_results = grid_eval(grid_jm, jelinek_mercer, \"./ap_88_89/qrel_validation\", verbose=True)"
   ]
  },
  {
   "cell_type": "code",
   "execution_count": 28,
   "metadata": {},
   "outputs": [
    {
     "name": "stdout",
     "output_type": "stream",
     "text": [
      "Params:  {'lmbd': 0.10000000000000001}\n",
      "\tResults:  {'map_cut_1000': 0.0789, 'P_5': 0.12, 'ndcg_cut_10': 0.133, 'recall_1000': 0.2306}\n",
      "Params:  {'lmbd': 0.18888888888888888}\n",
      "\tResults:  {'map_cut_1000': 0.0794, 'P_5': 0.12, 'ndcg_cut_10': 0.1331, 'recall_1000': 0.2344}\n",
      "Params:  {'lmbd': 0.27777777777777779}\n",
      "\tResults:  {'map_cut_1000': 0.0796, 'P_5': 0.12, 'ndcg_cut_10': 0.1331, 'recall_1000': 0.2368}\n",
      "Params:  {'lmbd': 0.3666666666666667}\n",
      "\tResults:  {'map_cut_1000': 0.0798, 'P_5': 0.12, 'ndcg_cut_10': 0.1331, 'recall_1000': 0.2384}\n",
      "Params:  {'lmbd': 0.4555555555555556}\n",
      "\tResults:  {'map_cut_1000': 0.0798, 'P_5': 0.12, 'ndcg_cut_10': 0.1331, 'recall_1000': 0.2394}\n",
      "Params:  {'lmbd': 0.54444444444444451}\n",
      "\tResults:  {'map_cut_1000': 0.0799, 'P_5': 0.12, 'ndcg_cut_10': 0.1332, 'recall_1000': 0.2395}\n",
      "Params:  {'lmbd': 0.6333333333333333}\n",
      "\tResults:  {'map_cut_1000': 0.0799, 'P_5': 0.12, 'ndcg_cut_10': 0.1332, 'recall_1000': 0.2398}\n",
      "Params:  {'lmbd': 0.72222222222222221}\n",
      "\tResults:  {'map_cut_1000': 0.0799, 'P_5': 0.12, 'ndcg_cut_10': 0.1332, 'recall_1000': 0.2398}\n",
      "Params:  {'lmbd': 0.81111111111111112}\n",
      "\tResults:  {'map_cut_1000': 0.08, 'P_5': 0.12, 'ndcg_cut_10': 0.1332, 'recall_1000': 0.2405}\n",
      "Params:  {'lmbd': 0.90000000000000002}\n",
      "\tResults:  {'map_cut_1000': 0.08, 'P_5': 0.12, 'ndcg_cut_10': 0.1332, 'recall_1000': 0.2405}\n"
     ]
    }
   ],
   "source": [
    "print_grid(jelinek_mercer_grid_results)"
   ]
  },
  {
   "cell_type": "markdown",
   "metadata": {},
   "source": [
    "TODO: Justify final selection"
   ]
  },
  {
   "cell_type": "markdown",
   "metadata": {},
   "source": [
    "##### Parameter tuning for Dirichlet Prior\n",
    "Dirichlet Prior (explore different values of 𝛍 [500, 1000, 1500])"
   ]
  },
  {
   "cell_type": "code",
   "execution_count": 29,
   "metadata": {},
   "outputs": [
    {
     "name": "stdout",
     "output_type": "stream",
     "text": [
      "Running grid eval on 7 possible combinations\n",
      "Running evaluation 1 of 7, with params: {'mu': 300}\n",
      "Retrieving using grid_results/dirichlet_prior_0\n",
      "Running evaluation 2 of 7, with params: {'mu': 500}\n",
      "Retrieving using grid_results/dirichlet_prior_1\n",
      "Running evaluation 3 of 7, with params: {'mu': 700}\n",
      "Retrieving using grid_results/dirichlet_prior_2\n",
      "Running evaluation 4 of 7, with params: {'mu': 900}\n",
      "Retrieving using grid_results/dirichlet_prior_3\n",
      "Running evaluation 5 of 7, with params: {'mu': 1100}\n",
      "Retrieving using grid_results/dirichlet_prior_4\n",
      "Running evaluation 6 of 7, with params: {'mu': 1300}\n",
      "Retrieving using grid_results/dirichlet_prior_5\n",
      "Running evaluation 7 of 7, with params: {'mu': 1500}\n",
      "Retrieving using grid_results/dirichlet_prior_6\n"
     ]
    }
   ],
   "source": [
    "grid_dirichlet = {\n",
    "    \"mu\": np.arange(300, 1501, 200)\n",
    "}\n",
    "dirichlet_grid_results = grid_eval(grid_dirichlet, dirichlet_prior, \"./ap_88_89/qrel_validation\", verbose=True)"
   ]
  },
  {
   "cell_type": "code",
   "execution_count": 30,
   "metadata": {},
   "outputs": [
    {
     "name": "stdout",
     "output_type": "stream",
     "text": [
      "Params:  {'mu': 300}\n",
      "\tResults:  {'map_cut_1000': 0.0845, 'P_5': 0.1133, 'ndcg_cut_10': 0.1466, 'recall_1000': 0.2511}\n",
      "Params:  {'mu': 500}\n",
      "\tResults:  {'map_cut_1000': 0.0838, 'P_5': 0.1333, 'ndcg_cut_10': 0.1467, 'recall_1000': 0.2513}\n",
      "Params:  {'mu': 700}\n",
      "\tResults:  {'map_cut_1000': 0.0831, 'P_5': 0.1333, 'ndcg_cut_10': 0.1438, 'recall_1000': 0.2492}\n",
      "Params:  {'mu': 900}\n",
      "\tResults:  {'map_cut_1000': 0.0827, 'P_5': 0.1267, 'ndcg_cut_10': 0.1389, 'recall_1000': 0.2483}\n",
      "Params:  {'mu': 1100}\n",
      "\tResults:  {'map_cut_1000': 0.0824, 'P_5': 0.1267, 'ndcg_cut_10': 0.1369, 'recall_1000': 0.2478}\n",
      "Params:  {'mu': 1300}\n",
      "\tResults:  {'map_cut_1000': 0.0822, 'P_5': 0.1333, 'ndcg_cut_10': 0.1371, 'recall_1000': 0.2477}\n",
      "Params:  {'mu': 1500}\n",
      "\tResults:  {'map_cut_1000': 0.0821, 'P_5': 0.1333, 'ndcg_cut_10': 0.1342, 'recall_1000': 0.2466}\n"
     ]
    }
   ],
   "source": [
    "print_grid(dirichlet_grid_results)"
   ]
  },
  {
   "cell_type": "markdown",
   "metadata": {},
   "source": [
    "TODO: Justify selection"
   ]
  },
  {
   "cell_type": "markdown",
   "metadata": {},
   "source": [
    "##### Parameter tuning for Absolute discounting\n",
    "Absolute discounting (explore different values of 𝛅 in the range [0.1, 0.5, 0.9]). [5 points]"
   ]
  },
  {
   "cell_type": "code",
   "execution_count": 31,
   "metadata": {},
   "outputs": [
    {
     "name": "stdout",
     "output_type": "stream",
     "text": [
      "Running grid eval on 10 possible combinations\n",
      "Running evaluation 1 of 10, with params: {'delta': 0.10000000000000001}\n",
      "Retrieving using grid_results/absolute_discounting_0\n",
      "Running evaluation 2 of 10, with params: {'delta': 0.18888888888888888}\n",
      "Retrieving using grid_results/absolute_discounting_1\n",
      "Running evaluation 3 of 10, with params: {'delta': 0.27777777777777779}\n",
      "Retrieving using grid_results/absolute_discounting_2\n",
      "Running evaluation 4 of 10, with params: {'delta': 0.3666666666666667}\n",
      "Retrieving using grid_results/absolute_discounting_3\n",
      "Running evaluation 5 of 10, with params: {'delta': 0.4555555555555556}\n",
      "Retrieving using grid_results/absolute_discounting_4\n",
      "Running evaluation 6 of 10, with params: {'delta': 0.54444444444444451}\n",
      "Retrieving using grid_results/absolute_discounting_5\n",
      "Running evaluation 7 of 10, with params: {'delta': 0.6333333333333333}\n",
      "Retrieving using grid_results/absolute_discounting_6\n",
      "Running evaluation 8 of 10, with params: {'delta': 0.72222222222222221}\n",
      "Retrieving using grid_results/absolute_discounting_7\n",
      "Running evaluation 9 of 10, with params: {'delta': 0.81111111111111112}\n",
      "Retrieving using grid_results/absolute_discounting_8\n",
      "Running evaluation 10 of 10, with params: {'delta': 0.90000000000000002}\n",
      "Retrieving using grid_results/absolute_discounting_9\n"
     ]
    }
   ],
   "source": [
    "grid_abs_discounting = {\n",
    "    \"delta\": np.linspace(0.1, 0.9, 10)\n",
    "}\n",
    "abs_discounting_grid = grid_eval(grid_abs_discounting, absolute_discounting, \n",
    "                                 \"./ap_88_89/qrel_validation\", verbose=True)"
   ]
  },
  {
   "cell_type": "code",
   "execution_count": 32,
   "metadata": {},
   "outputs": [
    {
     "name": "stdout",
     "output_type": "stream",
     "text": [
      "Params:  {'delta': 0.10000000000000001}\n",
      "\tResults:  {'map_cut_1000': 0.0806, 'P_5': 0.12, 'ndcg_cut_10': 0.1313, 'recall_1000': 0.2411}\n",
      "Params:  {'delta': 0.18888888888888888}\n",
      "\tResults:  {'map_cut_1000': 0.0811, 'P_5': 0.12, 'ndcg_cut_10': 0.1316, 'recall_1000': 0.242}\n",
      "Params:  {'delta': 0.27777777777777779}\n",
      "\tResults:  {'map_cut_1000': 0.0817, 'P_5': 0.12, 'ndcg_cut_10': 0.1313, 'recall_1000': 0.2423}\n",
      "Params:  {'delta': 0.3666666666666667}\n",
      "\tResults:  {'map_cut_1000': 0.0822, 'P_5': 0.12, 'ndcg_cut_10': 0.1335, 'recall_1000': 0.2437}\n",
      "Params:  {'delta': 0.4555555555555556}\n",
      "\tResults:  {'map_cut_1000': 0.0827, 'P_5': 0.12, 'ndcg_cut_10': 0.1308, 'recall_1000': 0.2454}\n",
      "Params:  {'delta': 0.54444444444444451}\n",
      "\tResults:  {'map_cut_1000': 0.083, 'P_5': 0.12, 'ndcg_cut_10': 0.1312, 'recall_1000': 0.246}\n",
      "Params:  {'delta': 0.6333333333333333}\n",
      "\tResults:  {'map_cut_1000': 0.0835, 'P_5': 0.12, 'ndcg_cut_10': 0.1312, 'recall_1000': 0.2477}\n",
      "Params:  {'delta': 0.72222222222222221}\n",
      "\tResults:  {'map_cut_1000': 0.0838, 'P_5': 0.12, 'ndcg_cut_10': 0.1309, 'recall_1000': 0.2479}\n",
      "Params:  {'delta': 0.81111111111111112}\n",
      "\tResults:  {'map_cut_1000': 0.084, 'P_5': 0.1267, 'ndcg_cut_10': 0.1311, 'recall_1000': 0.248}\n",
      "Params:  {'delta': 0.90000000000000002}\n",
      "\tResults:  {'map_cut_1000': 0.0843, 'P_5': 0.1267, 'ndcg_cut_10': 0.1313, 'recall_1000': 0.2488}\n"
     ]
    }
   ],
   "source": [
    "print_grid(abs_discounting_grid)"
   ]
  },
  {
   "cell_type": "markdown",
   "metadata": {},
   "source": [
    "TODO: Justify selection"
   ]
  },
  {
   "cell_type": "markdown",
   "metadata": {},
   "source": [
    "##### Kernel type selection for Positional Language Models\n",
    "Selecting the kernel type that performs the best in PLM"
   ]
  },
  {
   "cell_type": "code",
   "execution_count": 33,
   "metadata": {
    "collapsed": true
   },
   "outputs": [],
   "source": [
    "PLM_grid = []\n",
    "kernel_types = ['gaussian', 'triangle', 'cosine', 'circle', 'passage']\n",
    "for kt in kernel_types:\n",
    "    run_name = \"PLM_{}\".format(kt)\n",
    "    run_file_name = run_name + \".run\"\n",
    "    \n",
    "    PLM_grid.append((kt, trec.evaluate(\"./ap_88_89/qrel_validation\", run_file_name, metrics_to_capture = {\"ndcg_cut_10\", \"map_cut_1000\", \"P_5\", \"recall_1000\", \"recall_100\"},granular=False)))"
   ]
  },
  {
   "cell_type": "code",
   "execution_count": 34,
   "metadata": {},
   "outputs": [
    {
     "name": "stdout",
     "output_type": "stream",
     "text": [
      "Params:  gaussian\n",
      "\tResults:  {'recall_100': 0.1169, 'P_5': 0.14, 'map_cut_1000': 0.1009, 'ndcg_cut_10': 0.1518, 'recall_1000': 0.6686}\n",
      "Params:  triangle\n",
      "\tResults:  {'recall_100': 0.1075, 'P_5': 0.12, 'map_cut_1000': 0.0954, 'ndcg_cut_10': 0.1287, 'recall_1000': 0.6686}\n",
      "Params:  cosine\n",
      "\tResults:  {'recall_100': 0.1071, 'P_5': 0.12, 'map_cut_1000': 0.0954, 'ndcg_cut_10': 0.1275, 'recall_1000': 0.6686}\n",
      "Params:  circle\n",
      "\tResults:  {'recall_100': 0.1133, 'P_5': 0.1333, 'map_cut_1000': 0.0974, 'ndcg_cut_10': 0.1417, 'recall_1000': 0.6686}\n",
      "Params:  passage\n",
      "\tResults:  {'recall_100': 0.1157, 'P_5': 0.1533, 'map_cut_1000': 0.0986, 'ndcg_cut_10': 0.1441, 'recall_1000': 0.6686}\n"
     ]
    }
   ],
   "source": [
    "print_grid(PLM_grid)"
   ]
  },
  {
   "cell_type": "code",
   "execution_count": 35,
   "metadata": {},
   "outputs": [
    {
     "name": "stdout",
     "output_type": "stream",
     "text": [
      "Lambda for Jelinek-Mercer\n"
     ]
    },
    {
     "data": {
      "image/png": "[encoded data removed]",
      "text/plain": [
       "<matplotlib.figure.Figure at 0x7f82c041e198>"
      ]
     },
     "metadata": {},
     "output_type": "display_data"
    },
    {
     "name": "stdout",
     "output_type": "stream",
     "text": [
      "Mu for Dirichlet\n"
     ]
    },
    {
     "data": {
      "image/png": "[encoded data removed]",
      "text/plain": [
       "<matplotlib.figure.Figure at 0x7f81de4c71d0>"
      ]
     },
     "metadata": {},
     "output_type": "display_data"
    },
    {
     "name": "stdout",
     "output_type": "stream",
     "text": [
      "Delta for Absolute Discounting\n"
     ]
    },
    {
     "data": {
      "image/png": "[encoded data removed]",
      "text/plain": [
       "<matplotlib.figure.Figure at 0x7f81d1ea4320>"
      ]
     },
     "metadata": {},
     "output_type": "display_data"
    }
   ],
   "source": [
    "import matplotlib.pyplot as plt\n",
    "%matplotlib inline\n",
    "plt.rcParams[\"figure.figsize\"] = (20, 10)\n",
    "plt.style.use('ggplot')\n",
    "\n",
    "#TODO: UPDATE DIRICHLET_PRIOR PARAM MU\n",
    "lmbds_x = []\n",
    "recalls_y = []\n",
    "maps_y = []\n",
    "ndcgs_y = []\n",
    "precs_y = []\n",
    "\n",
    "for jm in jelinek_mercer_grid_results:\n",
    "    lmbds_x.append(jm[0]['lmbd'])\n",
    "    recalls_y.append(jm[1]['recall_1000'])\n",
    "    maps_y.append(jm[1]['map_cut_1000'])\n",
    "    ndcgs_y.append(jm[1]['ndcg_cut_10'])\n",
    "    precs_y.append(jm[1]['P_5'])\n",
    "\n",
    "print(\"Lambda for Jelinek-Mercer\")\n",
    "\n",
    "plt.subplot(2,2,1)\n",
    "plt.plot(lmbds_x, maps_y, c=\"red\")\n",
    "plt.xlabel(\"Lambda\")\n",
    "plt.ylabel(\"MAP at 1000\")\n",
    "\n",
    "plt.subplot(2,2,2)\n",
    "plt.plot(lmbds_x, ndcgs_y, c=\"red\")\n",
    "plt.xlabel(\"Lambda\")\n",
    "plt.ylabel(\"NDCG at 10\")\n",
    "\n",
    "plt.subplot(2,2,3)\n",
    "plt.plot(lmbds_x, precs_y, c=\"red\")\n",
    "plt.xlabel(\"Lambda\")\n",
    "plt.ylabel(\"Precision at 5\")\n",
    "\n",
    "plt.subplot(2,2,4)\n",
    "plt.plot(lmbds_x, recalls_y, c=\"red\")\n",
    "plt.xlabel(\"Lambda\")\n",
    "plt.ylabel(\"Recall at 1000\")\n",
    "\n",
    "plt.savefig('lambda.png', format='png', bbox_inches='tight',dpi=600)\n",
    "\n",
    "plt.show()\n",
    "\n",
    "\n",
    "mus_x = []\n",
    "recalls_y = []\n",
    "maps_y = []\n",
    "ndcgs_y = []\n",
    "precs_y = []\n",
    "\n",
    "for dg in dirichlet_grid_results:\n",
    "    mus_x.append(dg[0]['mu'])\n",
    "    recalls_y.append(dg[1]['recall_1000'])\n",
    "    maps_y.append(dg[1]['map_cut_1000'])\n",
    "    ndcgs_y.append(dg[1]['ndcg_cut_10'])\n",
    "    precs_y.append(dg[1]['P_5'])\n",
    "\n",
    "print(\"Mu for Dirichlet\")\n",
    "\n",
    "plt.subplot(2,2,1)\n",
    "plt.plot(mus_x, maps_y, c=\"blue\")\n",
    "plt.xlabel(\"Mu\")\n",
    "plt.ylabel(\"MAP at 1000\")\n",
    "\n",
    "plt.subplot(2,2,2)\n",
    "plt.plot(mus_x, ndcgs_y, c=\"blue\")\n",
    "plt.xlabel(\"Mu\")\n",
    "plt.ylabel(\"NDCG at 10\")\n",
    "\n",
    "plt.subplot(2,2,3)\n",
    "plt.plot(mus_x, precs_y, c=\"blue\")\n",
    "plt.xlabel(\"Mu\")\n",
    "plt.ylabel(\"Precision at 5\")\n",
    "\n",
    "plt.subplot(2,2,4)\n",
    "plt.plot(mus_x, recalls_y, c=\"blue\")\n",
    "plt.xlabel(\"Mu\")\n",
    "plt.ylabel(\"Recall at 1000\")\n",
    "\n",
    "plt.savefig('mu.png', format='png', bbox_inches='tight',dpi=600)\n",
    "\n",
    "plt.show()\n",
    "\n",
    "\n",
    "deltas_x = []\n",
    "recalls_y = []\n",
    "maps_y = []\n",
    "ndcgs_y = []\n",
    "precs_y = []\n",
    "\n",
    "for ad in abs_discounting_grid:\n",
    "    deltas_x.append(ad[0]['delta'])\n",
    "    recalls_y.append(ad[1]['recall_1000'])\n",
    "    maps_y.append(ad[1]['map_cut_1000'])\n",
    "    ndcgs_y.append(ad[1]['ndcg_cut_10'])\n",
    "    precs_y.append(ad[1]['P_5'])\n",
    "\n",
    "print(\"Delta for Absolute Discounting\")\n",
    "\n",
    "plt.subplot(2,2,1)\n",
    "plt.plot(deltas_x, maps_y, c=\"orange\")\n",
    "plt.xlabel(\"Delta\")\n",
    "plt.ylabel(\"MAP at 1000\")\n",
    "\n",
    "plt.subplot(2,2,2)\n",
    "plt.plot(deltas_x, ndcgs_y, c=\"orange\")\n",
    "plt.xlabel(\"Delta\")\n",
    "plt.ylabel(\"NDCG at 10\")\n",
    "\n",
    "plt.subplot(2,2,3)\n",
    "plt.plot(deltas_x, precs_y, c=\"orange\")\n",
    "plt.xlabel(\"Delta\")\n",
    "plt.ylabel(\"Precision at 5\")\n",
    "\n",
    "plt.subplot(2,2,4)\n",
    "plt.plot(deltas_x, recalls_y, c=\"orange\")\n",
    "plt.xlabel(\"Delta\")\n",
    "plt.ylabel(\"Recall at 1000\")\n",
    "\n",
    "plt.savefig('delta.png', format='png', bbox_inches='tight',dpi=600)\n",
    "\n",
    "plt.show()"
   ]
  },
  {
   "cell_type": "code",
   "execution_count": 36,
   "metadata": {},
   "outputs": [
    {
     "name": "stdout",
     "output_type": "stream",
     "text": [
      "Kernel Types for PLM\n"
     ]
    },
    {
     "data": {
      "image/png": "[encoded data removed]",
      "text/plain": [
       "<matplotlib.figure.Figure at 0x7f81d1c51b00>"
      ]
     },
     "metadata": {},
     "output_type": "display_data"
    }
   ],
   "source": [
    "kernels_x = ['gaussian', 'triangle', 'cosine', 'circle', 'passage']\n",
    "recalls_y = []\n",
    "maps_y = []\n",
    "ndcgs_y = []\n",
    "precs_y = []\n",
    "\n",
    "for pg in PLM_grid:\n",
    "    recalls_y.append(pg[1]['recall_100'])\n",
    "    maps_y.append(pg[1]['map_cut_1000'])\n",
    "    ndcgs_y.append(pg[1]['ndcg_cut_10'])\n",
    "    precs_y.append(pg[1]['P_5'])\n",
    "\n",
    "print(\"Kernel Types for PLM\")\n",
    "\n",
    "plt.subplot(2,2,1)\n",
    "plt.bar(kernels_x, maps_y, width=0.5)\n",
    "plt.ylim(0.08, 0.11)\n",
    "plt.xlabel(\"Kernel\")\n",
    "plt.ylabel(\"MAP\")\n",
    "\n",
    "plt.subplot(2,2,2)\n",
    "plt.bar(kernels_x, ndcgs_y, width=0.5)\n",
    "plt.ylim(0.08, 0.16)\n",
    "plt.xlabel(\"Kernel\")\n",
    "plt.ylabel(\"NDCG\")\n",
    "\n",
    "plt.subplot(2,2,3)\n",
    "plt.bar(kernels_x, precs_y, width=0.5)\n",
    "plt.ylim(0.08, 0.16)\n",
    "plt.xlabel(\"Kernel\")\n",
    "plt.ylabel(\"Precision\")\n",
    "\n",
    "plt.subplot(2,2,4)\n",
    "plt.bar(kernels_x, recalls_y, width=0.5)\n",
    "plt.ylim(0.08, 0.12)\n",
    "plt.xlabel(\"Kernel\")\n",
    "plt.ylabel(\"Recall at 100\")\n",
    "\n",
    "plt.savefig('kernels.png', format='png', bbox_inches='tight',dpi=150)\n",
    "\n",
    "plt.show()"
   ]
  },
  {
   "cell_type": "markdown",
   "metadata": {},
   "source": [
    "### Statistical Significance Tests\n",
    "\n",
    "TODO: Marco, do your magic, broer"
   ]
  },
  {
   "cell_type": "code",
   "execution_count": 37,
   "metadata": {},
   "outputs": [
    {
     "name": "stdout",
     "output_type": "stream",
     "text": [
      "Extracted results!\n"
     ]
    }
   ],
   "source": [
    "results_tfidf = trec.evaluate(\"./ap_88_89/qrel_test\", \"./tfidf.run\")\n",
    "results_dirichlet = trec.evaluate(\"./ap_88_89/qrel_test\", \"./dirichlet_prior.run\")\n",
    "results_abs_disc = trec.evaluate(\"./ap_88_89/qrel_test\", \"./absolute_discounting.run\")\n",
    "results_bm25 = trec.evaluate(\"./ap_88_89/qrel_test\", \"./bm25.run\")\n",
    "results_jelinek = trec.evaluate(\"./ap_88_89/qrel_test\", \"./jelinek_mercer.run\")\n",
    "results_PLM = trec.evaluate(\"./ap_88_89/qrel_test\", \"./PLM_gaussian.run\", metrics_to_capture = {\"ndcg_cut_10\", \"map_cut_1000\", \"P_5\", \"recall_1000\", \"recall_100\"}) #gaussian is selected in the previous part\n",
    "results_lda = trec.evaluate(\"./ap_88_89/qrel_test\", \"./lda_512.run\")\n",
    "results_lsi = trec.evaluate(\"./ap_88_89/qrel_test\", \"./lsi_512.run\")\n",
    "results_word2vec = trec.evaluate(\"./ap_88_89/qrel_test\", \"./word2vec_200_avg.run\")\n",
    "results_machine = trec.evaluate(\"./ap_88_89/qrel_test\", \"./l2r-9-lengths-jaccard-tfidf-jm-dirichlet-ab-bm25-lsi-lda.run\")\n",
    "\n",
    "# remove results for 'all', since we are performing analysis only on a query level\n",
    "results_dirichlet.pop('all')\n",
    "results_tfidf.pop('all')\n",
    "results_abs_disc.pop('all')\n",
    "results_bm25.pop('all')\n",
    "results_jelinek.pop('all')\n",
    "results_PLM.pop('all')\n",
    "results_lda.pop('all')\n",
    "results_lsi.pop('all')\n",
    "results_word2vec.pop('all')\n",
    "results_machine.pop('all')\n",
    "\n",
    "print(\"Extracted results!\")"
   ]
  },
  {
   "cell_type": "code",
   "execution_count": null,
   "metadata": {
    "collapsed": true
   },
   "outputs": [],
   "source": [
    "maps_dirichlet = []\n",
    "maps_tfidf = []\n",
    "maps_abs_disc = []\n",
    "maps_bm25 = []\n",
    "maps_jelinek = []\n",
    "maps_PLM = []\n",
    "maps_lda = []\n",
    "maps_lsi = []\n",
    "maps_word2vec = []\n",
    "maps_machine = []\n",
    "q_lengths = []\n",
    "\n",
    "map_key = 'map_cut_1000'\n",
    "# map_key = 'ndcg_cut_10'\n",
    "# map_key = 'recall_1000'\n",
    "# map_key = 'p_5'\n",
    "\n",
    "# print(len(results_dirichlet))\n",
    "for q in results_dirichlet:\n",
    "    q_lengths.append(len(tokenized_queries[q]))\n",
    "    maps_dirichlet.append(results_dirichlet[q][map_key])    \n",
    "    maps_tfidf.append(results_tfidf[q][map_key])\n",
    "    maps_abs_disc.append(results_abs_disc[q][map_key])\n",
    "    maps_bm25.append(results_bm25[q][map_key])\n",
    "    maps_jelinek.append(results_jelinek[q][map_key])    \n",
    "    maps_PLM.append(results_PLM[q][map_key])\n",
    "    \n",
    "    maps_lda.append(results_lda[q][map_key])\n",
    "    maps_lsi.append(results_lsi[q][map_key])\n",
    "    maps_word2vec.append(results_word2vec[q][map_key])\n",
    "    maps_machine.append(results_machine[q][map_key])"
   ]
  },
  {
   "cell_type": "code",
   "execution_count": null,
   "metadata": {
    "collapsed": true,
    "scrolled": false
   },
   "outputs": [],
   "source": [
    "print(\"Query Lengths vs. Performance\")\n",
    "\n",
    "def plot_length_performance(q_performances, model_name, index):\n",
    "    \n",
    "    print(model_name)\n",
    "    plt.subplot(5,2,index)\n",
    "    plt.scatter(q_lengths, q_performances, alpha = 0.2)\n",
    "\n",
    "    z,p = stats.pearsonr(q_lengths,q_performances)\n",
    "    A = np.vstack([q_lengths, np.ones(len(q_lengths))]).T\n",
    "\n",
    "    m, c = np.linalg.lstsq(A,q_performances)[0]\n",
    "    print('m:',m,'c:',c,'for y = m*x + c')\n",
    "\n",
    "    x = np.linspace(0,max(q_lengths))\n",
    "    y = m*x + c\n",
    "\n",
    "    plt.plot(x,y)\n",
    "    title = model_name\n",
    "    plt.title(title)\n",
    "\n",
    "    print('Correlation coefficient:',z,'\\np:',p)\n",
    "    plt.xlabel(\"Query Length\")\n",
    "    plt.ylabel(\"Performance\")\n",
    "    \n",
    "\n",
    "\n",
    "#     plt.show()\n",
    "    \n",
    "\n",
    "plot_length_performance(maps_tfidf, 'TFIDF',1)\n",
    "# plt.subplot(5,2,2)\n",
    "plot_length_performance(maps_bm25, 'BM25',2)\n",
    "# plt.subplot(5,2,3)\n",
    "plot_length_performance(maps_dirichlet, 'Dirichlet',3)\n",
    "\n",
    "plot_length_performance(maps_jelinek, 'Jelinek Mercer',4)\n",
    "# plt.subplot(5,2,4)\n",
    "plot_length_performance(maps_abs_disc, 'Absolute Discounting',5)\n",
    "# plt.subplot(5,2,5)\n",
    "# plt.subplot(5,2,6)\n",
    "plot_length_performance(maps_PLM, 'PLM',6)\n",
    "# plt.subplot(5,2,7)\n",
    "plot_length_performance(maps_lda, 'LDA',7)\n",
    "plot_length_performance(maps_lsi, 'LSI',8)\n",
    "plot_length_performance(maps_word2vec, 'Word2Vec',9)\n",
    "plot_length_performance(maps_machine, 'Machine Learning',10)\n",
    "\n",
    "plt.tight_layout()\n",
    "fig_name = 'length_performance.png'\n",
    "plt.savefig(fig_name, format='png',dpi=150)\n",
    "            \n",
    "plt.show\n"
   ]
  },
  {
   "cell_type": "code",
   "execution_count": 40,
   "metadata": {
    "collapsed": true
   },
   "outputs": [],
   "source": [
    "def toss_coin(heads = 0.5):\n",
    "    # head = True, Tails is False\n",
    "    return True if random.random() < heads else False\n",
    "\n",
    "def bonferroni(groups, alpha = 0.05):\n",
    "    comparisons = math.factorial(groups)/(math.factorial(2)*math.factorial(groups - 2))\n",
    "    return alpha/comparisons"
   ]
  },
  {
   "cell_type": "code",
   "execution_count": 41,
   "metadata": {
    "collapsed": true
   },
   "outputs": [],
   "source": [
    "def randomiser(list_a, list_b):\n",
    "    \"\"\"\n",
    "    randomiser function which randomly takes values form both arrays into 2 new arrays \n",
    "    and returns the difference in mean\n",
    "    \"\"\"\n",
    "#     assert len(list_a) == len(list_b)\n",
    "    \n",
    "    \n",
    "    new_a, new_b = [], []\n",
    "    \n",
    "    combined = list_a + list_b\n",
    "    \n",
    " \n",
    "    \n",
    "    for index in range(len(list_a)):\n",
    "        new_a.append(random.choice(combined))\n",
    "    for index in range(len(list_b)):    \n",
    "        new_b.append(random.choice(combined))\n",
    "\n",
    "    mean_new_a = np.mean(new_a)\n",
    "    mean_new_b = np.mean(new_b)\n",
    "    \n",
    "    \n",
    "    return (mean_new_a - mean_new_b)\n",
    "\n",
    "def random_test(list_a, list_b, N = 1000):  \n",
    "    \"\"\"  \n",
    "    Randomizer, distribution free statistical test. \n",
    "        Input 2 arrays\n",
    "        N is the amount of times the randomization iterates\n",
    "        returns the percentile the actual difference is in (compared the distributions of random differences). \n",
    "        \n",
    "        Percentiles under 10% or above 90% are considered significant\n",
    "    \n",
    "    \"\"\"\n",
    "    \n",
    "    \n",
    "        \n",
    "    diff_orig = (np.mean(list_a) - np.mean(list_b))\n",
    "#     print(diff_orig)\n",
    "    numerator = 0\n",
    "    denominator = 0\n",
    "    \n",
    "    for i in range(N):\n",
    "    \n",
    "        if (randomiser(list_a, list_b) > diff_orig):\n",
    "            \n",
    "            numerator += 1\n",
    "            denominator += 1\n",
    "        elif (randomiser(list_a, list_b) == diff_orig):\n",
    "            denominator -= 1\n",
    "        else:\n",
    "            \n",
    "            denominator += 1\n",
    "#     print(numerator,denominator)\n",
    "    return numerator/denominator*100\n",
    "\n",
    "# print(random_test([5,4,11,3,8],[708,50,78,8,900]))"
   ]
  },
  {
   "cell_type": "code",
   "execution_count": 48,
   "metadata": {
    "scrolled": true
   },
   "outputs": [
    {
     "name": "stdout",
     "output_type": "stream",
     "text": [
      "Corrected bonferroni rejection p-value:0.0033333333333333335\n",
      "\n",
      "maps_dirichlet\n",
      "\tMean: 0.019231666666666664\t Standard Deviation:0.05924491396361004\n",
      "\tNormaltestResult(statistic=169.34913324193982, pvalue=1.6838482851531144e-37)\n",
      "\n",
      "maps_tfidf\n",
      "\tMean: 0.2155175\t Standard Deviation:0.20379437457990998\n",
      "\tNormaltestResult(statistic=21.915149924206695, pvalue=1.7425516470963724e-05)\n",
      "\n",
      "maps_abs_disc\n",
      "\tMean: 0.016851666666666664\t Standard Deviation:0.05716763359240573\n",
      "\tNormaltestResult(statistic=181.52876288003222, pvalue=3.815311373966707e-40)\n",
      "\n",
      "maps_bm25\n",
      "\tMean: 0.21727750000000004\t Standard Deviation:0.2094528126899947\n",
      "\tNormaltestResult(statistic=22.849502274582818, pvalue=1.0921785023766079e-05)\n",
      "\n",
      "maps_jelinek\n",
      "\tMean: 0.014981666666666666\t Standard Deviation:0.05131848916867639\n",
      "\tNormaltestResult(statistic=176.61619064572301, pvalue=4.4491955471117816e-39)\n",
      "\n",
      "maps_dirichlet maps_tfidf Ttest_relResult(statistic=-10.592451683957091, pvalue=7.149705824559884e-19)\n",
      "\t\t\tRandomization test: 100.0th percentile\n",
      "\n",
      "maps_dirichlet maps_abs_disc Ttest_relResult(statistic=3.4789468361787539, pvalue=0.00070408155353445868)\n",
      "\t\t\tRandomization test: 38.9th percentile\n",
      "\n",
      "maps_dirichlet maps_bm25 Ttest_relResult(statistic=-10.295483877048476, pvalue=3.6583426970362251e-18)\n",
      "\t\t\tRandomization test: 100.0th percentile\n",
      "\n",
      "maps_dirichlet maps_jelinek Ttest_relResult(statistic=3.4411986170374536, pvalue=0.00079963657734548647)\n",
      "\t\t\tRandomization test: 27.500000000000004th percentile\n",
      "\n",
      "maps_dirichlet maps_PLM Ttest_indResult(statistic=-3.0686550327308781, pvalue=0.0023993409109217996)\n",
      "\t\t\tRandomization test: 100.0th percentile\n",
      "\n",
      "maps_tfidf maps_abs_disc Ttest_relResult(statistic=10.713973693723807, pvalue=3.6648508501590014e-19)\n",
      "\t\t\tRandomization test: 0.0th percentile\n",
      "\n",
      "maps_tfidf maps_bm25 Ttest_relResult(statistic=-0.33359901878771864, pvalue=0.73926926415945182)\n",
      "\t\t\tRandomization test: 52.1th percentile\n",
      "\n",
      "maps_tfidf maps_jelinek Ttest_relResult(statistic=10.828665062453693, pvalue=1.9504404793278223e-19)\n",
      "\t\t\tRandomization test: 0.0th percentile\n",
      "\n",
      "maps_tfidf maps_PLM Ttest_indResult(statistic=8.7579221390567135, pvalue=3.7761241767253226e-16)\n",
      "\t\t\tRandomization test: 0.0th percentile\n",
      "\n",
      "maps_abs_disc maps_bm25 Ttest_relResult(statistic=-10.441677017400114, pvalue=1.6380295801258323e-18)\n",
      "\t\t\tRandomization test: 100.0th percentile\n",
      "\n",
      "maps_abs_disc maps_jelinek Ttest_relResult(statistic=2.2320881992769155, pvalue=0.027480757798770513)\n",
      "\t\t\tRandomization test: 37.2th percentile\n",
      "\n",
      "maps_abs_disc maps_PLM Ttest_indResult(statistic=-3.419154048280646, pvalue=0.0007389199740468293)\n",
      "\t\t\tRandomization test: 100.0th percentile\n",
      "\n",
      "maps_bm25 maps_jelinek Ttest_relResult(statistic=10.57219189794303, pvalue=7.9922983419373829e-19)\n",
      "\t\t\tRandomization test: 0.0th percentile\n",
      "\n",
      "maps_bm25 maps_PLM Ttest_indResult(statistic=8.6297192264257525, pvalue=8.8946287445765116e-16)\n",
      "\t\t\tRandomization test: 0.0th percentile\n",
      "\n",
      "maps_jelinek maps_PLM Ttest_indResult(statistic=-3.8223289983623596, pvalue=0.00016882440937706418)\n",
      "\t\t\tRandomization test: 100.0th percentile\n",
      "\n"
     ]
    }
   ],
   "source": [
    "import itertools\n",
    "\n",
    "normality = [maps_tfidf, maps_bm25, maps_jelinek, maps_dirichlet, maps_abs_disc, maps_PLM, ]\n",
    "maps = [ 'maps_tfidf', 'maps_bm25', 'maps_jelinek','maps_dirichlet', 'maps_abs_disc', 'maps_PLM']\n",
    "values_map = {'maps_tfidf':maps_tfidf, 'maps_bm25':maps_bm25, 'maps_dirichlet':maps_dirichlet,\n",
    "              'maps_jelinek':maps_jelinek, 'maps_abs_disc':maps_abs_disc, 'maps_PLM':maps_PLM}\n",
    "comparison_pairs = itertools.combinations(maps,2)\n",
    "\n",
    "print(\"Corrected bonferroni rejection p-value:{}\\n\".format(bonferroni(6))) \n",
    "\n",
    "for i, x in enumerate(normality):\n",
    "    print(\"{}\\n\\tMean: {}\\t Standard Deviation:{}\".format(maps[i],np.mean(x),np.std(x)))\n",
    "    print(\"\\t{}\".format(stats.normaltest(x)))\n",
    "    print(\"\")\n",
    "\n",
    "for x,y in comparison_pairs:\n",
    "    \n",
    "    if x != y:\n",
    "        print(x, y, stats.ttest_ind(values_map[x],values_map[y]))\n",
    "        print(\"\\t\\t\\tRandomization test: {}th percentile\".format(random_test(values_map[x],values_map[y])))\n",
    "        print()\n",
    "    elif x != y:\n",
    "        print(x, y, stats.ttest_rel(values_map[x],values_map[y]))\n",
    "        print(\"\\t\\t\\tRandomization test: {}th percentile\".format(random_test(values_map[x],values_map[y])))\n",
    "        print()\n",
    "        \n",
    "        print(\"-------------------------------------------------------------------------------------------\")\n",
    "normality = [maps_bm25, maps_PLM, maps_lda, maps_lsi, maps_word2vec, maps_machine]\n",
    "maps = ['maps_bm25', 'maps_PLM', 'maps_lda', 'maps_lsi', 'maps_word2vec', 'maps_machine']\n",
    "values_map = {'maps_bm25':maps_bm25, 'maps_PLM':maps_PLM, 'maps_lda':maps_lda, 'maps_lsi':maps_lsi, 'maps_word2vec':maps_word2vec, 'maps_machine':maps_machine}\n",
    "comparison_pairs = itertools.combinations(maps,2)\n",
    "\n",
    "print(\"Corrected bonferroni rejection p-value:{}\\n\".format(bonferroni(6))) \n",
    "\n",
    "for i, x in enumerate(normality):\n",
    "    print(\"{}\\n\\tMean: {}\\t Standard Deviation:{}\".format(maps[i],np.mean(x),np.std(x)))\n",
    "    print(\"\\t{}\".format(stats.normaltest(x)))\n",
    "    print()\n",
    "\n",
    "for x,y in comparison_pairs:\n",
    "    \n",
    "    if x != y:\n",
    "        print(x, y, stats.ttest_ind(values_map[x],values_map[y]))\n",
    "        print(\"\\t\\t\\tRandomization test: {}th percentile\".format(random_test(values_map[x],values_map[y])))\n",
    "        print()\n",
    "    elif x != y:\n",
    "        print(x, y, stats.ttest_rel(values_map[x],values_map[y]))\n",
    "        print(\"\\t\\t\\tRandomization test: {}th percentile\".format(random_test(values_map[x],values_map[y])))\n",
    "        print()\n",
    "        "
   ]
  },
  {
   "cell_type": "code",
   "execution_count": 43,
   "metadata": {
    "collapsed": true
   },
   "outputs": [],
   "source": [
    "tfidf_score_distribution = []\n",
    "\n",
    "for tr in tfidf_run:\n",
    "    for pair in tfidf_run[tr]:\n",
    "        tfidf_score_distribution.append(pair[0])"
   ]
  },
  {
   "cell_type": "code",
   "execution_count": 44,
   "metadata": {},
   "outputs": [
    {
     "name": "stdout",
     "output_type": "stream",
     "text": [
      "Min TFIDF: 0.5283197478597805 \n",
      "Max TFIDF: 48.97780043839443\n",
      "Number of scores: 3568531\n",
      "normality p: 0.0\n"
     ]
    },
    {
     "data": {
      "image/png": "[encoded data removed]",
      "text/plain": [
       "<matplotlib.figure.Figure at 0x7f81ddc4ba90>"
      ]
     },
     "metadata": {},
     "output_type": "display_data"
    },
    {
     "data": {
      "image/png": "[encoded data removed]",
      "text/plain": [
       "<matplotlib.figure.Figure at 0x7f81ddc4b8d0>"
      ]
     },
     "metadata": {},
     "output_type": "display_data"
    }
   ],
   "source": [
    "min_score = min(tfidf_score_distribution)\n",
    "max_score = max(tfidf_score_distribution)\n",
    "print('Min TFIDF:', min_score,'\\nMax TFIDF:', max_score)\n",
    "print('Number of scores:',len(tfidf_score_distribution))\n",
    "s,p = stats.normaltest(tfidf_score_distribution)\n",
    "print('normality p:',p)\n",
    "plt.title('Histogram TFIDF scores')\n",
    "plt.xlabel(\"TFIDF scores\")\n",
    "plt.ylabel(\"Count\")\n",
    "plt.hist(tfidf_score_distribution, bins=100)\n",
    "plt.show()\n",
    "\n",
    "plt.title('Boxplot of TFIDF scores')\n",
    "plt.xlabel(\"TFIDF scores\")\n",
    "plt.ylabel(\"Count\")\n",
    "plt.boxplot(tfidf_score_distribution)\n",
    "\n",
    "plt.savefig(\"boxplot_TFIDF.png\", format='png',dpi=150)\n",
    "plt.show()\n",
    "\n"
   ]
  },
  {
   "cell_type": "code",
   "execution_count": 74,
   "metadata": {},
   "outputs": [
    {
     "name": "stdout",
     "output_type": "stream",
     "text": [
      "Some query-document examples of outlier scores(>40) for TFIDF\n",
      "AP890626-0006 163 ['vietnam', 'veterans', 'agent', 'orange']\n",
      "AP890622-0264 163 ['vietnam', 'veterans', 'agent', 'orange']\n",
      "AP890716-0034 163 ['vietnam', 'veterans', 'agent', 'orange']\n",
      "AP890512-0009 163 ['vietnam', 'veterans', 'agent', 'orange']\n",
      "AP890803-0120 163 ['vietnam', 'veterans', 'agent', 'orange']\n",
      "AP891030-0013 163 ['vietnam', 'veterans', 'agent', 'orange']\n",
      "AP890509-0015 163 ['vietnam', 'veterans', 'agent', 'orange']\n",
      "AP890801-0251 127 ['u', 's', 'u', 's', 's', 'r', 'arms', 'control', 'agreements']\n",
      "AP890301-0239 127 ['u', 's', 'u', 's', 's', 'r', 'arms', 'control', 'agreements']\n",
      "AP881030-0049 101 ['design', 'star', 'wars', 'anti', 'missile', 'defense', 'system']\n",
      "AP890713-0230 90 ['data', 'proven', 'reserves', 'oil', 'natural', 'gas', 'producers']\n",
      "AP880907-0275 200 ['impact', 'foreign', 'textile', 'imports', 'u', 's', 'textile', 'industry']\n",
      "AP880909-0221 200 ['impact', 'foreign', 'textile', 'imports', 'u', 's', 'textile', 'industry']\n",
      "AP881004-0189 200 ['impact', 'foreign', 'textile', 'imports', 'u', 's', 'textile', 'industry']\n",
      "AP880909-0258 200 ['impact', 'foreign', 'textile', 'imports', 'u', 's', 'textile', 'industry']\n",
      "AP880928-0294 200 ['impact', 'foreign', 'textile', 'imports', 'u', 's', 'textile', 'industry']\n",
      "AP880930-0234 200 ['impact', 'foreign', 'textile', 'imports', 'u', 's', 'textile', 'industry']\n",
      "AP880908-0030 200 ['impact', 'foreign', 'textile', 'imports', 'u', 's', 'textile', 'industry']\n",
      "AP880916-0041 200 ['impact', 'foreign', 'textile', 'imports', 'u', 's', 'textile', 'industry']\n",
      "AP880916-0203 200 ['impact', 'foreign', 'textile', 'imports', 'u', 's', 'textile', 'industry']\n",
      "AP881004-0038 200 ['impact', 'foreign', 'textile', 'imports', 'u', 's', 'textile', 'industry']\n",
      "AP881110-0035 170 ['consequences', 'implantation', 'silicone', 'gel', 'breast', 'devices']\n",
      "AP881111-0092 170 ['consequences', 'implantation', 'silicone', 'gel', 'breast', 'devices']\n",
      "AP881122-0171 170 ['consequences', 'implantation', 'silicone', 'gel', 'breast', 'devices']\n"
     ]
    }
   ],
   "source": [
    "tfidf_queries = collections.defaultdict(lambda: collections.defaultdict(float))\n",
    "\n",
    "print(\"Some query-document examples of outlier scores(>40) for TFIDF\")\n",
    "for tr in tfidf_run:\n",
    "    for pair in tfidf_run[tr]:\n",
    "        tfidf_queries[tr][pair[1]] = pair[0]\n",
    "        if(pair[0]>40):\n",
    "            tq = tokenized_queries[tr]\n",
    "            q_words = []\n",
    "            for t in tq:\n",
    "                q_words.append(id2token[t])\n",
    "            print(pair[1], tr, q_words)\n",
    "            #print(doc_tokens_with_stop[ext_id_to_doc_id[pair[1]]])"
   ]
  },
  {
   "cell_type": "code",
   "execution_count": 1,
   "metadata": {},
   "outputs": [
    {
     "ename": "NameError",
     "evalue": "name 'collections' is not defined",
     "output_type": "error",
     "traceback": [
      "\u001b[0;31m---------------------------------------------------------------------------\u001b[0m",
      "\u001b[0;31mNameError\u001b[0m                                 Traceback (most recent call last)",
      "\u001b[0;32m<ipython-input-1-2df7e0e741d0>\u001b[0m in \u001b[0;36m<module>\u001b[0;34m()\u001b[0m\n\u001b[0;32m----> 1\u001b[0;31m \u001b[0mbm25_queries\u001b[0m \u001b[0;34m=\u001b[0m \u001b[0mcollections\u001b[0m\u001b[0;34m.\u001b[0m\u001b[0mdefaultdict\u001b[0m\u001b[0;34m(\u001b[0m\u001b[0;32mlambda\u001b[0m\u001b[0;34m:\u001b[0m \u001b[0mcollections\u001b[0m\u001b[0;34m.\u001b[0m\u001b[0mdefaultdict\u001b[0m\u001b[0;34m(\u001b[0m\u001b[0mfloat\u001b[0m\u001b[0;34m)\u001b[0m\u001b[0;34m)\u001b[0m\u001b[0;34m\u001b[0m\u001b[0m\n\u001b[0m\u001b[1;32m      2\u001b[0m \u001b[0mjm_queries\u001b[0m \u001b[0;34m=\u001b[0m \u001b[0mcollections\u001b[0m\u001b[0;34m.\u001b[0m\u001b[0mdefaultdict\u001b[0m\u001b[0;34m(\u001b[0m\u001b[0;32mlambda\u001b[0m\u001b[0;34m:\u001b[0m \u001b[0mcollections\u001b[0m\u001b[0;34m.\u001b[0m\u001b[0mdefaultdict\u001b[0m\u001b[0;34m(\u001b[0m\u001b[0mfloat\u001b[0m\u001b[0;34m)\u001b[0m\u001b[0;34m)\u001b[0m\u001b[0;34m\u001b[0m\u001b[0m\n\u001b[1;32m      3\u001b[0m \u001b[0mdprior_queries\u001b[0m \u001b[0;34m=\u001b[0m \u001b[0mcollections\u001b[0m\u001b[0;34m.\u001b[0m\u001b[0mdefaultdict\u001b[0m\u001b[0;34m(\u001b[0m\u001b[0;32mlambda\u001b[0m\u001b[0;34m:\u001b[0m \u001b[0mcollections\u001b[0m\u001b[0;34m.\u001b[0m\u001b[0mdefaultdict\u001b[0m\u001b[0;34m(\u001b[0m\u001b[0mfloat\u001b[0m\u001b[0;34m)\u001b[0m\u001b[0;34m)\u001b[0m\u001b[0;34m\u001b[0m\u001b[0m\n\u001b[1;32m      4\u001b[0m \u001b[0mab_queries\u001b[0m \u001b[0;34m=\u001b[0m \u001b[0mcollections\u001b[0m\u001b[0;34m.\u001b[0m\u001b[0mdefaultdict\u001b[0m\u001b[0;34m(\u001b[0m\u001b[0;32mlambda\u001b[0m\u001b[0;34m:\u001b[0m \u001b[0mcollections\u001b[0m\u001b[0;34m.\u001b[0m\u001b[0mdefaultdict\u001b[0m\u001b[0;34m(\u001b[0m\u001b[0mfloat\u001b[0m\u001b[0;34m)\u001b[0m\u001b[0;34m)\u001b[0m\u001b[0;34m\u001b[0m\u001b[0m\n\u001b[1;32m      5\u001b[0m \u001b[0mtfidf_queries\u001b[0m \u001b[0;34m=\u001b[0m \u001b[0mcollections\u001b[0m\u001b[0;34m.\u001b[0m\u001b[0mdefaultdict\u001b[0m\u001b[0;34m(\u001b[0m\u001b[0;32mlambda\u001b[0m\u001b[0;34m:\u001b[0m \u001b[0mcollections\u001b[0m\u001b[0;34m.\u001b[0m\u001b[0mdefaultdict\u001b[0m\u001b[0;34m(\u001b[0m\u001b[0mfloat\u001b[0m\u001b[0;34m)\u001b[0m\u001b[0;34m)\u001b[0m\u001b[0;34m\u001b[0m\u001b[0m\n",
      "\u001b[0;31mNameError\u001b[0m: name 'collections' is not defined"
     ]
    }
   ],
   "source": [
    "bm25_queries = collections.defaultdict(lambda: collections.defaultdict(float))\n",
    "jm_queries = collections.defaultdict(lambda: collections.defaultdict(float))\n",
    "dprior_queries = collections.defaultdict(lambda: collections.defaultdict(float))\n",
    "ab_queries = collections.defaultdict(lambda: collections.defaultdict(float))\n",
    "tfidf_queries = collections.defaultdict(lambda: collections.defaultdict(float))\n",
    "plm_queries = collections.defaultdict(lambda: collections.defaultdict(float))\n",
    "\n",
    "word2vec_queries = collections.defaultdict(lambda: collections.defaultdict(float))\n",
    "lsi_queries = collections.defaultdict(lambda: collections.defaultdict(float))\n",
    "lda_queries = collections.defaultdict(lambda: collections.defaultdict(float))\n",
    "machine_queries = collections.defaultdict(lambda: collections.defaultdict(float))\n",
    "\n",
    "print('tfidf')\n",
    "for q in tfidf_run:\n",
    "    for i in range(len(tfidf_run[q])):\n",
    "#         print(i,tfidf_run[q][i])\n",
    "        pair = tfidf_run[q][i]\n",
    "        tfidf_queries[q][pair[1]] = i\n",
    "            \n",
    "print('bm25')     \n",
    "for q in bm25_run:\n",
    "    for i in range(len(bm25_run[q])):\n",
    "        pair = bm25_run[q][i]\n",
    "        bm25_queries[q][pair[1]] = i\n",
    "\n",
    "print('jm')     \n",
    "for q in jm_run:\n",
    "    for i in range(len(jm_run[q])):\n",
    "        pair = jm_run[q][i]\n",
    "        jm_queries[q][pair[1]] = i\n",
    "\n",
    "print('ab')     \n",
    "for q in ab_run:\n",
    "    for i in range(len(ab_run[q])):\n",
    "        pair = ab_run[q][i]\n",
    "        ab_queries[q][pair[1]] = i\n",
    "\n",
    "print('dp')     \n",
    "for q in dprior_run:\n",
    "    for i in range(len(dprior_run[q])):\n",
    "        pair = dprior_run[q][i]\n",
    "        dprior_queries[q][pair[1]] = i\n",
    "\n",
    "# print('plm')     \n",
    "# for q in plm_run:\n",
    "#     for i in range(len(plm_run[q])):\n",
    "#         pair = dprior_run[q][i]\n",
    "#         plm_queries[q][pair[1]] = i   \n",
    "        \n",
    "# print('word2vec')     \n",
    "# for q in word2vec_run:\n",
    "#     for i in range(len(word2vec_run[q])):\n",
    "#         pair = dprior_run[q][i]\n",
    "#         word2vec_queries[q][pair[1]] = i  \n",
    "        \n",
    "# print('lsi')     \n",
    "# for q in lsi_run:\n",
    "#     for i in range(len(word2vec_run[q])):\n",
    "#         pair = dprior_run[q][i]\n",
    "#         word2vec_queries[q][pair[1]] = i  \n",
    "        \n",
    "# print('lda')     \n",
    "# for q in lda_run:\n",
    "#     for i in range(len(word2vec_run[q])):\n",
    "#         pair = dprior_run[q][i]\n",
    "#         word2vec_queries[q][pair[1]] = i  \n",
    "\n",
    "# print('machine')     \n",
    "# for q in word2vec_run:\n",
    "#     for i in range(len(word2vec_run[q])):\n",
    "#         pair = dprior_run[q][i]\n",
    "        word2vec_queries[q][pair[1]] = i  "
   ]
  },
  {
   "cell_type": "code",
   "execution_count": 49,
   "metadata": {},
   "outputs": [
    {
     "data": {
      "text/plain": [
       "'Here, we looked for certain document-query pairs that were ranked in higher positions given one metric and ranked lower in other metrics and vice versa. We explain the interesting findings in the report.'"
      ]
     },
     "execution_count": 49,
     "metadata": {},
     "output_type": "execute_result"
    }
   ],
   "source": [
    "'''Here, we looked for certain document-query pairs that were ranked in higher positions given one metric and ranked lower in other metrics and vice versa. We explain the interesting findings in the report.'''\n",
    "\n",
    "# for q in tfidf_run:\n",
    "for q in jm_run:\n",
    "    count = 0 \n",
    "#     while count <= 5:\n",
    "#     for pair in tfidf_run[q]:\n",
    "    for pair in jm_run[q]:\n",
    "        count += 1\n",
    "        if count == 3:\n",
    "            break\n",
    "#         tfidf_queries[q][pair[1]] = pair[0]\n",
    "#         if(pair[0]>40):\n",
    "        tq = tokenized_queries[q]\n",
    "        q_words = []\n",
    "        for t in tq:\n",
    "            q_words.append(id2token[t])\n",
    "        print(pair[1], q, q_words)\n",
    "        print(tfidf_queries[q][pair[1]])\n",
    "        print(bm25_queries[q][pair[1]])\n",
    "        print(ab_queries[q][pair[1]])\n",
    "        print(jm_queries[q][pair[1]])\n",
    "        print(dprior_queries[q][pair[1]])"
   ]
  },
  {
   "cell_type": "code",
   "execution_count": null,
   "metadata": {
    "collapsed": true
   },
   "outputs": [],
   "source": [
    "ext_doc_id, doc_token_ids = index.document(ext_id_to_doc_id['AP880223-0245'])\n",
    "for dt in doc_token_ids:\n",
    "    if dt != 0:\n",
    "        print(id2token[dt])"
   ]
  },
  {
   "cell_type": "markdown",
   "metadata": {},
   "source": [
    "### Task 2: Latent Semantic Models (LSMs) [15 points] ###\n",
    "\n",
    "In this task you will experiment with applying distributional semantics methods ([LSI](http://lsa3.colorado.edu/papers/JASIS.lsi.90.pdf) **[5 points]** and [LDA](https://www.cs.princeton.edu/~blei/papers/BleiNgJordan2003.pdf) **[5 points]**) for retrieval.\n",
    "\n",
    "You do not need to implement LSI or LDA on your own. Instead, you can use [gensim](http://radimrehurek.com/gensim/index.html). An example on how to integrate Pyndri with Gensim for word2vec can be found [here](https://github.com/cvangysel/pyndri/blob/master/examples/word2vec.py). For the remaining latent vector space models, you will need to implement connector classes (such as `IndriSentences`) by yourself.\n",
    "\n",
    "In order to use a latent semantic model for retrieval, you need to:\n",
    "   * build a representation of the query **q**,\n",
    "   * build a representation of the document **d**,\n",
    "   * calculate the similarity between **q** and **d** (e.g., cosine similarity, KL-divergence).\n",
    "     \n",
    "The exact implementation here depends on the latent semantic model you are using. \n",
    "   \n",
    "Each of these LSMs come with various hyperparameters to tune. Make a choice on the parameters, and explicitly mention the reasons that led you to these decisions. You can use the validation set to optimize hyper parameters you see fit; motivate your decisions. In addition, mention clearly how the query/document representations were constructed for each LSM and explain your choices.\n",
    "\n",
    "In this experiment, you will first obtain an initial top-1000 ranking for each query using TF-IDF in **Task 1**, and then re-rank the documents using the LSMs. Use TREC Eval to obtain the results and report on `NDCG@10`, Mean Average Precision (`MAP@1000`), `Precision@5` and `Recall@1000`.\n",
    "\n",
    "Perform significance testing **[5 points]** (similar as in Task 1) in the class of semantic matching methods."
   ]
  },
  {
   "cell_type": "code",
   "execution_count": 50,
   "metadata": {
    "collapsed": true
   },
   "outputs": [],
   "source": [
    "def document_token_iterator():\n",
    "    \"\"\"\n",
    "    A generator to iterate over all the indexed documents and return the tokens.\n",
    "    \"\"\"\n",
    "    \n",
    "    for int_doc_id in range(index.document_base(), index.maximum_document()):\n",
    "        ext_doc_id, doc_token_ids = index.document(int_doc_id)\n",
    "        # exclude stopwords and return the word itself \n",
    "        # so that we can interpret some of the model's output later on\n",
    "        ll = [id2token[token_id].lower() for token_id in doc_token_ids if token_id > 0]\n",
    "        yield ll"
   ]
  },
  {
   "cell_type": "code",
   "execution_count": 51,
   "metadata": {},
   "outputs": [
    {
     "name": "stdout",
     "output_type": "stream",
     "text": [
      "Loading existing dictionary\n"
     ]
    }
   ],
   "source": [
    "def get_dictionary(dict_file_name = \"./index.dict\"):\n",
    "    \"\"\"\n",
    "    Construct a gensim dictionary from the data, and save it. If this is already done, \n",
    "    it loads the existing file and returns it\n",
    "    \n",
    "    :param dict_file_name: The path to persist the dictionary to\n",
    "    \"\"\"\n",
    "    \n",
    "    if os.path.exists(dict_file_name):\n",
    "        print(\"Loading existing dictionary\")\n",
    "        return gensim.corpora.Dictionary.load(dict_file_name)\n",
    "    \n",
    "    print(\"Creating dictionary, and saving...\")\n",
    "    gensim_dict = gensim.corpora.Dictionary(document_token_iterator())\n",
    "    gensim_dict.save(dict_file_name)\n",
    "    return gensim_dict\n",
    "\n",
    "gensim_dict = get_dictionary()"
   ]
  },
  {
   "cell_type": "code",
   "execution_count": 73,
   "metadata": {},
   "outputs": [
    {
     "name": "stdout",
     "output_type": "stream",
     "text": [
      "Creating corpus, and saving....\n"
     ]
    }
   ],
   "source": [
    "def get_corpus(gensim_dict, corpus_file=\"ir1.mm\"):\n",
    "    \"\"\"\n",
    "    Construct a gensim MmCorpus from the data, and save it. If this is already done, \n",
    "    it loads the existing file and returns it\n",
    "    \n",
    "    :param dict_file_name: The path to persist the MmCorpus to\n",
    "    \"\"\"\n",
    "    \n",
    "    if os.path.exists(corpus_file):\n",
    "        print(\"Loading existing corpus\")\n",
    "        return gensim.corpora.MmCorpus(corpus_file)\n",
    "    \n",
    "    print(\"Creating corpus, and saving....\")\n",
    "    gensim.corpora.MmCorpus.serialize(corpus_file, (gensim_dict.doc2bow(doc) for doc in document_token_iterator()))\n",
    "    return gensim.corpora.MmCorpus(corpus_file)\n",
    "\n",
    "gensim_corpus = get_corpus(gensim_dict)"
   ]
  },
  {
   "cell_type": "code",
   "execution_count": 75,
   "metadata": {
    "collapsed": true
   },
   "outputs": [],
   "source": [
    "def get_LSI_model(num_topics=256, directory=\"./models/\"):\n",
    "    \"\"\"\n",
    "    Construct a LSI model and save it. If it already exists, load it.\n",
    "    :param num_topics: The number of topics to train the model on\n",
    "    :param directory: The directory to save the model to / load the model from\n",
    "    \n",
    "    \"\"\"\n",
    "    model_path = os.path.join(directory, \"lsi_model_{}\".format(num_topics))\n",
    "    \n",
    "    if os.path.exists(model_path):\n",
    "        print(\"Loading existing model from \", model_path)\n",
    "        return gensim.models.lsimodel.LsiModel.load(model_path)\n",
    "    \n",
    "    print(\"Creating LSI model, and saving to \", model_path)\n",
    "    lsi_model = gensim.models.lsimodel.LsiModel(corpus=gensim_corpus, id2word=gensim_dict, num_topics=num_topics)\n",
    "    lsi_model.save(model_path)\n",
    "    return lsi_model"
   ]
  },
  {
   "cell_type": "code",
   "execution_count": 76,
   "metadata": {
    "collapsed": true
   },
   "outputs": [],
   "source": [
    "def get_LDA_model(num_topics=256, directory=\"./models/\"):\n",
    "    \"\"\"\n",
    "    Construct a LDA model and save it. If it already exists, load it.\n",
    "    :param num_topics: The number of topics to train the model on\n",
    "    :param directory: The directory to save the model to / load the model from\n",
    "    \n",
    "    \"\"\"\n",
    "    model_path = os.path.join(directory, \"lda_model_{}\".format(num_topics))\n",
    "    \n",
    "    if os.path.exists(model_path):\n",
    "        print(\"Loading existing model from \", model_path)\n",
    "        return gensim.models.LdaModel.load(model_path)\n",
    "    \n",
    "    print(\"Creating LDA model, and saving to \", model_path)\n",
    "    lda_model = gensim.models.LdaModel(corpus=gensim_corpus, id2word=gensim_dict, num_topics=num_topics)\n",
    "    lda_model.save(model_path)\n",
    "    return lda_model"
   ]
  },
  {
   "cell_type": "code",
   "execution_count": 77,
   "metadata": {
    "collapsed": true
   },
   "outputs": [],
   "source": [
    "class LSMScorer:\n",
    "    \"\"\"\n",
    "    A scorer for a LSM \n",
    "    \"\"\"\n",
    "    \n",
    "    def __init__(self, corpus, dictionary, model):\n",
    "        \"\"\"\n",
    "        Initialize a LSM scorer\n",
    "        \n",
    "        :param corpus: The gensim corpus instance\n",
    "        :param dictionary: The gensim dictionary instance\n",
    "        :param model: The LSM \n",
    "        \"\"\"\n",
    "        \n",
    "        self.model = model\n",
    "        self.corpus = corpus\n",
    "        self.dict = dictionary\n",
    "        \n",
    "        # a matrix holding all the document vectors\n",
    "        self.document_vectors = np.zeros((num_documents, self.model.num_topics))\n",
    "        # index (of the matrix above) -> external doc id\n",
    "        self.document_index = []\n",
    "        start_time = time.time()\n",
    "        print(\"Starting pre-indexing\")\n",
    "        # pre-index the document vectors for faster computation\n",
    "        for idx, int_doc_id in enumerate(range(index.document_base(), index.maximum_document())):\n",
    "            if (idx + 1) % 10000 == 0:\n",
    "                print(idx, \" documents indexed. Time elapsed:\", time.time() - start_time)\n",
    "            ext_doc_id, doc_token_ids = index.document(int_doc_id)\n",
    "            document_tokens = [id2token[token_id].lower() for token_id in doc_token_ids if token_id > 0]\n",
    "            self.document_index.append(ext_doc_id)\n",
    "            self.document_vectors[idx] = self._get_vector(document_tokens)    \n",
    "    \n",
    "    def _get_vector(self, tokens):\n",
    "        \"\"\"\n",
    "        Construct a vector representing the topics from the LSM \n",
    "        \n",
    "        :param tokens: The list of tokens (from the corpus)\n",
    "        \"\"\"\n",
    "        \n",
    "        vector = np.zeros(self.model.num_topics)\n",
    "        # TODO why isn't the size always = num_topics? It's super strange! \n",
    "        # TODO check back why this is happening. it's a serious problem\n",
    "        for topic, value in self.model[self.dict.doc2bow(tokens)]:\n",
    "            vector[topic] = value\n",
    "        \n",
    "        return vector\n",
    "    \n",
    "    def score(self, query_tokens):\n",
    "        \"\"\"\n",
    "        Score a particular query against all documents\n",
    "        \n",
    "        :param query_tokens: A list of tokens (strings)\n",
    "        \"\"\"\n",
    "        \n",
    "        # TODO order = 1 same, -1 not same\n",
    "        # TODO cehck others as well\n",
    "        # TODO some values are \n",
    "        # TODO have to use JS divergence\n",
    "        # convert to a vector\n",
    "        query_vector = self._get_vector(query_tokens)\n",
    "        # compute distances - using the vectorized form of the cosine distance\n",
    "        distances = np.apply_along_axis(lambda _: -(cosine_distance(query_vector, _) - 1), 1, self.document_vectors)\n",
    "        results = list(zip(distances, self.document_index))\n",
    "        results.sort(key=lambda _: -_[0])\n",
    "        return results\n",
    "\n",
    "def get_LSI_scorer(model, directory=\"./models\"):\n",
    "    \"\"\"\n",
    "    Construct a LSI scorer and save it. If it already exists, load it.\n",
    "    :param model: The LSI model\n",
    "    :param directory: The directory to save the model to / load the model from\n",
    "    \n",
    "    \"\"\"\n",
    "    model_path = os.path.join(directory, \"lsi_scorer_{}.pkl\".format(model.num_topics))\n",
    "    \n",
    "    if os.path.exists(model_path):\n",
    "        print(\"Loading existing scorer from \", model_path)\n",
    "        return pickle.load(open(model_path, \"rb\"))\n",
    "    \n",
    "    print(\"Creating LSI scorer, and saving to \", model_path)\n",
    "    lsi_scorer = LSMScorer(gensim_corpus, gensim_dict, model)\n",
    "    pickle.dump(lsi_scorer, open(model_path, \"wb\"))\n",
    "    return lsi_scorer\n",
    "\n",
    "def get_LDA_scorer(model, directory=\"./models\"):\n",
    "    \"\"\"\n",
    "    Construct a LDA scorer and save it. If it already exists, load it.\n",
    "    :param model: The LDA model\n",
    "    :param directory: The directory to save the model to / load the model from\n",
    "    \n",
    "    \"\"\"\n",
    "    model_path = os.path.join(directory, \"lda_scorer_{}.pkl\".format(model.num_topics))\n",
    "    \n",
    "    if os.path.exists(model_path):\n",
    "        print(\"Loading existing scorer from \", model_path)\n",
    "        return pickle.load(open(model_path, \"rb\"))\n",
    "    \n",
    "    print(\"Creating LDA scorer, and saving to \", model_path)\n",
    "    lda_scorer = LSMScorer(gensim_corpus, gensim_dict, model)\n",
    "    pickle.dump(lda_scorer, open(model_path, \"wb\"))\n",
    "    return lda_scorer\n"
   ]
  },
  {
   "cell_type": "code",
   "execution_count": 78,
   "metadata": {
    "collapsed": true
   },
   "outputs": [],
   "source": [
    "def run_retrieval_lsm(model_name, scorer):\n",
    "    \"\"\"\n",
    "    Runs a retrieval method for all the queries and writes the TREC-friendly results in a file.\n",
    "    \n",
    "    :param model_name: the name of the model (a string)\n",
    "    :param scorer: the LSMScorer \n",
    "    \"\"\"\n",
    "    \n",
    "    run_out_path = '{}.run'.format(model_name)\n",
    "\n",
    "    #if os.path.exists(run_out_path):\n",
    "    #    return\n",
    "\n",
    "    retrieval_start_time = time.time()\n",
    "\n",
    "    print('Retrieving using', model_name)\n",
    "    \n",
    "    data = {}\n",
    "    start_time = time.time()\n",
    "    for index, (query_id, query_tokens) in enumerate(tokenized_queries.items()):\n",
    "        query_tokens = [id2token[token_id].lower() for token_id in query_tokens if token_id > 0]\n",
    "        data[query_id] = scorer.score(query_tokens)\n",
    "        if (index + 1) % 10 == 0:\n",
    "            print(\"\\t\", index + 1 , \"done.\", time.time() - start_time, \"elapsed\" )\n",
    "\n",
    "    with open(run_out_path, 'w') as f_out:\n",
    "        write_run(\n",
    "            model_name=model_name,\n",
    "            data=data,\n",
    "            out_f=f_out,\n",
    "            max_objects_per_query=1000)"
   ]
  },
  {
   "cell_type": "markdown",
   "metadata": {},
   "source": [
    "#### Parameter tuning for LSI & LDA\n"
   ]
  },
  {
   "cell_type": "code",
   "execution_count": 79,
   "metadata": {},
   "outputs": [
    {
     "name": "stdout",
     "output_type": "stream",
     "text": [
      "Params:  32\n",
      "\tResults:  {'map_cut_1000': 0.0077, 'P_5': 0.0533, 'ndcg_cut_10': 0.0378, 'recall_1000': 0.0928}\n",
      "Params:  64\n",
      "\tResults:  {'map_cut_1000': 0.0108, 'P_5': 0.0533, 'ndcg_cut_10': 0.0551, 'recall_1000': 0.1328}\n",
      "Params:  128\n",
      "\tResults:  {'map_cut_1000': 0.0251, 'P_5': 0.14, 'ndcg_cut_10': 0.1187, 'recall_1000': 0.1621}\n",
      "Params:  256\n",
      "\tResults:  {'map_cut_1000': 0.0317, 'P_5': 0.14, 'ndcg_cut_10': 0.1483, 'recall_1000': 0.1647}\n",
      "Params:  512\n",
      "\tResults:  {'map_cut_1000': 0.0438, 'P_5': 0.18, 'ndcg_cut_10': 0.1677, 'recall_1000': 0.1702}\n"
     ]
    }
   ],
   "source": [
    "lsi_grid = []\n",
    "for num_topics in [32, 64, 128, 256, 512]:\n",
    "    run_name = \"lsi_{}\".format(num_topics)\n",
    "    run_file_name = run_name + \".run\"\n",
    "    if not os.path.exists(run_file_name):\n",
    "        lsi_model = get_LSI_model(num_topics=num_topics)\n",
    "        lsi_scorer = get_LSI_scorer(lsi_model)\n",
    "        run_retrieval_lsm(run_name, lsi_scorer)\n",
    "        \n",
    "        del lsi_model\n",
    "        del lsi_scorer\n",
    "    lsi_grid.append((num_topics, trec.evaluate(\"./ap_88_89/qrel_validation\", run_file_name, granular=False)))\n",
    "\n",
    "print_grid(lsi_grid)    "
   ]
  },
  {
   "cell_type": "code",
   "execution_count": 80,
   "metadata": {},
   "outputs": [
    {
     "name": "stdout",
     "output_type": "stream",
     "text": [
      "Params:  32\n",
      "\tResults:  {'map_cut_1000': 0.0106, 'P_5': 0.0333, 'ndcg_cut_10': 0.0291, 'recall_1000': 0.159}\n",
      "Params:  64\n",
      "\tResults:  {'map_cut_1000': 0.0145, 'P_5': 0.0133, 'ndcg_cut_10': 0.0137, 'recall_1000': 0.2494}\n",
      "Params:  128\n",
      "\tResults:  {'map_cut_1000': 0.026, 'P_5': 0.0467, 'ndcg_cut_10': 0.0501, 'recall_1000': 0.2226}\n",
      "Params:  256\n",
      "\tResults:  {'map_cut_1000': 0.0363, 'P_5': 0.1267, 'ndcg_cut_10': 0.1154, 'recall_1000': 0.1604}\n",
      "Params:  512\n",
      "\tResults:  {'map_cut_1000': 0.0396, 'P_5': 0.06, 'ndcg_cut_10': 0.0661, 'recall_1000': 0.2576}\n"
     ]
    }
   ],
   "source": [
    "lda_grid = []\n",
    "for num_topics in [32, 64, 128, 256, 512]:\n",
    "    run_name = \"lda_{}\".format(num_topics)\n",
    "    run_file_name = run_name + \".run\"\n",
    "    if not os.path.exists(run_file_name):\n",
    "        lda_model = get_LDA_model(num_topics=num_topics)\n",
    "        lda_scorer = get_LDA_scorer(lda_model)\n",
    "        run_retrieval_lsm(run_name, lda_scorer)\n",
    "        \n",
    "        del lda_model\n",
    "        del lda_scorer\n",
    "        \n",
    "    lda_grid.append((num_topics, (trec.evaluate(\"./ap_88_89/qrel_validation\", run_file_name, granular=False))))\n",
    "\n",
    "print_grid(lda_grid)    "
   ]
  },
  {
   "cell_type": "markdown",
   "metadata": {},
   "source": [
    "### Task 3:  Word embeddings for ranking [20 points] (open-ended) ###\n",
    "\n",
    "First create word embeddings on the corpus we provided using [word2vec](http://arxiv.org/abs/1411.2738) -- [gensim implementation](https://radimrehurek.com/gensim/models/word2vec.html). You should extract the indexed documents using pyndri and provide them to gensim for training a model (see example [here](https://github.com/nickvosk/pyndri/blob/master/examples/word2vec.py)).\n",
    "   \n",
    "This is an open-ended task. It is left up you to decide how you will combine word embeddings to derive query and document representations. Note that since we provide the implementation for training word2vec, you will be graded based on your creativity on combining word embeddings for building query and document representations.\n",
    "\n",
    "Note: If you want to experiment with pre-trained word embeddings on a different corpus, you can use the word embeddings we provide alongside the assignment (./data/reduced_vectors_google.txt.tar.gz). These are the [google word2vec word embeddings](https://code.google.com/archive/p/word2vec/), reduced to only the words that appear in the document collection we use in this assignment."
   ]
  },
  {
   "cell_type": "code",
   "execution_count": 81,
   "metadata": {
    "collapsed": true
   },
   "outputs": [],
   "source": [
    "class SentenceIterator:\n",
    "    def __init__(self, min_count = 5):\n",
    "        self.min_count = 5\n",
    "        \n",
    "    def __iter__(self):\n",
    "        for sentence in document_token_iterator():\n",
    "            words = []\n",
    "            for word in sentence:\n",
    "                if collection_frequencies[token2id[word]] < self.min_count:\n",
    "                    word = \"UNK\"\n",
    "                words.append(word)\n",
    "            yield words"
   ]
  },
  {
   "cell_type": "code",
   "execution_count": 82,
   "metadata": {
    "collapsed": true
   },
   "outputs": [],
   "source": [
    "def get_word2vec_model(embedding_size=300, iterations=5, directory=\"./models/\"):\n",
    "    \"\"\"\n",
    "    Construct a word2vec model and save it. If it already exists, load it.\n",
    "    :param embedding_size: The embedding size\n",
    "    :param directory: The directory to save the model to / load the model from\n",
    "    \n",
    "    \"\"\"\n",
    "    model_path = os.path.join(directory, \"word2vec_model_{}\".format(embedding_size))\n",
    "    \n",
    "    if os.path.exists(model_path):\n",
    "        print(\"Loading existing model from \", model_path)\n",
    "        return gensim.models.Word2Vec.load(model_path)\n",
    "    start_time = time.time()\n",
    "    print(\"Creating Word2Vec model, and saving to \", model_path)\n",
    "    word2vec = gensim.models.Word2Vec(\n",
    "        SentenceIterator(),\n",
    "        size=embedding_size,  # Embedding size\n",
    "        window=5,  # One-sided window size\n",
    "        sg=True,  # Skip-gram.\n",
    "        min_count=5, # Minimum word frequency.\n",
    "        sample=1e-3,  # Sub-sample threshold.\n",
    "        hs=False,  # Hierarchical softmax.\n",
    "        negative=10,  # Number of negative examples.\n",
    "        iter=iterations,  # Number of iterations.\n",
    "        workers=8,  # Number of workers.\n",
    "    )\n",
    "    print(\"Time taken\", time.time() - start_time)\n",
    "    word2vec.save(model_path)\n",
    "    return word2vec"
   ]
  },
  {
   "cell_type": "code",
   "execution_count": 83,
   "metadata": {
    "collapsed": true
   },
   "outputs": [],
   "source": [
    "class Word2VecScorer(LSMScorer):\n",
    "    def __init__(self, corpus, dictionary, model, scheme):\n",
    "        self.scheme = scheme\n",
    "        super().__init__(corpus, dictionary, model)\n",
    "        \n",
    "    def _get_vector(self, tokens):\n",
    "        \n",
    "        if len(tokens) == 0:\n",
    "            return self.model[\"UNK\"]\n",
    "        \n",
    "        # remove tokens not in vocab\n",
    "        all_vectors = np.zeros((len(tokens), self.model.vector_size))\n",
    "        \n",
    "        for index, token in enumerate(tokens):\n",
    "            if token not in self.model:\n",
    "                token = \"UNK\"\n",
    "            all_vectors[index] = self.model[token]\n",
    "        \n",
    "        if self.scheme == \"avg\":\n",
    "            return all_vectors.mean(axis=0)\n",
    "\n",
    "        if self.scheme == \"min\":\n",
    "            return all_vectors.min(axis=0)\n",
    "\n",
    "        if self.scheme == \"max\":\n",
    "            return all_vectors.max(axis=0)\n",
    "        \n",
    "def get_W2V_scorer(model, scheme, directory=\"./models\"):\n",
    "    \"\"\"\n",
    "    Construct a W2V scorer and save it. If it already exists, load it.\n",
    "    :param model: The W2V model\n",
    "    :param directory: The directory to save the model to / load the model from\n",
    "    \n",
    "    \"\"\"\n",
    "    model_path = os.path.join(directory, \"w2v_scorer_{}_{}.pkl\".format(model.num_topics, scheme))\n",
    "    \n",
    "    if os.path.exists(model_path):\n",
    "        print(\"Loading existing scorer from \", model_path)\n",
    "        return pickle.load(open(model_path, \"rb\"))\n",
    "    \n",
    "    print(\"Creating W2V scorer, and saving to \", model_path)\n",
    "    w2v_scorer = Word2VecScorer(gensim_corpus, gensim_dict, model, scheme)\n",
    "    pickle.dump(w2v_scorer, open(model_path, \"wb\"))\n",
    "    return w2v_scorer"
   ]
  },
  {
   "cell_type": "markdown",
   "metadata": {},
   "source": [
    "#### Parameter tuning for W2V\n"
   ]
  },
  {
   "cell_type": "code",
   "execution_count": 84,
   "metadata": {},
   "outputs": [
    {
     "name": "stdout",
     "output_type": "stream",
     "text": [
      "Params:  {'embedding_size': 100, 'scheme': 'avg'}\n",
      "\tResults:  {'map_cut_1000': 0.0411, 'P_5': 0.1867, 'ndcg_cut_10': 0.2156, 'recall_1000': 0.1501}\n",
      "Params:  {'embedding_size': 100, 'scheme': 'min'}\n",
      "\tResults:  {'map_cut_1000': 0.046, 'P_5': 0.12, 'ndcg_cut_10': 0.1132, 'recall_1000': 0.3635}\n",
      "Params:  {'embedding_size': 100, 'scheme': 'max'}\n",
      "\tResults:  {'map_cut_1000': 0.0418, 'P_5': 0.1, 'ndcg_cut_10': 0.0986, 'recall_1000': 0.3802}\n",
      "Params:  {'embedding_size': 200, 'scheme': 'avg'}\n",
      "\tResults:  {'map_cut_1000': 0.1059, 'P_5': 0.2, 'ndcg_cut_10': 0.2314, 'recall_1000': 0.4614}\n",
      "Params:  {'embedding_size': 200, 'scheme': 'min'}\n",
      "\tResults:  {'map_cut_1000': 0.0615, 'P_5': 0.1267, 'ndcg_cut_10': 0.1125, 'recall_1000': 0.4817}\n",
      "Params:  {'embedding_size': 200, 'scheme': 'max'}\n",
      "\tResults:  {'map_cut_1000': 0.049, 'P_5': 0.1133, 'ndcg_cut_10': 0.1282, 'recall_1000': 0.4254}\n",
      "Params:  {'embedding_size': 300, 'scheme': 'avg'}\n",
      "\tResults:  {'map_cut_1000': 0.0382, 'P_5': 0.18, 'ndcg_cut_10': 0.2003, 'recall_1000': 0.1368}\n",
      "Params:  {'embedding_size': 300, 'scheme': 'min'}\n",
      "\tResults:  {'map_cut_1000': 0.0427, 'P_5': 0.0933, 'ndcg_cut_10': 0.0783, 'recall_1000': 0.454}\n",
      "Params:  {'embedding_size': 300, 'scheme': 'max'}\n",
      "\tResults:  {'map_cut_1000': 0.0397, 'P_5': 0.1133, 'ndcg_cut_10': 0.0983, 'recall_1000': 0.3912}\n"
     ]
    }
   ],
   "source": [
    "iterations = 3\n",
    "grid_results = []\n",
    "for embedding_size in [100, 200, 300]:    \n",
    "    for scheme in [\"avg\", \"min\", \"max\"]:\n",
    "        run_name = \"word2vec_{}_{}\".format(embedding_size, scheme)\n",
    "        run_file_name = run_name + \".run\"\n",
    "        if not os.path.exists(run_file_name):\n",
    "            word2vec = get_word2vec_model(embedding_size, iterations=iterations)\n",
    "            word2vec.num_topics = word2vec.vector_size\n",
    "            w2v_scorer = get_W2V_scorer(word2vec, scheme)\n",
    "            run_retrieval_lsm(run_name, w2v_scorer)\n",
    "\n",
    "            del word2vec\n",
    "            del w2v_scorer\n",
    "\n",
    "        res = trec.evaluate(\"./ap_88_89/qrel_validation\", run_file_name, granular=False)\n",
    "        grid_results.append(({\"embedding_size\": embedding_size, \"scheme\": scheme}, res))\n",
    "\n",
    "print_grid(grid_results)"
   ]
  },
  {
   "cell_type": "markdown",
   "metadata": {},
   "source": [
    "### Task 4: Learning to rank (LTR) [15 points] (open-ended) ###\n",
    "\n",
    "In this task you will get an introduction into learning to rank for information retrieval.\n",
    "\n",
    "You can explore different ways for devising features for the model. Obviously, you can use the retrieval methods you implemented in Task 1, Task 2 and Task 3 as features. Think about other features you can use (e.g. query/document length). Creativity on devising new features and providing motivation for them will be taken into account when grading.\n",
    "\n",
    "For every query, first create a document candidate set using the top-1000 documents using TF-IDF, and subsequently compute features given a query and a document. Note that the feature values of different retrieval methods are likely to be distributed differently.\n",
    "\n",
    "You are adviced to start some pointwise learning to rank algorithm e.g. logistic regression, implemented in [scikit-learn](http://scikit-learn.org/stable/modules/generated/sklearn.linear_model.LogisticRegression.html).\n",
    "Train your LTR model using 10-fold cross validation on the test set. More advanced learning to rank algorithms will be appreciated when grading."
   ]
  },
  {
   "cell_type": "code",
   "execution_count": 85,
   "metadata": {
    "collapsed": true
   },
   "outputs": [],
   "source": [
    "from scipy import stats"
   ]
  },
  {
   "cell_type": "code",
   "execution_count": 86,
   "metadata": {},
   "outputs": [
    {
     "data": {
      "text/plain": [
       "[<matplotlib.lines.Line2D at 0x7f81d3ad7860>]"
      ]
     },
     "execution_count": 86,
     "metadata": {},
     "output_type": "execute_result"
    },
    {
     "data": {
      "image/png": "[encoded data removed]",
      "text/plain": [
       "<matplotlib.figure.Figure at 0x7f81d3acc278>"
      ]
     },
     "metadata": {},
     "output_type": "display_data"
    }
   ],
   "source": [
    "plt.figure(figsize=(20, 10))\n",
    "plt.xticks(np.arange(0, 1001, 25))\n",
    "plt.plot(stats.expon.pdf(np.arange(1, 1000), scale=25) * 120) "
   ]
  },
  {
   "cell_type": "code",
   "execution_count": 87,
   "metadata": {
    "collapsed": true
   },
   "outputs": [],
   "source": [
    "doc_tokens = {}\n",
    "for int_doc_id in range(index.document_base(), index.maximum_document()):\n",
    "    doc_tokens[int_doc_id] = [ind for ind in index.document(int_doc_id)[1] if ind > 0]"
   ]
  },
  {
   "cell_type": "code",
   "execution_count": 88,
   "metadata": {
    "collapsed": true
   },
   "outputs": [],
   "source": [
    "class FeatureCreator:\n",
    "    all_features = {\"tfidf\", \"bm25\", \"jm\", \"dirichlet\", \"ab\", \n",
    "                        \"lengths\", \"jaccard\", \"w2v\", \"lsi\", \"lda\"}\n",
    "    \n",
    "    def __init__(self, feature_set, w2v_scorer, lsi_scorer, lda_scorer):\n",
    "        \n",
    "        for feat in feature_set:\n",
    "            assert feat in FeatureCreator.all_features\n",
    "            \n",
    "        assert len(feature_set.difference(FeatureCreator.all_features)) == 0\n",
    "        \n",
    "        self.feature_set = feature_set\n",
    "        self.w2v_scorer = w2v_scorer\n",
    "        self.lsi_scorer = lsi_scorer\n",
    "        self.lda_scorer = lda_scorer\n",
    "        \n",
    "        print(\"Pre-indexing LSI\")\n",
    "        # compute vectors\n",
    "        self.lsi_vectors = {}\n",
    "        for idx, ext_doc_id in enumerate(self.lsi_scorer.document_index):\n",
    "            self.lsi_vectors[ext_id_to_doc_id[ext_doc_id]] = self.lsi_scorer.document_vectors[idx]\n",
    "        \n",
    "        print(\"Pre-indexing LDA\")\n",
    "        self.lda_vectors = {}\n",
    "        for idx, ext_doc_id in enumerate(self.lda_scorer.document_index):\n",
    "            self.lda_vectors[ext_id_to_doc_id[ext_doc_id]] = self.lda_scorer.document_vectors[idx]\n",
    "        \n",
    "        print(\"Pre-indexing W2V\")\n",
    "        self.w2v_vectors = {}\n",
    "        for idx, ext_doc_id in enumerate(self.w2v_scorer.document_index):\n",
    "            self.w2v_vectors[ext_id_to_doc_id[ext_doc_id]] = self.w2v_scorer.document_vectors[idx]\n",
    "        \n",
    "        \n",
    "        \n",
    "    def features(self, query_id, int_document_id):\n",
    "        \n",
    "        tf_score = 0.0\n",
    "        bm25_score = 0.0\n",
    "        jm_score = 0.0\n",
    "        dprior_score = 0.0\n",
    "        ab_run = 0.0 \n",
    "        \n",
    "        for query_term_id in tokenized_queries[query_id]:\n",
    "            tf = inverted_index[query_term_id].get(int_document_id, 0)\n",
    "            tf_score += tfidf(int_document_id, query_term_id, tf)\n",
    "            bm25_score += bm25(int_document_id, query_term_id, tf)\n",
    "            jm_score += jelinek_mercer(int_document_id, query_term_id, tf)\n",
    "            dprior_score += dirichlet_prior(int_document_id, query_term_id, tf)\n",
    "            ab_run += absolute_discounting(int_document_id, query_term_id, tf)\n",
    "            \n",
    "        vec = []\n",
    "        if \"tfidf\" in self.feature_set:\n",
    "            vec.append(tf_score)\n",
    "        \n",
    "        if \"bm25\" in self.feature_set:\n",
    "            vec.append(bm25_score)\n",
    "        \n",
    "        if \"jm\" in self.feature_set:\n",
    "            vec.append(jm_score)\n",
    "        \n",
    "        if \"dirichlet\" in self.feature_set:\n",
    "            vec.append(dprior_score)\n",
    "        \n",
    "        if \"ab\" in self.feature_set:\n",
    "            vec.append(ab_run)\n",
    "        \n",
    "        if \"lengths\" in self.feature_set:\n",
    "            # document length\n",
    "            vec.append(document_lengths[int_document_id])\n",
    "            # query length\n",
    "            vec.append(len(tokenized_queries[query_id]))\n",
    "            vec.append(unique_terms_per_document[int_document_id])\n",
    "        \n",
    "        \n",
    "        if \"jaccard\" in self.feature_set:\n",
    "            q_tok = set(tokenized_queries[query_id])\n",
    "            d_tok = set(doc_tokens[int_document_id])\n",
    "            \n",
    "            intersection = q_tok.intersection(d_tok)\n",
    "            union = q_tok.union(d_tok)\n",
    "            vec.append(len(intersection) / len(union))\n",
    "            \n",
    "        vector = np.array(vec)\n",
    "        \n",
    "        if \"w2v\" in self.feature_set:\n",
    "            q_vector = self.w2v_scorer._get_vector([id2token[t] for t in tokenized_queries[query_id]])\n",
    "            d_vector = self.w2v_vectors[int_document_id]\n",
    "            vector = np.hstack((vector, q_vector, d_vector))\n",
    "        \n",
    "        if \"lsi\" in self.feature_set:\n",
    "            q_vector = self.lsi_scorer._get_vector([id2token[t] for t in tokenized_queries[query_id]])\n",
    "            d_vector = self.lsi_vectors[int_document_id]\n",
    "            vector = np.hstack((vector, q_vector, d_vector))\n",
    "        \n",
    "        if \"lda\" in self.feature_set:\n",
    "            q_vector = self.lda_scorer._get_vector([id2token[t] for t in tokenized_queries[query_id]])\n",
    "            d_vector = self.lda_vectors[int_document_id]\n",
    "            vector = np.hstack((vector, q_vector, d_vector))\n",
    "        \n",
    "        return vector"
   ]
  },
  {
   "cell_type": "code",
   "execution_count": 89,
   "metadata": {
    "collapsed": true
   },
   "outputs": [],
   "source": [
    "# use the tf-idf data to create the training matix\n",
    "def get_x_y(features, prefix):\n",
    "    if os.path.exists(prefix + \"_x.pkl\"):\n",
    "        x = pickle.load(open(prefix + \"_x.pkl\", \"rb\"))\n",
    "        y = pickle.load(open(prefix + \"_y.pkl\", \"rb\"))\n",
    "        qd_index = pickle.load(open(prefix + \"_qd_index.pkl\", \"rb\"))\n",
    "        scaler = pickle.load(open(prefix + \"_scaler.pkl\", \"rb\"))\n",
    "        return x, y, qd_index, scaler\n",
    "    \n",
    "    x = []\n",
    "    y = []\n",
    "    qd_index = []\n",
    "    start_time = time.time()\n",
    "    for query_id, documents in tfidf_run.items():\n",
    "        print(\"QueryID\", query_id, \"\\tTime Elapsed:\", time.time() - start_time)\n",
    "        # TODO this should be set to 1000!\n",
    "        documents = documents[:1000]\n",
    "        y_values = stats.expon.pdf(np.arange(1, 1001), scale=25) * 120\n",
    "        for index, (_, ext_doc_id) in enumerate(documents):\n",
    "            x.append(features.features(query_id, ext_id_to_doc_id[ext_doc_id]))\n",
    "            y.append(y_values[index])\n",
    "            qd_index.append((query_id, ext_id_to_doc_id[ext_doc_id]))\n",
    "    x = np.array(x)\n",
    "    y = np.array(y)\n",
    "    \n",
    "    scaler = MinMaxScaler()\n",
    "    scaler.fit(x)\n",
    "    \n",
    "    x = scaler.transform(x)\n",
    "    \n",
    "    pickle.dump(x, open(prefix + \"_x.pkl\", \"wb\"))\n",
    "    pickle.dump(y, open(prefix + \"_y.pkl\", \"wb\"))\n",
    "    pickle.dump(qd_index, open(prefix + \"_qd_index.pkl\", \"wb\"))\n",
    "    pickle.dump(scaler, open(prefix + \"_scaler.pkl\", \"wb\"))\n",
    "    \n",
    "    return x, y, qd_index, scaler\n",
    "\n"
   ]
  },
  {
   "cell_type": "code",
   "execution_count": 90,
   "metadata": {
    "collapsed": true
   },
   "outputs": [],
   "source": [
    "from sklearn.linear_model import LinearRegression\n",
    "from sklearn.model_selection import train_test_split"
   ]
  },
  {
   "cell_type": "code",
   "execution_count": null,
   "metadata": {
    "collapsed": true
   },
   "outputs": [],
   "source": [
    "class RankAlgorithm:\n",
    "    \n",
    "    def __init__(self, model, features, scaler):\n",
    "        self.model = model\n",
    "        self.features = features\n",
    "        self.scaler = scaler\n",
    "    \n",
    "    def score(self, query_id):\n",
    "        x = []\n",
    "        # loop over all the documents and compute the feature matrix\n",
    "        # this is going to be slow, isn't it :(\n",
    "        # TODO change this to 1000\n",
    "        document_ids = []\n",
    "        for score, ext_doc_id in tfidf_run[query_id][:1000]:\n",
    "            x.append(features.features(query_id, ext_id_to_doc_id[ext_doc_id]))\n",
    "            document_ids.append(ext_doc_id)\n",
    "            \n",
    "        x = np.array(x)\n",
    "        x = self.scaler.transform(x)\n",
    "        \n",
    "        scores = self.model.predict(x)\n",
    "        \n",
    "        final_scores = []\n",
    "        for idx, ext_doc_id in enumerate(document_ids):\n",
    "            final_scores.append((scores[idx], ext_doc_id))\n",
    "        # sort the scores\n",
    "        final_scores.sort(key=lambda _: -_[0])\n",
    "        \n",
    "        return final_scores\n",
    "    \n",
    "def run_retrieval_l2r(model_name, scorer):\n",
    "    \"\"\"\n",
    "    Runs a retrieval method for all the queries and writes the TREC-friendly results in a file.\n",
    "\n",
    "    :param model_name: the name of the model (a string)\n",
    "    :param scorer: the RankingAlgorithm instance \n",
    "    \"\"\"\n",
    "\n",
    "    run_out_path = '{}.run'.format(model_name)\n",
    "\n",
    "    #if os.path.exists(run_out_path):\n",
    "    #    return\n",
    "\n",
    "    retrieval_start_time = time.time()\n",
    "\n",
    "    print('Retrieving using', model_name)\n",
    "\n",
    "    data = {}\n",
    "    start_time = time.time()\n",
    "    for index, (query_id, query_tokens) in enumerate(tokenized_queries.items()):\n",
    "        data[query_id] = scorer.score(query_id)\n",
    "        if (index+1) % 10 == 0:\n",
    "            print(\"\\t\", index + 1 , \"done.\", time.time() - start_time, \"elapsed\" )\n",
    "\n",
    "    with open(run_out_path, 'w') as f_out:\n",
    "        write_run(\n",
    "            model_name=model_name,\n",
    "            data=data,\n",
    "            out_f=f_out,\n",
    "            max_objects_per_query=1000)\n",
    "        "
   ]
  },
  {
   "cell_type": "code",
   "execution_count": null,
   "metadata": {},
   "outputs": [
    {
     "name": "stdout",
     "output_type": "stream",
     "text": [
      "Creating LDA model, and saving to  ./models/lda_model_512\n"
     ]
    }
   ],
   "source": [
    "lda_model = get_LDA_model(512)\n",
    "lda_scorer = get_LDA_scorer(lda_model)\n",
    "\n",
    "lsi_model = get_LSI_model(512)\n",
    "lsi_scorer = get_LSI_scorer(lsi_model)\n",
    "\n",
    "w2v_model = get_word2vec_model(200)\n",
    "w2v_model.num_topics = w2v_model.vector_size\n",
    "w2v_scorer = get_W2V_scorer(w2v_model, \"avg\")"
   ]
  },
  {
   "cell_type": "code",
   "execution_count": 71,
   "metadata": {},
   "outputs": [
    {
     "ename": "NameError",
     "evalue": "name 'w2v_scorer' is not defined",
     "output_type": "error",
     "traceback": [
      "\u001b[0;31m---------------------------------------------------------------------------\u001b[0m",
      "\u001b[0;31mNameError\u001b[0m                                 Traceback (most recent call last)",
      "\u001b[0;32m<ipython-input-71-97a47ba9478c>\u001b[0m in \u001b[0;36m<module>\u001b[0;34m()\u001b[0m\n\u001b[0;32m----> 1\u001b[0;31m \u001b[0mfeatures\u001b[0m \u001b[0;34m=\u001b[0m \u001b[0mFeatureCreator\u001b[0m\u001b[0;34m(\u001b[0m\u001b[0mFeatureCreator\u001b[0m\u001b[0;34m.\u001b[0m\u001b[0mall_features\u001b[0m\u001b[0;34m,\u001b[0m \u001b[0mw2v_scorer\u001b[0m\u001b[0;34m,\u001b[0m \u001b[0mlsi_scorer\u001b[0m\u001b[0;34m,\u001b[0m \u001b[0mlda_scorer\u001b[0m\u001b[0;34m)\u001b[0m\u001b[0;34m\u001b[0m\u001b[0m\n\u001b[0m\u001b[1;32m      2\u001b[0m \u001b[0mx\u001b[0m\u001b[0;34m,\u001b[0m \u001b[0my\u001b[0m\u001b[0;34m,\u001b[0m \u001b[0mqd_index\u001b[0m\u001b[0;34m,\u001b[0m \u001b[0mscaler\u001b[0m \u001b[0;34m=\u001b[0m \u001b[0mget_x_y\u001b[0m\u001b[0;34m(\u001b[0m\u001b[0mfeatures\u001b[0m\u001b[0;34m,\u001b[0m \u001b[0;34m\"all\"\u001b[0m\u001b[0;34m)\u001b[0m\u001b[0;34m\u001b[0m\u001b[0m\n\u001b[1;32m      3\u001b[0m \u001b[0mprint\u001b[0m\u001b[0;34m(\u001b[0m\u001b[0;34m\"X Shape: \"\u001b[0m\u001b[0;34m,\u001b[0m \u001b[0mx\u001b[0m\u001b[0;34m.\u001b[0m\u001b[0mshape\u001b[0m\u001b[0;34m)\u001b[0m\u001b[0;34m\u001b[0m\u001b[0m\n\u001b[1;32m      4\u001b[0m \u001b[0mx_train\u001b[0m\u001b[0;34m,\u001b[0m \u001b[0mx_test\u001b[0m\u001b[0;34m,\u001b[0m \u001b[0my_train\u001b[0m\u001b[0;34m,\u001b[0m \u001b[0my_test\u001b[0m \u001b[0;34m=\u001b[0m \u001b[0mtrain_test_split\u001b[0m\u001b[0;34m(\u001b[0m\u001b[0mx\u001b[0m\u001b[0;34m,\u001b[0m \u001b[0my\u001b[0m\u001b[0;34m,\u001b[0m \u001b[0mtest_size\u001b[0m\u001b[0;34m=\u001b[0m\u001b[0;36m.4\u001b[0m\u001b[0;34m)\u001b[0m\u001b[0;34m\u001b[0m\u001b[0m\n\u001b[1;32m      5\u001b[0m \u001b[0mx_test\u001b[0m\u001b[0;34m,\u001b[0m \u001b[0mx_val\u001b[0m\u001b[0;34m,\u001b[0m \u001b[0my_test\u001b[0m\u001b[0;34m,\u001b[0m \u001b[0my_val\u001b[0m \u001b[0;34m=\u001b[0m \u001b[0mtrain_test_split\u001b[0m\u001b[0;34m(\u001b[0m\u001b[0mx_test\u001b[0m\u001b[0;34m,\u001b[0m \u001b[0my_test\u001b[0m\u001b[0;34m,\u001b[0m \u001b[0mtest_size\u001b[0m\u001b[0;34m=\u001b[0m\u001b[0;36m0.5\u001b[0m\u001b[0;34m)\u001b[0m\u001b[0;34m\u001b[0m\u001b[0m\n",
      "\u001b[0;31mNameError\u001b[0m: name 'w2v_scorer' is not defined"
     ]
    }
   ],
   "source": [
    "features = FeatureCreator(FeatureCreator.all_features, w2v_scorer, lsi_scorer, lda_scorer)\n",
    "x, y, qd_index, scaler = get_x_y(features, \"all\")\n",
    "print(\"X Shape: \", x.shape)\n",
    "x_train, x_test, y_train, y_test = train_test_split(x, y, test_size=.4)\n",
    "x_test, x_val, y_test, y_val = train_test_split(x_test, y_test, test_size=0.5)\n",
    "regr = LinearRegression()\n",
    "regr.fit(x, y)\n",
    "print(\"Train Score:\", regr.score(x_train, y_train))\n",
    "print(\"Test Score:\", regr.score(x_val, y_val))\n",
    "scorer = RankAlgorithm(regr, features, scaler)\n",
    "\n",
    "run_retrieval_l2r(\"l2r_all\", scorer)"
   ]
  },
  {
   "cell_type": "code",
   "execution_count": null,
   "metadata": {
    "collapsed": true
   },
   "outputs": [],
   "source": [
    "trec.evaluate(\"./ap_88_89/qrel_validation\", \"./l2r_all.run\", granular=False)"
   ]
  },
  {
   "cell_type": "markdown",
   "metadata": {
    "collapsed": true
   },
   "source": [
    "### Task 4: Write a report [15 points; instant FAIL if not provided] ###\n",
    "\n",
    "The report should be a PDF file created using the [sigconf ACM template](https://www.acm.org/publications/proceedings-template) and will determine a significant part of your grade.\n",
    "\n",
    "   * It should explain what you have implemented, motivate your experiments and detail what you expect to learn from them. **[10 points]**\n",
    "   * Lastly, provide a convincing analysis of your results and conclude the report accordingly. **[10 points]**\n",
    "      * Do all methods perform similarly on all queries? Why?\n",
    "      * Is there a single retrieval model that outperforms all other retrieval models (i.e., silver bullet)?\n",
    "      * ...\n",
    "\n",
    "**Hand in the report and your self-contained implementation source files.** Only send us the files that matter, organized in a well-documented zip/tgz file with clear instructions on how to reproduce your results. That is, we want to be able to regenerate all your results with minimal effort. You can assume that the index and ground-truth information is present in the same file structure as the one we have provided.\n"
   ]
  },
  {
   "cell_type": "code",
   "execution_count": null,
   "metadata": {
    "collapsed": true
   },
   "outputs": [],
   "source": []
  }
 ],
 "metadata": {
  "anaconda-cloud": {},
  "kernelspec": {
   "display_name": "Python 3",
   "language": "python",
   "name": "python3"
  },
  "language_info": {
   "codemirror_mode": {
    "name": "ipython",
    "version": 3
   },
   "file_extension": ".py",
   "mimetype": "text/x-python",
   "name": "python",
   "nbconvert_exporter": "python",
   "pygments_lexer": "ipython3",
   "version": "3.6.3"
  }
 },
 "nbformat": 4,
 "nbformat_minor": 1
}
