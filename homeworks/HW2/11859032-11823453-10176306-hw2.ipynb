{
 "cells": [
  {
   "cell_type": "markdown",
   "metadata": {},
   "source": [
    "# Information Retrieval 1#\n",
    "## Assignment 2: Retrieval models [100 points] ##"
   ]
  },
  {
   "cell_type": "markdown",
   "metadata": {},
   "source": [
    "In this assignment you will get familiar with basic and advanced information retrieval concepts. You will implement different information retrieval ranking models and evaluate their performance.\n",
    "\n",
    "We provide you with a Indri index. To query the index, you'll use a Python package ([pyndri](https://github.com/cvangysel/pyndri)) that allows easy access to the underlying document statistics.\n",
    "\n",
    "For evaluation you'll use the [TREC Eval](https://github.com/usnistgov/trec_eval) utility, provided by the National Institute of Standards and Technology of the United States. TREC Eval is the de facto standard way to compute Information Retrieval measures and is frequently referenced in scientific papers.\n",
    "\n",
    "This is a **groups-of-three assignment**, the deadline is **Wednesday, January 31st**. Code quality, informative comments and convincing analysis of the results will be considered when grading. Submission should be done through blackboard, questions can be asked on the course [Piazza](piazza.com/university_of_amsterdam/spring2018/52041inr6y/home).\n",
    "\n",
    "### Technicalities (must-read!) ###\n",
    "\n",
    "The assignment directory is organized as follows:\n",
    "   * `./assignment.ipynb` (this file): the description of the assignment.\n",
    "   * `./index/`: the index we prepared for you.\n",
    "   * `./ap_88_90/`: directory with ground-truth and evaluation sets:\n",
    "      * `qrel_test`: test query relevance collection (**test set**).\n",
    "      * `qrel_validation`: validation query relevance collection (**validation set**).\n",
    "      * `topics_title`: semicolon-separated file with query identifiers and terms.\n",
    "\n",
    "You will need the following software packages (tested with Python 3.5 inside [Anaconda](https://conda.io/docs/user-guide/install/index.html)):\n",
    "   * Python 3.5 and Jupyter\n",
    "   * Indri + Pyndri (Follow the installation instructions [here](https://github.com/nickvosk/pyndri/blob/master/README.md))\n",
    "   * gensim [link](https://radimrehurek.com/gensim/install.html)\n",
    "   * TREC Eval [link](https://github.com/usnistgov/trec_eval)"
   ]
  },
  {
   "cell_type": "markdown",
   "metadata": {},
   "source": [
    "### TREC Eval primer ###\n",
    "The TREC Eval utility can be downloaded and compiled as follows:\n",
    "\n",
    "    git clone https://github.com/usnistgov/trec_eval.git\n",
    "    cd trec_eval\n",
    "    make\n",
    "\n",
    "TREC Eval computes evaluation scores given two files: ground-truth information regarding relevant documents, named *query relevance* or *qrel*, and a ranking of documents for a set of queries, referred to as a *run*. The *qrel* will be supplied by us and should not be changed. For every retrieval model (or combinations thereof) you will generate a run of the top-1000 documents for every query. The format of the *run* file is as follows:\n",
    "\n",
    "    $query_identifier Q0 $document_identifier $rank_of_document_for_query $query_document_similarity $run_identifier\n",
    "    \n",
    "where\n",
    "   * `$query_identifier` is the unique identifier corresponding to a query (usually this follows a sequential numbering).\n",
    "   * `Q0` is a legacy field that you can ignore.\n",
    "   * `$document_identifier` corresponds to the unique identifier of a document (e.g., APXXXXXXX where AP denotes the collection and the Xs correspond to a unique numerical identifier).\n",
    "   * `$rank_of_document_for_query` denotes the rank of the document for the particular query. This field is ignored by TREC Eval and is only maintained for legacy support. The ranks are computed by TREC Eval itself using the `$query_document_similarity` field (see next). However, it remains good practice to correctly compute this field.\n",
    "   * `$query_document_similarity` is a score indicating the similarity between query and document where a higher score denotes greater similarity.\n",
    "   * `$run_identifier` is an identifier of the run. This field is for your own convenience and has no purpose beyond bookkeeping.\n",
    "   \n",
    "For example, say we have two queries: `Q1` and `Q2` and we rank three documents (`DOC1`, `DOC2`, `DOC3`). For query `Q1`, we find the following similarity scores `score(Q1, DOC1) = 1.0`, `score(Q1, DOC2) = 0.5`, `score(Q1, DOC3) = 0.75`; and for `Q2`: `score(Q2, DOC1) = -0.1`, `score(Q2, DOC2) = 1.25`, `score(Q1, DOC3) = 0.0`. We can generate run using the following snippet:"
   ]
  },
  {
   "cell_type": "code",
   "execution_count": 31,
   "metadata": {
    "scrolled": false
   },
   "outputs": [
    {
     "name": "stdout",
     "output_type": "stream",
     "text": [
      "Q1 Q0 DOC1 1 1.0 example\n",
      "Q1 Q0 DOC3 2 0.75 example\n",
      "Q1 Q0 DOC2 3 0.5 example\n",
      "Q2 Q0 DOC2 1 1.25 example\n",
      "Q2 Q0 DOC3 2 0.0 example\n",
      "Q2 Q0 DOC1 3 -0.1 example\n"
     ]
    }
   ],
   "source": [
    "import logging\n",
    "import sys\n",
    "import os\n",
    "import gensim\n",
    "import time\n",
    "import math\n",
    "import numpy as np\n",
    "import subprocess\n",
    "import functools\n",
    "import random\n",
    "from scipy import stats\n",
    "\n",
    "\n",
    "def write_run(model_name, data, out_f,\n",
    "              max_objects_per_query=sys.maxsize,\n",
    "              skip_sorting=False):\n",
    "    \"\"\"\n",
    "    Write a run to an output file.\n",
    "    Parameters:\n",
    "        - model_name: identifier of run.\n",
    "        - data: dictionary mapping topic_id to object_assesments;\n",
    "            object_assesments is an iterable (list or tuple) of\n",
    "            (relevance, object_id) pairs.\n",
    "            The object_assesments iterable is sorted by decreasing order.\n",
    "        - out_f: output file stream.\n",
    "        - max_objects_per_query: cut-off for number of objects per query.\n",
    "    \"\"\"\n",
    "    for subject_id, object_assesments in data.items():\n",
    "        if not object_assesments:\n",
    "            logging.warning('Received empty ranking for %s; ignoring.',\n",
    "                            subject_id)\n",
    "\n",
    "            continue\n",
    "\n",
    "        # Probe types, to make sure everything goes alright.\n",
    "        # assert isinstance(object_assesments[0][0], float) or \\\n",
    "        #     isinstance(object_assesments[0][0], np.float32)\n",
    "        assert isinstance(object_assesments[0][1], str) or \\\n",
    "            isinstance(object_assesments[0][1], bytes)\n",
    "\n",
    "        if not skip_sorting:\n",
    "            object_assesments = sorted(object_assesments, reverse=True)\n",
    "\n",
    "        if max_objects_per_query < sys.maxsize:\n",
    "            object_assesments = object_assesments[:max_objects_per_query]\n",
    "\n",
    "        if isinstance(subject_id, bytes):\n",
    "            subject_id = subject_id.decode('utf8')\n",
    "\n",
    "        for rank, (relevance, object_id) in enumerate(object_assesments):\n",
    "            if isinstance(object_id, bytes):\n",
    "                object_id = object_id.decode('utf8')\n",
    "\n",
    "            out_f.write(\n",
    "                '{subject} Q0 {object} {rank} {relevance} '\n",
    "                '{model_name}\\n'.format(\n",
    "                    subject=subject_id,\n",
    "                    object=object_id,\n",
    "                    rank=rank + 1,\n",
    "                    relevance=relevance,\n",
    "                    model_name=model_name))\n",
    "            \n",
    "# The following writes the run to standard output.\n",
    "# In your code, you should write the runs to local\n",
    "# storage in order to pass them to trec_eval.\n",
    "write_run(\n",
    "    model_name='example',\n",
    "    data={\n",
    "        'Q1': ((1.0, 'DOC1'), (0.5, 'DOC2'), (0.75, 'DOC3')),\n",
    "        'Q2': ((-0.1, 'DOC1'), (1.25, 'DOC2'), (0.0, 'DOC3')),\n",
    "    },\n",
    "    out_f=sys.stdout,\n",
    "    max_objects_per_query=1000)"
   ]
  },
  {
   "cell_type": "markdown",
   "metadata": {},
   "source": [
    "Now, imagine that we know that `DOC1` is relevant and `DOC3` is non-relevant for `Q1`. In addition, for `Q2` we only know of the relevance of `DOC3`. The query relevance file looks like:\n",
    "\n",
    "    Q1 0 DOC1 1\n",
    "    Q1 0 DOC3 0\n",
    "    Q2 0 DOC3 1\n",
    "    \n",
    "We store the run and qrel in files `example.run` and `example.qrel` respectively on disk. We can now use TREC Eval to compute evaluation measures. In this example, we're only interested in Mean Average Precision and we'll only show this below for brevity. However, TREC Eval outputs much more information such as NDCG, recall, precision, etc.\n",
    "\n",
    "    $ trec_eval -m all_trec -q example.qrel example.run | grep -E \"^map\\s\"\n",
    "    > map                   \tQ1\t1.0000\n",
    "    > map                   \tQ2\t0.5000\n",
    "    > map                   \tall\t0.7500\n",
    "    \n",
    "Now that we've discussed the output format of rankings and how you can compute evaluation measures from these rankings, we'll now proceed with an overview of the indexing framework you'll use."
   ]
  },
  {
   "cell_type": "markdown",
   "metadata": {},
   "source": [
    "### API for Trec\n",
    "\n",
    "The following code allows us to use Trec from python:"
   ]
  },
  {
   "cell_type": "code",
   "execution_count": 25,
   "metadata": {},
   "outputs": [],
   "source": [
    "class TrecAPI:\n",
    "    \"\"\"\n",
    "    API for TRECEval\n",
    "    \"\"\"\n",
    "    \n",
    "    def __init__(self, trec_path = \"../../trec_eval/trec_eval\"):\n",
    "        \"\"\"\n",
    "        Create an instance for the TREC api\n",
    "        \n",
    "        :param trec_path: The path to the trec binary\n",
    "        \"\"\"\n",
    "        assert os.path.exists(trec_path), \"TREC binary doesn't exist at specified path\"\n",
    "        \n",
    "        self.trec_path = os.path.abspath(trec_path)\n",
    "    \n",
    "    def evaluate(self, test_file_name, prediction_file_name, metrics_to_capture=None, granular = True):\n",
    "        \"\"\"\n",
    "        Evaluate the given file against the test file\n",
    "        \n",
    "        :param test_file_name: The test file to evaluate against\n",
    "        :param prediction_file_name: The file to evaluate\n",
    "        :param metrics_to_capture: Which metrics to compute. If `None`, `ndcg_cut_10`, `map_cut_1000`, `P_5` and `recall_1000` are computed\n",
    "        :param granular: If True, metrics are computed (returned) for all queries, otherwise overall performance is computed\n",
    "        \"\"\"\n",
    "        # defaults\n",
    "        \n",
    "        if metrics_to_capture is None:\n",
    "            metrics_to_capture = {\"ndcg_cut_10\", \"map_cut_1000\", \"P_5\", \"recall_1000\"}\n",
    "        # put this into a try catch block since trec can fail\n",
    "        try:\n",
    "            command = [self.trec_path, \"-m\", \"all_trec\", \"-q\", test_file_name, prediction_file_name]\n",
    "            output = subprocess.check_output(command, universal_newlines=True)\n",
    "            data = collections.defaultdict(dict)\n",
    "            for line in output.split(\"\\n\"):\n",
    "                # ignore empty lines\n",
    "                if line.strip() == \"\":\n",
    "                    continue\n",
    "                    \n",
    "                metric, query, value = line.split(\"\\t\")\n",
    "                \n",
    "                if not granular and query != \"all\":\n",
    "                    continue\n",
    "                    \n",
    "                \n",
    "                metric = metric.strip()\n",
    "                    \n",
    "                # ignore metrics we don't care about\n",
    "                if metric not in metrics_to_capture:\n",
    "                    continue\n",
    "                \n",
    "                # relstring is a binary string, don't convert to float\n",
    "                if metric not in {\"relstring\"}:\n",
    "                    value = float(value)\n",
    "                \n",
    "                data[query][metric] = value \n",
    "            \n",
    "            if not granular:\n",
    "                return data[\"all\"]\n",
    "            \n",
    "            return data\n",
    "        except subprocess.CalledProcessError as e:\n",
    "            # just print out the error if something doesn't work\n",
    "            print(e.output)\n",
    "            return None\n",
    "        \n",
    "# a single instance can be used everywhere\n",
    "trec = TrecAPI()"
   ]
  },
  {
   "cell_type": "markdown",
   "metadata": {},
   "source": [
    "### Pyndri primer ###\n",
    "For this assignment you will use [Pyndri](https://github.com/cvangysel/pyndri) [[1](https://arxiv.org/abs/1701.00749)], a python interface for [Indri](https://www.lemurproject.org/indri.php). We have indexed the document collection and you can query the index using Pyndri. We will start by giving you some examples of what Pyndri can do:\n",
    "\n",
    "First we read the document collection index with Pyndri:"
   ]
  },
  {
   "cell_type": "code",
   "execution_count": 3,
   "metadata": {
    "scrolled": true
   },
   "outputs": [],
   "source": [
    "import pyndri\n",
    "\n",
    "index = pyndri.Index('index/')"
   ]
  },
  {
   "cell_type": "markdown",
   "metadata": {},
   "source": [
    "The loaded index can be used to access a collection of documents in an easy manner. We'll give you some examples to get some idea of what it can do, it is up to you to figure out how to use it for the remainder of the assignment.\n",
    "\n",
    "First let's look at the number of documents, since Pyndri indexes the documents using incremental identifiers we can simply take the lowest index and the maximum document and consider the difference:"
   ]
  },
  {
   "cell_type": "code",
   "execution_count": 4,
   "metadata": {},
   "outputs": [
    {
     "name": "stdout",
     "output_type": "stream",
     "text": [
      "There are 164597 documents in this collection.\n"
     ]
    }
   ],
   "source": [
    "print(\"There are %d documents in this collection.\" % (index.maximum_document() - index.document_base()))"
   ]
  },
  {
   "cell_type": "markdown",
   "metadata": {},
   "source": [
    "Let's take the first document out of the collection and take a look at it:"
   ]
  },
  {
   "cell_type": "code",
   "execution_count": 5,
   "metadata": {
    "scrolled": true
   },
   "outputs": [
    {
     "name": "stdout",
     "output_type": "stream",
     "text": [
      "('AP890425-0001', (1360, 192, 363, 0, 880, 0, 200, 0, 894, 412, 92160, 3, 192, 0, 363, 34, 1441, 0, 174134, 0, 200, 0, 894, 412, 2652, 0, 810, 107, 49, 4903, 420, 0, 1, 48, 35, 489, 0, 35, 687, 192, 243, 0, 249311, 1877, 0, 1651, 1174, 0, 2701, 117, 412, 0, 810, 391, 245233, 1225, 5838, 16, 0, 233156, 3496, 0, 393, 17, 0, 2435, 4819, 930, 0, 0, 200, 0, 894, 0, 22, 398, 145, 0, 3, 271, 115, 0, 1176, 2777, 292, 0, 725, 192, 0, 0, 50046, 0, 1901, 1130, 0, 192, 0, 408, 0, 243779, 0, 0, 553, 192, 0, 363, 0, 3747, 0, 0, 0, 0, 1176, 0, 1239, 0, 0, 1115, 17, 0, 0, 585, 192, 1963, 0, 0, 412, 54356, 0, 773, 0, 0, 0, 192, 0, 0, 1130, 0, 363, 0, 545, 192, 0, 1174, 1901, 1130, 0, 4, 398, 145, 39, 0, 577, 0, 355, 0, 491, 0, 6025, 0, 0, 193156, 88, 34, 437, 0, 0, 1852, 0, 828, 0, 1588, 0, 0, 0, 2615, 0, 0, 107, 49, 420, 0, 0, 190, 7, 714, 2701, 0, 237, 192, 157, 0, 412, 34, 437, 0, 0, 200, 6025, 26, 0, 0, 0, 0, 363, 0, 22, 398, 145, 0, 200, 638, 126222, 6018, 0, 880, 0, 0, 161, 0, 0, 319, 894, 2701, 0, 0, 0, 301, 1200, 0, 363, 251, 430, 0, 207, 0, 76143, 1773, 0, 243779, 0, 0, 72030, 0, 55, 4903, 420, 0, 2701, 1496, 420, 0, 25480, 0, 420, 0, 0, 200, 0, 392, 2949, 0, 1738, 0, 61, 0, 71, 79, 0, 200, 903, 0, 188, 53, 6, 0, 476, 2, 0, 2028, 97, 334, 0, 0, 200, 178, 0, 0, 107, 49, 0, 214, 0, 0, 0, 114, 3866, 1505, 195, 79893, 574, 0, 198, 2160, 0, 192, 0, 420, 0, 384, 0, 2701, 0, 114, 6025, 1549, 74627, 0, 238, 0, 0, 0, 3729, 0, 192, 0, 79893, 0, 0, 729, 3141, 129, 0, 192, 196764, 39, 0, 0, 714, 63, 0, 55, 420, 3356, 0, 0, 117, 412, 0, 0, 79758, 0, 1901, 1130, 4067, 2133, 0, 0, 875, 72, 0, 0, 336, 2789, 0, 0, 25, 920, 121, 104, 0, 3162, 0, 0, 420, 0, 2178, 0, 0, 386, 192545, 159306, 0, 0, 0, 1914, 0, 200, 0, 1794, 0, 2654, 0, 0, 25480, 420, 0, 2795, 0, 0, 229690, 0, 32559, 0, 0, 392, 253919, 0, 0, 0, 0, 379, 0, 0, 114, 0, 553, 10, 0, 1128, 0, 23610, 248, 151, 0, 418, 0, 651, 0, 36, 0, 0, 645, 0, 0, 513, 0, 0, 25480, 420, 34, 0, 0, 0, 15, 0, 3348, 0, 3496, 0, 35, 687, 0, 1, 48, 0, 0, 2803, 0, 0, 714, 1274, 0, 114, 62, 1006, 70268, 1200, 2357, 0, 497, 0, 497, 125, 0, 913, 4647, 3985, 0, 0, 3370, 245233, 0, 0, 687, 0, 4, 1288, 0, 0, 0, 0, 715, 0, 0, 687, 583, 0, 0, 1627, 0, 0, 11, 357, 1359, 0, 849, 0, 0, 1518, 462, 245233, 0, 0, 0, 0, 0, 0, 171, 70268, 0))\n"
     ]
    }
   ],
   "source": [
    "example_document = index.document(index.document_base())\n",
    "print(example_document)"
   ]
  },
  {
   "cell_type": "markdown",
   "metadata": {},
   "source": [
    "Here we see a document consists of two things, a string representing the external document identifier and an integer list representing the identifiers of words that make up the document. Pyndri uses integer representations for words or terms, thus a token_id is an integer that represents a word whereas the token is the actual text of the word/term. Every id has a unique token and vice versa with the exception of stop words: words so common that there are uninformative, all of these receive the zero id.\n",
    "\n",
    "To see what some ids and their matching tokens we take a look at the dictionary of the index:"
   ]
  },
  {
   "cell_type": "code",
   "execution_count": 6,
   "metadata": {},
   "outputs": [
    {
     "name": "stdout",
     "output_type": "stream",
     "text": [
      "[(1, 'new'), (2, 'percent'), (3, 'two'), (4, '1'), (5, 'people'), (6, 'million'), (7, '000'), (8, 'government'), (9, 'president'), (10, 'years'), (11, 'state'), (12, '2'), (13, 'states'), (14, 'three'), (15, 'time')]\n"
     ]
    }
   ],
   "source": [
    "token2id, id2token, _ = index.get_dictionary()\n",
    "print(list(id2token.items())[:15])"
   ]
  },
  {
   "cell_type": "markdown",
   "metadata": {},
   "source": [
    "Using this dictionary we can see the tokens for the (non-stop) words in our example document:"
   ]
  },
  {
   "cell_type": "code",
   "execution_count": 7,
   "metadata": {},
   "outputs": [
    {
     "name": "stdout",
     "output_type": "stream",
     "text": [
      "['52', 'students', 'arrested', 'takeover', 'university', 'massachusetts', 'building', 'fifty', 'two', 'students', 'arrested', 'tuesday', 'evening', 'occupying', 'university', 'massachusetts', 'building', 'overnight', 'protest', 'defense', 'department', 'funded', 'research', 'new', 'york', 'city', 'thousands', 'city', 'college', 'students', 'got', 'unscheduled', 'holiday', 'demonstrators', 'occupied', 'campus', 'administration', 'building', 'protest', 'possible', 'tuition', 'increases', 'prompting', 'officials', 'suspend', 'classes', '60', 'police', 'riot', 'gear', 'arrived', 'university', 'massachusetts', '5', 'p', 'm', 'two', 'hours', 'later', 'bus', 'drove', 'away', '29', 'students', 'camped', 'memorial', 'hall', 'students', 'charged', 'trespassing', '23', 'students', 'arrested', 'lying', 'bus', 'prevent', 'leaving', 'police', '300', 'students', 'stood', 'building', 'chanting', 'looking', 'students', 'hall', 'arrested', '35', 'students', 'occupied', 'memorial', 'hall', '1', 'p', 'm', 'monday', 'declined', 'offer', 'meet', 'administrators', 'provosts', 'office', 'tuesday', 'morning', 'presented', 'list', 'demands', 'halt', 'defense', 'department', 'research', '25', '000', 'student', 'campus', '40', 'students', 'left', 'building', 'tuesday', 'morning', 'university', 'administrators', 'told', 'arrested', '5', 'p', 'm', 'university', 'spokeswoman', 'jeanne', 'hopkins', 'takeover', 'second', 'western', 'massachusetts', 'campus', 'seven', 'protesters', 'arrested', 'april', '19', 'charges', 'disorderly', 'conduct', 'trespassing', 'demonstrating', 'military', 'funded', 'research', 'campus', 'particularly', 'research', 'anthrax', 'research', 'university', 'non', 'classified', 'researchers', 'make', 'work', 'public', 'university', 'rules', '11', '6', 'million', '22', 'percent', 'grant', 'money', 'received', 'university', 'came', 'defense', 'department', '1988', 'school', 'chancellor', 'joseph', 'd', 'duffey', 'issued', 'statement', 'telling', 'students', 'research', 'continue', 'campus', 'school', 'administrators', 'decide', 'differently', 'policy', 'negotiated', 'students', 'duffey', 'latest', 'occupation', 'began', 'students', 'rallying', 'monday', 'student', 'union', 'military', 'research', 'marched', 'administration', 'building', 'ducked', 'memorial', 'hall', 'en', 'route', 'followed', 'members', 'local', 'chapter', 'american', 'friends', 'service', 'committee', 'contended', 'research', 'dangerous', 'town', 'promotes', 'militarism', 'banned', 'university', 'argued', 'purpose', 'anthrax', 'research', 'peaceful', 'strain', 'bacteria', 'non', 'virulent', 'study', 'school', '23', 'years', 'incident', 'amherst', 'health', 'board', 'scheduled', 'hearing', 'wednesday', 'question', 'safety', 'anthrax', 'research', 'tuesday', 'time', '1969', 'classes', 'city', 'college', 'new', 'york', 'canceled', 'student', 'protests', 'school', 'spokesman', 'charles', 'deciccio', 'protesters', 'demanding', 'face', 'face', 'meeting', 'gov', 'mario', 'cuomo', 'feared', 'tuition', 'college', '1', '250', 'increased', 'college', 'staff', 'reduced', 'state', 'budget', 'cuts', 'governor', 'immediate', 'comment', 'tuition', 'set', 'deciccio']\n"
     ]
    }
   ],
   "source": [
    "print([id2token[word_id] for word_id in example_document[1] if word_id > 0])"
   ]
  },
  {
   "cell_type": "markdown",
   "metadata": {},
   "source": [
    "The reverse can also be done, say we want to look for news about the \"University of Massachusetts\", the tokens of that query can be converted to ids using the reverse dictionary:"
   ]
  },
  {
   "cell_type": "code",
   "execution_count": 8,
   "metadata": {},
   "outputs": [
    {
     "name": "stdout",
     "output_type": "stream",
     "text": [
      "Query by tokens: ['university', '', 'massachusetts']\n",
      "Query by ids with stopwords: [200, 0, 894]\n",
      "Query by ids without stopwords: [200, 894]\n"
     ]
    }
   ],
   "source": [
    "query_tokens = index.tokenize(\"University of Massachusetts\")\n",
    "print(\"Query by tokens:\", query_tokens)\n",
    "query_id_tokens = [token2id.get(query_token,0) for query_token in query_tokens]\n",
    "print(\"Query by ids with stopwords:\", query_id_tokens)\n",
    "query_id_tokens = [word_id for word_id in query_id_tokens if word_id > 0]\n",
    "print(\"Query by ids without stopwords:\", query_id_tokens)"
   ]
  },
  {
   "cell_type": "markdown",
   "metadata": {},
   "source": [
    "Naturally we can now match the document and query in the id space, let's see how often a word from the query occurs in our example document:"
   ]
  },
  {
   "cell_type": "code",
   "execution_count": 9,
   "metadata": {},
   "outputs": [
    {
     "name": "stdout",
     "output_type": "stream",
     "text": [
      "Document AP890425-0001 has 13 word matches with query: \"university  massachusetts\".\n",
      "Document AP890425-0001 and query \"university  massachusetts\" have a 2.5% overlap.\n"
     ]
    }
   ],
   "source": [
    "matching_words = sum([True for word_id in example_document[1] if word_id in query_id_tokens])\n",
    "print(\"Document %s has %d word matches with query: \\\"%s\\\".\" % (example_document[0], matching_words, ' '.join(query_tokens)))\n",
    "print(\"Document %s and query \\\"%s\\\" have a %.01f%% overlap.\" % (example_document[0], ' '.join(query_tokens),matching_words/float(len(example_document[1]))*100))"
   ]
  },
  {
   "cell_type": "markdown",
   "metadata": {},
   "source": [
    "While this is certainly not everything Pyndri can do, it should give you an idea of how to use it. Please take a look at the [examples](https://github.com/cvangysel/pyndri) as it will help you a lot with this assignment.\n",
    "\n",
    "**CAUTION**: Avoid printing out the whole index in this Notebook as it will generate a lot of output and is likely to corrupt the Notebook."
   ]
  },
  {
   "cell_type": "markdown",
   "metadata": {},
   "source": [
    "### Parsing the query file\n",
    "You can parse the query file (`ap_88_89/topics_title`) using the following snippet:"
   ]
  },
  {
   "cell_type": "code",
   "execution_count": 10,
   "metadata": {},
   "outputs": [
    {
     "name": "stdout",
     "output_type": "stream",
     "text": [
      "OrderedDict([('51', 'Airbus Subsidies'), ('52', 'South African Sanctions'), ('53', 'Leveraged Buyouts'), ('54', 'Satellite Launch Contracts'), ('55', 'Insider Trading'), ('56', 'Prime (Lending) Rate Moves, Predictions'), ('57', 'MCI'), ('58', 'Rail Strikes'), ('59', 'Weather Related Fatalities'), ('60', 'Merit-Pay vs. Seniority'), ('61', 'Israeli Role in Iran-Contra Affair'), ('62', \"Military Coups D'etat\"), ('63', 'Machine Translation'), ('64', 'Hostage-Taking'), ('65', 'Information Retrieval Systems'), ('66', 'Natural Language Processing'), ('67', 'Politically Motivated Civil Disturbances'), ('68', 'Health Hazards from Fine-Diameter Fibers'), ('69', 'Attempts to Revive the SALT II Treaty'), ('70', 'Surrogate Motherhood'), ('71', 'Border Incursions'), ('72', 'Demographic Shifts in the U.S.'), ('73', 'Demographic Shifts across National Boundaries'), ('74', 'Conflicting Policy'), ('75', 'Automation'), ('76', 'U.S. Constitution - Original Intent'), ('77', 'Poaching'), ('78', 'Greenpeace'), ('79', 'FRG Political Party Positions'), ('80', '1988 Presidential Candidates Platforms'), ('81', 'Financial crunch for televangelists in the wake of the PTL scandal'), ('82', 'Genetic Engineering'), ('83', 'Measures to Protect the Atmosphere'), ('84', 'Alternative/renewable Energy Plant & Equipment Installation'), ('85', 'Official Corruption'), ('86', 'Bank Failures'), ('87', 'Criminal Actions Against Officers of Failed Financial Institutions'), ('88', 'Crude Oil Price Trends'), ('89', '\"Downstream\" Investments by OPEC Member States'), ('90', 'Data on Proven Reserves of Oil & Natural Gas Producers'), ('91', 'U.S. Army Acquisition of Advanced Weapons Systems'), ('92', 'International Military Equipment Sales'), ('93', 'What Backing Does the National Rifle Association Have?'), ('94', 'Computer-aided Crime'), ('95', 'Computer-aided Crime Detection'), ('96', 'Computer-Aided Medical Diagnosis'), ('97', 'Fiber Optics Applications'), ('98', 'Fiber Optics Equipment Manufacturers'), ('99', 'Iran-Contra Affair'), ('100', 'Controlling the Transfer of High Technology'), ('101', 'Design of the \"Star Wars\" Anti-missile Defense System'), ('102', \"Laser Research Applicable to the U.S.'s Strategic Defense Initiative\"), ('103', 'Welfare Reform'), ('104', 'Catastrophic Health Insurance'), ('105', '\"Black Monday\"'), ('106', 'U.S. Control of Insider Trading'), ('107', 'Japanese Regulation of Insider Trading'), ('108', 'Japanese Protectionist Measures'), ('109', 'Find Innovative Companies'), ('110', 'Black Resistance Against the South African Government'), ('111', 'Nuclear Proliferation'), ('112', 'Funding Biotechnology'), ('113', 'New Space Satellite Applications'), ('114', 'Non-commercial Satellite Launches'), ('115', 'Impact of the 1986 Immigration Law'), ('116', 'Generic Drug Substitutions'), ('117', 'Capacity of the U.S. Cellular Telephone Network'), ('118', 'International Terrorists'), ('119', 'Actions Against International Terrorists'), ('120', 'Economic Impact of International Terrorism'), ('121', 'Death from Cancer'), ('122', 'RDT&E of New Cancer Fighting Drugs'), ('123', 'Research into & Control of Carcinogens'), ('124', 'Alternatives to Traditional Cancer Therapies'), ('125', 'Anti-smoking Actions by Government'), ('126', 'Medical Ethics and Modern Technology'), ('127', 'U.S.-U.S.S.R. Arms Control Agreements'), ('128', 'Privatization of State Assets'), ('129', 'Soviet Spying on the U.S.'), ('130', 'Jewish Emigration and U.S.-USSR Relations'), ('131', 'McDonnell Douglas Contracts for Military Aircraft'), ('132', '\"Stealth\" Aircraft'), ('133', 'Hubble Space Telescope'), ('134', 'The Human Genome Project'), ('135', 'Possible Contributions of Gene Mapping to Medicine'), ('136', 'Diversification by Pacific Telesis'), ('137', 'Expansion in the U.S. Theme Park Industry'), ('138', 'Iranian Support for Lebanese Hostage-takers'), ('139', \"Iran's Islamic Revolution - Domestic and Foreign Social Consequences\"), ('140', 'Political Impact of Islamic Fundamentalism'), ('141', \"Japan's Handling of its Trade Surplus with the U.S.\"), ('142', 'Impact of Government Regulated Grain Farming on International Relations'), ('143', 'Why Protect U.S. Farmers?'), ('144', 'Management Problems at the United Nations'), ('145', 'Influence of the \"Pro-Israel Lobby\"'), ('146', 'Negotiating an End to the Nicaraguan Civil War'), ('147', 'Productivity Trends in the U.S. Economy'), ('148', 'Conflict in the Horn of Africa'), ('149', 'Industrial Espionage'), ('150', 'U.S. Political Campaign Financing'), ('151', 'Coping with overcrowded prisons'), ('152', 'Accusations of Cheating by Contractors on U.S. Defense Projects'), ('153', 'Insurance Coverage which pays for Long Term Care'), ('154', 'Oil Spills'), ('155', 'Right Wing Christian Fundamentalism in U.S.'), ('156', 'Efforts to enact Gun Control Legislation'), ('157', 'Causes and treatments of multiple sclerosis (MS)'), ('158', 'Term limitations for members of the U.S. Congress'), ('159', 'Electric Car Development'), ('160', 'Vitamins - The Cure for or Cause of Human Ailments'), ('161', 'Acid Rain'), ('162', 'Automobile Recalls'), ('163', 'Vietnam Veterans and Agent Orange'), ('164', 'Generic Drugs - Illegal Activities by Manufacturers'), ('165', 'Tobacco company advertising and the young'), ('166', 'Standardized testing and cultural bias'), ('167', 'Regulation of the showing of violence and explicit sex in motion picture theaters, on television, and on video cassettes.'), ('168', 'Financing AMTRAK'), ('169', 'Cost of Garbage/Trash Removal'), ('170', 'The Consequences of Implantation of Silicone Gel Breast Devices'), ('171', \"Use of Mutual Funds in an Individual's Retirement Strategy\"), ('172', 'The Effectiveness of Medical Products and Related Programs Utilized in the Cessation of Smoking.'), ('173', 'Smoking Bans'), ('174', 'Hazardous Waste Cleanup'), ('175', 'NRA Prevention of Gun Control Legislation'), ('176', 'Real-life private investigators'), ('177', 'English as the Official Language in U.S.'), ('178', 'Dog Maulings'), ('179', 'U. S. Restaurants in Foreign Lands'), ('180', 'Ineffectiveness of U.S. Embargoes/Sanctions'), ('181', 'Abuse of the Elderly by Family Members, and Medical and Nonmedical Personnel, and Initiatives Being Taken to Minimize This Mistreatment'), ('182', 'Commercial Overfishing Creates Food Fish Deficit'), ('183', 'Asbestos Related Lawsuits'), ('184', 'Corporate Pension Plans/Funds'), ('185', 'Reform of the U.S. Welfare System'), ('186', 'Difference of Learning Levels Among Inner City and More Suburban School Students'), ('187', 'Signs of the Demise of Independent Publishing'), ('188', 'Beachfront Erosion'), ('189', 'Real Motives for Murder'), ('190', 'Instances of Fraud Involving the Use of a Computer'), ('191', 'Efforts to Improve U.S. Schooling'), ('192', 'Oil Spill Cleanup'), ('193', 'Toys R Dangerous'), ('194', 'The Amount of Money Earned by Writers'), ('195', 'Stock Market Perturbations Attributable to Computer Initiated Trading'), ('196', 'School Choice Voucher System and its effects upon the entire U.S. educational program'), ('197', 'Reform of the jurisprudence system to stop juries from granting unreasonable monetary awards'), ('198', 'Gene Therapy and Its Benefits to Humankind'), ('199', 'Legality of Medically Assisted Suicides'), ('200', 'Impact of foreign textile imports on U.S. textile industry')])\n"
     ]
    }
   ],
   "source": [
    "import collections\n",
    "import io\n",
    "import logging\n",
    "import sys\n",
    "\n",
    "def parse_topics(file_or_files,\n",
    "                 max_topics=sys.maxsize, delimiter=';'):\n",
    "    assert max_topics >= 0 or max_topics is None\n",
    "\n",
    "    topics = collections.OrderedDict()\n",
    "\n",
    "    if not isinstance(file_or_files, list) and \\\n",
    "            not isinstance(file_or_files, tuple):\n",
    "        if hasattr(file_or_files, '__iter__'):\n",
    "            file_or_files = list(file_or_files)\n",
    "        else:\n",
    "            file_or_files = [file_or_files]\n",
    "\n",
    "    for f in file_or_files:\n",
    "        assert isinstance(f, io.IOBase)\n",
    "\n",
    "        for line in f:\n",
    "            assert(isinstance(line, str))\n",
    "\n",
    "            line = line.strip()\n",
    "\n",
    "            if not line:\n",
    "                continue\n",
    "\n",
    "            topic_id, terms = line.split(delimiter, 1)\n",
    "\n",
    "            if topic_id in topics and (topics[topic_id] != terms):\n",
    "                    logging.error('Duplicate topic \"%s\" (%s vs. %s).',\n",
    "                                  topic_id,\n",
    "                                  topics[topic_id],\n",
    "                                  terms)\n",
    "\n",
    "            topics[topic_id] = terms\n",
    "\n",
    "            if max_topics > 0 and len(topics) >= max_topics:\n",
    "                break\n",
    "\n",
    "    return topics\n",
    "\n",
    "with open('./ap_88_89/topics_title', 'r') as f_topics:\n",
    "    print(parse_topics([f_topics]))"
   ]
  },
  {
   "cell_type": "markdown",
   "metadata": {},
   "source": [
    "### Task 1: Implement and compare lexical IR methods [35 points] ### \n",
    "\n",
    "In this task you will implement a number of lexical methods for IR using the **Pyndri** framework. Then you will evaluate these methods on the dataset we have provided using **TREC Eval**.\n",
    "\n",
    "Use the **Pyndri** framework to get statistics of the documents (term frequency, document frequency, collection frequency; **you are not allowed to use the query functionality of Pyndri**) and implement the following scoring methods in **Python**:\n",
    "\n",
    "- [TF-IDF](http://nlp.stanford.edu/IR-book/html/htmledition/tf-idf-weighting-1.html) and \n",
    "- [BM25](http://nlp.stanford.edu/IR-book/html/htmledition/okapi-bm25-a-non-binary-model-1.html) with k1=1.2 and b=0.75. **[5 points]**\n",
    "- Language models ([survey](https://drive.google.com/file/d/0B-zklbckv9CHc0c3b245UW90NE0/view))\n",
    "    - Jelinek-Mercer (explore different values of 𝛌 in the range [0.1, 0.5, 0.9]). **[5 points]**\n",
    "    - Dirichlet Prior (explore different values of 𝛍 [500, 1000, 1500]). **[5 points]**\n",
    "    - Absolute discounting (explore different values of 𝛅 in the range [0.1, 0.5, 0.9]). **[5 points]**\n",
    "    - [Positional Language Models](http://sifaka.cs.uiuc.edu/~ylv2/pub/sigir09-plm.pdf) define a language model for each position of a document, and score a document based on the scores of its PLMs. The PLM is estimated based on propagated counts of words within a document through a proximity-based density function, which both captures proximity heuristics and achieves an effect of “soft” passage retrieval. Implement the PLM, all five kernels, but only the Best position strategy to score documents. Use 𝛔 equal to 50, and Dirichlet smoothing with 𝛍 optimized on the validation set (decide how to optimize this value yourself and motivate your decision in the report). **[10 points]**\n",
    "    \n",
    "Implement the above methods and report evaluation measures (on the test set) using the hyper parameter values you optimized on the validation set (also report the values of the hyper parameters). Use TREC Eval to obtain the results and report on `NDCG@10`, Mean Average Precision (`MAP@1000`), `Precision@5` and `Recall@1000`.\n",
    "\n",
    "For the language models, create plots showing `NDCG@10` with varying values of the parameters. You can do this by chaining small scripts using shell scripting (preferred) or execute trec_eval using Python's `subprocess`.\n",
    "\n",
    "Compute significance of the results using a [two-tailed paired Student t-test](https://docs.scipy.org/doc/scipy/reference/generated/scipy.stats.ttest_rel.html) **[5 points]**. Be wary of false rejection of the null hypothesis caused by the [multiple comparisons problem](https://en.wikipedia.org/wiki/Multiple_comparisons_problem). There are multiple ways to mitigate this problem and it is up to you to choose one.\n",
    "\n",
    "Analyse the results by identifying specific queries where different methods succeed or fail and discuss possible reasons that cause these differences. This is *very important* in order to understand who the different retrieval functions behave.\n",
    "\n",
    "**NOTE**: Don’t forget to use log computations in your calculations to avoid underflows. "
   ]
  },
  {
   "cell_type": "markdown",
   "metadata": {},
   "source": [
    "**IMPORTANT**: You should structure your code around the helper functions we provide below."
   ]
  },
  {
   "cell_type": "code",
   "execution_count": 11,
   "metadata": {},
   "outputs": [
    {
     "name": "stdout",
     "output_type": "stream",
     "text": [
      "Gathering statistics about 456 terms.\n",
      "Inverted index creation took 30.003854036331177 seconds.\n"
     ]
    }
   ],
   "source": [
    "with open('./ap_88_89/topics_title', 'r') as f_topics:\n",
    "    queries = parse_topics([f_topics])\n",
    "\n",
    "index = pyndri.Index('index/')\n",
    "# the total number of documents\n",
    "num_documents = index.maximum_document() - index.document_base()\n",
    "\n",
    "# the pyindri dictionary\n",
    "dictionary = pyndri.extract_dictionary(index)\n",
    "\n",
    "# tokenize the queries\n",
    "# query_id --> [token_id1, token_id2, ...] \n",
    "tokenized_queries = {\n",
    "    query_id: [dictionary.translate_token(token)\n",
    "               for token in index.tokenize(query_string)\n",
    "               if dictionary.has_token(token)]\n",
    "    for query_id, query_string in queries.items()}\n",
    "\n",
    "# gather all of the query token_ids into a set TODO why? \n",
    "query_term_ids = set(\n",
    "    query_term_id\n",
    "    for query_term_ids in tokenized_queries.values()\n",
    "    for query_term_id in query_term_ids)\n",
    "\n",
    "print('Gathering statistics about', len(query_term_ids), 'terms.')\n",
    "\n",
    "#### Inverted index creation. \n",
    "# per document dictionaries\n",
    "document_lengths = {} # doc_id -> length of document\n",
    "unique_terms_per_document = {} # doc_id -> number of unique tokens in document\n",
    "\n",
    "# (query_term, (doc_id)) -> document TF\n",
    "inverted_index = collections.defaultdict(dict)\n",
    "# (query_term_id) -> frequency of occurence of query_term_id in all of the documents \n",
    "collection_frequencies = collections.defaultdict(int)\n",
    "# total number of words in the document\n",
    "total_terms = 0\n",
    "\n",
    "start_time = time.time()\n",
    "\n",
    "# a dictionary that maps internal IDs to external IDs\n",
    "doc_id_to_ext_id = {}\n",
    "\n",
    "for int_doc_id in range(index.document_base(), index.maximum_document()):\n",
    "    ext_doc_id, doc_token_ids = index.document(int_doc_id)\n",
    "    doc_id_to_ext_id[int_doc_id] = ext_doc_id\n",
    "     \n",
    "    document_bow = collections.Counter(\n",
    "        token_id for token_id in doc_token_ids\n",
    "        if token_id > 0)\n",
    "    \n",
    "    \n",
    "    document_length = sum(document_bow.values())\n",
    "\n",
    "    document_lengths[int_doc_id] = document_length\n",
    "    total_terms += document_length\n",
    "\n",
    "    unique_terms_per_document[int_doc_id] = len(document_bow)\n",
    "    \n",
    "    # accumulate TF and CF\n",
    "    for query_term_id in query_term_ids:\n",
    "        assert query_term_id is not None\n",
    "\n",
    "        document_term_frequency = document_bow.get(query_term_id, 0)\n",
    "\n",
    "        if document_term_frequency == 0:\n",
    "            continue\n",
    "\n",
    "        collection_frequencies[query_term_id] += document_term_frequency\n",
    "        inverted_index[query_term_id][int_doc_id] = document_term_frequency\n",
    "    \n",
    "avg_doc_length = total_terms / num_documents\n",
    "\n",
    "print('Inverted index creation took', time.time() - start_time, 'seconds.')"
   ]
  },
  {
   "cell_type": "code",
   "execution_count": 12,
   "metadata": {},
   "outputs": [],
   "source": [
    "def run_retrieval(model_name, score_fn):\n",
    "    \"\"\"\n",
    "    Runs a retrieval method for all the queries and writes the TREC-friendly results in a file.\n",
    "    \n",
    "    :param model_name: the name of the model (a string)\n",
    "    :param score_fn: the scoring function (a function - see below for an example) \n",
    "    \"\"\"\n",
    "    run_out_path = '{}.run'.format(model_name)\n",
    "\n",
    "    #if os.path.exists(run_out_path):\n",
    "    #    return\n",
    "\n",
    "    retrieval_start_time = time.time()\n",
    "\n",
    "    print('Retrieving using', model_name)\n",
    "    \n",
    "    \n",
    "    score_sums = collections.defaultdict(lambda: collections.defaultdict(float))\n",
    "    \n",
    "    for query_id, query_terms in queries.items():\n",
    "        for query_term_id in tokenized_queries[query_id]:\n",
    "            # TODO what happens when the query term doesn't occur in any document\n",
    "            for doc_id, document_term_freq in inverted_index[query_term_id].items():\n",
    "                score = score_fn(doc_id, query_term_id, document_term_freq)\n",
    "                score_sums[query_id][doc_id] += score\n",
    "                \n",
    "    data = {}\n",
    "    for query_id, document_scores in score_sums.items():\n",
    "        doc_scores = []\n",
    "        for doc_id in document_scores.keys():\n",
    "            doc_scores.append((document_scores[doc_id], doc_id_to_ext_id[doc_id]))\n",
    "        doc_scores.sort(key = lambda _: -_[0])\n",
    "        data[query_id] = doc_scores\n",
    "    \n",
    "    with open(run_out_path, 'w') as f_out:\n",
    "        write_run(\n",
    "            model_name=model_name,\n",
    "            data=data,\n",
    "            out_f=f_out,\n",
    "            max_objects_per_query=1000)"
   ]
  },
  {
   "cell_type": "code",
   "execution_count": 17,
   "metadata": {},
   "outputs": [],
   "source": [
    "def tfidf(int_document_id, query_term_id, document_term_freq):\n",
    "    \"\"\"\n",
    "    Scoring function for a document and a query term. TODO justify the form of TF-IDF we're using\n",
    "    \n",
    "    :param int_document_id: the document id\n",
    "    :param query_token_id: the query term id (assuming you have split the query to tokens)\n",
    "    :param document_term_freq: the document term frequency of the query term \n",
    "    \"\"\"\n",
    "    idf = math.log(num_documents / len(inverted_index[query_term_id]))\n",
    "    tf = math.log(1 + document_term_freq)\n",
    "    return tf * idf"
   ]
  },
  {
   "cell_type": "code",
   "execution_count": 19,
   "metadata": {},
   "outputs": [],
   "source": [
    "def bm25(int_document_id, query_term_id, document_term_freq, k_1 = 1.2, b = 0.75):\n",
    "    \"\"\"\n",
    "    BM25 scoring function\n",
    "    \n",
    "    :param int_document_id: the document id\n",
    "    :param query_token_id: the query term id \n",
    "    :param document_term_freq: the document term frequency of the query term \n",
    "    :param k_1: TODO\n",
    "    :param b: TODO\n",
    "    \"\"\"\n",
    "    \n",
    "    idf = math.log(num_documents / len(inverted_index[query_term_id]))\n",
    "    tf_numerator = (k_1 + 1) * document_term_freq \n",
    "    tf_denom = k_1 * ((1 - b) + b * (document_lengths[int_document_id] / avg_doc_length)) + document_term_freq\n",
    "    return idf * (tf_numerator / tf_denom)"
   ]
  },
  {
   "cell_type": "code",
   "execution_count": 13,
   "metadata": {},
   "outputs": [],
   "source": [
    "def jelinek_mercer(int_document_id, query_term_id, document_term_freq, lmbd = 0.8111):\n",
    "    \"\"\"\n",
    "    JM smoothed scoring function. Note that the default value of lambda is set after \n",
    "    performing a grid search (done later)\n",
    "    \n",
    "    :param int_document_id: the document id\n",
    "    :param query_token_id: the query term id \n",
    "    :param document_term_freq: the document term frequency of the query term \n",
    "    :param lmbd: Lambda, TODO\n",
    "    \"\"\"\n",
    "    \n",
    "    document_contrib = lmbd * (document_term_freq / document_lengths[int_document_id]) \n",
    "    corpus_contrib = (1 - lmbd) * (collection_frequencies[query_term_id] / total_terms)\n",
    "    return np.log(document_contrib + corpus_contrib)"
   ]
  },
  {
   "cell_type": "code",
   "execution_count": 14,
   "metadata": {},
   "outputs": [],
   "source": [
    "def dirichlet_prior(int_document_id, query_term_id, document_term_freq, mu = 1300):\n",
    "    \"\"\"\n",
    "    Dirichlet Prior smoothed scoring function. Note that the default value of mu is set after \n",
    "    performing a grid search (done later)\n",
    "    \n",
    "    :param int_document_id: the document id\n",
    "    :param query_token_id: the query term id \n",
    "    :param document_term_freq: the document term frequency of the query term \n",
    "    :param mu: TODO\n",
    "    \"\"\"\n",
    "    \n",
    "    numerator = document_term_freq + mu * (collection_frequencies[query_term_id] / total_terms)\n",
    "    denom = document_lengths[int_document_id] + mu\n",
    "    return np.log(numerator / denom)"
   ]
  },
  {
   "cell_type": "code",
   "execution_count": 15,
   "metadata": {},
   "outputs": [],
   "source": [
    "def absolute_discounting(int_document_id, query_term_id, document_term_freq, delta = 0.9):\n",
    "    \"\"\"\n",
    "    Smoothed scoring function using Absolute discounting. Note that the default value of delta is set after \n",
    "    performing a grid search (done later)\n",
    "    \n",
    "    :param int_document_id: the document id\n",
    "    :param query_token_id: the query term id \n",
    "    :param document_term_freq: the document term frequency of the query term \n",
    "    :param delta: TODO\n",
    "    \n",
    "    sigma: discount constant [0,1]\n",
    "    delta: sigma*|du|/|d|\n",
    "    \"\"\"\n",
    "    \n",
    "    sigma = (delta * unique_terms_per_document[int_document_id]) / document_lengths[int_document_id]\n",
    "    numerator = max(document_term_freq - delta, 0) \n",
    "    denominator = document_lengths[int_document_id]\n",
    "    discounted_prob = numerator / denominator\n",
    "    unigram_prob = collection_frequencies[query_term_id] / total_terms\n",
    "    return np.log(discounted_prob + (sigma * unigram_prob))"
   ]
  },
  {
   "cell_type": "code",
   "execution_count": 20,
   "metadata": {},
   "outputs": [
    {
     "name": "stdout",
     "output_type": "stream",
     "text": [
      "Retrieving using tfidf\n",
      "Retrieving using bm25\n",
      "Retrieving using jelinek_mercer\n",
      "Retrieving using dirichlet_prior\n",
      "Retrieving using absolute_discounting\n"
     ]
    }
   ],
   "source": [
    "run_retrieval('tfidf', tfidf)\n",
    "run_retrieval('bm25', bm25)\n",
    "run_retrieval('jelinek_mercer', jelinek_mercer)\n",
    "run_retrieval('dirichlet_prior', dirichlet_prior)\n",
    "run_retrieval('absolute_discounting', absolute_discounting)"
   ]
  },
  {
   "cell_type": "code",
   "execution_count": 90,
   "metadata": {
    "collapsed": true
   },
   "outputs": [],
   "source": [
    "#please check, by ece\n",
    "# TODO, ece can you please document all of these functions - like I've done for the scoring functions above\n",
    "def gaussian_kernel(i, j, sigma):\n",
    "    return np.exp(-np.power((i-j),2)/(2*np.power(sigma,2)))\n",
    "\n",
    "def gaussian_kernel_estimation(i, j, sigma, N):\n",
    "    #TODO the one with the cumulative density function CDF\n",
    "    pass\n",
    "    \n",
    "def triangle_kernel(i, j, sigma): \n",
    "    absolute = np.absolute(i-j)\n",
    "    return 1 - (absolute/sigma) if(absolute <= sigma) else 0\n",
    "\n",
    "def cosine_kernel(i, j, sigma):\n",
    "    absolute = np.absolute(i-j) \n",
    "    k = 0.0\n",
    "    \n",
    "    if absolute <= sigma:\n",
    "        k = (1 + np.cos((absolute*math.pi)/sigma))/2\n",
    "    \n",
    "    return k\n",
    "\n",
    "def circle_kernel(i, j, sigma):\n",
    "    absolute = np.absolute(i-j) \n",
    "    k = 0.0\n",
    "    \n",
    "    if absolute <= sigma:\n",
    "        k = np.sqrt(1 - np.power(absolute/sigma, 2))\n",
    "    \n",
    "    return k\n",
    "\n",
    "def passage_kernel(i, j, sigma):\n",
    "    absolute = np.absolute(i-j)\n",
    "    return 1 if(absolute <= sigma) else 0\n"
   ]
  },
  {
   "cell_type": "code",
   "execution_count": 91,
   "metadata": {
    "collapsed": true
   },
   "outputs": [],
   "source": [
    "def run_retrieval_plm(model_name, score_fn):\n",
    "    \"\"\"\n",
    "    Runs a PLM-based retrieval method for all the queries and writes the TREC-friendly results in a file.\n",
    "    \n",
    "    :param model_name: the name of the model (a string)\n",
    "    :param score_fn: the PLM-based scoring function\n",
    "    \"\"\"\n",
    "    \n",
    "    run_out_path = '{}.run'.format(model_name)\n",
    "\n",
    "    retrieval_start_time = time.time()\n",
    "\n",
    "    print('Retrieving using', model_name)\n",
    "    \n",
    "    score_sums = collections.defaultdict(lambda: collections.defaultdict(float))\n",
    "    plm_models_wdi = collections.defaultdict(lambda: collections.defaultdict(lambda: collections.defaultdict(float)))\n",
    "    scores_qdi = collections.defaultdict(lambda: collections.defaultdict(lambda: collections.defaultdict(float)))\n",
    "                \n",
    "    #MLE probs for query_lm[query_id][query_term_id]\n",
    "    query_lm = collections.defaultdict(lambda: collections.defaultdict(float)) \n",
    "    \n",
    "    # TODO ece, explain (high level) \n",
    "    for query_id, query_terms in queries.items():\n",
    "        query_word_counts = collections.defaultdict(float)\n",
    "        tokenized_qs = tokenized_queries[query_id]\n",
    "        for query_term_id in tokenized_qs:\n",
    "            query_word_counts[query_term_id] += 1 #P(w_i|q)\n",
    "        \n",
    "        #this was buggy, changed it\n",
    "        query_word_counts.update((k,v/len(tokenized_qs)) for k,v in query_word_counts.items())\n",
    "       \n",
    "        #for each query, keep LM = P(w|q) for each unique word in the query\n",
    "        query_lm[query_id] = query_word_counts \n",
    "    \n",
    "    # extract tokens without stop words\n",
    "    doc_tokens_with_stop = {}\n",
    "    for int_doc_id in range(index.document_base(), index.maximum_document()):\n",
    "        doc_tokens_with_stop[int_doc_id] = [ind for ind in index.document(int_doc_id)[1]]\n",
    "    \n",
    "    # TODO ece, explain (high level)\n",
    "    for query_id, query_terms in queries.items():\n",
    "        for query_term_id in tokenized_queries[query_id]:\n",
    "            # TODO what happens when the query term doesn't occur in any document\n",
    "            for doc_id, document_term_freq in inverted_index[query_term_id].items():\n",
    "              \n",
    "                #positional LM\n",
    "                plm_models_wdi[query_term_id][doc_id] = score_fn(doc_id, query_term_id, document_term_freq,\n",
    "                                                                 doc_tokens_with_stop[doc_id])\n",
    "                q_lm = query_lm[query_id][query_term_id]\n",
    "                \n",
    "                full_doc_length = len(doc_tokens_with_stop[doc_id])\n",
    "                \n",
    "                for i in range(full_doc_length):\n",
    "                    #for one word\n",
    "                    \n",
    "                    #final scores given query, doc and index\n",
    "                    scores_qdi[query_id][doc_id][i] -= q_lm * np.log(q_lm / plm_models_wdi[query_term_id][doc_id][i]) \n",
    "                    #print(i,scores_qdi[query_id][doc_id][i])\n",
    "               \n",
    "                #scores_sum SHOULD BE RETURNED as the scores of each doc\n",
    "                #print(max(list(scores_qdi[query_id][doc_id].values())))\n",
    "                \n",
    "                #oprint(score_sums[query_id][doc_id])\n",
    "                score_sums[query_id][doc_id] = max(list(scores_qdi[query_id][doc_id].values()))\n",
    "                #print(query_id, doc_id,doc_id_to_ext_id[doc_id], score_sums[query_id][doc_id] )\n",
    "                \n",
    "    data = {}\n",
    "    for query_id, document_scores in score_sums.items():\n",
    "        doc_scores = []\n",
    "        for doc_id in document_scores.keys():\n",
    "            doc_scores.append((document_scores[doc_id], doc_id_to_ext_id[doc_id]))\n",
    "        doc_scores.sort(key = lambda _: -_[0])\n",
    "        data[query_id] = doc_scores\n",
    "    \n",
    "    with open(run_out_path, 'w') as f_out:\n",
    "        write_run(\n",
    "            model_name=model_name,\n",
    "            data=data,\n",
    "            out_f=f_out,\n",
    "            max_objects_per_query=1000)"
   ]
  },
  {
   "cell_type": "code",
   "execution_count": 92,
   "metadata": {
    "collapsed": true
   },
   "outputs": [],
   "source": [
    "def PLM(int_document_id, query_term_id, document_term_freq, indices, kernel = gaussian_kernel, sigma = 50, mu = 1500):\n",
    "\n",
    "    #please check, by ece\n",
    "    \n",
    "    #change kernel?\n",
    "    #change mu according to optimized dirichlet hyperparameter!\n",
    "    #sigma is given in the assignment\n",
    "    \n",
    "    #query_term_id = w\n",
    "    #c_prime is for w,i\n",
    "    \n",
    "    full_doc_length = len(indices)\n",
    "    \n",
    "    c_prime = np.zeros(full_doc_length)\n",
    "    \n",
    "    #get the positional word ids in the document, eliminate stop words where ind==0\n",
    "    #TODO i and j after removing 0 or are we keeping the indices from the actual sequence?\n",
    "    #WE ARE KEEPING EVERYTHING IN THE DOCUMENT\n",
    "     \n",
    "    \n",
    "    #denominator, virtual document lengths\n",
    "    z = np.zeros(full_doc_length)\n",
    "    \n",
    "    for i in range(full_doc_length):\n",
    "        \n",
    "        #kernel outcomes for the given i over all j, they will be summed up for z[i]\n",
    "        k = np.zeros(full_doc_length)\n",
    "        \n",
    "        for j in range(full_doc_length):\n",
    "            \n",
    "            cwj = 0.0\n",
    "            if indices[j] == query_term_id:\n",
    "                cwj = 1.0\n",
    "            \n",
    "            k[j] = kernel(i,j, sigma) #TODO ij or ji\n",
    "            c_prime[i] += cwj*k[j]\n",
    "            \n",
    "        z[i] = np.sum(k)   #sum over kernel(j,i) j=1 to N, not the final simplified version\n",
    "        #NOT USING the sum of c_prime over all w, but using zi as the sum over kernels\n",
    "        \n",
    "    unigram_prob = collection_frequencies[query_term_id] / total_terms\n",
    "    \n",
    "    pm_wdi = (c_prime + mu * unigram_prob)/(z + mu)\n",
    "    \n",
    "    #language model per word given document and a position\n",
    "    return pm_wdi"
   ]
  },
  {
   "cell_type": "code",
   "execution_count": 93,
   "metadata": {},
   "outputs": [
    {
     "name": "stdout",
     "output_type": "stream",
     "text": [
      "Retrieving using PLM\n"
     ]
    },
    {
     "ename": "KeyboardInterrupt",
     "evalue": "",
     "output_type": "error",
     "traceback": [
      "\u001b[0;31m---------------------------------------------------------------------------\u001b[0m",
      "\u001b[0;31mKeyboardInterrupt\u001b[0m                         Traceback (most recent call last)",
      "\u001b[0;32m<ipython-input-93-cd41ff78f895>\u001b[0m in \u001b[0;36m<module>\u001b[0;34m()\u001b[0m\n\u001b[1;32m      5\u001b[0m \u001b[0;31m#run_retrieval('dirichlet_prior', dirichlet_prior)\u001b[0m\u001b[0;34m\u001b[0m\u001b[0;34m\u001b[0m\u001b[0m\n\u001b[1;32m      6\u001b[0m \u001b[0;31m#run_retrieval('absolute_discounting', absolute_discounting)\u001b[0m\u001b[0;34m\u001b[0m\u001b[0;34m\u001b[0m\u001b[0m\n\u001b[0;32m----> 7\u001b[0;31m \u001b[0mrun_retrieval_plm\u001b[0m\u001b[0;34m(\u001b[0m\u001b[0;34m'PLM'\u001b[0m\u001b[0;34m,\u001b[0m \u001b[0mPLM\u001b[0m\u001b[0;34m)\u001b[0m\u001b[0;34m\u001b[0m\u001b[0m\n\u001b[0m\u001b[1;32m      8\u001b[0m \u001b[0;31m# TODO implement the rest of the retrieval functions\u001b[0m\u001b[0;34m\u001b[0m\u001b[0;34m\u001b[0m\u001b[0m\n\u001b[1;32m      9\u001b[0m \u001b[0;34m\u001b[0m\u001b[0m\n",
      "\u001b[0;32m<ipython-input-91-e2d1c1b7e68b>\u001b[0m in \u001b[0;36mrun_retrieval_plm\u001b[0;34m(model_name, score_fn)\u001b[0m\n\u001b[1;32m     52\u001b[0m                 \u001b[0;31m#positional LM\u001b[0m\u001b[0;34m\u001b[0m\u001b[0;34m\u001b[0m\u001b[0m\n\u001b[1;32m     53\u001b[0m                 plm_models_wdi[query_term_id][doc_id] = score_fn(doc_id, query_term_id, document_term_freq,\n\u001b[0;32m---> 54\u001b[0;31m                                                                  doc_tokens_with_stop[doc_id])\n\u001b[0m\u001b[1;32m     55\u001b[0m                 \u001b[0mq_lm\u001b[0m \u001b[0;34m=\u001b[0m \u001b[0mquery_lm\u001b[0m\u001b[0;34m[\u001b[0m\u001b[0mquery_id\u001b[0m\u001b[0;34m]\u001b[0m\u001b[0;34m[\u001b[0m\u001b[0mquery_term_id\u001b[0m\u001b[0;34m]\u001b[0m\u001b[0;34m\u001b[0m\u001b[0m\n\u001b[1;32m     56\u001b[0m \u001b[0;34m\u001b[0m\u001b[0m\n",
      "\u001b[0;32m<ipython-input-92-25752e6b6624>\u001b[0m in \u001b[0;36mPLM\u001b[0;34m(int_document_id, query_term_id, document_term_freq, indices, kernel, sigma, mu)\u001b[0m\n\u001b[1;32m     33\u001b[0m                 \u001b[0mcwj\u001b[0m \u001b[0;34m=\u001b[0m \u001b[0;36m1.0\u001b[0m\u001b[0;34m\u001b[0m\u001b[0m\n\u001b[1;32m     34\u001b[0m \u001b[0;34m\u001b[0m\u001b[0m\n\u001b[0;32m---> 35\u001b[0;31m             \u001b[0mk\u001b[0m\u001b[0;34m[\u001b[0m\u001b[0mj\u001b[0m\u001b[0;34m]\u001b[0m \u001b[0;34m=\u001b[0m \u001b[0mkernel\u001b[0m\u001b[0;34m(\u001b[0m\u001b[0mi\u001b[0m\u001b[0;34m,\u001b[0m\u001b[0mj\u001b[0m\u001b[0;34m,\u001b[0m \u001b[0msigma\u001b[0m\u001b[0;34m)\u001b[0m \u001b[0;31m#TODO ij or ji\u001b[0m\u001b[0;34m\u001b[0m\u001b[0m\n\u001b[0m\u001b[1;32m     36\u001b[0m             \u001b[0mc_prime\u001b[0m\u001b[0;34m[\u001b[0m\u001b[0mi\u001b[0m\u001b[0;34m]\u001b[0m \u001b[0;34m+=\u001b[0m \u001b[0mcwj\u001b[0m\u001b[0;34m*\u001b[0m\u001b[0mk\u001b[0m\u001b[0;34m[\u001b[0m\u001b[0mj\u001b[0m\u001b[0;34m]\u001b[0m\u001b[0;34m\u001b[0m\u001b[0m\n\u001b[1;32m     37\u001b[0m \u001b[0;34m\u001b[0m\u001b[0m\n",
      "\u001b[0;32m<ipython-input-90-243fec3a3045>\u001b[0m in \u001b[0;36mgaussian_kernel\u001b[0;34m(i, j, sigma)\u001b[0m\n\u001b[1;32m      2\u001b[0m \u001b[0;34m\u001b[0m\u001b[0m\n\u001b[1;32m      3\u001b[0m \u001b[0;32mdef\u001b[0m \u001b[0mgaussian_kernel\u001b[0m\u001b[0;34m(\u001b[0m\u001b[0mi\u001b[0m\u001b[0;34m,\u001b[0m \u001b[0mj\u001b[0m\u001b[0;34m,\u001b[0m \u001b[0msigma\u001b[0m\u001b[0;34m)\u001b[0m\u001b[0;34m:\u001b[0m\u001b[0;34m\u001b[0m\u001b[0m\n\u001b[0;32m----> 4\u001b[0;31m    \u001b[0;32mreturn\u001b[0m \u001b[0mnp\u001b[0m\u001b[0;34m.\u001b[0m\u001b[0mexp\u001b[0m\u001b[0;34m(\u001b[0m\u001b[0;34m-\u001b[0m\u001b[0mnp\u001b[0m\u001b[0;34m.\u001b[0m\u001b[0mpower\u001b[0m\u001b[0;34m(\u001b[0m\u001b[0;34m(\u001b[0m\u001b[0mi\u001b[0m\u001b[0;34m-\u001b[0m\u001b[0mj\u001b[0m\u001b[0;34m)\u001b[0m\u001b[0;34m,\u001b[0m\u001b[0;36m2\u001b[0m\u001b[0;34m)\u001b[0m\u001b[0;34m/\u001b[0m\u001b[0;34m(\u001b[0m\u001b[0;36m2\u001b[0m\u001b[0;34m*\u001b[0m\u001b[0mnp\u001b[0m\u001b[0;34m.\u001b[0m\u001b[0mpower\u001b[0m\u001b[0;34m(\u001b[0m\u001b[0msigma\u001b[0m\u001b[0;34m,\u001b[0m\u001b[0;36m2\u001b[0m\u001b[0;34m)\u001b[0m\u001b[0;34m)\u001b[0m\u001b[0;34m)\u001b[0m\u001b[0;34m\u001b[0m\u001b[0m\n\u001b[0m\u001b[1;32m      5\u001b[0m \u001b[0;34m\u001b[0m\u001b[0m\n\u001b[1;32m      6\u001b[0m \u001b[0;32mdef\u001b[0m \u001b[0mgaussian_kernel_estimation\u001b[0m\u001b[0;34m(\u001b[0m\u001b[0mi\u001b[0m\u001b[0;34m,\u001b[0m \u001b[0mj\u001b[0m\u001b[0;34m,\u001b[0m \u001b[0msigma\u001b[0m\u001b[0;34m,\u001b[0m \u001b[0mN\u001b[0m\u001b[0;34m)\u001b[0m\u001b[0;34m:\u001b[0m\u001b[0;34m\u001b[0m\u001b[0m\n",
      "\u001b[0;31mKeyboardInterrupt\u001b[0m: "
     ]
    }
   ],
   "source": [
    "run_retrieval_plm('PLM', PLM)"
   ]
  },
  {
   "cell_type": "markdown",
   "metadata": {},
   "source": [
    "### Hyper-parameter tuning\n",
    "\n",
    "In the sections below, we compute performances for the methods above for different hyperparameters and check their performances. \n",
    "\n",
    "> Note that after this step, we set the default parameters to the 'optimal' values that we derived from this section\n",
    "\n",
    "The following function evaluates all possible combinations of parameters - Grid Search. It returns a list of <paramter combination, performance>, which we inspect to see which set of parameters are optimal.\n",
    "\n",
    "We're using the validation data here, not the test set (which we touch only for statistical significance tests)."
   ]
  },
  {
   "cell_type": "code",
   "execution_count": 28,
   "metadata": {},
   "outputs": [],
   "source": [
    "def grid_eval(grid, score_fn, test_file, verbose = False, output_folder = \"grid_results/\"):\n",
    "    \"\"\"\n",
    "    Evaluate a scoring method on a grid of possible values.\n",
    "\n",
    "    :param grid: a dictionary of `param -> list of possible values`\n",
    "    :param score_fn: the scoring method to evaluate\n",
    "    :param test_file: the test file to evaluate against\n",
    "    :param verbose: If set to True, adds prints statements occasionally\n",
    "    :param output_folder: The folder to save intermediate outputs from run_retrieval\n",
    "    \"\"\"\n",
    "    \n",
    "    # convert to an list because indexing is required\n",
    "    grid = list(grid.items())\n",
    "    param_lengths = tuple([len(grid_item[1]) for grid_item in grid])\n",
    "    print(\"Running grid eval on {} possible combinations\".format(np.prod(param_lengths)))\n",
    "    \n",
    "    all_indices = np.ndindex(param_lengths)\n",
    "    grid_results = []\n",
    "    for index, values in enumerate(all_indices):\n",
    "        # generate parameters for this particular run\n",
    "        param_grid = {}\n",
    "        for param_index, param_val_index in enumerate(values):\n",
    "            param_name, param_values = grid[param_index]\n",
    "            param_grid[param_name] = param_values[param_val_index]\n",
    "        if verbose:\n",
    "            print(\"Running evaluation {} of {}, with params: {}\".format(index + 1, np.prod(param_lengths), param_grid))\n",
    "        output_path = os.path.join(output_folder, \"{}_{}\".format(score_fn.__name__, index))\n",
    "        # construct the scoring function, with the parameters set to the current set\n",
    "        part_score_fn = functools.partial(score_fn, **param_grid) \n",
    "        # run and evaluate the scoring function\n",
    "        run_retrieval(output_path, part_score_fn)\n",
    "        metrics = trec.evaluate(test_file, output_path + \".run\", granular=False)\n",
    "        grid_results.append((param_grid, metrics))\n",
    "    return grid_results\n",
    "\n",
    "def print_grid(grid_results):\n",
    "    \"\"\"\n",
    "    Print out the grid results in a more readable format\n",
    "    :param grid: The grid results\n",
    "    \"\"\"\n",
    "    \n",
    "    for params, results in grid_results:\n",
    "        print(\"Params: \", params)\n",
    "        print(\"\\tResults: \", results)"
   ]
  },
  {
   "cell_type": "markdown",
   "metadata": {},
   "source": [
    "##### Parameter tuning for JM\n",
    "Jelinek-Mercer (explore different values of 𝛌 in the range [0.1, 0.5, 0.9])."
   ]
  },
  {
   "cell_type": "code",
   "execution_count": 29,
   "metadata": {},
   "outputs": [
    {
     "name": "stdout",
     "output_type": "stream",
     "text": [
      "Running grid eval on 10 possible combinations\n",
      "Running evaluation 1 of 10, with params: {'lmbd': 0.1}\n",
      "Retrieving using grid_results/jelinek_mercer_0\n",
      "Running evaluation 2 of 10, with params: {'lmbd': 0.18888888888888888}\n",
      "Retrieving using grid_results/jelinek_mercer_1\n",
      "Running evaluation 3 of 10, with params: {'lmbd': 0.2777777777777778}\n",
      "Retrieving using grid_results/jelinek_mercer_2\n",
      "Running evaluation 4 of 10, with params: {'lmbd': 0.3666666666666667}\n",
      "Retrieving using grid_results/jelinek_mercer_3\n",
      "Running evaluation 5 of 10, with params: {'lmbd': 0.4555555555555556}\n",
      "Retrieving using grid_results/jelinek_mercer_4\n",
      "Running evaluation 6 of 10, with params: {'lmbd': 0.5444444444444445}\n",
      "Retrieving using grid_results/jelinek_mercer_5\n",
      "Running evaluation 7 of 10, with params: {'lmbd': 0.6333333333333333}\n",
      "Retrieving using grid_results/jelinek_mercer_6\n",
      "Running evaluation 8 of 10, with params: {'lmbd': 0.7222222222222222}\n",
      "Retrieving using grid_results/jelinek_mercer_7\n",
      "Running evaluation 9 of 10, with params: {'lmbd': 0.8111111111111111}\n",
      "Retrieving using grid_results/jelinek_mercer_8\n",
      "Running evaluation 10 of 10, with params: {'lmbd': 0.9}\n",
      "Retrieving using grid_results/jelinek_mercer_9\n"
     ]
    }
   ],
   "source": [
    "grid_jm = {\n",
    "    \"lmbd\" : np.linspace(0.1, 0.9, 10)\n",
    "}\n",
    "jelinek_mercer_grid_results = grid_eval(grid_jm, jelinek_mercer, \"./ap_88_89/qrel_validation\", verbose=True)"
   ]
  },
  {
   "cell_type": "code",
   "execution_count": 198,
   "metadata": {},
   "outputs": [
    {
     "name": "stdout",
     "output_type": "stream",
     "text": [
      "Params:  {'lmbd': 0.10000000000000001}\n",
      "\tResults:  {'P_5': 0.12, 'map_cut_1000': 0.0789, 'ndcg_cut_10': 0.133, 'recall_1000': 0.2306}\n",
      "Params:  {'lmbd': 0.18888888888888888}\n",
      "\tResults:  {'P_5': 0.12, 'map_cut_1000': 0.0794, 'ndcg_cut_10': 0.1331, 'recall_1000': 0.2344}\n",
      "Params:  {'lmbd': 0.27777777777777779}\n",
      "\tResults:  {'P_5': 0.12, 'map_cut_1000': 0.0796, 'ndcg_cut_10': 0.1331, 'recall_1000': 0.2368}\n",
      "Params:  {'lmbd': 0.3666666666666667}\n",
      "\tResults:  {'P_5': 0.12, 'map_cut_1000': 0.0798, 'ndcg_cut_10': 0.1331, 'recall_1000': 0.2384}\n",
      "Params:  {'lmbd': 0.4555555555555556}\n",
      "\tResults:  {'P_5': 0.12, 'map_cut_1000': 0.0798, 'ndcg_cut_10': 0.1331, 'recall_1000': 0.2394}\n",
      "Params:  {'lmbd': 0.54444444444444451}\n",
      "\tResults:  {'P_5': 0.12, 'map_cut_1000': 0.0799, 'ndcg_cut_10': 0.1332, 'recall_1000': 0.2395}\n",
      "Params:  {'lmbd': 0.6333333333333333}\n",
      "\tResults:  {'P_5': 0.12, 'map_cut_1000': 0.0799, 'ndcg_cut_10': 0.1332, 'recall_1000': 0.2398}\n",
      "Params:  {'lmbd': 0.72222222222222221}\n",
      "\tResults:  {'P_5': 0.12, 'map_cut_1000': 0.0799, 'ndcg_cut_10': 0.1332, 'recall_1000': 0.2398}\n",
      "Params:  {'lmbd': 0.81111111111111112}\n",
      "\tResults:  {'P_5': 0.12, 'map_cut_1000': 0.08, 'ndcg_cut_10': 0.1332, 'recall_1000': 0.2405}\n",
      "Params:  {'lmbd': 0.90000000000000002}\n",
      "\tResults:  {'P_5': 0.12, 'map_cut_1000': 0.08, 'ndcg_cut_10': 0.1332, 'recall_1000': 0.2405}\n"
     ]
    }
   ],
   "source": [
    "print_grid(jelinek_mercer_grid_results)"
   ]
  },
  {
   "cell_type": "markdown",
   "metadata": {},
   "source": [
    "TODO: Justify final selection"
   ]
  },
  {
   "cell_type": "markdown",
   "metadata": {},
   "source": [
    "##### Parameter tuning for Dirichlet Prior\n",
    "Dirichlet Prior (explore different values of 𝛍 [500, 1000, 1500])"
   ]
  },
  {
   "cell_type": "code",
   "execution_count": 199,
   "metadata": {},
   "outputs": [
    {
     "name": "stdout",
     "output_type": "stream",
     "text": [
      "Running grid eval on 7 possible combinations\n",
      "Running evaluation 1 of 7, with params: {'mu': 300}\n",
      "Retrieving using grid_results/dirichlet_prior_0\n",
      "Running evaluation 2 of 7, with params: {'mu': 500}\n",
      "Retrieving using grid_results/dirichlet_prior_1\n",
      "Running evaluation 3 of 7, with params: {'mu': 700}\n",
      "Retrieving using grid_results/dirichlet_prior_2\n",
      "Running evaluation 4 of 7, with params: {'mu': 900}\n",
      "Retrieving using grid_results/dirichlet_prior_3\n",
      "Running evaluation 5 of 7, with params: {'mu': 1100}\n",
      "Retrieving using grid_results/dirichlet_prior_4\n",
      "Running evaluation 6 of 7, with params: {'mu': 1300}\n",
      "Retrieving using grid_results/dirichlet_prior_5\n",
      "Running evaluation 7 of 7, with params: {'mu': 1500}\n",
      "Retrieving using grid_results/dirichlet_prior_6\n"
     ]
    }
   ],
   "source": [
    "grid_dirichlet = {\n",
    "    \"mu\": np.arange(300, 1501, 200)\n",
    "}\n",
    "dirichlet_grid_results = grid_eval(grid_dirichlet, dirichlet_prior, \"./ap_88_89/qrel_validation\", verbose=True)"
   ]
  },
  {
   "cell_type": "code",
   "execution_count": 200,
   "metadata": {},
   "outputs": [
    {
     "name": "stdout",
     "output_type": "stream",
     "text": [
      "Params:  {'mu': 300}\n",
      "\tResults:  {'P_5': 0.1133, 'map_cut_1000': 0.0845, 'ndcg_cut_10': 0.1466, 'recall_1000': 0.2511}\n",
      "Params:  {'mu': 500}\n",
      "\tResults:  {'P_5': 0.1333, 'map_cut_1000': 0.0838, 'ndcg_cut_10': 0.1467, 'recall_1000': 0.2513}\n",
      "Params:  {'mu': 700}\n",
      "\tResults:  {'P_5': 0.1333, 'map_cut_1000': 0.0831, 'ndcg_cut_10': 0.1438, 'recall_1000': 0.2492}\n",
      "Params:  {'mu': 900}\n",
      "\tResults:  {'P_5': 0.1267, 'map_cut_1000': 0.0827, 'ndcg_cut_10': 0.1389, 'recall_1000': 0.2483}\n",
      "Params:  {'mu': 1100}\n",
      "\tResults:  {'P_5': 0.1267, 'map_cut_1000': 0.0824, 'ndcg_cut_10': 0.1369, 'recall_1000': 0.2478}\n",
      "Params:  {'mu': 1300}\n",
      "\tResults:  {'P_5': 0.1333, 'map_cut_1000': 0.0822, 'ndcg_cut_10': 0.1371, 'recall_1000': 0.2477}\n",
      "Params:  {'mu': 1500}\n",
      "\tResults:  {'P_5': 0.1333, 'map_cut_1000': 0.0821, 'ndcg_cut_10': 0.1342, 'recall_1000': 0.2466}\n"
     ]
    }
   ],
   "source": [
    "print_grid(dirichlet_grid_results)"
   ]
  },
  {
   "cell_type": "markdown",
   "metadata": {},
   "source": [
    "TODO: Justify selection"
   ]
  },
  {
   "cell_type": "markdown",
   "metadata": {},
   "source": [
    "##### Parameter tuning for Absolute discounting\n",
    "Absolute discounting (explore different values of 𝛅 in the range [0.1, 0.5, 0.9]). [5 points]"
   ]
  },
  {
   "cell_type": "code",
   "execution_count": 201,
   "metadata": {},
   "outputs": [
    {
     "name": "stdout",
     "output_type": "stream",
     "text": [
      "Running grid eval on 10 possible combinations\n",
      "Running evaluation 1 of 10, with params: {'delta': 0.10000000000000001}\n",
      "Retrieving using grid_results/absolute_discounting_0\n",
      "Running evaluation 2 of 10, with params: {'delta': 0.18888888888888888}\n",
      "Retrieving using grid_results/absolute_discounting_1\n",
      "Running evaluation 3 of 10, with params: {'delta': 0.27777777777777779}\n",
      "Retrieving using grid_results/absolute_discounting_2\n",
      "Running evaluation 4 of 10, with params: {'delta': 0.3666666666666667}\n",
      "Retrieving using grid_results/absolute_discounting_3\n",
      "Running evaluation 5 of 10, with params: {'delta': 0.4555555555555556}\n",
      "Retrieving using grid_results/absolute_discounting_4\n",
      "Running evaluation 6 of 10, with params: {'delta': 0.54444444444444451}\n",
      "Retrieving using grid_results/absolute_discounting_5\n",
      "Running evaluation 7 of 10, with params: {'delta': 0.6333333333333333}\n",
      "Retrieving using grid_results/absolute_discounting_6\n",
      "Running evaluation 8 of 10, with params: {'delta': 0.72222222222222221}\n",
      "Retrieving using grid_results/absolute_discounting_7\n",
      "Running evaluation 9 of 10, with params: {'delta': 0.81111111111111112}\n",
      "Retrieving using grid_results/absolute_discounting_8\n",
      "Running evaluation 10 of 10, with params: {'delta': 0.90000000000000002}\n",
      "Retrieving using grid_results/absolute_discounting_9\n"
     ]
    }
   ],
   "source": [
    "grid_abs_discounting = {\n",
    "    \"delta\": np.linspace(0.1, 0.9, 10)\n",
    "}\n",
    "abs_discounting_grid = grid_eval(grid_abs_discounting, absolute_discounting, \n",
    "                                 \"./ap_88_89/qrel_validation\", verbose=True)"
   ]
  },
  {
   "cell_type": "code",
   "execution_count": 202,
   "metadata": {},
   "outputs": [
    {
     "name": "stdout",
     "output_type": "stream",
     "text": [
      "Params:  {'delta': 0.10000000000000001}\n",
      "\tResults:  {'P_5': 0.12, 'map_cut_1000': 0.0806, 'ndcg_cut_10': 0.1313, 'recall_1000': 0.2411}\n",
      "Params:  {'delta': 0.18888888888888888}\n",
      "\tResults:  {'P_5': 0.12, 'map_cut_1000': 0.0811, 'ndcg_cut_10': 0.1316, 'recall_1000': 0.242}\n",
      "Params:  {'delta': 0.27777777777777779}\n",
      "\tResults:  {'P_5': 0.12, 'map_cut_1000': 0.0817, 'ndcg_cut_10': 0.1313, 'recall_1000': 0.2423}\n",
      "Params:  {'delta': 0.3666666666666667}\n",
      "\tResults:  {'P_5': 0.12, 'map_cut_1000': 0.0822, 'ndcg_cut_10': 0.1335, 'recall_1000': 0.2437}\n",
      "Params:  {'delta': 0.4555555555555556}\n",
      "\tResults:  {'P_5': 0.12, 'map_cut_1000': 0.0827, 'ndcg_cut_10': 0.1308, 'recall_1000': 0.2454}\n",
      "Params:  {'delta': 0.54444444444444451}\n",
      "\tResults:  {'P_5': 0.12, 'map_cut_1000': 0.083, 'ndcg_cut_10': 0.1312, 'recall_1000': 0.246}\n",
      "Params:  {'delta': 0.6333333333333333}\n",
      "\tResults:  {'P_5': 0.12, 'map_cut_1000': 0.0835, 'ndcg_cut_10': 0.1312, 'recall_1000': 0.2477}\n",
      "Params:  {'delta': 0.72222222222222221}\n",
      "\tResults:  {'P_5': 0.12, 'map_cut_1000': 0.0838, 'ndcg_cut_10': 0.1309, 'recall_1000': 0.2479}\n",
      "Params:  {'delta': 0.81111111111111112}\n",
      "\tResults:  {'P_5': 0.1267, 'map_cut_1000': 0.084, 'ndcg_cut_10': 0.1311, 'recall_1000': 0.248}\n",
      "Params:  {'delta': 0.90000000000000002}\n",
      "\tResults:  {'P_5': 0.1267, 'map_cut_1000': 0.0843, 'ndcg_cut_10': 0.1313, 'recall_1000': 0.2488}\n"
     ]
    }
   ],
   "source": [
    "print_grid(abs_discounting_grid)"
   ]
  },
  {
   "cell_type": "markdown",
   "metadata": {},
   "source": [
    "TODO: Justify selection"
   ]
  },
  {
   "cell_type": "markdown",
   "metadata": {},
   "source": [
    "### Statistical Significance Tests\n",
    "\n",
    "TODO: Marco, do your magic, broer"
   ]
  },
  {
   "cell_type": "code",
   "execution_count": 27,
   "metadata": {},
   "outputs": [
    {
     "name": "stdout",
     "output_type": "stream",
     "text": [
      "Extracted results!\n"
     ]
    }
   ],
   "source": [
    "results_tfidf = trec.evaluate(\"./ap_88_89/qrel_test\", \"./tfidf.run\")\n",
    "results_dirichlet = trec.evaluate(\"./ap_88_89/qrel_test\", \"./dirichlet_prior.run\")\n",
    "results_abs_disc = trec.evaluate(\"./ap_88_89/qrel_test\", \"./absolute_discounting.run\")\n",
    "results_bm25 = trec.evaluate(\"./ap_88_89/qrel_test\", \"./bm25.run\")\n",
    "results_jelinek = trec.evaluate(\"./ap_88_89/qrel_test\", \"./jelinek_mercer.run\")\n",
    "\n",
    "# remove results for 'all', since we are performing analysis only on a query level\n",
    "results_dirichlet.pop('all')\n",
    "results_tfidf.pop('all')\n",
    "results_abs_disc.pop('all')\n",
    "results_bm25.pop('all')\n",
    "results_jelinek.pop('all')\n",
    "\n",
    "print(\"Extracted results!\")\n",
    "#TODO: ADD PLM"
   ]
  },
  {
   "cell_type": "code",
   "execution_count": 208,
   "metadata": {},
   "outputs": [],
   "source": [
    "maps_dirichlet = []\n",
    "maps_tfidf = []\n",
    "maps_abs_disc = []\n",
    "maps_bm25 = []\n",
    "maps_jelinek = []\n",
    "\n",
    "#print(len(results_dirichlet))\n",
    "for q in results_dirichlet:\n",
    "    map_key = 'map_cut_1000'\n",
    "    maps_dirichlet.append(results_dirichlet[q][map_key])    \n",
    "    maps_tfidf.append(results_tfidf[q][map_key])\n",
    "    maps_abs_disc.append(results_abs_disc[q][map_key])\n",
    "    maps_bm25.append(results_bm25[q][map_key])\n",
    "    maps_jelinek.append(results_jelinek[q][map_key])"
   ]
  },
  {
   "cell_type": "code",
   "execution_count": 209,
   "metadata": {
    "collapsed": true
   },
   "outputs": [],
   "source": [
    "def toss_coin(heads = 0.5):\n",
    "    # head = True, Tails is False\n",
    "    return True if random.random() < heads else False\n",
    "\n",
    "def bonferroni(groups, alpha = 0.05):\n",
    "    comparisons = math.factorial(groups)/(math.factorial(2)*math.factorial(groups - 2))\n",
    "    return alpha/comparisons"
   ]
  },
  {
   "cell_type": "code",
   "execution_count": 211,
   "metadata": {},
   "outputs": [
    {
     "name": "stdout",
     "output_type": "stream",
     "text": [
      "[[ 4.  5.  2.  3.  5.  3.  2.  4.  5.  4.]\n",
      " [ 3.  2.  5.  4.  2.  4.  5.  3.  2.  3.]]\n",
      "0.545454545455 0.598697004673\n"
     ]
    }
   ],
   "source": [
    "def randomiser(list_a, list_b, N = 10):\n",
    "    \"\"\"\n",
    "    TODO\n",
    "    \"\"\"\n",
    "    assert len(list_a) == len(list_b)\n",
    "    for i in range(N):\n",
    "        new_a, new_b = [], []\n",
    "        \n",
    "        for index in range(len(list_a)):\n",
    "            if toss_coin():\n",
    "                # don't swap, copy from source\n",
    "                new_a.append(list_a[index])\n",
    "                new_b.append(list_b[index])\n",
    "            else:\n",
    "                new_a.append(list_b[index])\n",
    "                new_b.append(list_a[index])\n",
    "        mean_new_a = np.mean(new_a)\n",
    "        mean_new_b = np.mean(new_b)\n",
    "        \n",
    "        yield mean_new_a, mean_new_b\n",
    "        \n",
    "a = np.transpose(list(randomiser([1,2,3],[4,5,6])))\n",
    "print(a)\n",
    "z, p = stats.ttest_rel(a[0],a[1])\n",
    "\n",
    "print(z,p)"
   ]
  },
  {
   "cell_type": "code",
   "execution_count": 213,
   "metadata": {},
   "outputs": [
    {
     "name": "stdout",
     "output_type": "stream",
     "text": [
      "0.005\n",
      "maps_dirichlet maps_tfidf Ttest_relResult(statistic=0.26875524605090523, pvalue=0.79417722697117077)\n",
      "maps_dirichlet maps_abs_disc Ttest_relResult(statistic=-0.9014421904276676, pvalue=0.39083836866444222)\n",
      "maps_dirichlet maps_bm25 Ttest_relResult(statistic=1.1126273285578803, pvalue=0.2947026786841031)\n",
      "maps_dirichlet maps_jelinek Ttest_relResult(statistic=-1.4314906173928534, pvalue=0.18608536456317629)\n",
      "maps_tfidf maps_abs_disc Ttest_relResult(statistic=-1.9971587021598021, pvalue=0.076904273095193973)\n",
      "maps_tfidf maps_bm25 Ttest_relResult(statistic=0.53981793581522541, pvalue=0.60242102020451549)\n",
      "maps_tfidf maps_jelinek Ttest_relResult(statistic=2.6465689004609092, pvalue=0.026625521804183164)\n",
      "maps_abs_disc maps_bm25 Ttest_relResult(statistic=0.48649190931604819, pvalue=0.63824557159025497)\n",
      "maps_abs_disc maps_jelinek Ttest_relResult(statistic=0.40980872119617606, pvalue=0.69152886534054736)\n",
      "maps_bm25 maps_jelinek Ttest_relResult(statistic=2.1317560689824315, pvalue=0.061844694107822014)\n"
     ]
    }
   ],
   "source": [
    "import itertools\n",
    "maps = ['maps_dirichlet', 'maps_tfidf', 'maps_abs_disc', 'maps_bm25', 'maps_jelinek']\n",
    "values_map = {'maps_dirichlet':maps_dirichlet, 'maps_tfidf':maps_tfidf, 'maps_abs_disc':maps_abs_disc, 'maps_bm25':maps_bm25, 'maps_jelinek':maps_jelinek}\n",
    "comparison_pairs = itertools.combinations(maps,2)\n",
    "\n",
    "print(bonferroni(5)) #TODO: ADD PLM\n",
    "\n",
    "for x,y in comparison_pairs:\n",
    "    if x != y:\n",
    "        a = np.transpose(list(randomiser(values_map[x],values_map[y])))\n",
    "        print(x, y, stats.ttest_rel(a[0],a[1]))\n",
    "        "
   ]
  },
  {
   "cell_type": "markdown",
   "metadata": {},
   "source": [
    "### Task 2: Latent Semantic Models (LSMs) [15 points] ###\n",
    "\n",
    "In this task you will experiment with applying distributional semantics methods ([LSI](http://lsa3.colorado.edu/papers/JASIS.lsi.90.pdf) **[5 points]** and [LDA](https://www.cs.princeton.edu/~blei/papers/BleiNgJordan2003.pdf) **[5 points]**) for retrieval.\n",
    "\n",
    "You do not need to implement LSI or LDA on your own. Instead, you can use [gensim](http://radimrehurek.com/gensim/index.html). An example on how to integrate Pyndri with Gensim for word2vec can be found [here](https://github.com/cvangysel/pyndri/blob/master/examples/word2vec.py). For the remaining latent vector space models, you will need to implement connector classes (such as `IndriSentences`) by yourself.\n",
    "\n",
    "In order to use a latent semantic model for retrieval, you need to:\n",
    "   * build a representation of the query **q**,\n",
    "   * build a representation of the document **d**,\n",
    "   * calculate the similarity between **q** and **d** (e.g., cosine similarity, KL-divergence).\n",
    "     \n",
    "The exact implementation here depends on the latent semantic model you are using. \n",
    "   \n",
    "Each of these LSMs come with various hyperparameters to tune. Make a choice on the parameters, and explicitly mention the reasons that led you to these decisions. You can use the validation set to optimize hyper parameters you see fit; motivate your decisions. In addition, mention clearly how the query/document representations were constructed for each LSM and explain your choices.\n",
    "\n",
    "In this experiment, you will first obtain an initial top-1000 ranking for each query using TF-IDF in **Task 1**, and then re-rank the documents using the LSMs. Use TREC Eval to obtain the results and report on `NDCG@10`, Mean Average Precision (`MAP@1000`), `Precision@5` and `Recall@1000`.\n",
    "\n",
    "Perform significance testing **[5 points]** (similar as in Task 1) in the class of semantic matching methods."
   ]
  },
  {
   "cell_type": "code",
   "execution_count": 32,
   "metadata": {},
   "outputs": [],
   "source": [
    "def document_token_iterator():\n",
    "    \"\"\"\n",
    "    A generator to iterate over all the indexed documents and return the tokens.\n",
    "    \"\"\"\n",
    "    \n",
    "    for int_doc_id in range(index.document_base(), index.maximum_document()):\n",
    "        ext_doc_id, doc_token_ids = index.document(int_doc_id)\n",
    "        # exclude stopwords and return the word itself \n",
    "        # so that we can interpret some of the model's output later on\n",
    "        ll = [id2token[token_id].lower() for token_id in doc_token_ids if token_id > 0]\n",
    "        yield ll"
   ]
  },
  {
   "cell_type": "code",
   "execution_count": 33,
   "metadata": {},
   "outputs": [
    {
     "name": "stdout",
     "output_type": "stream",
     "text": [
      "Loading existing dictionary\n"
     ]
    }
   ],
   "source": [
    "def get_dictionary(dict_file_name = \"./index.dict\"):\n",
    "    \"\"\"\n",
    "    Construct a gensim dictionary from the data, and save it. If this is already done, \n",
    "    it loads the existing file and returns it\n",
    "    \n",
    "    :param dict_file_name: The path to persist the dictionary to\n",
    "    \"\"\"\n",
    "    \n",
    "    if os.path.exists(dict_file_name):\n",
    "        print(\"Loading existing dictionary\")\n",
    "        return gensim.corpora.Dictionary.load(dict_file_name)\n",
    "    \n",
    "    print(\"Creating dictionary, and saving...\")\n",
    "    gensim_dict = gensim.corpora.Dictionary(document_token_iterator())\n",
    "    gensim_dict.save(dict_file_name)\n",
    "    return gensim_dict\n",
    "\n",
    "gensim_dict = get_dictionary()"
   ]
  },
  {
   "cell_type": "code",
   "execution_count": 34,
   "metadata": {},
   "outputs": [
    {
     "name": "stdout",
     "output_type": "stream",
     "text": [
      "Loading existing corpus\n"
     ]
    }
   ],
   "source": [
    "def get_corpus(gensim_dict, corpus_file=\"ir1.mm\"):\n",
    "    \"\"\"\n",
    "    Construct a gensim MmCorpus from the data, and save it. If this is already done, \n",
    "    it loads the existing file and returns it\n",
    "    \n",
    "    :param dict_file_name: The path to persist the MmCorpus to\n",
    "    \"\"\"\n",
    "    \n",
    "    if os.path.exists(corpus_file):\n",
    "        print(\"Loading existing corpus\")\n",
    "        return gensim.corpora.MmCorpus(corpus_file)\n",
    "    \n",
    "    print(\"Creating corpus, and saving....\")\n",
    "    gensim.corpora.MmCorpus.serialize(corpus_file, (gensim_dict.doc2bow(doc) for doc in document_token_iterator()))\n",
    "    return gensim.corpora.MmCorpus(corpus_file)\n",
    "\n",
    "gensim_corpus = get_corpus(gensim_dict)"
   ]
  },
  {
   "cell_type": "code",
   "execution_count": 45,
   "metadata": {},
   "outputs": [
    {
     "name": "stdout",
     "output_type": "stream",
     "text": [
      "Loading existing model from  ./models/lsi_model_256\n"
     ]
    }
   ],
   "source": [
    "def get_LSI_model(num_topics=256, directory=\"./models/\"):\n",
    "    \"\"\"\n",
    "    Construct a LSI model and save it. If it already exists, load it.\n",
    "    :param num_topics: The number of topics to train the model on\n",
    "    :param directory: The directory to save the model to / load the model from\n",
    "    \n",
    "    \"\"\"\n",
    "    model_path = os.path.join(directory, \"lsi_model_{}\".format(num_topics))\n",
    "    \n",
    "    if os.path.exists(model_path):\n",
    "        print(\"Loading existing model from \", model_path)\n",
    "        return gensim.models.lsimodel.LsiModel.load(model_path)\n",
    "    \n",
    "    print(\"Creating LSI model, and saving to \", model_path)\n",
    "    lsi_model = gensim.models.lsimodel.LsiModel(corpus=gensim_corpus, id2word=gensim_dict, num_topics=num_topics)\n",
    "    lsi_model.save(model_path)\n",
    "    return lsi_model\n",
    "\n",
    "lsi_model = get_LSI_model(num_topics=256)"
   ]
  },
  {
   "cell_type": "code",
   "execution_count": 46,
   "metadata": {},
   "outputs": [
    {
     "name": "stdout",
     "output_type": "stream",
     "text": [
      "Creating LSI model, and saving to  ./models/lda_model_256\n"
     ]
    },
    {
     "name": "stderr",
     "output_type": "stream",
     "text": [
      "/media/samarth/Data/workspaces/uva/ir1/lib/python3.5/site-packages/gensim/models/ldamodel.py:802: RuntimeWarning: divide by zero encountered in log\n",
      "  diff = np.log(self.expElogbeta)\n"
     ]
    }
   ],
   "source": [
    "def get_LDA_model(num_topics=256, directory=\"./models/\"):\n",
    "    \"\"\"\n",
    "    Construct a LDA model and save it. If it already exists, load it.\n",
    "    :param num_topics: The number of topics to train the model on\n",
    "    :param directory: The directory to save the model to / load the model from\n",
    "    \n",
    "    \"\"\"\n",
    "    model_path = os.path.join(directory, \"lda_model_{}\".format(num_topics))\n",
    "    \n",
    "    if os.path.exists(model_path):\n",
    "        print(\"Loading existing model from \", model_path)\n",
    "        return gensim.models.LdaModel.load(model_path)\n",
    "    \n",
    "    print(\"Creating LDA model, and saving to \", model_path)\n",
    "    lda_model = gensim.models.LdaModel(corpus=gensim_corpus, id2word=gensim_dict, num_topics=num_topics)\n",
    "    lda_model.save(model_path)\n",
    "    return lda_model\n",
    "\n",
    "lda_model = get_LDA_model(num_topics=256)"
   ]
  },
  {
   "cell_type": "code",
   "execution_count": 37,
   "metadata": {
    "scrolled": true
   },
   "outputs": [
    {
     "data": {
      "text/plain": [
       "[(0,\n",
       "  '0.296*\"percent\" + 0.200*\"new\" + 0.200*\"1\" + 0.177*\"million\" + 0.144*\"two\"'),\n",
       " (1,\n",
       "  '-0.657*\"percent\" + -0.246*\"0\" + -0.211*\"1\" + -0.134*\"2\" + 0.115*\"president\"'),\n",
       " (2,\n",
       "  '-0.847*\"y\" + -0.481*\"n\" + -0.120*\"democrats\" + -0.118*\"republicans\" + -0.062*\"x\"'),\n",
       " (3,\n",
       "  '-0.496*\"percent\" + 0.339*\"1\" + 0.295*\"million\" + -0.208*\"bush\" + 0.179*\"cents\"'),\n",
       " (4,\n",
       "  '-0.473*\"bush\" + -0.273*\"dukakis\" + 0.219*\"police\" + -0.215*\"president\" + 0.155*\"000\"')]"
      ]
     },
     "execution_count": 37,
     "metadata": {},
     "output_type": "execute_result"
    }
   ],
   "source": [
    "# show some topics\n",
    "lsi_model.show_topics(num_topics=5, num_words=5)"
   ]
  },
  {
   "cell_type": "code",
   "execution_count": 47,
   "metadata": {},
   "outputs": [
    {
     "data": {
      "text/plain": [
       "[(4,\n",
       "  '0.093*\"bus\" + 0.055*\"car\" + 0.051*\"accident\" + 0.044*\"truck\" + 0.043*\"driver\"'),\n",
       " (88,\n",
       "  '0.043*\"owen\" + 0.037*\"seats\" + 0.037*\"presser\" + 0.036*\"woods\" + 0.030*\"stark\"'),\n",
       " (117,\n",
       "  '0.101*\"noriega\" + 0.077*\"panama\" + 0.035*\"panamanian\" + 0.028*\"manuel\" + 0.024*\"antonio\"'),\n",
       " (34,\n",
       "  '0.118*\"aids\" + 0.058*\"disease\" + 0.045*\"virus\" + 0.040*\"cancer\" + 0.040*\"blood\"'),\n",
       " (164,\n",
       "  '0.165*\"drug\" + 0.066*\"drugs\" + 0.022*\"cocaine\" + 0.018*\"enforcement\" + 0.015*\"marijuana\"')]"
      ]
     },
     "execution_count": 47,
     "metadata": {},
     "output_type": "execute_result"
    }
   ],
   "source": [
    "lda_model.show_topics(num_topics=5, num_words=5)"
   ]
  },
  {
   "cell_type": "code",
   "execution_count": 39,
   "metadata": {},
   "outputs": [],
   "source": [
    "from scipy.spatial.distance import cosine as cosine_distance\n",
    "cosine_distance_vectorized = np.vectorize(cosine_distance)"
   ]
  },
  {
   "cell_type": "code",
   "execution_count": 48,
   "metadata": {},
   "outputs": [],
   "source": [
    "class LSMScorer:\n",
    "    \"\"\"\n",
    "    A scorer for a LSM \n",
    "    \"\"\"\n",
    "    \n",
    "    def __init__(self, corpus, dictionary, model):\n",
    "        \"\"\"\n",
    "        Initialize a LSM scorer\n",
    "        \n",
    "        :param corpus: The gensim corpus instance\n",
    "        :param dictionary: The gensim dictionary instance\n",
    "        :param model: The LSM \n",
    "        \"\"\"\n",
    "        \n",
    "        self.model = model\n",
    "        self.corpus = corpus\n",
    "        self.dict = dictionary\n",
    "        \n",
    "        # a matrix holding all the document vectors\n",
    "        self.document_vectors = np.zeros((num_documents, self.model.num_topics))\n",
    "        # index (of the matrix above) -> external doc id\n",
    "        self.document_index = []\n",
    "        \n",
    "        # pre-index the document vectors for faster computation\n",
    "        for idx, int_doc_id in enumerate(range(index.document_base(), index.maximum_document())):\n",
    "            ext_doc_id, doc_token_ids = index.document(int_doc_id)\n",
    "            document_tokens = [id2token[token_id].lower() for token_id in doc_token_ids if token_id > 0]\n",
    "            self.document_index.append(ext_doc_id)\n",
    "            self.document_vectors[idx] = self._get_vector(document_tokens)    \n",
    "    \n",
    "    def _get_vector(self, tokens):\n",
    "        \"\"\"\n",
    "        Construct a vector representing the topics from the LSM \n",
    "        \n",
    "        :param tokens: The list of tokens (from the corpus)\n",
    "        \"\"\"\n",
    "        \n",
    "        vector = np.zeros(self.model.num_topics)\n",
    "        # TODO why isn't the size always = num_topics? It's super strange! \n",
    "        # TODO check back why this is happening. it's a serious problem\n",
    "        for topic, value in self.model[self.dict.doc2bow(tokens)]:\n",
    "            vector[topic] = value\n",
    "        \n",
    "        return vector\n",
    "    \n",
    "    def score(self, query_tokens):\n",
    "        \"\"\"\n",
    "        Score a particular query against all documents\n",
    "        \n",
    "        :param query_tokens: A list of tokens (strings)\n",
    "        \"\"\"\n",
    "        \n",
    "        # TODO order = 1 same, -1 not same\n",
    "        # TODO cehck others as well\n",
    "        # TODO some values are \n",
    "        # TODO have to use JS divergence\n",
    "        # convert to a vector\n",
    "        query_vector = self._get_vector(query_tokens)\n",
    "        # compute distances - using the vectorized form of the cosine distance\n",
    "        distances = np.apply_along_axis(lambda _: cosine_distance(query_vector, _), 1, self.document_vectors)\n",
    "        results = list(zip(distances, self.document_index))\n",
    "        results.sort(key=lambda _: -_[0])\n",
    "        return results\n",
    "\n",
    "lsi_scorer = LSMScorer(gensim_corpus, gensim_dict, lsi_model)\n",
    "lda_scorer = LSMScorer(gensim_corpus, gensim_dict, lda_model)"
   ]
  },
  {
   "cell_type": "code",
   "execution_count": 56,
   "metadata": {},
   "outputs": [],
   "source": [
    "import pickle"
   ]
  },
  {
   "cell_type": "code",
   "execution_count": 64,
   "metadata": {},
   "outputs": [],
   "source": [
    "pickle.dump(lsi_scorer, open(\"models/lsi_scorer_256.pkl\", \"wb\"))\n",
    "pickle.dump(lda_scorer, open(\"./models/lda_scorer_256.pkl\", \"wb\"))"
   ]
  },
  {
   "cell_type": "code",
   "execution_count": 66,
   "metadata": {},
   "outputs": [],
   "source": [
    "def run_retrieval_lsm(model_name, scorer):\n",
    "    \"\"\"\n",
    "    Runs a retrieval method for all the queries and writes the TREC-friendly results in a file.\n",
    "    \n",
    "    :param model_name: the name of the model (a string)\n",
    "    :param scorer: the LSMScorer \n",
    "    \"\"\"\n",
    "    \n",
    "    run_out_path = '{}.run'.format(model_name)\n",
    "\n",
    "    #if os.path.exists(run_out_path):\n",
    "    #    return\n",
    "\n",
    "    retrieval_start_time = time.time()\n",
    "\n",
    "    print('Retrieving using', model_name)\n",
    "    \n",
    "    data = {}\n",
    "    start_time = time.time()\n",
    "    for index, (query_id, query_tokens) in enumerate(tokenized_queries.items()):\n",
    "        query_tokens = [id2token[token_id].lower() for token_id in query_tokens if token_id > 0]\n",
    "        data[query_id] = scorer.score(query_tokens)\n",
    "        if (index + 1) % 10 == 0:\n",
    "            print(\"\\t\", index + 1 , \"done.\", time.time() - start_time, \"elapsed\" )\n",
    "\n",
    "    with open(run_out_path, 'w') as f_out:\n",
    "        write_run(\n",
    "            model_name=model_name,\n",
    "            data=data,\n",
    "            out_f=f_out,\n",
    "            max_objects_per_query=1000)\n"
   ]
  },
  {
   "cell_type": "code",
   "execution_count": 67,
   "metadata": {},
   "outputs": [
    {
     "name": "stdout",
     "output_type": "stream",
     "text": [
      "Retrieving using lsi\n"
     ]
    },
    {
     "name": "stderr",
     "output_type": "stream",
     "text": [
      "/media/samarth/Data/workspaces/uva/ir1/lib/python3.5/site-packages/scipy/spatial/distance.py:644: RuntimeWarning: invalid value encountered in double_scalars\n",
      "  dist = 1.0 - uv / np.sqrt(uu * vv)\n"
     ]
    },
    {
     "name": "stdout",
     "output_type": "stream",
     "text": [
      "\t 10 done. 52.419352531433105 elapsed\n",
      "\t 20 done. 103.11874675750732 elapsed\n",
      "\t 30 done. 153.9996359348297 elapsed\n",
      "\t 40 done. 204.7859013080597 elapsed\n",
      "\t 50 done. 255.50894355773926 elapsed\n",
      "\t 60 done. 306.105993270874 elapsed\n",
      "\t 70 done. 357.0703856945038 elapsed\n",
      "\t 80 done. 407.85916686058044 elapsed\n",
      "\t 90 done. 458.73224091529846 elapsed\n",
      "\t 100 done. 509.33822655677795 elapsed\n",
      "\t 110 done. 559.9997961521149 elapsed\n",
      "\t 120 done. 610.8877918720245 elapsed\n",
      "\t 130 done. 661.462331533432 elapsed\n",
      "\t 140 done. 712.1045498847961 elapsed\n",
      "\t 150 done. 763.1232891082764 elapsed\n",
      "Retrieving using lda\n",
      "\t 10 done. 50.36940240859985 elapsed\n",
      "\t 20 done. 100.70504212379456 elapsed\n",
      "\t 30 done. 150.79329085350037 elapsed\n",
      "\t 40 done. 200.81410121917725 elapsed\n",
      "\t 50 done. 250.86818647384644 elapsed\n",
      "\t 60 done. 301.0798819065094 elapsed\n",
      "\t 70 done. 351.4016239643097 elapsed\n",
      "\t 80 done. 401.3671877384186 elapsed\n",
      "\t 90 done. 450.4482033252716 elapsed\n",
      "\t 100 done. 499.49910974502563 elapsed\n",
      "\t 110 done. 548.6767764091492 elapsed\n",
      "\t 120 done. 598.114645242691 elapsed\n",
      "\t 130 done. 647.7120673656464 elapsed\n",
      "\t 140 done. 697.2219405174255 elapsed\n",
      "\t 150 done. 746.7489800453186 elapsed\n"
     ]
    }
   ],
   "source": [
    "run_retrieval_lsm(\"lsi\", lsi_scorer)\n",
    "run_retrieval_lsm(\"lda\", lda_scorer)"
   ]
  },
  {
   "cell_type": "code",
   "execution_count": 68,
   "metadata": {},
   "outputs": [
    {
     "data": {
      "text/plain": [
       "{'P_5': 0.0, 'map_cut_1000': 0.0, 'ndcg_cut_10': 0.0, 'recall_1000': 0.0}"
      ]
     },
     "execution_count": 68,
     "metadata": {},
     "output_type": "execute_result"
    }
   ],
   "source": [
    "trec.evaluate(\"./ap_88_89/qrel_validation\", \"lsi.run\", granular=False)"
   ]
  },
  {
   "cell_type": "code",
   "execution_count": 69,
   "metadata": {},
   "outputs": [
    {
     "data": {
      "text/plain": [
       "{'P_5': 0.0, 'map_cut_1000': 0.0, 'ndcg_cut_10': 0.0, 'recall_1000': 0.0005}"
      ]
     },
     "execution_count": 69,
     "metadata": {},
     "output_type": "execute_result"
    }
   ],
   "source": [
    "trec.evaluate(\"./ap_88_89/qrel_validation\", \"lda.run\", granular=False)"
   ]
  },
  {
   "cell_type": "markdown",
   "metadata": {},
   "source": [
    "### Task 3:  Word embeddings for ranking [20 points] (open-ended) ###\n",
    "\n",
    "First create word embeddings on the corpus we provided using [word2vec](http://arxiv.org/abs/1411.2738) -- [gensim implementation](https://radimrehurek.com/gensim/models/word2vec.html). You should extract the indexed documents using pyndri and provide them to gensim for training a model (see example [here](https://github.com/nickvosk/pyndri/blob/master/examples/word2vec.py)).\n",
    "   \n",
    "This is an open-ended task. It is left up you to decide how you will combine word embeddings to derive query and document representations. Note that since we provide the implementation for training word2vec, you will be graded based on your creativity on combining word embeddings for building query and document representations.\n",
    "\n",
    "Note: If you want to experiment with pre-trained word embeddings on a different corpus, you can use the word embeddings we provide alongside the assignment (./data/reduced_vectors_google.txt.tar.gz). These are the [google word2vec word embeddings](https://code.google.com/archive/p/word2vec/), reduced to only the words that appear in the document collection we use in this assignment."
   ]
  },
  {
   "cell_type": "code",
   "execution_count": 170,
   "metadata": {},
   "outputs": [
    {
     "name": "stdout",
     "output_type": "stream",
     "text": [
      "<pyndri.Index of 164597 documents>\n",
      "Loading vocabulary.\n",
      "Initializing word2vec.\n",
      "Constructing word2vec vocabulary.\n",
      "Epoch %d 1\n"
     ]
    },
    {
     "ename": "KeyboardInterrupt",
     "evalue": "",
     "output_type": "error",
     "traceback": [
      "\u001b[0;31m---------------------------------------------------------------------------\u001b[0m",
      "\u001b[0;31mKeyboardInterrupt\u001b[0m                         Traceback (most recent call last)",
      "\u001b[0;32m<ipython-input-170-5ccf238c643c>\u001b[0m in \u001b[0;36m<module>\u001b[0;34m()\u001b[0m\n\u001b[1;32m     43\u001b[0m     '''\n\u001b[1;32m     44\u001b[0m     \u001b[0;31m#model.train(sentences)\u001b[0m\u001b[0;34m\u001b[0m\u001b[0;34m\u001b[0m\u001b[0m\n\u001b[0;32m---> 45\u001b[0;31m     \u001b[0mmodel\u001b[0m\u001b[0;34m.\u001b[0m\u001b[0mtrain\u001b[0m\u001b[0;34m(\u001b[0m\u001b[0msentences\u001b[0m\u001b[0;34m,\u001b[0m \u001b[0mtotal_examples\u001b[0m\u001b[0;34m=\u001b[0m\u001b[0mmodel\u001b[0m\u001b[0;34m.\u001b[0m\u001b[0mcorpus_count\u001b[0m\u001b[0;34m,\u001b[0m \u001b[0mepochs\u001b[0m\u001b[0;34m=\u001b[0m\u001b[0mmodel\u001b[0m\u001b[0;34m.\u001b[0m\u001b[0miter\u001b[0m\u001b[0;34m)\u001b[0m\u001b[0;34m\u001b[0m\u001b[0m\n\u001b[0m\u001b[1;32m     46\u001b[0m     \u001b[0mmodels\u001b[0m\u001b[0;34m.\u001b[0m\u001b[0mappend\u001b[0m\u001b[0;34m(\u001b[0m\u001b[0mmodel\u001b[0m\u001b[0;34m)\u001b[0m\u001b[0;34m\u001b[0m\u001b[0m\n\u001b[1;32m     47\u001b[0m \u001b[0;34m\u001b[0m\u001b[0m\n",
      "\u001b[0;32m~/anaconda3/envs/pyir/lib/python3.5/site-packages/gensim-3.2.0-py3.5-linux-x86_64.egg/gensim/models/word2vec.py\u001b[0m in \u001b[0;36mtrain\u001b[0;34m(self, sentences, total_examples, total_words, epochs, start_alpha, end_alpha, word_count, queue_factor, report_delay, compute_loss)\u001b[0m\n\u001b[1;32m   1074\u001b[0m \u001b[0;34m\u001b[0m\u001b[0m\n\u001b[1;32m   1075\u001b[0m         \u001b[0;32mwhile\u001b[0m \u001b[0munfinished_worker_count\u001b[0m \u001b[0;34m>\u001b[0m \u001b[0;36m0\u001b[0m\u001b[0;34m:\u001b[0m\u001b[0;34m\u001b[0m\u001b[0m\n\u001b[0;32m-> 1076\u001b[0;31m             \u001b[0mreport\u001b[0m \u001b[0;34m=\u001b[0m \u001b[0mprogress_queue\u001b[0m\u001b[0;34m.\u001b[0m\u001b[0mget\u001b[0m\u001b[0;34m(\u001b[0m\u001b[0;34m)\u001b[0m  \u001b[0;31m# blocks if workers too slow\u001b[0m\u001b[0;34m\u001b[0m\u001b[0m\n\u001b[0m\u001b[1;32m   1077\u001b[0m             \u001b[0;32mif\u001b[0m \u001b[0mreport\u001b[0m \u001b[0;32mis\u001b[0m \u001b[0;32mNone\u001b[0m\u001b[0;34m:\u001b[0m  \u001b[0;31m# a thread reporting that it finished\u001b[0m\u001b[0;34m\u001b[0m\u001b[0m\n\u001b[1;32m   1078\u001b[0m                 \u001b[0munfinished_worker_count\u001b[0m \u001b[0;34m-=\u001b[0m \u001b[0;36m1\u001b[0m\u001b[0;34m\u001b[0m\u001b[0m\n",
      "\u001b[0;32m~/anaconda3/envs/pyir/lib/python3.5/queue.py\u001b[0m in \u001b[0;36mget\u001b[0;34m(self, block, timeout)\u001b[0m\n\u001b[1;32m    162\u001b[0m             \u001b[0;32melif\u001b[0m \u001b[0mtimeout\u001b[0m \u001b[0;32mis\u001b[0m \u001b[0;32mNone\u001b[0m\u001b[0;34m:\u001b[0m\u001b[0;34m\u001b[0m\u001b[0m\n\u001b[1;32m    163\u001b[0m                 \u001b[0;32mwhile\u001b[0m \u001b[0;32mnot\u001b[0m \u001b[0mself\u001b[0m\u001b[0;34m.\u001b[0m\u001b[0m_qsize\u001b[0m\u001b[0;34m(\u001b[0m\u001b[0;34m)\u001b[0m\u001b[0;34m:\u001b[0m\u001b[0;34m\u001b[0m\u001b[0m\n\u001b[0;32m--> 164\u001b[0;31m                     \u001b[0mself\u001b[0m\u001b[0;34m.\u001b[0m\u001b[0mnot_empty\u001b[0m\u001b[0;34m.\u001b[0m\u001b[0mwait\u001b[0m\u001b[0;34m(\u001b[0m\u001b[0;34m)\u001b[0m\u001b[0;34m\u001b[0m\u001b[0m\n\u001b[0m\u001b[1;32m    165\u001b[0m             \u001b[0;32melif\u001b[0m \u001b[0mtimeout\u001b[0m \u001b[0;34m<\u001b[0m \u001b[0;36m0\u001b[0m\u001b[0;34m:\u001b[0m\u001b[0;34m\u001b[0m\u001b[0m\n\u001b[1;32m    166\u001b[0m                 \u001b[0;32mraise\u001b[0m \u001b[0mValueError\u001b[0m\u001b[0;34m(\u001b[0m\u001b[0;34m\"'timeout' must be a non-negative number\"\u001b[0m\u001b[0;34m)\u001b[0m\u001b[0;34m\u001b[0m\u001b[0m\n",
      "\u001b[0;32m~/anaconda3/envs/pyir/lib/python3.5/threading.py\u001b[0m in \u001b[0;36mwait\u001b[0;34m(self, timeout)\u001b[0m\n\u001b[1;32m    291\u001b[0m         \u001b[0;32mtry\u001b[0m\u001b[0;34m:\u001b[0m    \u001b[0;31m# restore state no matter what (e.g., KeyboardInterrupt)\u001b[0m\u001b[0;34m\u001b[0m\u001b[0m\n\u001b[1;32m    292\u001b[0m             \u001b[0;32mif\u001b[0m \u001b[0mtimeout\u001b[0m \u001b[0;32mis\u001b[0m \u001b[0;32mNone\u001b[0m\u001b[0;34m:\u001b[0m\u001b[0;34m\u001b[0m\u001b[0m\n\u001b[0;32m--> 293\u001b[0;31m                 \u001b[0mwaiter\u001b[0m\u001b[0;34m.\u001b[0m\u001b[0macquire\u001b[0m\u001b[0;34m(\u001b[0m\u001b[0;34m)\u001b[0m\u001b[0;34m\u001b[0m\u001b[0m\n\u001b[0m\u001b[1;32m    294\u001b[0m                 \u001b[0mgotit\u001b[0m \u001b[0;34m=\u001b[0m \u001b[0;32mTrue\u001b[0m\u001b[0;34m\u001b[0m\u001b[0m\n\u001b[1;32m    295\u001b[0m             \u001b[0;32melse\u001b[0m\u001b[0;34m:\u001b[0m\u001b[0;34m\u001b[0m\u001b[0m\n",
      "\u001b[0;31mKeyboardInterrupt\u001b[0m: "
     ]
    }
   ],
   "source": [
    "import copy\n",
    "import gensim\n",
    "import logging\n",
    "import pyndri\n",
    "import pyndri.compat\n",
    "import sys\n",
    "\n",
    "logging.basicConfig(level=logging.INFO)\n",
    "\n",
    "index = pyndri.Index('index/')\n",
    "print(index)\n",
    "\n",
    "print('Loading vocabulary.')\n",
    "dictionary = pyndri.extract_dictionary(index)\n",
    "sentences = pyndri.compat.IndriSentences(index, dictionary)\n",
    "\n",
    "print('Initializing word2vec.')\n",
    "word2vec_init = gensim.models.Word2Vec(\n",
    "    size=300,  # Embedding size\n",
    "    window=5,  # One-sided window size\n",
    "    sg=True,  # Skip-gram.\n",
    "    min_count=5,  # Minimum word frequency.\n",
    "    sample=1e-3,  # Sub-sample threshold.\n",
    "    hs=False,  # Hierarchical softmax.\n",
    "    negative=10,  # Number of negative examples.\n",
    "    iter=1,  # Number of iterations.\n",
    "    workers=8,  # Number of workers.\n",
    ")\n",
    "\n",
    "print('Constructing word2vec vocabulary.')\n",
    "word2vec_init.build_vocab(sentences, trim_rule=None)\n",
    "\n",
    "models = [word2vec_init]\n",
    "\n",
    "for epoch in range(1, 5 + 1):\n",
    "\n",
    "    print('Epoch %d', epoch)\n",
    "    model = copy.deepcopy(models[-1])\n",
    "    \n",
    "    '''\n",
    "    Any direct calls to method train() of Word2Vec/Doc2Vec now require an explicit epochs parameter and explicit estimate of corpus size. \n",
    "    The most usual way to call train is vec_model.train(sentences, total_examples=self.corpus_count, epochs=self.iter)\n",
    "    '''\n",
    "    #model.train(sentences)\n",
    "    model.train(sentences, total_examples=model.corpus_count, epochs=model.iter)\n",
    "    models.append(model)\n",
    "\n",
    "print('Trained models: %s', models)\n",
    "\n",
    "with open('./ap_88_89/topics_title', 'r') as f_topics:\n",
    "    queries = parse_topics([f_topics])\n",
    "\n",
    "# the total number of documents\n",
    "num_documents = index.maximum_document() - index.document_base()\n",
    "# tokenize the queries\n",
    "# query_id --> [token_id1, token_id2, ...] \n",
    "tokenized_queries = {\n",
    "    query_id: [dictionary.translate_token(token)\n",
    "               for token in index.tokenize(query_string)\n",
    "               if dictionary.has_token(token)]\n",
    "    for query_id, query_string in queries.items()}\n",
    "\n",
    "# gather all of the query token_ids into a set TODO why? \n",
    "query_term_ids = set(\n",
    "    query_term_id\n",
    "    for query_term_ids in tokenized_queries.values()\n",
    "    for query_term_id in query_term_ids)\n",
    "\n",
    "print('Gathering statistics about', len(query_term_ids), 'terms.')"
   ]
  },
  {
   "cell_type": "markdown",
   "metadata": {},
   "source": [
    "### Task 4: Learning to rank (LTR) [15 points] (open-ended) ###\n",
    "\n",
    "In this task you will get an introduction into learning to rank for information retrieval.\n",
    "\n",
    "You can explore different ways for devising features for the model. Obviously, you can use the retrieval methods you implemented in Task 1, Task 2 and Task 3 as features. Think about other features you can use (e.g. query/document length). Creativity on devising new features and providing motivation for them will be taken into account when grading.\n",
    "\n",
    "For every query, first create a document candidate set using the top-1000 documents using TF-IDF, and subsequently compute features given a query and a document. Note that the feature values of different retrieval methods are likely to be distributed differently.\n",
    "\n",
    "You are adviced to start some pointwise learning to rank algorithm e.g. logistic regression, implemented in [scikit-learn](http://scikit-learn.org/stable/modules/generated/sklearn.linear_model.LogisticRegression.html).\n",
    "Train your LTR model using 10-fold cross validation on the test set. More advanced learning to rank algorithms will be appreciated when grading."
   ]
  },
  {
   "cell_type": "code",
   "execution_count": null,
   "metadata": {
    "collapsed": true
   },
   "outputs": [],
   "source": []
  },
  {
   "cell_type": "markdown",
   "metadata": {
    "collapsed": true
   },
   "source": [
    "### Task 4: Write a report [15 points; instant FAIL if not provided] ###\n",
    "\n",
    "The report should be a PDF file created using the [sigconf ACM template](https://www.acm.org/publications/proceedings-template) and will determine a significant part of your grade.\n",
    "\n",
    "   * It should explain what you have implemented, motivate your experiments and detail what you expect to learn from them. **[10 points]**\n",
    "   * Lastly, provide a convincing analysis of your results and conclude the report accordingly. **[10 points]**\n",
    "      * Do all methods perform similarly on all queries? Why?\n",
    "      * Is there a single retrieval model that outperforms all other retrieval models (i.e., silver bullet)?\n",
    "      * ...\n",
    "\n",
    "**Hand in the report and your self-contained implementation source files.** Only send us the files that matter, organized in a well-documented zip/tgz file with clear instructions on how to reproduce your results. That is, we want to be able to regenerate all your results with minimal effort. You can assume that the index and ground-truth information is present in the same file structure as the one we have provided.\n"
   ]
  },
  {
   "cell_type": "code",
   "execution_count": null,
   "metadata": {
    "collapsed": true
   },
   "outputs": [],
   "source": []
  }
 ],
 "metadata": {
  "anaconda-cloud": {},
  "kernelspec": {
   "display_name": "Python 3",
   "language": "python",
   "name": "python3"
  },
  "language_info": {
   "codemirror_mode": {
    "name": "ipython",
    "version": 3
   },
   "file_extension": ".py",
   "mimetype": "text/x-python",
   "name": "python",
   "nbconvert_exporter": "python",
   "pygments_lexer": "ipython3",
   "version": "3.5.2"
  }
 },
 "nbformat": 4,
 "nbformat_minor": 1
}
