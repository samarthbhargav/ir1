{
 "cells": [
  {
   "cell_type": "code",
   "execution_count": 1,
   "metadata": {
    "collapsed": true
   },
   "outputs": [],
   "source": [
    "#please check, by ece\n",
    "# TODO, ece can you please document all of these functions - like I've done for the scoring functions above\n",
    "def gaussian_kernel(i, j, sigma):\n",
    "    return np.exp(-np.power((i-j),2)/(2*np.power(sigma,2)))\n",
    "\n",
    "def gaussian_kernel_estimation(i, j, sigma, N):\n",
    "    #TODO the one with the cumulative density function CDF\n",
    "    pass\n",
    "    \n",
    "def triangle_kernel(i, j, sigma): \n",
    "    absolute = np.absolute(i-j)\n",
    "    return 1 - (absolute/sigma) if(absolute <= sigma) else 0\n",
    "\n",
    "def cosine_kernel(i, j, sigma):\n",
    "    absolute = np.absolute(i-j) \n",
    "    k = 0.0\n",
    "    \n",
    "    if absolute <= sigma:\n",
    "        k = (1 + np.cos((absolute*math.pi)/sigma))/2\n",
    "    \n",
    "    return k\n",
    "\n",
    "def circle_kernel(i, j, sigma):\n",
    "    absolute = np.absolute(i-j) \n",
    "    k = 0.0\n",
    "    \n",
    "    if absolute <= sigma:\n",
    "        k = np.sqrt(1 - np.power(absolute/sigma, 2))\n",
    "    \n",
    "    return k\n",
    "\n",
    "def passage_kernel(i, j, sigma):\n",
    "    absolute = np.absolute(i-j)\n",
    "    return 1 if(absolute <= sigma) else 0\n"
   ]
  },
  {
   "cell_type": "code",
   "execution_count": null,
   "metadata": {},
   "outputs": [],
   "source": [
    "#find document lengths (including stop words)\n",
    "doc_lengths = []\n",
    "for int_doc_id in range(index.document_base(), index.maximum_document()):\n",
    "    doc_lengths.append(len(index.document(int_doc_id)[1]))\n",
    "    \n",
    "#maximum doc length including stop words\n",
    "max_length = max(doc_lengths)\n",
    "\n",
    "#average doc length including stop words\n",
    "avg_length = sum(doc_lengths)/len(doc_lengths)\n",
    "\n",
    "print(max_length, avg_length, len(doc_lengths))\n",
    "\n",
    "#output\n",
    "#2939 461.63406987976697 164597\n"
   ]
  },
  {
   "cell_type": "code",
   "execution_count": 8,
   "metadata": {},
   "outputs": [
    {
     "name": "stdout",
     "output_type": "stream",
     "text": [
      "0\n",
      "100\n",
      "200\n",
      "300\n",
      "400\n",
      "500\n",
      "600\n",
      "700\n",
      "800\n",
      "900\n",
      "1000\n",
      "1100\n",
      "1200\n",
      "1300\n",
      "1400\n",
      "1500\n",
      "1600\n",
      "1700\n",
      "1800\n",
      "1900\n",
      "2000\n",
      "2100\n",
      "2200\n",
      "2300\n",
      "2400\n",
      "2500\n",
      "2600\n",
      "2700\n",
      "2800\n",
      "2900\n"
     ]
    }
   ],
   "source": [
    "import pickle\n",
    "import collections\n",
    "import numpy as np\n",
    "import math\n",
    "\n",
    "max_doc_length = 2939\n",
    "sigma = 50\n",
    "\n",
    "gaussian_pickle = collections.defaultdict(float)\n",
    "#gaussian_estimation_pickle = collections.defaultdict(float)\n",
    "triangle_pickle = collections.defaultdict(float)\n",
    "cosine_pickle = collections.defaultdict(float)\n",
    "circle_pickle = collections.defaultdict(float)\n",
    "passage_pickle = collections.defaultdict(float)\n",
    "\n",
    "#calculate kernel values for positions i,j for all kernels\n",
    "#store the values in dictionaries, keys being the tuples in the form of (i,j)\n",
    "#sigma is 50\n",
    "for i in range(max_doc_length):\n",
    "    if i%100 == 0:\n",
    "            print(i)\n",
    "            \n",
    "    for j in range(max_doc_length):        \n",
    "        gaussian_pickle[(i,j)] = gaussian_kernel(i,j,sigma)\n",
    "        #gaussian_estimation_pickle = gaussian_estimation_kernel(i,j,sigma, N)\n",
    "        triangle_pickle[(i,j)] = triangle_kernel(i,j,sigma)\n",
    "        cosine_pickle[(i,j)] = cosine_kernel(i,j,sigma)\n",
    "        circle_pickle[(i,j)] = circle_kernel(i,j,sigma)\n",
    "        passage_pickle[(i,j)] = passage_kernel(i,j,sigma)\n",
    "\n",
    "#pickle the kernel dictionaries\n",
    "pickle.dump(gaussian_pickle, open(\"gaussian.p\", \"wb\"))\n",
    "#pickle.dump(gaussian_estimation_pickle, open(\"gaussian_estimation.p\", \"wb\"))\n",
    "pickle.dump(triangle_pickle, open(\"triangle.p\", \"wb\"))\n",
    "pickle.dump(cosine_pickle, open(\"cosine.p\", \"wb\"))\n",
    "pickle.dump(circle_pickle, open(\"circle.p\", \"wb\"))\n",
    "pickle.dump(passage_pickle, open(\"passage.p\", \"wb\"))\n",
    "\n",
    "#load back the pickled kernel dictionaries\n",
    "gaussian = pickle.load( open(\"gaussian.p\", \"rb\")) \n",
    "#gaussian_estimation = pickle.load( open(\"gaussian_estimation.p\", \"rb\"))\n",
    "triangle = pickle.load( open(\"triangle.p\", \"rb\")) \n",
    "cosine = pickle.load( open(\"cosine.p\", \"rb\")) \n",
    "circle = pickle.load( open(\"circle.p\", \"rb\")) \n",
    "passage = pickle.load( open(\"passage.p\", \"rb\")) \n"
   ]
  },
  {
   "cell_type": "code",
   "execution_count": 11,
   "metadata": {},
   "outputs": [
    {
     "data": {
      "text/plain": [
       "1.4542595657253541e-74"
      ]
     },
     "execution_count": 11,
     "metadata": {},
     "output_type": "execute_result"
    }
   ],
   "source": [
    "gaussian[(1234,2156)]"
   ]
  },
  {
   "cell_type": "code",
   "execution_count": 17,
   "metadata": {},
   "outputs": [],
   "source": [
    "z_gaussian = collections.defaultdict(float)\n",
    "z_triangle = collections.defaultdict(float)\n",
    "z_cosine = collections.defaultdict(float)\n",
    "z_circle = collections.defaultdict(float)\n",
    "z_passage = collections.defaultdict(float)\n",
    "\n",
    "for i in range(max_doc_length):\n",
    "    for j in range(max_doc_length):\n",
    "        z_gaussian[i] += gaussian[(i,j)]\n",
    "        z_triangle[i] += triangle[(i,j)]\n",
    "        z_cosine[i] += cosine[(i,j)]\n",
    "        z_circle[i] += circle[(i,j)]\n",
    "        z_passage[i] += passage[(i,j)]\n",
    "\n",
    "#pickle the Z value dictionaries\n",
    "pickle.dump(z_gaussian, open(\"gaussian_z.p\", \"wb\"))\n",
    "pickle.dump(z_triangle, open(\"triangle_z.p\", \"wb\"))\n",
    "pickle.dump(z_cosine, open(\"cosine_z.p\", \"wb\"))\n",
    "pickle.dump(z_circle, open(\"circle_z.p\", \"wb\"))\n",
    "pickle.dump(z_passage, open(\"passage_z.p\", \"wb\"))\n",
    "\n",
    "#load back the pickled z dictionaries\n",
    "gaussian_z = pickle.load( open(\"gaussian_z.p\", \"rb\")) \n",
    "# triangle_z = pickle.load( open(\"triangle_z.p\", \"rb\")) \n",
    "# cosine_z = pickle.load( open(\"cosine_z.p\", \"rb\")) \n",
    "# circle_z = pickle.load( open(\"circle_z.p\", \"rb\")) \n",
    "# passage_z = pickle.load( open(\"passage_z.p\", \"rb\")) "
   ]
  },
  {
   "cell_type": "code",
   "execution_count": 18,
   "metadata": {},
   "outputs": [
    {
     "data": {
      "text/plain": [
       "125.33141373154997"
      ]
     },
     "execution_count": 18,
     "metadata": {},
     "output_type": "execute_result"
    }
   ],
   "source": [
    "gaussian_z[2123]"
   ]
  },
  {
   "cell_type": "code",
   "execution_count": null,
   "metadata": {
    "collapsed": true
   },
   "outputs": [],
   "source": []
  }
 ],
 "metadata": {
  "kernelspec": {
   "display_name": "Python 3",
   "language": "python",
   "name": "python3"
  },
  "language_info": {
   "codemirror_mode": {
    "name": "ipython",
    "version": 3
   },
   "file_extension": ".py",
   "mimetype": "text/x-python",
   "name": "python",
   "nbconvert_exporter": "python",
   "pygments_lexer": "ipython3",
   "version": "3.5.4"
  }
 },
 "nbformat": 4,
 "nbformat_minor": 2
}
